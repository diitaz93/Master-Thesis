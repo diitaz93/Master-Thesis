{
 "cells": [
  {
   "cell_type": "code",
   "execution_count": 1,
   "metadata": {},
   "outputs": [],
   "source": [
    "import numpy as np\n",
    "import scipy.sparse as sp\n",
    "import time\n",
    "import os\n",
    "import psutil\n",
    "import shelve\n",
    "from pybdm import BDM\n",
    "from node import NodePerturbationExperiment\n",
    "from algorithms import PerturbationExperiment\n",
    "import dbm.gnu\n",
    "from getpass import getuser"
   ]
  },
  {
   "cell_type": "code",
   "execution_count": 2,
   "metadata": {},
   "outputs": [],
   "source": [
    "# psutil & time BEGIN\n",
    "start = time.time() #in seconds\n",
    "pid = os.getpid()\n",
    "ps= psutil.Process(pid)"
   ]
  },
  {
   "cell_type": "code",
   "execution_count": 3,
   "metadata": {},
   "outputs": [
    {
     "name": "stdout",
     "output_type": "stream",
     "text": [
      "Input data loaded\n"
     ]
    }
   ],
   "source": [
    "input_data = shelve.open('./data/results/decagon')\n",
    "for key in input_data:\n",
    "    globals()[key]=input_data[key]\n",
    "input_data.close()\n",
    "print('Input data loaded')"
   ]
  },
  {
   "cell_type": "markdown",
   "metadata": {},
   "source": [
    "### PPI"
   ]
  },
  {
   "cell_type": "code",
   "execution_count": null,
   "metadata": {},
   "outputs": [],
   "source": [
    "# Node perturbation\n",
    "ppi_nodeper = NodePerturbationExperiment(bdm,metric='bdm',bipartite_network=False,\n",
    "                                      parallel=True,jobs=8)\n",
    "ppi_nodeper.set_data(np.array(ppi_adj.todense()))\n",
    "print(\"Initial BDM calculated for nodes\")\n",
    "nodebdm_ppi = ppi_nodeper.run()\n",
    "print('Node BDM for PPI calculated')\n",
    "# Edge perturbation\n",
    "ppi_edgeper = PerturbationExperiment(bdm, bipartite_network=False)\n",
    "ppi_edgeper.set_data(np.array(ppi_adj.todense()))\n",
    "print(\"Initial BDM calculated for nodes\")\n",
    "edgebdm_ppi = ppi_edgeper.node_equivalent()\n",
    "print('Edge BDM for PPI calculated')"
   ]
  },
  {
   "cell_type": "markdown",
   "metadata": {},
   "source": [
    "### DTI"
   ]
  },
  {
   "cell_type": "code",
   "execution_count": null,
   "metadata": {},
   "outputs": [],
   "source": [
    "# Node perturbation\n",
    "dti_nodeper = NodePerturbationExperiment(bdm,metric='bdm',bipartite_network=True, \n",
    "                                      parallel=True,jobs=8)\n",
    "dti_nodeper.set_data(np.array(dti_adj.todense()))\n",
    "print(\"Initial BDM calculated for nodes\")\n",
    "nodebdm_genes_dti,nodebdm_drugs_dti = dti_nodeper.run()\n",
    "print('BDM for DTI calculated')\n",
    "# Edge perturbation\n",
    "dti_edgeper = PerturbationExperiment(bdm, bipartite_network=True)\n",
    "dti_edgeper.set_data(np.array(dti_adj.todense()))\n",
    "print(\"Initial BDM calculated for nodes\")\n",
    "edgebdm_genes_dti, edgebdm_drugs_dti = dti_edgeper.node_equivalent()\n",
    "print('Edge BDM for DTI calculated')"
   ]
  },
  {
   "cell_type": "markdown",
   "metadata": {},
   "source": [
    "### DDI"
   ]
  },
  {
   "cell_type": "code",
   "execution_count": null,
   "metadata": {},
   "outputs": [],
   "source": [
    "nodebdm_ddi_list = []\n",
    "edgebdm_ddi_list = []\n",
    "ddi_nodeper = NodePerturbationExperiment(bdm,metric='bdm',bipartite_network=False,\n",
    "                                          parallel=True,jobs=8)\n",
    "ddi_edgeper = PerturbationExperiment(bdm, bipartite_network=False)\n",
    "total = len(ddi_adj_list)\n",
    "count=1\n",
    "for i in ddi_adj_list:\n",
    "    ddi_nodeper.set_data(np.array(i.todense()))\n",
    "    ddi_edgeper.set_data(np.array(i.todense()))\n",
    "    print('set data')\n",
    "    nodebdm_ddi_list.append(ddi_nodeper.run())\n",
    "    edgebdm_ddi_list.append(ddi_edgeper.node_equivalent())\n",
    "    prog = count*100/total\n",
    "    count += 1\n",
    "    print(prog,'% completed')\n",
    "print('Node and Edge BDM for DDI calculated')"
   ]
  },
  {
   "cell_type": "code",
   "execution_count": null,
   "metadata": {},
   "outputs": [],
   "source": [
    "memUse = ps.memory_info()\n",
    "total_time=time.time()-start\n",
    "print('Time and memory calculated')"
   ]
  },
  {
   "cell_type": "code",
   "execution_count": null,
   "metadata": {},
   "outputs": [],
   "source": [
    "output_data = shelve.open('./results/bdm','n',protocol=2)\n",
    "output_data['nodebdm_ppi'] = nodebdm_ppi\n",
    "output_data['edgebdm_ppi'] = edgebdm_ppi\n",
    "output_data['nodebdm_drugs_dti'] = nodebdm_drugs_dti\n",
    "output_data['nodebdm_genes_dti'] = nodebdm_genes_dti\n",
    "output_data['edgebdm_drugs_dti'] = edgebdm_drugs_dti\n",
    "output_data['edgebdm_genes_dti'] = edgebdm_genes_dti\n",
    "output_data['nodebdm_ddi_list'] = nodebdm_ddi_list\n",
    "output_data['edgebdm_ddi_list'] = edgebdm_ddi_list\n",
    "output_data['vms'] = memUse.vms\n",
    "output_data['rss'] = memUse.rss\n",
    "output_data['total_time'] = total_time\n",
    "output_data.close()\n",
    "print('Output data exported')"
   ]
  },
  {
   "cell_type": "code",
   "execution_count": null,
   "metadata": {},
   "outputs": [],
   "source": []
  }
 ],
 "metadata": {
  "kernelspec": {
   "display_name": "Python 3",
   "language": "python",
   "name": "python3"
  },
  "language_info": {
   "codemirror_mode": {
    "name": "ipython",
    "version": 3
   },
   "file_extension": ".py",
   "mimetype": "text/x-python",
   "name": "python",
   "nbconvert_exporter": "python",
   "pygments_lexer": "ipython3",
   "version": "3.7.3"
  }
 },
 "nbformat": 4,
 "nbformat_minor": 2
}
