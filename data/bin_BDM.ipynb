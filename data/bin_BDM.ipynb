{
 "cells": [
  {
   "cell_type": "code",
   "execution_count": 2,
   "metadata": {},
   "outputs": [],
   "source": [
    "import numpy as np\n",
    "import pandas as pd\n",
    "import scipy.sparse as sp\n",
    "import time\n",
    "import os\n",
    "import psutil\n",
    "import pickle\n",
    "from joblib import Parallel, delayed\n",
    "from joblib import parallel_backend\n",
    "from itertools import product"
   ]
  },
  {
   "cell_type": "code",
   "execution_count": 12,
   "metadata": {},
   "outputs": [],
   "source": [
    "in_file = 'data_structures/BDM/DTI_BDM_real_genes_16814_drugs_276_jsdb8'\n",
    "sim = 'DTI'"
   ]
  },
  {
   "cell_type": "code",
   "execution_count": 13,
   "metadata": {},
   "outputs": [
    {
     "name": "stdout",
     "output_type": "stream",
     "text": [
      "add_edgebdm_genes_dti Imported successfully\n",
      "vms_dti Imported successfully\n",
      "time_dti Imported successfully\n",
      "rss_dti Imported successfully\n",
      "nodebdm_drugs_dti Imported successfully\n",
      "rem_edgebdm_drugs_dti Imported successfully\n",
      "add_edgebdm_drugs_dti Imported successfully\n",
      "jobs_dti Imported successfully\n",
      "nodebdm_genes_dti Imported successfully\n",
      "rem_edgebdm_genes_dti Imported successfully\n"
     ]
    }
   ],
   "source": [
    "with open(in_file,'rb') as f:\n",
    "    DS = pickle.load(f)\n",
    "    for key in DS.keys():\n",
    "        globals()[key]=DS[key]\n",
    "        print(key,\"Imported successfully\")"
   ]
  },
  {
   "cell_type": "code",
   "execution_count": null,
   "metadata": {},
   "outputs": [],
   "source": [
    "if sim == 'PPI':\n",
    "    nodes = nodebdm_ppi\n",
    "    rem = rem_edgebdm_ppi\n",
    "elif sim=='DTI':\n",
    "    nodes_drugs = nodebdm_drugs_dti\n",
    "    nodes_genes = node\n",
    "        "
   ]
  }
 ],
 "metadata": {
  "kernelspec": {
   "display_name": "Python 3",
   "language": "python",
   "name": "python3"
  },
  "language_info": {
   "codemirror_mode": {
    "name": "ipython",
    "version": 3
   },
   "file_extension": ".py",
   "mimetype": "text/x-python",
   "name": "python",
   "nbconvert_exporter": "python",
   "pygments_lexer": "ipython3",
   "version": "3.7.4"
  }
 },
 "nbformat": 4,
 "nbformat_minor": 4
}
