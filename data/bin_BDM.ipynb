{
 "cells": [
  {
   "cell_type": "markdown",
   "metadata": {},
   "source": [
    "# bin-BDM\n",
    "This notebook transforms the algorithmic complexity feature vectors (BDM) of the different adjacency matrices involved in DECAGON into sparse feature vectors. This is done replacing the most positive values with a $1$, the most negative with a $-1$ and the ones in the middle with zeros. The thresholds are calculated using one standard deviation from the mean."
   ]
  },
  {
   "cell_type": "code",
   "execution_count": 1,
   "metadata": {},
   "outputs": [],
   "source": [
    "import numpy as np\n",
    "import pandas as pd\n",
    "import scipy.sparse as sp\n",
    "import pickle\n",
    "from itertools import product"
   ]
  },
  {
   "cell_type": "code",
   "execution_count": 2,
   "metadata": {},
   "outputs": [],
   "source": [
    "ppi_in_file = 'data_structures/BDM/PPI_BDM_real_genes_19081'\n",
    "dti_in_file = 'data_structures/BDM/DTI_BDM_real_genes_19081_drugs_639_juadia16'\n",
    "ddi_in_file = 'data_structures/BDM/DDI_BDM_real_se_964_drugs_639_juadia72'"
   ]
  },
  {
   "cell_type": "markdown",
   "metadata": {},
   "source": [
    "# PPI"
   ]
  },
  {
   "cell_type": "code",
   "execution_count": 3,
   "metadata": {},
   "outputs": [
    {
     "name": "stdout",
     "output_type": "stream",
     "text": [
      "nodebdm_ppi Imported successfully\n",
      "add_edgebdm_ppi Imported successfully\n",
      "rem_edgebdm_ppi Imported successfully\n",
      "vms_ppi Imported successfully\n",
      "rss_ppi Imported successfully\n",
      "time_ppi Imported successfully\n",
      "jobs_ppi Imported successfully\n"
     ]
    }
   ],
   "source": [
    "with open(ppi_in_file,'rb') as f:\n",
    "    DS = pickle.load(f)\n",
    "    for key in DS.keys():\n",
    "        globals()[key]=DS[key]\n",
    "        print(key,\"Imported successfully\")"
   ]
  },
  {
   "cell_type": "code",
   "execution_count": 4,
   "metadata": {},
   "outputs": [
    {
     "name": "stdout",
     "output_type": "stream",
     "text": [
      "Mean of node BDM is  43.83172647140848  and std is  1105.180424359469\n",
      "Mean of remove edges BDM is  0.32772930517954074  and std is  1.6333241564528327\n"
     ]
    }
   ],
   "source": [
    "# Mean and std\n",
    "m_nodes = np.mean(nodebdm_ppi)\n",
    "s_nodes = np.std(nodebdm_ppi)\n",
    "m_rem = np.mean(rem_edgebdm_ppi)\n",
    "s_rem = np.std(rem_edgebdm_ppi)\n",
    "print('Mean of node BDM is ',m_nodes,' and std is ', s_nodes)\n",
    "print('Mean of remove edges BDM is ',m_rem,' and std is ', s_rem)"
   ]
  },
  {
   "cell_type": "code",
   "execution_count": 5,
   "metadata": {},
   "outputs": [],
   "source": [
    "# Up and down thresholds\n",
    "d_thr_nodes = m_nodes-s_nodes\n",
    "u_thr_nodes = m_nodes+s_nodes\n",
    "d_thr_rem = m_rem-s_rem\n",
    "u_thr_rem = m_rem+s_rem"
   ]
  },
  {
   "cell_type": "code",
   "execution_count": 6,
   "metadata": {},
   "outputs": [],
   "source": [
    "# Node complexity sorting\n",
    "neg_nodes = nodebdm_ppi<d_thr_nodes\n",
    "pos_nodes = nodebdm_ppi>u_thr_nodes\n",
    "bin_nodebdm_ppi = neg_nodes.astype(int)*-1+pos_nodes.astype(int)"
   ]
  },
  {
   "cell_type": "code",
   "execution_count": 7,
   "metadata": {},
   "outputs": [],
   "source": [
    "# Edge complexity sorting\n",
    "neg_rem = rem_edgebdm_ppi<d_thr_rem\n",
    "pos_rem = rem_edgebdm_ppi>u_thr_rem\n",
    "bin_rembdm_ppi = neg_rem.astype(int)*-1+pos_rem.astype(int)"
   ]
  },
  {
   "cell_type": "code",
   "execution_count": 8,
   "metadata": {},
   "outputs": [
    {
     "name": "stdout",
     "output_type": "stream",
     "text": [
      "The node feature vector is filled in a  17.996960327026883 %\n",
      "The remove edge feature vector is filled in a  7.756406896913159 %\n"
     ]
    }
   ],
   "source": [
    "# Filling proportion of vectors\n",
    "sp_n = np.count_nonzero(bin_nodebdm_ppi)/len(nodebdm_ppi)\n",
    "sp_r = np.count_nonzero(bin_rembdm_ppi)/len(rem_edgebdm_ppi)\n",
    "print('The node feature vector is filled in a ',sp_n*100,'%')\n",
    "print('The remove edge feature vector is filled in a ',sp_r*100,'%')"
   ]
  },
  {
   "cell_type": "code",
   "execution_count": 9,
   "metadata": {},
   "outputs": [],
   "source": [
    "output_data = {}\n",
    "output_data['nodebdm_ppi'] = bin_nodebdm_ppi\n",
    "output_data['rem_edgebdm_ppi'] = bin_rembdm_ppi\n",
    "output_data['vms_ppi'] = vms_ppi\n",
    "output_data['rss_ppi'] = rss_ppi\n",
    "output_data['time_ppi'] = time_ppi\n",
    "output_data['jobs_ppi'] = jobs_ppi\n",
    "# Compatibility with previous versions\n",
    "if 'partition_type' in locals():\n",
    "    output_data['partition_type'] = partition_type"
   ]
  },
  {
   "cell_type": "code",
   "execution_count": 10,
   "metadata": {},
   "outputs": [
    {
     "name": "stdout",
     "output_type": "stream",
     "text": [
      "data_structures/BDM/PPI_BINBDM_real_genes_19081_juadia64\n"
     ]
    }
   ],
   "source": [
    "words = ppi_in_file.split('_BDM_')\n",
    "ppi_out_file = words[0] + '_BINBDM_' + words[1]\n",
    "print(ppi_out_file)"
   ]
  },
  {
   "cell_type": "code",
   "execution_count": 11,
   "metadata": {},
   "outputs": [],
   "source": [
    "with open(ppi_out_file, 'wb') as f:\n",
    "    pickle.dump(output_data, f, protocol=3)"
   ]
  },
  {
   "cell_type": "markdown",
   "metadata": {},
   "source": [
    "# DTI"
   ]
  },
  {
   "cell_type": "code",
   "execution_count": 12,
   "metadata": {},
   "outputs": [
    {
     "name": "stdout",
     "output_type": "stream",
     "text": [
      "nodebdm_drugs_dti Imported successfully\n",
      "nodebdm_genes_dti Imported successfully\n",
      "add_edgebdm_drugs_dti Imported successfully\n",
      "add_edgebdm_genes_dti Imported successfully\n",
      "rem_edgebdm_drugs_dti Imported successfully\n",
      "rem_edgebdm_genes_dti Imported successfully\n",
      "vms_dti Imported successfully\n",
      "rss_dti Imported successfully\n",
      "time_dti Imported successfully\n",
      "jobs_dti Imported successfully\n"
     ]
    }
   ],
   "source": [
    "with open(dti_in_file,'rb') as f:\n",
    "    DS = pickle.load(f)\n",
    "    for key in DS.keys():\n",
    "        globals()[key]=DS[key]\n",
    "        print(key,\"Imported successfully\")"
   ]
  },
  {
   "cell_type": "code",
   "execution_count": 13,
   "metadata": {},
   "outputs": [
    {
     "name": "stdout",
     "output_type": "stream",
     "text": [
      "Mean of drug node BDM is  -569.4602678542178  and std is  379.02318825640225\n",
      "Mean of gene node BDM is  -247.65085236073713  and std is  181.51448562851988\n",
      "Mean of remove drug edges BDM is  -0.09328876250167308  and std is  3.8496203935935607\n",
      "Mean of remove gene edges BDM is  0.004674763263332341  and std is  0.941720947409857\n"
     ]
    }
   ],
   "source": [
    "# Mean and Standard deviation\n",
    "m_nodes_drugs = np.mean(nodebdm_drugs_dti)\n",
    "s_nodes_drugs = np.std(nodebdm_drugs_dti)\n",
    "m_nodes_genes = np.mean(nodebdm_genes_dti)\n",
    "s_nodes_genes = np.std(nodebdm_genes_dti)\n",
    "m_rem_drugs = np.mean(rem_edgebdm_drugs_dti)\n",
    "s_rem_drugs = np.std(rem_edgebdm_drugs_dti)\n",
    "m_rem_genes = np.mean(rem_edgebdm_genes_dti)\n",
    "s_rem_genes = np.std(rem_edgebdm_genes_dti)\n",
    "print('Mean of drug node BDM is ',m_nodes_drugs,' and std is ', s_nodes_drugs)\n",
    "print('Mean of gene node BDM is ',m_nodes_genes,' and std is ', s_nodes_genes)\n",
    "print('Mean of remove drug edges BDM is ',m_rem_drugs,' and std is ', s_rem_drugs)\n",
    "print('Mean of remove gene edges BDM is ',m_rem_genes,' and std is ', s_rem_genes)"
   ]
  },
  {
   "cell_type": "code",
   "execution_count": 14,
   "metadata": {},
   "outputs": [],
   "source": [
    "# Up and down thresholds\n",
    "d_thr_nodes_drugs = m_nodes_drugs-s_nodes_drugs\n",
    "u_thr_nodes_drugs = m_nodes_drugs+s_nodes_drugs\n",
    "d_thr_nodes_genes = m_nodes_genes-s_nodes_genes\n",
    "u_thr_nodes_genes = m_nodes_genes+s_nodes_genes\n",
    "d_thr_rem_drugs = m_rem_drugs-s_rem_drugs\n",
    "u_thr_rem_drugs = m_rem_drugs+s_rem_drugs\n",
    "d_thr_rem_genes = m_rem_genes-s_rem_genes\n",
    "u_thr_rem_genes = m_rem_genes+s_rem_genes"
   ]
  },
  {
   "cell_type": "code",
   "execution_count": 15,
   "metadata": {},
   "outputs": [],
   "source": [
    "# Node complexity sorting\n",
    "neg_nodes_drugs = nodebdm_drugs_dti<d_thr_nodes_drugs\n",
    "pos_nodes_drugs = nodebdm_drugs_dti>u_thr_nodes_drugs\n",
    "bin_nodebdm_drugs_dti = neg_nodes_drugs.astype(int)*-1+pos_nodes_drugs.astype(int)\n",
    "neg_nodes_genes = nodebdm_genes_dti<d_thr_nodes_genes\n",
    "pos_nodes_genes = nodebdm_genes_dti>u_thr_nodes_genes\n",
    "bin_nodebdm_genes_dti = neg_nodes_genes.astype(int)*-1+pos_nodes_genes.astype(int)"
   ]
  },
  {
   "cell_type": "code",
   "execution_count": 16,
   "metadata": {},
   "outputs": [],
   "source": [
    "# Edge complexity sorting\n",
    "neg_rem_drugs = rem_edgebdm_drugs_dti<d_thr_rem_drugs\n",
    "pos_rem_drugs = rem_edgebdm_drugs_dti>u_thr_rem_drugs\n",
    "bin_rembdm_drugs_dti = neg_rem_drugs.astype(int)*-1+pos_rem_drugs.astype(int)\n",
    "neg_rem_genes = rem_edgebdm_genes_dti<d_thr_rem_genes\n",
    "pos_rem_genes = rem_edgebdm_genes_dti>u_thr_rem_genes\n",
    "bin_rembdm_genes_dti = neg_rem_genes.astype(int)*-1+pos_rem_genes.astype(int)"
   ]
  },
  {
   "cell_type": "code",
   "execution_count": 17,
   "metadata": {},
   "outputs": [
    {
     "name": "stdout",
     "output_type": "stream",
     "text": [
      "The drug node feature vector is filled in a  53.20813771517997 %\n",
      "The remove drug edge feature vector is filled in a  7.668231611893583 %\n",
      "The gene node feature vector is filled in a  46.868612756144856 %\n",
      "The remove drug gene feature vector is filled in a  0.7599182432786541 %\n"
     ]
    }
   ],
   "source": [
    "# Sparsity of vectors\n",
    "sp_n_drugs = np.count_nonzero(bin_nodebdm_drugs_dti)/len(nodebdm_drugs_dti)\n",
    "sp_r_drugs = np.count_nonzero(bin_rembdm_drugs_dti)/len(rem_edgebdm_drugs_dti)\n",
    "print('The drug node feature vector is filled in a ',sp_n_drugs*100,'%')\n",
    "print('The remove drug edge feature vector is filled in a ',sp_r_drugs*100,'%')\n",
    "sp_n_genes = np.count_nonzero(bin_nodebdm_genes_dti)/len(nodebdm_genes_dti)\n",
    "sp_r_genes = np.count_nonzero(bin_rembdm_genes_dti)/len(rem_edgebdm_genes_dti)\n",
    "print('The gene node feature vector is filled in a ',sp_n_genes*100,'%')\n",
    "print('The remove drug gene feature vector is filled in a ',sp_r_genes*100,'%')"
   ]
  },
  {
   "cell_type": "code",
   "execution_count": 18,
   "metadata": {},
   "outputs": [],
   "source": [
    "output_data = {}\n",
    "output_data['nodebdm_drugs_dti'] = bin_nodebdm_drugs_dti\n",
    "output_data['nodebdm_genes_dti'] = bin_nodebdm_genes_dti\n",
    "output_data['rem_edgebdm_drugs_dti'] = bin_rembdm_drugs_dti\n",
    "output_data['rem_edgebdm_genes_dti'] = bin_rembdm_genes_dti\n",
    "output_data['vms_dti'] = vms_dti\n",
    "output_data['rss_dti'] = vms_dti\n",
    "output_data['time_dti'] = time_dti\n",
    "output_data['jobs_dti'] = jobs_dti\n",
    "# Compatibility with previous versions\n",
    "if 'partition_type' in locals():\n",
    "    output_data['partition_type'] = partition_type"
   ]
  },
  {
   "cell_type": "code",
   "execution_count": 19,
   "metadata": {},
   "outputs": [
    {
     "name": "stdout",
     "output_type": "stream",
     "text": [
      "data_structures/BDM/DTI_BINBDM_real_genes_19081_drugs_639_juadia16\n"
     ]
    }
   ],
   "source": [
    "words = dti_in_file.split('_BDM_')\n",
    "dti_out_file = words[0] + '_BINBDM_' + words[1]\n",
    "print(dti_out_file)"
   ]
  },
  {
   "cell_type": "code",
   "execution_count": 20,
   "metadata": {},
   "outputs": [],
   "source": [
    "with open(dti_out_file, 'wb') as f:\n",
    "    pickle.dump(output_data, f, protocol=3)"
   ]
  },
  {
   "cell_type": "markdown",
   "metadata": {},
   "source": [
    "# DDI"
   ]
  },
  {
   "cell_type": "code",
   "execution_count": 21,
   "metadata": {
    "scrolled": true
   },
   "outputs": [
    {
     "name": "stdout",
     "output_type": "stream",
     "text": [
      "nodebdm_ddi_list Imported successfully\n",
      "add_edgebdm_ddi_list Imported successfully\n",
      "rem_edgebdm_ddi_list Imported successfully\n",
      "vms_ddi Imported successfully\n",
      "rss_ddi Imported successfully\n",
      "time_ddi Imported successfully\n",
      "jobs_ddi Imported successfully\n"
     ]
    }
   ],
   "source": [
    "with open(ddi_in_file,'rb') as f:\n",
    "    DS = pickle.load(f)\n",
    "    for key in DS.keys():\n",
    "        globals()[key]=DS[key]\n",
    "        print(key,\"Imported successfully\")"
   ]
  },
  {
   "cell_type": "code",
   "execution_count": 22,
   "metadata": {},
   "outputs": [],
   "source": [
    "# Means and std\n",
    "n_se = len(nodebdm_ddi_list)\n",
    "m_nodes = np.mean(nodebdm_ddi_list,axis=1)\n",
    "m_rem = np.mean(rem_edgebdm_ddi_list,axis=1)\n",
    "s_nodes = np.std(nodebdm_ddi_list,axis=1)\n",
    "s_rem = np.std(rem_edgebdm_ddi_list,axis=1)"
   ]
  },
  {
   "cell_type": "code",
   "execution_count": 23,
   "metadata": {},
   "outputs": [],
   "source": [
    "# Up & down thresholds\n",
    "d_thr_nodes = m_nodes-s_nodes\n",
    "u_thr_nodes = m_nodes+s_nodes\n",
    "d_thr_rem = m_rem-s_rem\n",
    "u_thr_rem = m_rem+s_rem\n",
    "bin_nodebdm_ddi_list = []\n",
    "bin_rem_edgebdm_ddi_list = []"
   ]
  },
  {
   "cell_type": "code",
   "execution_count": 24,
   "metadata": {},
   "outputs": [],
   "source": [
    "# Complexity sorting\n",
    "for i in range(n_se):\n",
    "    neg_nodes = nodebdm_ddi_list[i]<d_thr_nodes[i]\n",
    "    pos_nodes = nodebdm_ddi_list[i]>u_thr_nodes[i]\n",
    "    bin_nodebdm_ddi_list.append(neg_nodes.astype(int)*-1+pos_nodes.astype(int))\n",
    "    neg_rem = rem_edgebdm_ddi_list[i]<d_thr_rem[i]\n",
    "    pos_rem = rem_edgebdm_ddi_list[i]>u_thr_rem[i]\n",
    "    bin_rem_edgebdm_ddi_list.append(neg_rem.astype(int)*-1+pos_rem.astype(int))"
   ]
  },
  {
   "cell_type": "code",
   "execution_count": 25,
   "metadata": {},
   "outputs": [],
   "source": [
    "L_inv = 1/len(nodebdm_ddi_list[0])\n",
    "nm = np.mean(L_inv*np.count_nonzero(bin_nodebdm_ddi_list,axis=1))\n",
    "rm = np.mean(L_inv*np.count_nonzero(bin_rem_edgebdm_ddi_list,axis=1))"
   ]
  },
  {
   "cell_type": "code",
   "execution_count": 26,
   "metadata": {},
   "outputs": [
    {
     "name": "stdout",
     "output_type": "stream",
     "text": [
      "The node feature vectors are filled in average a  28.587036279456363 %\n",
      "The remove edge feature vectors are filled in average a  10.750719160514029 %\n"
     ]
    }
   ],
   "source": [
    "norm = len(bin_nodebdm_ddi_list[0])*n_se\n",
    "print('The node feature vectors are filled in average a ',nm*100,'%')\n",
    "print('The remove edge feature vectors are filled in average a ',rm*100,'%')"
   ]
  },
  {
   "cell_type": "code",
   "execution_count": 27,
   "metadata": {},
   "outputs": [],
   "source": [
    "output_data = {}\n",
    "output_data['nodebdm_ddi_list'] = bin_nodebdm_ddi_list\n",
    "output_data['rem_edgebdm_ddi_list'] = bin_rem_edgebdm_ddi_list\n",
    "output_data['vms_ddi'] = vms_ddi\n",
    "output_data['rss_ddi'] = rss_ddi\n",
    "output_data['time_ddi'] = time_ddi\n",
    "output_data['jobs_ddi'] = jobs_ddi\n",
    "# Compatibility with previous versions\n",
    "if 'partition_type' in locals():\n",
    "    output_data['partition_type'] = partition_type"
   ]
  },
  {
   "cell_type": "code",
   "execution_count": 28,
   "metadata": {},
   "outputs": [
    {
     "name": "stdout",
     "output_type": "stream",
     "text": [
      "data_structures/BDM/DDI_BINBDM_real_se_964_drugs_639_juadia72\n"
     ]
    }
   ],
   "source": [
    "words = ddi_in_file.split('_BDM_')\n",
    "ddi_out_file = words[0] + '_BINBDM_' + words[1]\n",
    "print(ddi_out_file)"
   ]
  },
  {
   "cell_type": "code",
   "execution_count": 29,
   "metadata": {},
   "outputs": [],
   "source": [
    "with open(ddi_out_file, 'wb') as f:\n",
    "    pickle.dump(output_data, f, protocol=3)"
   ]
  }
 ],
 "metadata": {
  "kernelspec": {
   "display_name": "Python 3",
   "language": "python",
   "name": "python3"
  },
  "language_info": {
   "codemirror_mode": {
    "name": "ipython",
    "version": 3
   },
   "file_extension": ".py",
   "mimetype": "text/x-python",
   "name": "python",
   "nbconvert_exporter": "python",
   "pygments_lexer": "ipython3",
   "version": "3.7.4"
  }
 },
 "nbformat": 4,
 "nbformat_minor": 4
}
