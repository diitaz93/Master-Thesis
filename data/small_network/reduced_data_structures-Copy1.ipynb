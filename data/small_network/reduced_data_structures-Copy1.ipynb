{
 "cells": [
  {
   "cell_type": "markdown",
   "metadata": {},
   "source": [
    "# Reduced Data Structures\n",
    "This notebook chooses a small consistent subset of the treated dataset to be run in small machines. The generated dataset is limited to a number of **drug-drug interactions** specified by the variable $N$. From this dataset, it generates the corresponding data structures like dictionaries and adjacency matrices to be fed directly to DECAGON.<br>\n",
    "This code is in part the adaptation in `pandas` of the script `drug_dataset.sh`, merged with `data_structures.ipynb`.\n",
    "\n",
    "Author: Juan Sebastian Diaz Boada, May 2020"
   ]
  },
  {
   "cell_type": "markdown",
   "metadata": {},
   "source": [
    "## Python 3"
   ]
  },
  {
   "cell_type": "code",
   "execution_count": 1,
   "metadata": {},
   "outputs": [],
   "source": [
    "import numpy as np\n",
    "import pandas as pd\n",
    "import scipy.sparse as sp\n",
    "import pickle\n",
    "from joblib import Parallel, delayed"
   ]
  },
  {
   "cell_type": "code",
   "execution_count": 2,
   "metadata": {},
   "outputs": [],
   "source": [
    "# Number of side effects \n",
    "#(Maximum is 1317, but the max chosen is 964 to be consistents with authors of decagon)\n",
    "N = 964"
   ]
  },
  {
   "cell_type": "code",
   "execution_count": 3,
   "metadata": {},
   "outputs": [],
   "source": [
    "# Here we choose specific side effects: Mumps, carbuncle, coccydynia, Bleeding,\n",
    "# disorder Renal, emesis (in that order)\n",
    "# ignoring the previous given number \n",
    "idx = [9,58,150,920,956,957]"
   ]
  },
  {
   "cell_type": "markdown",
   "metadata": {},
   "source": [
    "### Import databases"
   ]
  },
  {
   "cell_type": "code",
   "execution_count": 78,
   "metadata": {},
   "outputs": [],
   "source": [
    "PPI = pd.read_csv('small-decagon-ppi.csv',sep=',')\n",
    "DTI = pd.read_csv('small-decagon-targets.csv',sep=',')\n",
    "DDI = pd.read_csv('small-decagon-combo.csv',sep=',')\n",
    "DSE = pd.read_csv('small-decagon-mono.csv',sep=',')\n",
    "SE = pd.read_csv('../original_data/bio-decagon-effectcategories.csv',sep=',')"
   ]
  },
  {
   "cell_type": "code",
   "execution_count": 79,
   "metadata": {},
   "outputs": [],
   "source": [
    "unique_genes = pd.unique(PPI[['Gene 1','Gene 2']].values.ravel())\n",
    "unique_drugs = pd.unique(DDI[['STITCH 1','STITCH 2']].values.ravel())\n",
    "# Number of interactions\n",
    "orig_ppi = len(PPI.index)\n",
    "orig_dti = len(DTI.index)\n",
    "orig_ddi = len(DDI.index)\n",
    "orig_dse = len(DSE.index)\n",
    "# Number of nodes\n",
    "orig_ddi_drugs = len(unique_drugs)\n",
    "orig_ppi_genes = len(unique_genes)\n",
    "orig_dti_drugs = len(pd.unique(DTI['STITCH']))\n",
    "orig_dti_genes = len(pd.unique(DTI['Gene']))\n",
    "orig_dse_drugs = len(pd.unique(DSE['STITCH'].values))\n",
    "# Side effects\n",
    "orig_se_mono = len(pd.unique(DSE['Side Effect Name']))\n",
    "orig_se_combo = len(pd.unique(DDI['Polypharmacy Side Effect'].values))"
   ]
  },
  {
   "cell_type": "markdown",
   "metadata": {},
   "source": [
    "### Docking database"
   ]
  },
  {
   "cell_type": "code",
   "execution_count": 80,
   "metadata": {},
   "outputs": [],
   "source": [
    "DP = pd.read_csv('Docking_result_1.csv',sep=',')"
   ]
  },
  {
   "cell_type": "code",
   "execution_count": 81,
   "metadata": {},
   "outputs": [],
   "source": [
    "stitch_unique = pd.unique(DP[\"STITCH\"].values)\n",
    "genes_unique = pd.unique(DP[\"Gene\"].values)"
   ]
  },
  {
   "cell_type": "code",
   "execution_count": 82,
   "metadata": {},
   "outputs": [
    {
     "name": "stdout",
     "output_type": "stream",
     "text": [
      "221\n",
      "723\n",
      "639\n",
      "19081\n",
      "6162\n"
     ]
    }
   ],
   "source": [
    "print(len(stitch_unique))\n",
    "print(len(genes_unique))\n",
    "print(len(unique_drugs))\n",
    "print(len(unique_genes))\n",
    "print(len(DP))"
   ]
  },
  {
   "cell_type": "code",
   "execution_count": 83,
   "metadata": {
    "scrolled": true
   },
   "outputs": [],
   "source": [
    "stitch_unique = np.array(DP['STITCH'].value_counts().head(60).index)"
   ]
  },
  {
   "cell_type": "code",
   "execution_count": 84,
   "metadata": {},
   "outputs": [],
   "source": [
    "genes_unique = np.array(DP['Gene'].value_counts().head(150).index)"
   ]
  },
  {
   "cell_type": "code",
   "execution_count": 85,
   "metadata": {},
   "outputs": [],
   "source": [
    "inter_drugs = np.intersect1d(stitch_unique,unique_drugs,assume_unique=True)"
   ]
  },
  {
   "cell_type": "code",
   "execution_count": 86,
   "metadata": {},
   "outputs": [],
   "source": [
    "DDI = DDI[np.logical_and(DDI['STITCH 1'].isin(inter_drugs).values,\n",
    "                     DDI['STITCH 2'].isin(inter_drugs).values)]"
   ]
  },
  {
   "cell_type": "code",
   "execution_count": 96,
   "metadata": {},
   "outputs": [
    {
     "data": {
      "text/plain": [
       "60"
      ]
     },
     "execution_count": 96,
     "metadata": {},
     "output_type": "execute_result"
    }
   ],
   "source": [
    "unique_drugs = pd.DataFrame(pd.unique(DDI[['STITCH 1','STITCH 2']].values.ravel()))\n",
    "len(unique_drugs)"
   ]
  },
  {
   "cell_type": "code",
   "execution_count": 97,
   "metadata": {},
   "outputs": [
    {
     "data": {
      "text/plain": [
       "128"
      ]
     },
     "execution_count": 97,
     "metadata": {},
     "output_type": "execute_result"
    }
   ],
   "source": [
    "np.intersect1d(genes_unique,unique_genes,assume_unique=True)\n",
    "len(inter_genes)"
   ]
  },
  {
   "cell_type": "code",
   "execution_count": 89,
   "metadata": {},
   "outputs": [],
   "source": [
    "PPI = PPI[np.logical_and(PPI['Gene 1'].isin(inter_genes).values,\n",
    "                     PPI['Gene 2'].isin(inter_genes).values)]"
   ]
  },
  {
   "cell_type": "code",
   "execution_count": 99,
   "metadata": {},
   "outputs": [
    {
     "data": {
      "text/plain": [
       "128"
      ]
     },
     "execution_count": 99,
     "metadata": {},
     "output_type": "execute_result"
    }
   ],
   "source": [
    "unique_genes = pd.DataFrame(pd.unique(PPI[['Gene 1','Gene 2']].values.ravel()))\n",
    "len(unique_genes)"
   ]
  },
  {
   "cell_type": "code",
   "execution_count": 104,
   "metadata": {},
   "outputs": [],
   "source": [
    "unique_drugs.to_csv('drugs_for_docking.csv',header=False,index=False,sep=',')\n",
    "unique_genes.to_csv('genes_for_docking.csv',header=False,index=False,sep=',')"
   ]
  },
  {
   "cell_type": "markdown",
   "metadata": {},
   "source": [
    "### Choose Side effects"
   ]
  },
  {
   "cell_type": "code",
   "execution_count": null,
   "metadata": {},
   "outputs": [],
   "source": [
    "# Sort DDI to be consistent with the authors\n",
    "DDI['freq'] = DDI.groupby('Polypharmacy Side Effect')['Polypharmacy Side Effect']\\\n",
    "            .transform('count')\n",
    "DDI = DDI.sort_values(by=['freq'], ascending=False).drop(columns=['freq'])\n",
    "se = pd.unique(DDI['Polypharmacy Side Effect'].values)\n",
    "se_name = pd.unique(DDI['Side Effect Name'].values)"
   ]
  },
  {
   "cell_type": "code",
   "execution_count": null,
   "metadata": {},
   "outputs": [],
   "source": [
    "if 'idx' in locals():\n",
    "    se = se[idx]\n",
    "    N = len(se);\n",
    "    print(N)\n",
    "else:\n",
    "    se = se[:N]\n",
    "    print(len(se))"
   ]
  },
  {
   "cell_type": "markdown",
   "metadata": {},
   "source": [
    "### Select DDIs"
   ]
  },
  {
   "cell_type": "code",
   "execution_count": null,
   "metadata": {
    "scrolled": true
   },
   "outputs": [],
   "source": [
    "DDI = DDI[DDI['Polypharmacy Side Effect'].isin(se)].reset_index(drop=True)\n",
    "DDI_drugs = pd.unique(DDI[['STITCH 1','STITCH 2']].values.ravel()) # Unique drugs \n",
    "drug2idx = {drug: i for i, drug in enumerate(DDI_drugs)}\n",
    "se_names = pd.unique(DDI['Side Effect Name']) # Unique joint side effects\n",
    "se_combo_name2idx = {se: i for i, se in enumerate(se_names)}\n",
    "n_drugs = len(DDI_drugs)"
   ]
  },
  {
   "cell_type": "markdown",
   "metadata": {},
   "source": [
    "### Select Drug side effects"
   ]
  },
  {
   "cell_type": "code",
   "execution_count": null,
   "metadata": {},
   "outputs": [],
   "source": [
    "DSE = DSE[DSE['STITCH'].isin(DDI_drugs)].reset_index(drop=True)\n",
    "dse_drugs = len(pd.unique(DSE['STITCH'].values))\n",
    "se_mono_names = pd.unique(DSE['Side Effect Name'].values) # Unique individual side effects\n",
    "se_mono_name2idx = {name: i for i, name in enumerate(se_mono_names)}\n",
    "n_semono = len(se_mono_names)"
   ]
  },
  {
   "cell_type": "markdown",
   "metadata": {},
   "source": [
    "### Select DTIs"
   ]
  },
  {
   "cell_type": "code",
   "execution_count": null,
   "metadata": {},
   "outputs": [],
   "source": [
    "DTI = DTI[DTI['STITCH'].isin(DDI_drugs)].reset_index(drop=True)\n",
    "DTI_genes = pd.unique(DTI['Gene']) # Unique genes in DTI\n",
    "DTI_drugs = pd.unique(DTI['STITCH']) # Unique drugs in DTI\n",
    "dti_drugs = len(DTI_drugs)\n",
    "dti_genes = len(DTI_genes)"
   ]
  },
  {
   "cell_type": "markdown",
   "metadata": {},
   "source": [
    "### Select PPIs"
   ]
  },
  {
   "cell_type": "code",
   "execution_count": null,
   "metadata": {
    "scrolled": true
   },
   "outputs": [],
   "source": [
    "PPI = PPI[np.logical_or(PPI['Gene 1'].isin(DTI_genes),\n",
    "                       PPI['Gene 2'].isin(DTI_genes))].reset_index(drop=True)\n",
    "PPI_genes = pd.unique(PPI[['Gene 1','Gene 2']].values.ravel()) # Unique genes is PPI\n",
    "gene2idx = {gene: i for i, gene in enumerate(PPI_genes)}\n",
    "n_genes = len(PPI_genes)"
   ]
  },
  {
   "cell_type": "markdown",
   "metadata": {},
   "source": [
    "### Select PFs"
   ]
  },
  {
   "cell_type": "code",
   "execution_count": null,
   "metadata": {},
   "outputs": [],
   "source": [
    "PF = PF[PF['GeneID'].isin(PPI_genes)].reset_index(drop=True)"
   ]
  },
  {
   "cell_type": "markdown",
   "metadata": {},
   "source": [
    "## Adjacency matrices and degrees"
   ]
  },
  {
   "cell_type": "code",
   "execution_count": null,
   "metadata": {},
   "outputs": [],
   "source": [
    "# DDI adjacency matrices\n",
    "def se_adj_matrix(se_name):\n",
    "    m = np.zeros([n_drugs,n_drugs],dtype=int)\n",
    "    seDDI = DDI[DDI['Side Effect Name'].str.match(se_name)].reset_index()\n",
    "    for j in seDDI.index:\n",
    "        row = drug2idx[seDDI.loc[j,'STITCH 1']]\n",
    "        col = drug2idx[seDDI.loc[j,'STITCH 2']]\n",
    "        m[row,col] = m[col,row] = 1\n",
    "    return sp.csr_matrix(m) \n",
    "ddi_adj_list = Parallel(n_jobs=8)\\\n",
    "    (delayed(se_adj_matrix)(d) for d in se_combo_name2idx.keys())        \n",
    "ddi_degrees_list = [np.array(drug_adj.sum(axis=0)).squeeze() for drug_adj in ddi_adj_list]"
   ]
  },
  {
   "cell_type": "code",
   "execution_count": null,
   "metadata": {},
   "outputs": [],
   "source": [
    "# DTI adjacency matrix\n",
    "dti_adj = np.zeros([n_genes,n_drugs],dtype=int)\n",
    "for i in DTI.index:\n",
    "    row = gene2idx[DTI.loc[i,'Gene']]\n",
    "    col = drug2idx[DTI.loc[i,'STITCH']]\n",
    "    dti_adj[row,col] = 1\n",
    "dti_adj = sp.csr_matrix(dti_adj)"
   ]
  },
  {
   "cell_type": "code",
   "execution_count": null,
   "metadata": {},
   "outputs": [],
   "source": [
    "# PPI adjacency matrix and degrees\n",
    "ppi_adj = np.zeros([n_genes,n_genes],dtype=int)\n",
    "for i in PPI.index:\n",
    "    row = gene2idx[PPI.loc[i,'Gene 1']]\n",
    "    col = gene2idx[PPI.loc[i,'Gene 2']]\n",
    "    ppi_adj[row,col]=ppi_adj[col,row]=1\n",
    "ppi_degrees = np.sum(ppi_adj,axis=0)\n",
    "ppi_adj = sp.csr_matrix(ppi_adj)"
   ]
  },
  {
   "cell_type": "code",
   "execution_count": null,
   "metadata": {},
   "outputs": [],
   "source": [
    "# Drug Feature matrix\n",
    "drug_feat = np.zeros([n_drugs,n_semono],dtype=int)\n",
    "for i in DSE.index:\n",
    "    row = drug2idx[DSE.loc[i,'STITCH']]\n",
    "    col = se_mono_name2idx[DSE.loc[i,'Side Effect Name']]\n",
    "    drug_feat[row,col] = 1\n",
    "drug_feat = sp.csr_matrix(drug_feat)"
   ]
  },
  {
   "cell_type": "code",
   "execution_count": null,
   "metadata": {},
   "outputs": [],
   "source": [
    "# Protein feature matrices\n",
    "prot_feat = sp.coo_matrix(\n",
    "    PF[['Length', 'Mass', 'n_helices', 'n_strands', 'n_turns']].to_numpy())\n",
    "norm_prot_feat = sp.coo_matrix(\n",
    "    PF[['Normalized Helices(Mean)',\n",
    "       'Normalized Strands(Mean)',\n",
    "       'Normalized Turns(Mean)']].to_numpy())\n",
    "n_pf = np.shape(prot_feat)[1]\n",
    "n_npf = np.shape(norm_prot_feat)[1]"
   ]
  },
  {
   "cell_type": "markdown",
   "metadata": {},
   "source": [
    "### Print"
   ]
  },
  {
   "cell_type": "code",
   "execution_count": null,
   "metadata": {
    "scrolled": false
   },
   "outputs": [],
   "source": [
    "# Interactions (edges)\n",
    "print('Interactions (edges)')\n",
    "print('Original number of PPI interactions:', orig_ppi)\n",
    "print('New number of PPI interactions:', len(PPI.index))\n",
    "print('\\n')\n",
    "print('Original number of DTI interactions:', orig_dti)\n",
    "print('New number of DTI interactions:', len(DTI.index))\n",
    "print('\\n')\n",
    "print('Original number of DDI interactions:', orig_ddi)\n",
    "print('New number of DDI interactions:', len(DDI.index))\n",
    "print('\\n')\n",
    "print('Original number of DSE interactions:', orig_dse)\n",
    "print('New number of DSE interactions:', len(DSE.index))\n",
    "print('\\n')\n",
    "# Drugs and genes (nodes)\n",
    "print('Drugs and genes (nodes)')\n",
    "print(\"Original number of drugs in DSE:\",orig_dse_drugs)\n",
    "print(\"New number of drugs in DSE:\",dse_drugs)\n",
    "print('\\n')\n",
    "print(\"Original number of genes in PF:\",orig_pf)\n",
    "print(\"New number of genes in PF:\",len(PF.index))\n",
    "print('\\n')\n",
    "print(\"Original number drugs in DTI\",orig_dti_drugs)\n",
    "print(\"New number of drugs in DTI\",dti_drugs)\n",
    "print('\\n')\n",
    "print('Original number of genes in DTI:', orig_dti_genes)\n",
    "print('New number of genes in DTI:',dti_genes)\n",
    "print('\\n')\n",
    "print('Original number of genes:',orig_ppi_genes)\n",
    "print('New number of genes:', n_genes)\n",
    "print('\\n')\n",
    "print('Original number of drugs:',orig_ddi_drugs)\n",
    "print('New number of drugs:', n_drugs)\n",
    "print('\\n')\n",
    "# Side effects\n",
    "print('Side effects')\n",
    "print('Original number of joint side effects:',orig_se_combo)\n",
    "print('New number of joint side effects:', len(se_names))\n",
    "print('\\n')\n",
    "print('Original number of single side effects:', orig_se_mono)\n",
    "print('New number of single side effects:', n_semono)\n",
    "print('\\n')\n",
    "# Protein side effects\n",
    "print('Number of protein features:',n_pf)\n",
    "print('Number of normalized protein features:',n_npf)"
   ]
  },
  {
   "cell_type": "markdown",
   "metadata": {},
   "source": [
    "## Save"
   ]
  },
  {
   "cell_type": "code",
   "execution_count": null,
   "metadata": {},
   "outputs": [],
   "source": [
    "data = {}\n",
    "# Dictionaries\n",
    "data['gene2idx'] = gene2idx\n",
    "data['drug2idx'] = drug2idx\n",
    "data['se_mono_name2idx'] = se_mono_name2idx\n",
    "data['se_combo_name2idx'] = se_combo_name2idx\n",
    "# DDI\n",
    "data['ddi_adj_list'] = ddi_adj_list\n",
    "data['ddi_degrees_list'] = ddi_degrees_list\n",
    "# DTI\n",
    "data['dti_adj'] = dti_adj\n",
    "# PPI\n",
    "data['ppi_adj'] = ppi_adj\n",
    "data['ppi_degrees'] = ppi_degrees\n",
    "# DSE\n",
    "data['drug_feat'] = drug_feat\n",
    "# PF\n",
    "data['prot_feat'] = prot_feat\n",
    "data['norm_prot_feat'] = norm_prot_feat"
   ]
  },
  {
   "cell_type": "code",
   "execution_count": null,
   "metadata": {},
   "outputs": [],
   "source": [
    "filename = './data_structures/DS/DS_real_DSE_' + str(n_semono) + '_PF_' + str(n_pf) +\\\n",
    "'_NPF_'+ str(n_npf) + '_genes_'+str(n_genes)+'_drugs_'+str(n_drugs)+'_se_'+str(N)\n",
    "print(filename)"
   ]
  },
  {
   "cell_type": "code",
   "execution_count": null,
   "metadata": {},
   "outputs": [],
   "source": [
    "with open(filename, 'wb') as f:\n",
    "    pickle.dump(data, f, protocol=3)"
   ]
  },
  {
   "cell_type": "code",
   "execution_count": null,
   "metadata": {},
   "outputs": [],
   "source": []
  }
 ],
 "metadata": {
  "kernelspec": {
   "display_name": "Python 3",
   "language": "python",
   "name": "python3"
  },
  "language_info": {
   "codemirror_mode": {
    "name": "ipython",
    "version": 3
   },
   "file_extension": ".py",
   "mimetype": "text/x-python",
   "name": "python",
   "nbconvert_exporter": "python",
   "pygments_lexer": "ipython3",
   "version": "3.7.4"
  }
 },
 "nbformat": 4,
 "nbformat_minor": 2
}
