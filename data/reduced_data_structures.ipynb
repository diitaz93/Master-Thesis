{
 "cells": [
  {
   "cell_type": "markdown",
   "metadata": {},
   "source": [
    "# Reduced Data Structures\n",
    "This notebook chooses a small consistent subset of the treated dataset to be run in small machines. The generated dataset is limited to a number of **drug-drug interactions** specified by the variable $N$. From this dataset, it generates the corresponding data structures like dictionaries and adjacency matrices to be fed directly to DECAGON.<br>\n",
    "This code is in part the adaptation in `pandas` of the script `drug_dataset.sh`, merged with `data_structures.ipynb`.\n",
    "\n",
    "Author: Juan Sebastian Diaz Boada, May 2020"
   ]
  },
  {
   "cell_type": "markdown",
   "metadata": {},
   "source": [
    "### Python 3"
   ]
  },
  {
   "cell_type": "code",
   "execution_count": 1,
   "metadata": {},
   "outputs": [
    {
     "name": "stdout",
     "output_type": "stream",
     "text": [
      "Populating the interactive namespace from numpy and matplotlib\n"
     ]
    }
   ],
   "source": [
    "%pylab inline"
   ]
  },
  {
   "cell_type": "code",
   "execution_count": 2,
   "metadata": {},
   "outputs": [],
   "source": [
    "import numpy as np\n",
    "import scipy.sparse as sp\n",
    "import shelve\n",
    "import pandas as pd"
   ]
  },
  {
   "cell_type": "code",
   "execution_count": 3,
   "metadata": {},
   "outputs": [],
   "source": [
    "# Number of side effects\n",
    "N = 3"
   ]
  },
  {
   "cell_type": "markdown",
   "metadata": {},
   "source": [
    "### Import databases"
   ]
  },
  {
   "cell_type": "code",
   "execution_count": 4,
   "metadata": {},
   "outputs": [],
   "source": [
    "PPI = pd.read_csv('clean_data/new-decagon-ppi.csv',sep=',')\n",
    "PF = pd.read_csv('clean_data/new-decagon-genes.csv',sep=',')\n",
    "DTI = pd.read_csv('clean_data/new-decagon-targets.csv',sep=',')\n",
    "DDI = pd.read_csv('clean_data/new-decagon-combo.csv',sep=',')\n",
    "DSE = pd.read_csv('clean_data/new-decagon-mono.csv',sep=',')\n",
    "SE = pd.read_csv('original_data/bio-decagon-effectcategories.csv',sep=',')"
   ]
  },
  {
   "cell_type": "code",
   "execution_count": 5,
   "metadata": {},
   "outputs": [],
   "source": [
    "# Number of interactions\n",
    "orig_ppi = len(PPI.index)\n",
    "orig_pf = len(PF.index)\n",
    "orig_dti = len(DTI.index)\n",
    "orig_ddi = len(DDI.index)\n",
    "orig_dse = len(DSE.index)\n",
    "# Number of nodes\n",
    "orig_ddi_drugs = len(pd.unique(DDI[['STITCH 1','STITCH 2']].values.ravel()))\n",
    "orig_ppi_genes = len(pd.unique(PPI[['Gene 1','Gene 2']].values.ravel()))\n",
    "orig_dti_drugs = len(pd.unique(DTI['STITCH']))\n",
    "orig_dti_genes = len(pd.unique(DTI['Gene']))\n",
    "orig_se_mono = len(pd.unique(DSE['Side Effect Name']))"
   ]
  },
  {
   "cell_type": "markdown",
   "metadata": {},
   "source": [
    "### Choose Side effects"
   ]
  },
  {
   "cell_type": "code",
   "execution_count": 6,
   "metadata": {},
   "outputs": [],
   "source": [
    "se = SE.sample(n=N, axis=0)['Side Effect'].values"
   ]
  },
  {
   "cell_type": "markdown",
   "metadata": {},
   "source": [
    "### Select DDIs"
   ]
  },
  {
   "cell_type": "code",
   "execution_count": 7,
   "metadata": {
    "scrolled": true
   },
   "outputs": [],
   "source": [
    "DDI = DDI[DDI['Polypharmacy Side Effect'].isin(se)].reset_index(drop=True)\n",
    "DDI_drugs = pd.unique(DDI[['STITCH 1','STITCH 2']].values.ravel()) # Unique drugs \n",
    "drug2idx = {drug: i for i, drug in enumerate(DDI_drugs)}\n",
    "se_names = pd.unique(DDI['Side Effect Name']) # Unique joint side effects\n",
    "se_combo_name2idx = {se: i for i, se in enumerate(se_names)}\n",
    "n_drugs = len(DDI_drugs)"
   ]
  },
  {
   "cell_type": "markdown",
   "metadata": {},
   "source": [
    "### Select Drug side effects"
   ]
  },
  {
   "cell_type": "code",
   "execution_count": 8,
   "metadata": {},
   "outputs": [],
   "source": [
    "DSE = DSE[DSE['STITCH'].isin(DDI_drugs)].reset_index(drop=True)\n",
    "se_mono_names = pd.unique(DSE['Side Effect Name'].values) # Unique individual side effects\n",
    "se_mono_name2idx = {name: i for i, name in enumerate(se_mono_names)}\n",
    "n_semono = len(se_mono_names)"
   ]
  },
  {
   "cell_type": "markdown",
   "metadata": {},
   "source": [
    "### Select DTIs"
   ]
  },
  {
   "cell_type": "code",
   "execution_count": 9,
   "metadata": {},
   "outputs": [],
   "source": [
    "DTI = DTI[DTI['STITCH'].isin(DDI_drugs)].reset_index(drop=True)\n",
    "DTI_genes = pd.unique(DTI['Gene']) # Unique genes in DTI\n",
    "DTI_drugs = pd.unique(DTI['STITCH']) # Unique drugs in DTI\n",
    "dti_drugs = len(DTI_drugs)\n",
    "dti_genes = len(DTI_genes)"
   ]
  },
  {
   "cell_type": "markdown",
   "metadata": {},
   "source": [
    "### Select PPIs"
   ]
  },
  {
   "cell_type": "code",
   "execution_count": 10,
   "metadata": {
    "scrolled": true
   },
   "outputs": [],
   "source": [
    "PPI = PPI[np.logical_or(PPI['Gene 1'].isin(DTI_genes),\n",
    "                       PPI['Gene 2'].isin(DTI_genes))].reset_index(drop=True)\n",
    "PPI_genes = pd.unique(PPI[['Gene 1','Gene 2']].values.ravel()) # Unique genes is PPI\n",
    "gene2idx = {gene: i for i, gene in enumerate(PPI_genes)}\n",
    "n_genes = len(PPI_genes)"
   ]
  },
  {
   "cell_type": "markdown",
   "metadata": {},
   "source": [
    "### Select PFs"
   ]
  },
  {
   "cell_type": "code",
   "execution_count": 11,
   "metadata": {},
   "outputs": [],
   "source": [
    "PF = PF[PF['GeneID'].isin(PPI_genes)].reset_index(drop=True)"
   ]
  },
  {
   "cell_type": "markdown",
   "metadata": {},
   "source": [
    "## Adjacency matrices and degrees"
   ]
  },
  {
   "cell_type": "code",
   "execution_count": 14,
   "metadata": {},
   "outputs": [],
   "source": [
    "# DDI adjacency matrices and degrees\n",
    "ddi_adj_list = []\n",
    "for i in se_combo_name2idx.keys():\n",
    "    m = np.zeros([n_drugs,n_drugs],dtype=int)\n",
    "    seDDI = DDI[DDI['Side Effect Name'].str.match(i)].reset_index()\n",
    "    for j in seDDI.index:\n",
    "        row = drug2idx[seDDI.loc[j,'STITCH 1']]\n",
    "        col = drug2idx[seDDI.loc[j,'STITCH 2']]\n",
    "        m[row,col] = m[col,row] = 1\n",
    "    ddi_adj_list.append(sp.csr_matrix(m))\n",
    "ddi_degrees_list = [np.array(drug_adj.sum(axis=0)).squeeze() for drug_adj in ddi_adj_list]"
   ]
  },
  {
   "cell_type": "code",
   "execution_count": 15,
   "metadata": {},
   "outputs": [],
   "source": [
    "# DTI adjacency matrix\n",
    "dti_adj = np.zeros([n_genes,n_drugs],dtype=int)\n",
    "for i in DTI.index:\n",
    "    row = gene2idx[DTI.loc[i,'Gene']]\n",
    "    col = drug2idx[DTI.loc[i,'STITCH']]\n",
    "    dti_adj[row,col] = 1\n",
    "dti_adj = sp.csr_matrix(dti_adj)"
   ]
  },
  {
   "cell_type": "code",
   "execution_count": 13,
   "metadata": {},
   "outputs": [],
   "source": [
    "# PPI adjacency matrix and degrees\n",
    "ppi_adj = np.zeros([n_genes,n_genes],dtype=int)\n",
    "for i in PPI.index:\n",
    "    row = gene2idx[PPI.loc[i,'Gene 1']]\n",
    "    col = gene2idx[PPI.loc[i,'Gene 2']]\n",
    "    ppi_adj[row,col]=ppi_adj[col,row]=1\n",
    "ppi_degrees = np.sum(ppi_adj,axis=0)\n",
    "ppi_adj = sp.csr_matrix(ppi_adj)"
   ]
  },
  {
   "cell_type": "code",
   "execution_count": 16,
   "metadata": {},
   "outputs": [],
   "source": [
    "# Drug Feature matrix\n",
    "drug_feat = np.zeros([n_drugs,n_semono],dtype=int)\n",
    "for i in DSE.index:\n",
    "    row = drug2idx[DSE.loc[i,'STITCH']]\n",
    "    col = se_mono_name2idx[DSE.loc[i,'Side Effect Name']]\n",
    "    drug_feat[row,col] = 1\n",
    "drug_feat = sp.csr_matrix(drug_feat)"
   ]
  },
  {
   "cell_type": "code",
   "execution_count": 12,
   "metadata": {},
   "outputs": [],
   "source": [
    "# Protein feature matrices\n",
    "prot_feat = sp.coo_matrix(\n",
    "    PF[['GeneID', 'Length', 'Mass', 'n_helices', 'n_strands', 'n_turns']].to_numpy())\n",
    "norm_prot_feat = sp.coo_matrix(\n",
    "    PF[['Normalized Helices(Mean)', 'Normalized Helices(Median)',\n",
    "       'Normalized Strands(Mean)', 'Normalized Strands(Median)',\n",
    "       'Normalized Turns(Mean)', 'Normalized Turns(Median)']].to_numpy())"
   ]
  },
  {
   "cell_type": "markdown",
   "metadata": {},
   "source": [
    "### Print"
   ]
  },
  {
   "cell_type": "code",
   "execution_count": 17,
   "metadata": {
    "scrolled": false
   },
   "outputs": [
    {
     "name": "stdout",
     "output_type": "stream",
     "text": [
      "Original number of PPI interactions: 693353\n",
      "New number of PPI interactions: 310064\n",
      "\n",
      "\n",
      "Original number of DDI interactions: 4615522\n",
      "New number of DDI interactions: 15565\n",
      "\n",
      "\n",
      "Original number of DTI interactions: 18291\n",
      "New number of DTI interactions: 16989\n",
      "Original number of DTI genes: 3587\n",
      "New number of DTI genes: 3564\n",
      "Original number of DTI drugs: 283\n",
      "New number of DTI drugs: 240\n",
      "\n",
      "\n",
      "Original number of DSE interactions: 174977\n",
      "New number of DSE interactions: 161234\n",
      "\n",
      "\n",
      "Original number of single side effects: 9702\n",
      "New number of single side effects: 9581\n",
      "\n",
      "\n",
      "Original number of proteins with features: 17929\n",
      "New number of proteins with features: 16267\n",
      "\n",
      "\n",
      "Original number of genes: 17929\n",
      "New number of genes: 16267\n",
      "\n",
      "\n",
      "Original number of drugs: 639\n",
      "New number of drugs: 539\n"
     ]
    }
   ],
   "source": [
    "print('Original number of PPI interactions:', orig_ppi)\n",
    "print('New number of PPI interactions:', len(PPI.index))\n",
    "print('\\n')\n",
    "print('Original number of DDI interactions:', orig_ddi)\n",
    "print('New number of DDI interactions:', len(DDI.index))\n",
    "print('\\n')\n",
    "print('Original number of DTI interactions:', orig_dti)\n",
    "print('New number of DTI interactions:', len(DTI.index))\n",
    "print('Original number of DTI genes:', orig_dti_genes)\n",
    "print('New number of DTI genes:',len(pd.unique(DTI['Gene'].values)))\n",
    "print('Original number of DTI drugs:', orig_dti_drugs)\n",
    "print('New number of DTI drugs:',len(pd.unique(DTI['STITCH'].values)))\n",
    "print('\\n')\n",
    "print('Original number of DSE interactions:', orig_dse)\n",
    "print('New number of DSE interactions:', len(DSE.index))\n",
    "print('\\n')\n",
    "print('Original number of single side effects:', orig_se_mono)\n",
    "print('New number of single side effects:', n_semono)\n",
    "print('\\n')\n",
    "print('Original number of proteins with features:', orig_pf)\n",
    "print('New number of proteins with features:', len(PF.index))\n",
    "print('\\n')\n",
    "print('Original number of genes:',orig_ppi_genes)\n",
    "print('New number of genes:', n_genes)\n",
    "print('\\n')\n",
    "print('Original number of drugs:',orig_ddi_drugs)\n",
    "print('New number of drugs:', n_drugs)"
   ]
  },
  {
   "cell_type": "markdown",
   "metadata": {},
   "source": [
    "## Save"
   ]
  },
  {
   "cell_type": "code",
   "execution_count": 18,
   "metadata": {},
   "outputs": [],
   "source": [
    "now = datetime.datetime.now() # current date and time\n",
    "year = now.strftime(\"%Y\")\n",
    "month = now.strftime(\"%m\")\n",
    "day = now.strftime(\"%d\")\n",
    "filename = './data_structures/decagon_se'+str(N)+'_'+year+'-'+month+'-'+day\n",
    "data = shelve.open(filename,'n',protocol=2)"
   ]
  },
  {
   "cell_type": "code",
   "execution_count": 19,
   "metadata": {},
   "outputs": [],
   "source": [
    "# Dictionaries\n",
    "data['gene2idx'] = gene2idx\n",
    "data['drug2idx'] = drug2idx\n",
    "data['se_mono_name2idx'] = se_mono_name2idx\n",
    "data['se_combo_name2idx'] = se_combo_name2idx\n",
    "# DDI\n",
    "data['ddi_adj_list'] = ddi_adj_list\n",
    "data['ddi_degrees_list'] = ddi_degrees_list\n",
    "# DTI\n",
    "data['dti_adj'] = dti_adj\n",
    "# PPI\n",
    "data['ppi_adj'] = ppi_adj\n",
    "data['ppi_degrees'] = ppi_degrees\n",
    "# DSE\n",
    "data['drug_feat'] = drug_feat\n",
    "# PF\n",
    "data['prot_feat'] = prot_feat\n",
    "data['norm_prot_feat'] = norm_prot_feat"
   ]
  },
  {
   "cell_type": "code",
   "execution_count": 20,
   "metadata": {},
   "outputs": [],
   "source": [
    "data.close()"
   ]
  }
 ],
 "metadata": {
  "kernelspec": {
   "display_name": "Python 3",
   "language": "python",
   "name": "python3"
  },
  "language_info": {
   "codemirror_mode": {
    "name": "ipython",
    "version": 3
   },
   "file_extension": ".py",
   "mimetype": "text/x-python",
   "name": "python",
   "nbconvert_exporter": "python",
   "pygments_lexer": "ipython3",
   "version": "3.7.3"
  }
 },
 "nbformat": 4,
 "nbformat_minor": 2
}
