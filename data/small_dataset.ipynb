{
 "cells": [
  {
   "cell_type": "markdown",
   "metadata": {},
   "source": [
    "# Small dataset\n",
    "This notebook chooses a small consistent subset of the treated dataset to be run in small machines. The generated dataset is limited to a number of **drug-drug interactions** specified by the variable $N$.<br>\n",
    "This code is the adaptation in `pandas` of the script `drug_dataset.sh`.\n",
    "\n",
    "Author: Juan Sebastian Diaz Boada, May 2020"
   ]
  },
  {
   "cell_type": "code",
   "execution_count": 1,
   "metadata": {},
   "outputs": [
    {
     "name": "stdout",
     "output_type": "stream",
     "text": [
      "Populating the interactive namespace from numpy and matplotlib\n"
     ]
    }
   ],
   "source": [
    "%pylab inline"
   ]
  },
  {
   "cell_type": "code",
   "execution_count": 2,
   "metadata": {},
   "outputs": [],
   "source": [
    "import pandas as pd\n",
    "# Only for Python 2\n",
    "from __future__ import print_function"
   ]
  },
  {
   "cell_type": "code",
   "execution_count": 3,
   "metadata": {},
   "outputs": [],
   "source": [
    "# Number of side effects\n",
    "N = 3"
   ]
  },
  {
   "cell_type": "markdown",
   "metadata": {},
   "source": [
    "### Import databases"
   ]
  },
  {
   "cell_type": "code",
   "execution_count": 4,
   "metadata": {},
   "outputs": [],
   "source": [
    "PPI = pd.read_csv('modif_data/new-decagon-ppi.csv',sep=',')\n",
    "PF = pd.read_csv('modif_data/new-decagon-genes.csv',sep=',')\n",
    "DTI = pd.read_csv('modif_data/new-decagon-targets.csv',sep=',')\n",
    "DDI = pd.read_csv('modif_data/new-decagon-combo.csv',sep=',')\n",
    "DSE = pd.read_csv('modif_data/new-decagon-mono.csv',sep=',')\n",
    "SE = pd.read_csv('orig_data/bio-decagon-effectcategories.csv')"
   ]
  },
  {
   "cell_type": "code",
   "execution_count": 5,
   "metadata": {},
   "outputs": [],
   "source": [
    "# Number of interactions\n",
    "orig_ppi = len(PPI.index)\n",
    "orig_pf = len(PF.index)\n",
    "orig_dti = len(DTI.index)\n",
    "orig_ddi = len(DDI.index)\n",
    "orig_dse = len(DSE.index)"
   ]
  },
  {
   "cell_type": "markdown",
   "metadata": {},
   "source": [
    "### Choose Side effects\n",
    "Could have also used:\n",
    "```\n",
    "se = np.random.choice(SE['Side Effect'].values, size=N, replace=False)\n",
    "```"
   ]
  },
  {
   "cell_type": "code",
   "execution_count": 6,
   "metadata": {},
   "outputs": [],
   "source": [
    "se = SE.sample(n=N, axis=0)['Side Effect'].values"
   ]
  },
  {
   "cell_type": "markdown",
   "metadata": {},
   "source": [
    "### Select DDIs"
   ]
  },
  {
   "cell_type": "code",
   "execution_count": 7,
   "metadata": {
    "scrolled": true
   },
   "outputs": [],
   "source": [
    "DDI = DDI[DDI['Polypharmacy Side Effect'].isin(se)].reset_index(drop=True)\n",
    "col_drugs = pd.unique(DDI[['STITCH 1','STITCH 2']].values.ravel())\n",
    "n_drugs = len(col_drugs)"
   ]
  },
  {
   "cell_type": "markdown",
   "metadata": {},
   "source": [
    "### Select Drug side effects"
   ]
  },
  {
   "cell_type": "code",
   "execution_count": 8,
   "metadata": {},
   "outputs": [],
   "source": [
    "DSE = DSE[DSE['STITCH'].isin(col_drugs)].reset_index(drop=True)"
   ]
  },
  {
   "cell_type": "markdown",
   "metadata": {},
   "source": [
    "### Select DTIs"
   ]
  },
  {
   "cell_type": "code",
   "execution_count": 9,
   "metadata": {},
   "outputs": [],
   "source": [
    "DTI = DTI[DTI['STITCH'].isin(col_drugs)].reset_index(drop=True)\n",
    "col_genes = pd.unique(DTI['Gene'])\n",
    "n_genes = len(col_genes)"
   ]
  },
  {
   "cell_type": "markdown",
   "metadata": {},
   "source": [
    "### Select PPIs"
   ]
  },
  {
   "cell_type": "code",
   "execution_count": 10,
   "metadata": {
    "scrolled": true
   },
   "outputs": [],
   "source": [
    "PPI = PPI[np.logical_or(PPI['Gene 1'].isin(col_genes),\n",
    "                       PPI['Gene 2'].isin(col_genes))].reset_index(drop=True)"
   ]
  },
  {
   "cell_type": "markdown",
   "metadata": {},
   "source": [
    "### Select protein features"
   ]
  },
  {
   "cell_type": "code",
   "execution_count": 11,
   "metadata": {},
   "outputs": [],
   "source": [
    "PF = PF[PF['GeneID'].isin(col_genes)].reset_index(drop=True)"
   ]
  },
  {
   "cell_type": "code",
   "execution_count": 12,
   "metadata": {},
   "outputs": [
    {
     "name": "stdout",
     "output_type": "stream",
     "text": [
      "Original number of PPI interactions: 581429\n",
      "New number of PPI interactions: 296151\n",
      "Original number of DDI interactions: 3504271\n",
      "New number of DDI interactions: 6830\n",
      "Original number of DTI interactions: 18293\n",
      "New number of DTI interactions: 14944\n",
      "Original number of DSE interactions: 81286\n",
      "New number of DSE interactions: 68852\n",
      "Original number og genes: 7628\n",
      "New number of genes: 3497\n",
      "New number of drugs: 457\n"
     ]
    }
   ],
   "source": [
    "print('Original number of PPI interactions:', orig_ppi)\n",
    "print('New number of PPI interactions:', len(PPI.index))\n",
    "\n",
    "print('Original number of DDI interactions:', orig_ddi)\n",
    "print('New number of DDI interactions:', len(DDI.index))\n",
    "\n",
    "print('Original number of DTI interactions:', orig_dti)\n",
    "print('New number of DTI interactions:', len(DTI.index))\n",
    "\n",
    "print('Original number of DSE interactions:', orig_dse)\n",
    "print('New number of DSE interactions:', len(DSE.index))\n",
    "\n",
    "print('Original number og genes:', orig_pf)\n",
    "print('New number of genes:', n_genes)\n",
    "print('New number of drugs:', n_drugs)"
   ]
  },
  {
   "cell_type": "markdown",
   "metadata": {},
   "source": [
    "## Export to csv"
   ]
  },
  {
   "cell_type": "code",
   "execution_count": 13,
   "metadata": {},
   "outputs": [],
   "source": [
    "PPI.to_csv('./modif_data/ppi_mini.csv',index=False,sep=',')\n",
    "DTI.to_csv('./modif_data/targets_mini.csv',index=False,sep=',')\n",
    "DDI.to_csv('./modif_data/combo_mini.csv',index=False,sep=',')\n",
    "DSE.to_csv('./modif_data/mono_mini.csv',index=False,sep=',')\n",
    "PF.to_csv('./modif_data/genes_mini.csv',index=False,sep=',')"
   ]
  },
  {
   "cell_type": "code",
   "execution_count": null,
   "metadata": {},
   "outputs": [],
   "source": []
  }
 ],
 "metadata": {
  "kernelspec": {
   "display_name": "Python 2",
   "language": "python",
   "name": "python2"
  },
  "language_info": {
   "codemirror_mode": {
    "name": "ipython",
    "version": 2
   },
   "file_extension": ".py",
   "mimetype": "text/x-python",
   "name": "python",
   "nbconvert_exporter": "python",
   "pygments_lexer": "ipython2",
   "version": "2.7.15"
  }
 },
 "nbformat": 4,
 "nbformat_minor": 2
}
