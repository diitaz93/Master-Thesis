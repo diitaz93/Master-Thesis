{
 "cells": [
  {
   "cell_type": "markdown",
   "metadata": {},
   "source": [
    "# Selected data structures\n",
    "Creates a file with DECAGON data structures of a reduced or complete dataset from the data from the original and/or reduced matrices, as well as from BDM complete files"
   ]
  },
  {
   "cell_type": "markdown",
   "metadata": {},
   "source": [
    "## Python 3"
   ]
  },
  {
   "cell_type": "code",
   "execution_count": 1,
   "metadata": {},
   "outputs": [],
   "source": [
    "import numpy as np\n",
    "import pandas as pd\n",
    "import scipy.sparse as sp\n",
    "import time\n",
    "import pickle\n",
    "import datetime"
   ]
  },
  {
   "cell_type": "markdown",
   "metadata": {},
   "source": [
    "## Paths initialization"
   ]
  },
  {
   "cell_type": "code",
   "execution_count": 2,
   "metadata": {},
   "outputs": [],
   "source": [
    "# Parameters\n",
    "input_file = './data_structures/DS/DS_real_DSE_9702_PF_5_NPF_3_genes_16271_drugs_639_se_964'\n",
    "prot_status = None # can be 'PF', 'NPF' or None\n",
    "DSE = True\n",
    "BDM = True"
   ]
  },
  {
   "cell_type": "code",
   "execution_count": 3,
   "metadata": {},
   "outputs": [],
   "source": [
    "# Sentinel initialization\n",
    "PF = False\n",
    "NPF = False\n",
    "toy = False\n",
    "red = False"
   ]
  },
  {
   "cell_type": "code",
   "execution_count": 4,
   "metadata": {},
   "outputs": [
    {
     "name": "stdout",
     "output_type": "stream",
     "text": [
      "['./data', 'structures/DS/DS', 'real', 'DSE', '9702', 'PF', '5', 'NPF', '3', 'genes', '16271', 'drugs', '639', 'se', '964']\n"
     ]
    }
   ],
   "source": [
    "# Name import and decomposition\n",
    "words = input_file.split('_')\n",
    "print(words)"
   ]
  },
  {
   "cell_type": "code",
   "execution_count": 5,
   "metadata": {},
   "outputs": [],
   "source": [
    "# Deterimes the valuye of toy\n",
    "if 'toy' in words:\n",
    "    toy=True\n",
    "# Protein sentinel update\n",
    "if prot_status == 'NPF':\n",
    "    NPF=True\n",
    "elif prot_status == 'PF':\n",
    "    PF=True\n",
    "if toy and NPF:\n",
    "    raise ValueError(\"Toy model does not have normalized protein features\") \n",
    "if int(words[-1]) > 964:\n",
    "    red = True"
   ]
  },
  {
   "cell_type": "code",
   "execution_count": 6,
   "metadata": {},
   "outputs": [
    {
     "name": "stdout",
     "output_type": "stream",
     "text": [
      "toy False\n",
      "DSE True\n",
      "prot_status PF\n",
      "PF True\n",
      "NPF False\n",
      "red False\n"
     ]
    }
   ],
   "source": [
    "# Control Printing\n",
    "print('toy',toy)\n",
    "print('DSE',DSE)\n",
    "print('prot_status',prot_status)\n",
    "print('PF',PF)\n",
    "print('NPF',NPF)\n",
    "print('red',red)"
   ]
  },
  {
   "cell_type": "code",
   "execution_count": null,
   "metadata": {},
   "outputs": [],
   "source": [
    "# Generate full filename if reduced, otherwise use given filename\n",
    "if red:\n",
    "    filename_full='./data_structures/DS/DS_' + data_str +'DSE_9702_' +\\\n",
    "    pf_str + '_genes_16271_drugs_639_se_964'\n",
    "else: filename_full = input_file\n",
    "print(filename_full)"
   ]
  },
  {
   "cell_type": "code",
   "execution_count": 12,
   "metadata": {},
   "outputs": [],
   "source": [
    "# Generate BDM filenames\n",
    "PPI_file = './data_structures/BDM/PPI_BDM_toy_genes_500_juan8'\n",
    "DTI_file = './data_structures/BDM/DTI_BDM_toy_genes_500_drugs_400_juan8'\n",
    "DDI_file = './data_structures/BDM/DDI_BDM_toy_se_3_drugs_400_juan8'"
   ]
  },
  {
   "cell_type": "markdown",
   "metadata": {},
   "source": [
    "## Import datasets"
   ]
  },
  {
   "cell_type": "code",
   "execution_count": null,
   "metadata": {
    "scrolled": true
   },
   "outputs": [],
   "source": [
    "# Import full dataset\n",
    "with open(filename_full, 'rb') as f:\n",
    "    DS = pickle.load(f)\n",
    "    for key in DS.keys():\n",
    "        globals()[key]=DS[key]\n",
    "        print(key,\"Imported successfully\")"
   ]
  },
  {
   "cell_type": "code",
   "execution_count": null,
   "metadata": {},
   "outputs": [],
   "source": [
    "# Control Printing\n",
    "print('The PPI adj matrix is filled in a',round(np.sum(ppi_adj)/pow(len(gene2idx),2)*100,5),'%')\n",
    "print('The DTI adj matrix is filled in a',\n",
    "      round(np.sum(dti_adj)/(len(gene2idx)*len(drug2idx))*100,2),'%')\n",
    "print('Drug feat',round(np.sum(drug_feat)/(len(drug2idx)*len(se_mono_name2idx))*100,2),'%')\n",
    "PF_bin = prot_feat>0\n",
    "print(np.sum(PF_bin))\n",
    "print('prot feat',round(np.sum(PF_bin)/(np.shape(PF_bin)[0]*np.shape(PF_bin)[1])*100,2),'%')\n",
    "print('The DDI adj matrix is filled in average in a',\n",
    "      round(np.mean(np.fromiter((np.sum(x)/(len(drug2idx)*len(drug2idx))\n",
    "                      *100 for x in ddi_adj_list),float)),2),'%')"
   ]
  },
  {
   "cell_type": "code",
   "execution_count": null,
   "metadata": {},
   "outputs": [],
   "source": [
    "# Change names if red\n",
    "if red:\n",
    "    ddi_adj_listcmp = ddi_adj_list\n",
    "    ddi_degrees_listcmp = ddi_degrees_list\n",
    "    dti_adjcmp = dti_adj\n",
    "    ppi_adjcmp = ppi_adj\n",
    "    ppi_degreescmp = ppi_degrees\n",
    "    drug_featcmp = drug_feat\n",
    "    prot_featcmp = prot_feat\n",
    "    norm_prot_featcmp = norm_prot_feat\n",
    "    gene2idxcmp = gene2idx\n",
    "    drug2idxcmp = drug2idx\n",
    "    se_mono_name2idxcmp = se_mono_name2idx\n",
    "    se_combo_name2idxcmp = se_combo_name2idx"
   ]
  },
  {
   "cell_type": "code",
   "execution_count": null,
   "metadata": {},
   "outputs": [],
   "source": [
    "# Load reduced dataset if red\n",
    "if red:\n",
    "    with open(input_file, 'rb') as f:\n",
    "        DS = pickle.load(f)\n",
    "        for key in DS.keys():\n",
    "            globals()[key]=DS[key]\n",
    "            print(key,\"Imported successfully\")\n",
    "    # New dictionaries\n",
    "    gene2idx = { gene: gene2idxcmp[gene] for gene in gene2idx}\n",
    "    \n",
    "    drug2idx = { drug: drug2idxcmp[drug] for drug in drug2idx}\n",
    "    \n",
    "    se_mono_name2idx = { sem: se_mono_name2idxcmp[sem] for sem in se_mono_name2idx}\n",
    "    se_combo_name2idx = { sec: se_combo_name2idxcmp[sec] for sec in se_combo_name2idx}\n",
    "\n",
    "idx_genes = list(gene2idx.values())\n",
    "idx_drugs = list(drug2idx.values())\n",
    "idx_se = list(se_combo_name2idx.values())\n",
    "n_drugs = len(drug2idx)\n",
    "n_genes = len(gene2idx)\n",
    "n_se_combo = len(se_combo_name2idx)\n",
    "n_se_mono = len(se_mono_name2idx)"
   ]
  },
  {
   "cell_type": "code",
   "execution_count": null,
   "metadata": {},
   "outputs": [],
   "source": [
    "# No feature case\n",
    "if prot_status==None:\n",
    "    prot_feat = sp.identity(n_genes)\n",
    "if not DSE:\n",
    "    drug_feat = sp.identity(n_drugs)"
   ]
  },
  {
   "cell_type": "markdown",
   "metadata": {},
   "source": [
    "## BDM Features"
   ]
  },
  {
   "cell_type": "code",
   "execution_count": null,
   "metadata": {},
   "outputs": [],
   "source": [
    "if BDM:\n",
    "    # PPI BDM dataset import\n",
    "    with open(PPI_file, 'rb') as f:\n",
    "        DS = pickle.load(f)\n",
    "        for key in DS.keys():\n",
    "            globals()[key]=DS[key]\n",
    "            print(key,\"Imported successfully\")\n",
    "    nodebdm_ppi = nodebdm_ppi[idx_genes]\n",
    "    add_edgebdm_ppi = add_edgebdm_ppi[idx_genes]\n",
    "    rem_edgebdm_ppi = rem_edgebdm_ppi[idx_genes]\n",
    "    to_add_bdm_ppi = np.hstack([nodebdm_ppi.reshape(-1,1),add_edgebdm_ppi.reshape(-1,1),\n",
    "                                rem_edgebdm_ppi.reshape(-1,1)])"
   ]
  },
  {
   "cell_type": "code",
   "execution_count": null,
   "metadata": {
    "scrolled": true
   },
   "outputs": [],
   "source": [
    "if BDM:\n",
    "    # DTI BDM dataset import\n",
    "    with open(DTI_file, 'rb') as f:\n",
    "        DS = pickle.load(f)\n",
    "        for key in DS.keys():\n",
    "            globals()[key]=DS[key]\n",
    "            print(key,\"Imported successfully\")\n",
    "    nodebdm_drugs_dti = nodebdm_drugs_dti[idx_drugs]\n",
    "    nodebdm_genes_dti = nodebdm_genes_dti[idx_genes]\n",
    "    add_edgebdm_drugs_dti = add_edgebdm_drugs_dti[idx_drugs]\n",
    "    add_edgebdm_genes_dti = add_edgebdm_genes_dti[idx_genes]\n",
    "    rem_edgebdm_drugs_dti = rem_edgebdm_drugs_dti[idx_drugs]\n",
    "    rem_edgebdm_genes_dti = rem_edgebdm_genes_dti[idx_genes]\n",
    "    to_add_bdm_drugs_dti = np.hstack([nodebdm_drugs_dti.reshape(-1,1),\n",
    "                                      add_edgebdm_drugs_dti.reshape(-1,1),\n",
    "                                      rem_edgebdm_drugs_dti.reshape(-1,1)])\n",
    "    to_add_bdm_genes_dti = np.hstack([nodebdm_genes_dti.reshape(-1,1),\n",
    "                                      add_edgebdm_genes_dti.reshape(-1,1),\n",
    "                                      rem_edgebdm_genes_dti.reshape(-1,1)])\n",
    "    #verif\n",
    "    print('Dimension checking')\n",
    "    print('Should be ~16k,3',np.shape(to_add_bdm_genes_dti))\n",
    "    print('Should be ~630,3',np.shape(to_add_bdm_drugs_dti))"
   ]
  },
  {
   "cell_type": "code",
   "execution_count": null,
   "metadata": {},
   "outputs": [],
   "source": [
    "if BDM:\n",
    "    # DDI BDM dataset import\n",
    "    with open(DTI_file, 'rb') as f:\n",
    "        DS = pickle.load(f)\n",
    "        for key in DS.keys():\n",
    "            globals()[key]=DS[key]\n",
    "            print(key,\"Imported successfully\")\n",
    "    nodebdm_ddi_list = [nodebdm_ddi_list[i][idx_drugs] for i in idx_se]\n",
    "    add_edgebdm_ddi_list = [add_edgebdm_ddi_list[i][idx_drugs] for i in idx_se]\n",
    "    rem_edgebdm_ddi_list = [rem_edgebdm_ddi_list[i][idx_drugs] for i in idx_se]\n",
    "    node_ddi = np.hstack([i.reshape(-1,1) for i in nodebdm_ddi_list])\n",
    "    add_edge_ddi = np.hstack([i.reshape(-1,1) for i in add_edgebdm_ddi_list])\n",
    "    rem_edge_ddi = np.hstack([i.reshape(-1,1) for i in rem_edgebdm_ddi_list])\n",
    "    to_add_bdm_ddi = np.hstack([node_ddi,add_edge_ddi,rem_edge_ddi])\n",
    "    print(np.shape(to_add_bdm_ddi))"
   ]
  },
  {
   "cell_type": "code",
   "execution_count": null,
   "metadata": {},
   "outputs": [],
   "source": [
    "# Protein Features\n",
    "if BDM:\n",
    "    if PF:\n",
    "        prot_feat = np.hstack([prot_feat.todense(),to_add_bdm_genes_dti,to_add_bdm_ppi])\n",
    "    # Normalized Protein features\n",
    "    elif NPF:\n",
    "        prot_feat = np.hstack([norm_prot_feat.todense(),to_add_bdm_genes_dti,to_add_bdm_ppi])\n",
    "    else:\n",
    "        prot_feat = np.hstack([to_add_bdm_genes_dti,to_add_bdm_ppi])\n",
    "    # Drug features\n",
    "    if DSE:\n",
    "        drug_feat = np.asarray(np.hstack([drug_feat.todense(),\n",
    "                                          to_add_bdm_drugs_dti,to_add_bdm_ddi]))\n",
    "    else:\n",
    "        drug_feat = np.hstack([to_add_bdm_drugs_dti,to_add_bdm_ddi])\n",
    "print(np.shape(drug_feat))\n",
    "print(np.shape(prot_feat))"
   ]
  },
  {
   "cell_type": "markdown",
   "metadata": {},
   "source": [
    "## Feature matrix processing"
   ]
  },
  {
   "cell_type": "code",
   "execution_count": null,
   "metadata": {},
   "outputs": [],
   "source": [
    "def sparse_to_tuple(sparse_mx):\n",
    "    if not sp.isspmatrix_coo(sparse_mx):\n",
    "        sparse_mx = sparse_mx.tocoo()\n",
    "    coords = np.vstack((sparse_mx.row, sparse_mx.col)).transpose()\n",
    "    values = sparse_mx.data\n",
    "    shape = sparse_mx.shape\n",
    "    return coords, values, shape"
   ]
  },
  {
   "cell_type": "code",
   "execution_count": null,
   "metadata": {},
   "outputs": [],
   "source": [
    "# Drug features\n",
    "drug_nonzero_feat, drug_num_feat = 2*[drug_feat.shape[1]]\n",
    "drug_feat = sparse_to_tuple(sp.coo_matrix(drug_feat))"
   ]
  },
  {
   "cell_type": "code",
   "execution_count": null,
   "metadata": {},
   "outputs": [],
   "source": [
    "# Protein features\n",
    "gene_nonzero_feat, gene_num_feat = 2*[prot_feat.shape[1]]\n",
    "gene_feat = sparse_to_tuple(sp.coo_matrix(prot_feat))\n",
    "print(gene_nonzero_feat,gene_num_feat,drug_nonzero_feat,drug_num_feat)"
   ]
  },
  {
   "cell_type": "markdown",
   "metadata": {},
   "source": [
    "## Creation of Decagon dictionaries"
   ]
  },
  {
   "cell_type": "code",
   "execution_count": null,
   "metadata": {},
   "outputs": [],
   "source": [
    "adj_mats_orig = {\n",
    "    (0, 0): [ppi_adj, ppi_adj.transpose(copy=True)],\n",
    "    (0, 1): [dti_adj],\n",
    "    (1, 0): [dti_adj.transpose(copy=True)],\n",
    "    (1, 1): ddi_adj_list + [x.transpose(copy=True) for x in ddi_adj_list],\n",
    "}"
   ]
  },
  {
   "cell_type": "code",
   "execution_count": null,
   "metadata": {},
   "outputs": [],
   "source": [
    "degrees = {\n",
    "    0: [ppi_degrees, ppi_degrees],\n",
    "    1: ddi_degrees_list + ddi_degrees_list, \n",
    "}"
   ]
  },
  {
   "cell_type": "code",
   "execution_count": null,
   "metadata": {},
   "outputs": [],
   "source": [
    "edge_type2dim = {k: [adj.shape for adj in adjs] for k, adjs in adj_mats_orig.items()}"
   ]
  },
  {
   "cell_type": "code",
   "execution_count": null,
   "metadata": {},
   "outputs": [],
   "source": [
    "edge_type2decoder = {\n",
    "    (0, 0): 'bilinear',\n",
    "    (0, 1): 'bilinear',\n",
    "    (1, 0): 'bilinear',\n",
    "    (1, 1): 'dedicom',\n",
    "}"
   ]
  },
  {
   "cell_type": "code",
   "execution_count": null,
   "metadata": {},
   "outputs": [],
   "source": [
    "edge_types = {k: len(v) for k, v in adj_mats_orig.items()}"
   ]
  },
  {
   "cell_type": "code",
   "execution_count": null,
   "metadata": {
    "scrolled": true
   },
   "outputs": [],
   "source": [
    "num_edge_types = sum(list(edge_types.values()))\n",
    "print(\"Edge types:\", \"%d\" % num_edge_types)"
   ]
  },
  {
   "cell_type": "code",
   "execution_count": null,
   "metadata": {},
   "outputs": [],
   "source": [
    "num_feat = {\n",
    "    0: gene_num_feat,\n",
    "    1: drug_num_feat,\n",
    "}"
   ]
  },
  {
   "cell_type": "code",
   "execution_count": null,
   "metadata": {},
   "outputs": [],
   "source": [
    "nonzero_feat = {\n",
    "    0: gene_nonzero_feat,\n",
    "    1: drug_nonzero_feat,\n",
    "}"
   ]
  },
  {
   "cell_type": "code",
   "execution_count": null,
   "metadata": {},
   "outputs": [],
   "source": [
    "feat = {\n",
    "    0: gene_feat,\n",
    "    1: drug_feat,\n",
    "}"
   ]
  },
  {
   "cell_type": "code",
   "execution_count": null,
   "metadata": {},
   "outputs": [],
   "source": [
    "adj_mats_orig = {\n",
    "    (0, 0): [ppi_adj, ppi_adj.transpose(copy=True)],\n",
    "    (0, 1): [dti_adj],\n",
    "    (1, 0): [dti_adj.transpose(copy=True)],\n",
    "    (1, 1): ddi_adj_list + [x.transpose(copy=True) for x in ddi_adj_list],\n",
    "}\n",
    "\n",
    "degrees = {\n",
    "    0: [ppi_degrees, ppi_degrees],\n",
    "    1: ddi_degrees_list + ddi_degrees_list, \n",
    "}\n",
    "\n",
    "edge_type2dim = {k: [adj.shape for adj in adjs] for k, adjs in adj_mats_orig.items()}\n",
    "\n",
    "edge_type2decoder = {\n",
    "    (0, 0): 'bilinear',\n",
    "    (0, 1): 'bilinear',\n",
    "    (1, 0): 'bilinear',\n",
    "    (1, 1): 'dedicom',\n",
    "}\n",
    "\n",
    "edge_types = {k: len(v) for k, v in adj_mats_orig.items()}\n",
    "\n",
    "num_edge_types = sum(list(edge_types.values()))\n",
    "print(\"Edge types:\", \"%d\" % num_edge_types)\n",
    "\n",
    "num_feat = {\n",
    "    0: gene_num_feat,\n",
    "    1: drug_num_feat,\n",
    "}\n",
    "\n",
    "nonzero_feat = {\n",
    "    0: gene_nonzero_feat,\n",
    "    1: drug_nonzero_feat,\n",
    "}\n",
    "\n",
    "feat = {\n",
    "    0: gene_feat,\n",
    "    1: drug_feat,\n",
    "}"
   ]
  },
  {
   "cell_type": "markdown",
   "metadata": {},
   "source": [
    "## Saving"
   ]
  },
  {
   "cell_type": "code",
   "execution_count": 8,
   "metadata": {},
   "outputs": [],
   "source": [
    "real = not toy\n",
    "data_str = toy*'_toy' + real*'_real'\n",
    "PF_str = PF*'_PF_5'+NPF*'_NPF_3'"
   ]
  },
  {
   "cell_type": "code",
   "execution_count": 9,
   "metadata": {},
   "outputs": [],
   "source": [
    "filename_out = './data_structures/DECAGON' + data_str + DSE*('_DSE_'+str(n_se_mono)) + PF_str\\\n",
    "+ BDM*'_BDM' + '_genes_' + str(n_genes) + '_drugs_' + str(n_drugs) + '_se_' + str(n_se_combo)"
   ]
  },
  {
   "cell_type": "code",
   "execution_count": null,
   "metadata": {},
   "outputs": [],
   "source": [
    "data_structures = {}\n",
    "# Graph data structures\n",
    "data_structures['adj_mats_orig'] = adj_mats_orig\n",
    "data_structures['degrees'] = degrees\n",
    "data_structures['edge_type2dim'] = edge_type2dim\n",
    "data_structures['edge_type2decoder'] = edge_type2decoder\n",
    "data_structures['edge_types'] = edge_types\n",
    "data_structures['num_edge_types'] = num_edge_types\n",
    "# Feature data structures\n",
    "data_structures['num_feat'] = num_feat\n",
    "data_structures['nonzero_feat'] = nonzero_feat\n",
    "data_structures['feat'] = feat\n",
    "# Dictionaries\n",
    "data_structures['gene2idx'] = gene2idx\n",
    "data_structures['drug2idx'] = drug2idx\n",
    "data_structures['se_mono_name2idx'] = se_mono_name2idx\n",
    "data_structures['se_combo_name2idx'] = se_combo_name2idx"
   ]
  },
  {
   "cell_type": "code",
   "execution_count": 10,
   "metadata": {},
   "outputs": [
    {
     "name": "stdout",
     "output_type": "stream",
     "text": [
      "./data_structures/DECAGON_real_DSE_7374_PF_5_BDM_genes_80085_drugs_5350_se_69\n",
      "toy False\n",
      "DSE True\n",
      "prot_status PF\n",
      "PF True\n",
      "NPF False\n",
      "red False\n"
     ]
    }
   ],
   "source": [
    "print(filename_out)\n",
    "# Control Printing\n",
    "print('toy',toy)\n",
    "print('DSE',DSE)\n",
    "print('prot_status',prot_status)\n",
    "print('PF',PF)\n",
    "print('NPF',NPF)\n",
    "print('red',red)"
   ]
  },
  {
   "cell_type": "code",
   "execution_count": null,
   "metadata": {},
   "outputs": [],
   "source": [
    "with open(filename_out, 'wb') as f:\n",
    "    pickle.dump(data_structures, f, protocol=2)"
   ]
  },
  {
   "cell_type": "code",
   "execution_count": null,
   "metadata": {},
   "outputs": [],
   "source": []
  }
 ],
 "metadata": {
  "kernelspec": {
   "display_name": "Python 3",
   "language": "python",
   "name": "python3"
  },
  "language_info": {
   "codemirror_mode": {
    "name": "ipython",
    "version": 3
   },
   "file_extension": ".py",
   "mimetype": "text/x-python",
   "name": "python",
   "nbconvert_exporter": "python",
   "pygments_lexer": "ipython3",
   "version": "3.7.4"
  }
 },
 "nbformat": 4,
 "nbformat_minor": 2
}
