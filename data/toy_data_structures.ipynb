{
 "cells": [
  {
   "cell_type": "markdown",
   "metadata": {},
   "source": [
    "# Python 3"
   ]
  },
  {
   "cell_type": "code",
   "execution_count": 1,
   "metadata": {},
   "outputs": [],
   "source": [
    "import numpy as np\n",
    "import networkx as nx\n",
    "import scipy.sparse as sp\n",
    "import pickle\n",
    "import time\n",
    "from itertools import combinations, chain\n",
    "from joblib import Parallel, delayed\n",
    "import datetime as dt"
   ]
  },
  {
   "cell_type": "code",
   "execution_count": 13,
   "metadata": {},
   "outputs": [],
   "source": [
    "# Parameters\n",
    "n_genes = 16269\n",
    "g1,g2 = 561,29\n",
    "n_drugs = 630\n",
    "n_se_combo = 6\n",
    "n_se_mono = 9688\n",
    "n_pf = 5"
   ]
  },
  {
   "cell_type": "code",
   "execution_count": 16,
   "metadata": {},
   "outputs": [
    {
     "name": "stdout",
     "output_type": "stream",
     "text": [
      "PPI adjacency matrix created in  0:00:40.433140\n",
      "The PPI adj matrix is filled in a 5.02 %\n"
     ]
    }
   ],
   "source": [
    "# Creates random network as graph\n",
    "start = time.time()\n",
    "assert g1*g2==n_genes\n",
    "gene_net = nx.planted_partition_graph(g1, g2, 0.15, 0.05, seed=42)\n",
    "ppi_adj = nx.adjacency_matrix(gene_net)\n",
    "print('PPI adjacency matrix created in ',dt.timedelta(seconds=time.time()-start))\n",
    "ppi_degrees = np.array(ppi_adj.sum(axis=0)).squeeze()\n",
    "print('The PPI adj matrix is filled in a',round(np.sum(ppi_adj)/pow(n_genes,2)*100,2),'%')"
   ]
  },
  {
   "cell_type": "code",
   "execution_count": 17,
   "metadata": {},
   "outputs": [
    {
     "name": "stdout",
     "output_type": "stream",
     "text": [
      "DTI adjacency matrix created in  0:00:00.451586\n"
     ]
    }
   ],
   "source": [
    "# Creates random adjacency matrix for genes and drugs\n",
    "start = time.time()\n",
    "dti_adj = sp.csr_matrix((10 * np.random.randn(n_genes, n_drugs) > 15).astype(int))\n",
    "print('DTI adjacency matrix created in ',dt.timedelta(seconds=time.time()-start))"
   ]
  },
  {
   "cell_type": "code",
   "execution_count": 18,
   "metadata": {},
   "outputs": [
    {
     "name": "stdout",
     "output_type": "stream",
     "text": [
      "DDI adjacency matrices created in  0:00:06.483239\n"
     ]
    }
   ],
   "source": [
    "# DDI adjacency matrices\n",
    "start = time.time()\n",
    "tmp = np.dot(dti_adj.T, dti_adj)\n",
    "def se_adj_matrix(i):\n",
    "    mat = np.zeros([n_drugs,n_drugs],dtype=int)\n",
    "    for d1, d2 in combinations(list(range(n_drugs)), 2):\n",
    "        if tmp[d1, d2] == i + 5:\n",
    "            mat[d1, d2] = mat[d2, d1] = 1\n",
    "    return sp.csr_matrix(mat) \n",
    "ddi_adj_list = Parallel(n_jobs=8)\\\n",
    "    (delayed(se_adj_matrix)(d) for d in range(n_se_combo))        \n",
    "ddi_degrees_list = [np.array(drug_adj.sum(axis=0)).squeeze() for drug_adj in ddi_adj_list]\n",
    "print('DDI adjacency matrices created in ',dt.timedelta(seconds=time.time()-start))"
   ]
  },
  {
   "cell_type": "markdown",
   "metadata": {},
   "source": [
    "# Saving"
   ]
  },
  {
   "cell_type": "code",
   "execution_count": 19,
   "metadata": {},
   "outputs": [],
   "source": [
    "filename = './data_structures/DS_toy_DSE_' + str(n_se_mono) + '_PF_'+str(n_pf) +\\\n",
    "'_genes_'+str(n_genes) + '_drugs_' + str(n_drugs) + '_se_' + str(n_se_combo)\n",
    "data = {}\n",
    "# Dictionaries & numbers\n",
    "data['n_genes'] = n_genes\n",
    "data['n_drugs'] = n_drugs\n",
    "data['n_se_combo'] = n_se_combo\n",
    "data['n_se_mono'] = n_se_mono\n",
    "# DDI\n",
    "data['ddi_adj_list'] = ddi_adj_list\n",
    "data['ddi_degrees_list'] = ddi_degrees_list\n",
    "# DTI\n",
    "data['dti_adj'] = dti_adj\n",
    "# PPI\n",
    "data['ppi_adj'] = ppi_adj\n",
    "data['ppi_degrees'] = ppi_degrees\n",
    "# DSE\n",
    "data['drug_feat'] = sp.csr_matrix((10 * np.random.randn(n_drugs, n_se_mono) > 15).astype(int))\n",
    "# PF\n",
    "data['prot_feat'] = sp.csr_matrix((10 * np.random.randn(n_genes, n_pf) > 15).astype(int))"
   ]
  },
  {
   "cell_type": "code",
   "execution_count": 20,
   "metadata": {},
   "outputs": [
    {
     "name": "stdout",
     "output_type": "stream",
     "text": [
      "./data_structures/DS_toy_DSE_9688_PF_5_genes_16269_drugs_630_se_6\n"
     ]
    }
   ],
   "source": [
    "print(filename)"
   ]
  },
  {
   "cell_type": "code",
   "execution_count": 21,
   "metadata": {},
   "outputs": [],
   "source": [
    "with open(filename, 'wb') as f:\n",
    "    pickle.dump(data, f, protocol=2)"
   ]
  },
  {
   "cell_type": "code",
   "execution_count": null,
   "metadata": {},
   "outputs": [],
   "source": []
  }
 ],
 "metadata": {
  "kernelspec": {
   "display_name": "Python 3",
   "language": "python",
   "name": "python3"
  },
  "language_info": {
   "codemirror_mode": {
    "name": "ipython",
    "version": 3
   },
   "file_extension": ".py",
   "mimetype": "text/x-python",
   "name": "python",
   "nbconvert_exporter": "python",
   "pygments_lexer": "ipython3",
   "version": "3.7.4"
  }
 },
 "nbformat": 4,
 "nbformat_minor": 2
}
