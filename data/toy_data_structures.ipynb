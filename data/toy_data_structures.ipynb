{
 "cells": [
  {
   "cell_type": "markdown",
   "metadata": {},
   "source": [
    "# Toy Data Structures\n",
    "This notebook generates a random dataset with the structure of the real data used to train DECAGON. The parameters number of genes, number of drugs, number of joint side effects, number of single side effects and number of protein features have to be set manually. The code generates the adjacency matrices of similar density to the ones generated with real data, and enumeration dictionaries. Finally, it exports them in a `pickle` readable format.\n",
    "\n",
    "Author: Juan Sebastian Diaz Boada, June 2020"
   ]
  },
  {
   "cell_type": "markdown",
   "metadata": {},
   "source": [
    "## Python 3"
   ]
  },
  {
   "cell_type": "code",
   "execution_count": 1,
   "metadata": {},
   "outputs": [],
   "source": [
    "import numpy as np\n",
    "import scipy.sparse as sp\n",
    "import pickle\n",
    "import time\n",
    "from joblib import Parallel, delayed\n",
    "import datetime as dt"
   ]
  },
  {
   "cell_type": "code",
   "execution_count": 21,
   "metadata": {},
   "outputs": [],
   "source": [
    "# Parameters\n",
    "n_genes = 16269\n",
    "n_drugs = 630\n",
    "n_se_combo = 6\n",
    "n_se_mono = 9688\n",
    "n_pf = 5"
   ]
  },
  {
   "cell_type": "code",
   "execution_count": 22,
   "metadata": {},
   "outputs": [
    {
     "name": "stdout",
     "output_type": "stream",
     "text": [
      "PPI adjacency matrix created in  0:00:12.449241\n"
     ]
    }
   ],
   "source": [
    "# Creates random adjacency matrix for PPI network\n",
    "start = time.time()\n",
    "b = 10 * np.random.randn(n_genes, n_genes)\n",
    "ppi_adj = sp.csr_matrix(((b + b.T)/2 > 20).astype(int))\n",
    "print('PPI adjacency matrix created in ',dt.timedelta(seconds=time.time()-start))\n",
    "ppi_degrees = np.array(ppi_adj.sum(axis=0)).squeeze()"
   ]
  },
  {
   "cell_type": "code",
   "execution_count": 23,
   "metadata": {},
   "outputs": [
    {
     "name": "stdout",
     "output_type": "stream",
     "text": [
      "DTI adjacency matrix created in  0:00:00.433291\n"
     ]
    }
   ],
   "source": [
    "# Creates random adjacency matrix for genes and drugs\n",
    "start = time.time()\n",
    "dti_adj = sp.csr_matrix((10 * np.random.randn(n_genes, n_drugs) > 29).astype(int))\n",
    "print('DTI adjacency matrix created in ',dt.timedelta(seconds=time.time()-start))"
   ]
  },
  {
   "cell_type": "code",
   "execution_count": 24,
   "metadata": {},
   "outputs": [
    {
     "name": "stdout",
     "output_type": "stream",
     "text": [
      "DDI adjacency matrices created in  0:00:00.051357\n"
     ]
    }
   ],
   "source": [
    "# DDI adjacency matrices\n",
    "start = time.time()\n",
    "t = n_se_combo\n",
    "#thresh = 28-np.geomspace(20,8,t)\n",
    "thresh = np.geomspace(8,20,t)\n",
    "def se_adj_matrix(i):\n",
    "    b = 10 * np.random.randn(n_drugs, n_drugs)\n",
    "    mat = sp.csr_matrix(((b + b.T)/2 > i).astype(int))\n",
    "    return mat\n",
    "ddi_adj_list = Parallel(n_jobs=8)\\\n",
    "    (delayed(se_adj_matrix)(d) for d in thresh[:n_se_combo])\n",
    "ddi_degrees_list = [np.array(drug_adj.sum(axis=0)).squeeze() for drug_adj in ddi_adj_list]\n",
    "print('DDI adjacency matrices created in ',dt.timedelta(seconds=time.time()-start))"
   ]
  },
  {
   "cell_type": "code",
   "execution_count": 25,
   "metadata": {},
   "outputs": [],
   "source": [
    "drug_feat = sp.csr_matrix((10 * np.random.randn(n_drugs, n_se_mono) > 19).astype(int))\n",
    "prot_feat = sp.csr_matrix((10 * np.random.randn(n_genes, n_pf) > 0.5).astype(int))"
   ]
  },
  {
   "cell_type": "markdown",
   "metadata": {},
   "source": [
    "## Print"
   ]
  },
  {
   "cell_type": "code",
   "execution_count": 26,
   "metadata": {},
   "outputs": [
    {
     "name": "stdout",
     "output_type": "stream",
     "text": [
      "Interactions (edges)\n",
      "Number of PPI interactions: 619156\n",
      "The PPI adj matrix is filled in a 0.23 %\n",
      "Number of DTI interactions: 19033\n",
      "The DTI adj matrix is filled in a 0.19 %\n",
      "Number of DDI interactions: 120470\n",
      "The DDI adj matrix is filled in average in a 5.06 %\n",
      "Number of DSE interactions: 175517\n",
      "The DSE adj matrix is filled in a 2.88 %\n",
      "The PF adj matrix is filled in a 47.85 %\n",
      "\n",
      "\n",
      "Drugs and genes (nodes)\n",
      "Number of genes: 16269\n",
      "Number of drugs: 630\n",
      "\n",
      "\n",
      "Side effects\n",
      "Number of joint side effects: 6\n",
      "Number of single side effects: 9688\n",
      "\n",
      "\n",
      "Number of protein features: 5\n"
     ]
    }
   ],
   "source": [
    "# Interactions (edges)\n",
    "print('Interactions (edges)')\n",
    "print('Number of PPI interactions:', np.sum(ppi_adj))\n",
    "print('The PPI adj matrix is filled in a',round(np.sum(ppi_adj)/pow(n_genes,2)*100,2),'%')\n",
    "\n",
    "print('Number of DTI interactions:', np.sum(dti_adj))\n",
    "print('The DTI adj matrix is filled in a',round(np.sum(dti_adj)/\n",
    "                                                (n_genes*n_drugs)*100,2),'%')\n",
    "print('Number of DDI interactions:', np.sum(np.fromiter((np.sum(x) for x in ddi_adj_list),int)))\n",
    "print('The DDI adj matrix is filled in average in a',\n",
    "      round(np.mean(np.fromiter\n",
    "                    ((np.sum(x)/(n_drugs*n_drugs)*100 for x in ddi_adj_list),float)),2),'%')\n",
    "print('Number of DSE interactions:', np.sum(drug_feat))\n",
    "print('The DSE adj matrix is filled in a',round(np.sum(drug_feat)/(n_drugs*n_se_mono)*100,2),'%')\n",
    "print('The PF adj matrix is filled in a',round(np.sum(prot_feat)/(n_genes*n_pf)*100,2),'%')\n",
    "print('\\n')\n",
    "# Drugs and genes (nodes)\n",
    "print('Drugs and genes (nodes)')\n",
    "print('Number of genes:', n_genes)\n",
    "print('Number of drugs:', n_drugs)\n",
    "print('\\n')\n",
    "# Side effects\n",
    "print('Side effects')\n",
    "print('Number of joint side effects:', n_se_combo)\n",
    "print('Number of single side effects:', n_se_mono)\n",
    "print('\\n')\n",
    "# Protein side effects\n",
    "print('Number of protein features:',n_pf)"
   ]
  },
  {
   "cell_type": "markdown",
   "metadata": {},
   "source": [
    "# Saving"
   ]
  },
  {
   "cell_type": "code",
   "execution_count": 27,
   "metadata": {},
   "outputs": [],
   "source": [
    "data = {}\n",
    "# Dictionaries\n",
    "data['gene2idx'] = {i:i for i in range(n_genes)}\n",
    "data['drug2idx'] = {i:i for i in range(n_drugs)}\n",
    "data['se_mono_name2idx'] = {i:i for i in range(n_se_mono)}\n",
    "data['se_combo_name2idx'] = {i:i for i in range(n_se_combo)}\n",
    "# DDI\n",
    "data['ddi_adj_list'] = ddi_adj_list\n",
    "data['ddi_degrees_list'] = ddi_degrees_list\n",
    "# DTI\n",
    "data['dti_adj'] = dti_adj\n",
    "# PPI\n",
    "data['ppi_adj'] = ppi_adj\n",
    "data['ppi_degrees'] = ppi_degrees\n",
    "# DSE\n",
    "data['drug_feat'] = sp.csr_matrix((10 * np.random.randn(n_drugs, n_se_mono) > 15).astype(int))\n",
    "# PF\n",
    "data['prot_feat'] = sp.csr_matrix((10 * np.random.randn(n_genes, n_pf) > 15).astype(int))"
   ]
  },
  {
   "cell_type": "code",
   "execution_count": 29,
   "metadata": {},
   "outputs": [],
   "source": [
    "filename = './data_structures/DS/DS_toy_DSE_' + str(n_se_mono) + '_PF_'+str(n_pf) +\\\n",
    "'_genes_'+str(n_genes) + '_drugs_' + str(n_drugs) + '_se_' + str(n_se_combo)\n",
    "with open(filename, 'wb') as f:\n",
    "    pickle.dump(data, f, protocol=3)"
   ]
  },
  {
   "cell_type": "code",
   "execution_count": null,
   "metadata": {},
   "outputs": [],
   "source": []
  }
 ],
 "metadata": {
  "kernelspec": {
   "display_name": "Python 3",
   "language": "python",
   "name": "python3"
  },
  "language_info": {
   "codemirror_mode": {
    "name": "ipython",
    "version": 3
   },
   "file_extension": ".py",
   "mimetype": "text/x-python",
   "name": "python",
   "nbconvert_exporter": "python",
   "pygments_lexer": "ipython3",
   "version": "3.7.4"
  }
 },
 "nbformat": 4,
 "nbformat_minor": 2
}
