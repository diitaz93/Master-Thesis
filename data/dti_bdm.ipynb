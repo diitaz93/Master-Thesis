{
 "cells": [
  {
   "cell_type": "markdown",
   "metadata": {},
   "source": [
    "# DTI BDM\n",
    "This notebook calculates the algoritmic complexity of the gene-drug network of the DECAGON dataset. The dataset is given as a bipartite adjacency matrix of size $N_{genes}\\times N_{drugs}$. The code uses the package pybdm to calculate the complexity contribution of each node and its corresponding edges in both axis of the matrix separately. The calculated feature vectors are exported along with relevant data as a `pickle` readable format file."
   ]
  },
  {
   "cell_type": "markdown",
   "metadata": {},
   "source": [
    "## Python 3"
   ]
  },
  {
   "cell_type": "code",
   "execution_count": 1,
   "metadata": {},
   "outputs": [],
   "source": [
    "import numpy as np\n",
    "import time\n",
    "import os\n",
    "import psutil\n",
    "import pickle\n",
    "import datetime as dt\n",
    "from pybdm import BDM\n",
    "from pybdm.partitions import PartitionRecursive\n",
    "from algorithms import PerturbationExperiment, NodePerturbationExperiment\n",
    "from getpass import getuser"
   ]
  },
  {
   "cell_type": "code",
   "execution_count": 2,
   "metadata": {},
   "outputs": [
    {
     "name": "stdout",
     "output_type": "stream",
     "text": [
      "Input data loaded\n"
     ]
    }
   ],
   "source": [
    "# Settings and loading of adj matrix\n",
    "input_file = './data_structures/DS/DS_toy_genes500_drugs400_se3'\n",
    "start = time.time() \n",
    "pid = os.getpid()\n",
    "ps= psutil.Process(pid)\n",
    "with open(input_file, 'rb') as f:\n",
    "    dti_adj = pickle.load(f)['dti_adj']\n",
    "print('Input data loaded')\n",
    "jobs = 8\n",
    "usrnm = getuser()\n",
    "bdm = BDM(ndim=2, partition=PartitionRecursive)"
   ]
  },
  {
   "cell_type": "code",
   "execution_count": 3,
   "metadata": {},
   "outputs": [
    {
     "name": "stdout",
     "output_type": "stream",
     "text": [
      "Initial BDM calculated for nodes\n",
      "BDM for DTI calculated\n",
      "0:03:30.641618\n"
     ]
    }
   ],
   "source": [
    "# Node perturbation\n",
    "start1 = time.time()\n",
    "dti_nodeper = NodePerturbationExperiment(bdm,metric='bdm',bipartite_network=True, \n",
    "                                         parallel=True,jobs=jobs)\n",
    "dti_nodeper.set_data(np.array(dti_adj.todense()))\n",
    "print(\"Initial BDM calculated for nodes\")\n",
    "nodebdm_genes_dti,nodebdm_drugs_dti = dti_nodeper.run()\n",
    "print('BDM for DTI calculated')\n",
    "print(dt.timedelta(seconds=time.time()-start1))"
   ]
  },
  {
   "cell_type": "code",
   "execution_count": 4,
   "metadata": {},
   "outputs": [
    {
     "name": "stdout",
     "output_type": "stream",
     "text": [
      "Initial BDM calculated for edges\n",
      "Edge BDM for DTI calculated\n",
      "0:00:15.163457\n"
     ]
    }
   ],
   "source": [
    "# Edge perturbation\n",
    "start1 = time.time()\n",
    "dti_edgeper = PerturbationExperiment(bdm, bipartite_network=True)\n",
    "dti_edgeper.set_data(np.array(dti_adj.todense()))\n",
    "print(\"Initial BDM calculated for edges\")\n",
    "add_edgebdm_genes_dti, add_edgebdm_drugs_dti = dti_edgeper.run_adding_edges()\n",
    "rem_edgebdm_genes_dti, rem_edgebdm_drugs_dti = dti_edgeper.run_removing_edges()\n",
    "print('Edge BDM for DTI calculated')\n",
    "print(dt.timedelta(seconds=time.time()-start1))"
   ]
  },
  {
   "cell_type": "code",
   "execution_count": 5,
   "metadata": {},
   "outputs": [],
   "source": [
    "# EXPORTING\n",
    "genes,drugs = dti_adj.shape\n",
    "memUse = ps.memory_info()\n",
    "total_time = time.time()-start\n",
    "output_data = {}\n",
    "output_data['nodebdm_drugs_dti'] = nodebdm_drugs_dti\n",
    "output_data['nodebdm_genes_dti'] = nodebdm_genes_dti\n",
    "output_data['add_edgebdm_drugs_dti'] = add_edgebdm_drugs_dti\n",
    "output_data['add_edgebdm_genes_dti'] = add_edgebdm_genes_dti\n",
    "output_data['rem_edgebdm_drugs_dti'] = rem_edgebdm_drugs_dti\n",
    "output_data['rem_edgebdm_genes_dti'] = rem_edgebdm_genes_dti\n",
    "output_data['vms_dti'] = memUse.vms\n",
    "output_data['rss_dti'] = memUse.rss\n",
    "output_data['time_dti'] = total_time\n",
    "output_data['jobs_dti'] = jobs"
   ]
  },
  {
   "cell_type": "code",
   "execution_count": 6,
   "metadata": {},
   "outputs": [
    {
     "name": "stdout",
     "output_type": "stream",
     "text": [
      "['./data', 'structures/DS/DS', 'toy', 'genes500', 'drugs400', 'se3']\n"
     ]
    }
   ],
   "source": [
    "path = os.getcwd()\n",
    "words = input_file.split('_')\n",
    "print(words)"
   ]
  },
  {
   "cell_type": "code",
   "execution_count": 7,
   "metadata": {},
   "outputs": [
    {
     "name": "stdout",
     "output_type": "stream",
     "text": [
      "Output data exported\n"
     ]
    }
   ],
   "source": [
    "output_file = path + '/data_structures/BDM/DTI_BDM_' + words[2] + 'genes' + str(genes) +\\\n",
    "             '_drugs' + str(drugs) + '_' + usrnm + str(jobs)\n",
    "with open(output_file, 'wb') as f:\n",
    "    pickle.dump(output_data, f, protocol=3)\n",
    "print('Output data exported')"
   ]
  },
  {
   "cell_type": "code",
   "execution_count": null,
   "metadata": {},
   "outputs": [],
   "source": []
  },
  {
   "cell_type": "code",
   "execution_count": null,
   "metadata": {},
   "outputs": [],
   "source": []
  }
 ],
 "metadata": {
  "kernelspec": {
   "display_name": "Python 3",
   "language": "python",
   "name": "python3"
  },
  "language_info": {
   "codemirror_mode": {
    "name": "ipython",
    "version": 3
   },
   "file_extension": ".py",
   "mimetype": "text/x-python",
   "name": "python",
   "nbconvert_exporter": "python",
   "pygments_lexer": "ipython3",
   "version": "3.7.4"
  }
 },
 "nbformat": 4,
 "nbformat_minor": 2
}
