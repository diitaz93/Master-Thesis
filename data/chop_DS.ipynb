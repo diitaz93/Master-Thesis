{
 "cells": [
  {
   "cell_type": "markdown",
   "metadata": {},
   "source": [
    "# Chop network with BDM\n",
    "Takes the data structures of a network and calculates BDM of the PPI matrix. Discards a given fraction of the edges and updates the DS file with the new ppi matrix.<br>\n",
    "**Assumptions:**<br>\n",
    "+ The PPI adjacency matrix is always symmetric and there are no elements in their diagonal (no loops or self-edges)\n",
    "+ The algorithmic complexity matrix is symmetric"
   ]
  },
  {
   "cell_type": "code",
   "execution_count": 1,
   "metadata": {},
   "outputs": [],
   "source": [
    "import numpy as np\n",
    "import scipy.sparse as sp\n",
    "import pickle\n",
    "from pybdm import BDM\n",
    "from pybdm.utils import decompose_dataset\n",
    "from pybdm.partitions import PartitionIgnore\n",
    "from pybdm.partitions import PartitionRecursive\n",
    "from algorithms import PerturbationExperiment, NodePerturbationExperiment"
   ]
  },
  {
   "cell_type": "code",
   "execution_count": 2,
   "metadata": {},
   "outputs": [],
   "source": [
    "in_file = 'data_structures/DS/DS_toy_DSE_600_genes_500_drugs_400_se_4'\n",
    "words = in_file.split('_')\n",
    "sim_type = words[2]\n",
    "# Fraction of edges to be discarded\n",
    "cut_frac = 0.25"
   ]
  },
  {
   "cell_type": "code",
   "execution_count": 3,
   "metadata": {},
   "outputs": [],
   "source": [
    "#Define function for sparse matrices of DECAGON (only for option 2)\n",
    "# Call it from another file better??\n",
    "def sparse_to_tuple(sparse_mx):\n",
    "    if not sp.isspmatrix_coo(sparse_mx):\n",
    "        sparse_mx = sparse_mx.tocoo()\n",
    "    coords = np.vstack((sparse_mx.row, sparse_mx.col)).transpose()\n",
    "    values = sparse_mx.data\n",
    "    shape = sparse_mx.shape\n",
    "    return coords, values, shape"
   ]
  },
  {
   "cell_type": "code",
   "execution_count": 41,
   "metadata": {
    "scrolled": true
   },
   "outputs": [
    {
     "name": "stdout",
     "output_type": "stream",
     "text": [
      "gene2idx Imported successfully\n",
      "drug2idx Imported successfully\n",
      "se_mono_name2idx Imported successfully\n",
      "se_combo_name2idx Imported successfully\n",
      "ddi_adj_list Imported successfully\n",
      "ddi_degrees_list Imported successfully\n",
      "dti_adj Imported successfully\n",
      "ppi_adj Imported successfully\n",
      "ppi_degrees Imported successfully\n",
      "drug_feat Imported successfully\n",
      "prot_feat Imported successfully\n"
     ]
    }
   ],
   "source": [
    "# Import original Data structures\n",
    "with open(in_file,'rb') as f:\n",
    "    DS = pickle.load(f)\n",
    "    for key in DS.keys():\n",
    "        globals()[key]=DS[key]\n",
    "        print(key,\"Imported successfully\")\n",
    "old_genes = len(gene2idx)\n",
    "old_drugs = len(drug2idx)\n",
    "old_se_combo = len(se_combo_name2idx)\n",
    "old_se_mono = len(se_mono_name2idx)"
   ]
  },
  {
   "cell_type": "code",
   "execution_count": 5,
   "metadata": {},
   "outputs": [],
   "source": [
    "ppi_mat = ppi_adj.todense() # High memory requirement for big matrices"
   ]
  },
  {
   "cell_type": "code",
   "execution_count": 6,
   "metadata": {},
   "outputs": [
    {
     "name": "stdout",
     "output_type": "stream",
     "text": [
      "Is it symmetric? True\n"
     ]
    }
   ],
   "source": [
    "# Calculate algorithmic complexity\n",
    "bdm = BDM(ndim=2, partition=PartitionRecursive)\n",
    "ppi_per = PerturbationExperiment(bdm,metric='bdm',bipartite_network=False)\n",
    "ppi_per.set_data(np.array(ppi_mat))\n",
    "edge_complexity = ppi_per.run()\n",
    "# Reshape to the adj matrix shape\n",
    "complexity_mat = edge_complexity.reshape(np.shape(ppi_adj))\n",
    "print('Is it symmetric?',np.array_equal(complexity_mat,complexity_mat.T))"
   ]
  },
  {
   "cell_type": "code",
   "execution_count": null,
   "metadata": {},
   "outputs": [],
   "source": [
    "# Save the algorithmic complexity\n",
    "out_file_bdm = 'data_structures/BDM/EDGES_PPI_'+sim_type+'_genes_' + str(old_genes)\n",
    "print(out_file_bdm)\n",
    "with open(out_file_bdm,'wb') as f:\n",
    "    pickle.dump(edge_complexity, f)"
   ]
  },
  {
   "cell_type": "code",
   "execution_count": 66,
   "metadata": {},
   "outputs": [
    {
     "name": "stdout",
     "output_type": "stream",
     "text": [
      "Nonzero entries before 615\n",
      "Nonzero entries after 450\n",
      "Is it symmetric? True\n"
     ]
    }
   ],
   "source": [
    "coords,_,_ = sparse_to_tuple(ppi_adj)\n",
    "# Take the upper triangular coordinates\n",
    "upper_coords = coords[(coords[:,1]-coords[:,0]>0).nonzero()]\n",
    "# Select abs of the complexity of selected entries\n",
    "true_cmplx = np.abs(complexity_mat[upper_coords[:,0],upper_coords[:,1]]).squeeze()\n",
    "# Give an index to the edge\n",
    "pair = np.array(list(enumerate(true_cmplx)))\n",
    "# Sort from greatest to lowest complexity\n",
    "sorted_pair = pair[pair[:,1].argsort()][::-1]\n",
    "# Select sorted indices\n",
    "idx = sorted_pair[:,0].astype(int)\n",
    "# Select a threshold entry according to the cut fraction\n",
    "threshold = np.floor(len(idx)*(1-cut_frac)).astype(int)\n",
    "# Select indices above threshold\n",
    "idx = idx[:threshold]\n",
    "# Generate row and col indices of full matrix\n",
    "row_ind = np.concatenate((upper_coords[idx,0],upper_coords[idx,1]),axis=0)\n",
    "col_ind = np.concatenate((upper_coords[idx,1],upper_coords[idx,0]),axis=0)\n",
    "# Form the new adjacency matrix\n",
    "new_ppi_adj = sp.csr_matrix((np.ones(2*threshold), (row_ind, col_ind)),\\\n",
    "                            shape=np.shape(ppi_adj),dtype=int)\n",
    "print('Nonzero entries before',len(coords))\n",
    "print('Nonzero entries after',new_ppi_adj.count_nonzero())\n",
    "print('Is it symmetric?',np.array_equal(new_ppi_adj.todense(),new_ppi_adj.todense().T))"
   ]
  },
  {
   "cell_type": "markdown",
   "metadata": {},
   "source": [
    "### Remove genes and drugs that may have become disconnected"
   ]
  },
  {
   "cell_type": "code",
   "execution_count": 67,
   "metadata": {},
   "outputs": [],
   "source": [
    "new_ppi_adj = new_ppi_adj.todense()"
   ]
  },
  {
   "cell_type": "code",
   "execution_count": 68,
   "metadata": {
    "scrolled": true
   },
   "outputs": [
    {
     "name": "stdout",
     "output_type": "stream",
     "text": [
      "Number of zero rows/columns in PPI matrix:  211\n",
      "New shape PPI matrix:  (289, 289)\n",
      "[  1   3   5   6   7  11  12  13  14  15  16  17  19  20  21  22  24  25\n",
      "  26  27  28  31  32  33  36  37  38  39  41  44  46  48  50  51  52  53\n",
      "  54  58  59  60  63  64  65  66  68  70  74  75  76  77  79  80  81  82\n",
      "  83  84  85  86  87  89  91  95  96  97 101 102 104 105 107 108 109 112\n",
      " 113 116 117 118 120 122 123 124 125 126 130 131 134 136 141 143 144 146\n",
      " 147 148 149 151 152 153 154 156 157 159 163 165 166 168 169 170 171 172\n",
      " 173 177 178 181 182 183 184 185 186 187 188 190 191 192 193 197 198 199\n",
      " 201 202 205 207 210 211 215 217 220 221 222 223 225 226 227 229 231 234\n",
      " 237 239 240 243 244 246 247 248 249 251 253 254 256 258 259 262 263 264\n",
      " 268 270 271 272 274 277 278 280 285 286 287 288 289 290 291 293 296 297\n",
      " 299 301 304 306 307 309 311 313 314 315 321 322 323 326 327 328 329 332\n",
      " 335 337 341 342 344 345 346 347 349 353 354 355 357 358 360 362 364 366\n",
      " 368 369 372 373 376 377 378 381 382 384 386 387 388 389 392 394 396 397]\n",
      "Number of disconnected drugs:  234\n",
      "[]\n",
      "Number of side effects without drug:  0\n",
      "New shape of DTI matrix:  (289, 166)\n",
      "New size of DDI matrices:  (166, 166)\n"
     ]
    }
   ],
   "source": [
    "# Find rows of zeros (indices)\n",
    "new_ppi_adj = new_ppi_adj.todense()\n",
    "genes_zero = np.asarray(~new_ppi_adj.any(axis=1)).nonzero()[0]\n",
    "print('Number of zero rows/columns in PPI matrix: ',len(genes_zero))\n",
    "# If there are\n",
    "if len(genes_zero)>0:\n",
    "    #### PPI ####\n",
    "    # Delete those rows and columns\n",
    "    new_ppi_adj = np.delete(np.delete(new_ppi_adj,genes_zero,axis=1),genes_zero,axis=0)\n",
    "    print('New shape PPI matrix: ',np.shape(new_ppi_adj))\n",
    "    # Update index dictionary\n",
    "    gene_dict = {key:val for key, val in gene2idx.items() if val not in genes_zero}\n",
    "    gene2idx = {gene:i for i, gene in enumerate(gene_dict.keys())}\n",
    "    # Update degree list\n",
    "    new_ppi_degrees = np.array(new_ppi_adj.sum(axis=0).astype(int)).squeeze()\n",
    "    #### DTI ####\n",
    "    # Deletes the corresponding rows in DTI\n",
    "    new_dti_adj = dti_adj.todense()\n",
    "    new_dti_adj = np.delete(new_dti_adj,genes_zero,axis=0)\n",
    "    print('New shape of DTI matrix: ',np.shape(new_dti_adj))\n",
    "else:\n",
    "    print('No further modifications to the matrices are needed')\n",
    "new_ppi_adj = sp.csr_matrix(new_ppi_adj)\n",
    "new_dti_adj = sp.csr_matrix(new_dti_adj)"
   ]
  },
  {
   "cell_type": "code",
   "execution_count": null,
   "metadata": {},
   "outputs": [],
   "source": [
    "new_drug_feat = sp.csr_matrix(new_drug_feat)\n",
    "new_ppi_adj = sp.csr_matrix(new_ppi_adj)\n",
    "new_dti_adj = sp.csr_matrix(new_dti_adj)"
   ]
  },
  {
   "cell_type": "code",
   "execution_count": null,
   "metadata": {},
   "outputs": [],
   "source": [
    "n_genes = len(gene2idx)\n",
    "n_drugs = len(drug2idx)\n",
    "n_se_combo = len(se_combo_name2idx)\n",
    "n_se_mono = len(se_mono_name2idx)\n",
    "print('Previous number of genes: ',old_genes)\n",
    "print('New number of genes: ',n_genes)"
   ]
  },
  {
   "cell_type": "code",
   "execution_count": null,
   "metadata": {},
   "outputs": [],
   "source": [
    "# Dictionaries\n",
    "data = {}\n",
    "data['gene2idx'] = gene2idx\n",
    "data['drug2idx'] = drug2idx\n",
    "data['se_mono_name2idx'] = se_mono_name2idx\n",
    "data['se_combo_name2idx'] = se_combo_name2idx\n",
    "# DDI\n",
    "data['ddi_adj_list'] = ddi_adj_list\n",
    "data['ddi_degrees_list'] = ddi_degrees_list\n",
    "# DTI\n",
    "data['dti_adj'] = new_dti_adj\n",
    "# PPI\n",
    "data['ppi_adj'] = new_ppi_adj\n",
    "data['ppi_degrees'] = new_ppi_degrees\n",
    "# DSE\n",
    "data['drug_feat'] = drug_feat"
   ]
  },
  {
   "cell_type": "code",
   "execution_count": null,
   "metadata": {},
   "outputs": [],
   "source": [
    "# SAVING\n",
    "out_file = 'data_structures/CHOP/DS_' + sim_type + '_cutfrac_'+str(cut_frac) +\\\n",
    "        '_DSE_' + str(n_se_mono) + '_genes_' +str(n_genes) + '_drugs_' + str(n_drugs) +\\\n",
    "        '_se_' + str(n_se_combo)\n",
    "print(out_file)\n",
    "with open(out_file,'wb') as f:\n",
    "    pickle.dump(data, f)"
   ]
  },
  {
   "cell_type": "code",
   "execution_count": null,
   "metadata": {},
   "outputs": [],
   "source": []
  }
 ],
 "metadata": {
  "kernelspec": {
   "display_name": "Python 3",
   "language": "python",
   "name": "python3"
  },
  "language_info": {
   "codemirror_mode": {
    "name": "ipython",
    "version": 3
   },
   "file_extension": ".py",
   "mimetype": "text/x-python",
   "name": "python",
   "nbconvert_exporter": "python",
   "pygments_lexer": "ipython3",
   "version": "3.7.4"
  }
 },
 "nbformat": 4,
 "nbformat_minor": 4
}
