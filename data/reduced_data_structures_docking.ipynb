{
 "cells": [
  {
   "cell_type": "markdown",
   "metadata": {},
   "source": [
    "# Reduced Data Structures\n",
    "This notebook chooses a small consistent subset of the treated dataset to be run in small machines. The generated dataset is limited to a number of **drug-drug interactions** specified by the variable $N$. From this dataset, it generates the corresponding data structures like dictionaries and adjacency matrices to be fed directly to DECAGON.<br>\n",
    "This code is in part the adaptation in `pandas` of the script `drug_dataset.sh`, merged with `data_structures.ipynb`.\n",
    "\n",
    "Author: Juan Sebastian Diaz Boada, May 2020"
   ]
  },
  {
   "cell_type": "markdown",
   "metadata": {},
   "source": [
    "## Python 3"
   ]
  },
  {
   "cell_type": "code",
   "execution_count": 1,
   "metadata": {},
   "outputs": [],
   "source": [
    "import numpy as np\n",
    "import pandas as pd\n",
    "import scipy.sparse as sp\n",
    "import pickle\n",
    "from joblib import Parallel, delayed"
   ]
  },
  {
   "cell_type": "code",
   "execution_count": 2,
   "metadata": {},
   "outputs": [],
   "source": [
    "# Number of side effects \n",
    "#(Maximum is 1317, but the max chosen is 964 to be consistents with authors of decagon)\n",
    "N = 964"
   ]
  },
  {
   "cell_type": "code",
   "execution_count": 3,
   "metadata": {},
   "outputs": [],
   "source": [
    "# Here we choose specific side effects: Nausea, Diarrhea, Emesis, Increased body temp,\n",
    "# bleeding, Renal disorder, Leucopenia (in that order)\n",
    "# ignoring the previous given number \n",
    "#idx = [3,6,9,11,58,150,168]\n",
    "idx = list(range(7))"
   ]
  },
  {
   "cell_type": "markdown",
   "metadata": {},
   "source": [
    "### Import databases"
   ]
  },
  {
   "cell_type": "code",
   "execution_count": 4,
   "metadata": {},
   "outputs": [],
   "source": [
    "PPI = pd.read_csv('amir_docking_data/small-decagon-ppi.csv',sep=',')\n",
    "DF = pd.read_csv('amir_docking_data/small-decagon-docking.csv',sep=',')\n",
    "DTI = pd.read_csv('amir_docking_data/small-decagon-targets.csv',sep=',')\n",
    "DDI = pd.read_csv('amir_docking_data/small-decagon-combo.csv',sep=',')\n",
    "DSE = pd.read_csv('amir_docking_data/small-decagon-mono.csv',sep=',')\n",
    "SE = pd.read_csv('original_data/bio-decagon-effectcategories.csv',sep=',')"
   ]
  },
  {
   "cell_type": "code",
   "execution_count": 5,
   "metadata": {},
   "outputs": [],
   "source": [
    "# Number of interactions\n",
    "orig_ppi = len(PPI.index)\n",
    "orig_df = len(DF.index)\n",
    "orig_dti = len(DTI.index)\n",
    "orig_ddi = len(DDI.index)\n",
    "orig_dse = len(DSE.index)\n",
    "# Number of nodes\n",
    "orig_ddi_drugs = len(pd.unique(DDI[['STITCH 1','STITCH 2']].values.ravel()))\n",
    "orig_ppi_genes = len(pd.unique(PPI[['Gene 1','Gene 2']].values.ravel()))\n",
    "orig_dti_drugs = len(pd.unique(DTI['STITCH']))\n",
    "orig_dti_genes = len(pd.unique(DTI['Gene']))\n",
    "orig_dse_drugs = len(pd.unique(DSE['STITCH'].values))\n",
    "orig_df_genes = len(pd.unique(DF['Gene'].values))\n",
    "orig_df_drugs = len(pd.unique(DF['Drug'].values))\n",
    "# Side effects\n",
    "orig_se_mono = len(pd.unique(DSE['Side Effect Name']))\n",
    "orig_se_combo = len(pd.unique(DDI['Polypharmacy Side Effect'].values))"
   ]
  },
  {
   "cell_type": "markdown",
   "metadata": {},
   "source": [
    "### Choose Side effects"
   ]
  },
  {
   "cell_type": "code",
   "execution_count": 6,
   "metadata": {},
   "outputs": [],
   "source": [
    "# Sort DDI to be consistent with the authors\n",
    "DDI['freq'] = DDI.groupby('Polypharmacy Side Effect')['Polypharmacy Side Effect']\\\n",
    "            .transform('count')\n",
    "DDI = DDI.sort_values(by=['freq'], ascending=False).drop(columns=['freq'])\n",
    "se = pd.unique(DDI['Polypharmacy Side Effect'].values)\n",
    "se_name = pd.unique(DDI['Side Effect Name'].values)"
   ]
  },
  {
   "cell_type": "code",
   "execution_count": 7,
   "metadata": {},
   "outputs": [
    {
     "name": "stdout",
     "output_type": "stream",
     "text": [
      "7\n"
     ]
    }
   ],
   "source": [
    "if 'idx' in locals():\n",
    "    se = se[idx]\n",
    "    N = len(se);\n",
    "    print(N)\n",
    "else:\n",
    "    se = se[:N]\n",
    "    print(len(se))"
   ]
  },
  {
   "cell_type": "markdown",
   "metadata": {},
   "source": [
    "### Select DDIs"
   ]
  },
  {
   "cell_type": "code",
   "execution_count": 8,
   "metadata": {
    "scrolled": true
   },
   "outputs": [],
   "source": [
    "DDI = DDI[DDI['Polypharmacy Side Effect'].isin(se)].reset_index(drop=True)\n",
    "DDI_drugs = pd.unique(DDI[['STITCH 1','STITCH 2']].values.ravel()) # Unique drugs \n",
    "drug2idx = {drug: i for i, drug in enumerate(DDI_drugs)}\n",
    "se_names = pd.unique(DDI['Side Effect Name']) # Unique joint side effects\n",
    "se_combo_name2idx = {se: i for i, se in enumerate(se_names)}\n",
    "n_drugs = len(DDI_drugs)"
   ]
  },
  {
   "cell_type": "markdown",
   "metadata": {},
   "source": [
    "### Select Drug side effects"
   ]
  },
  {
   "cell_type": "code",
   "execution_count": 9,
   "metadata": {},
   "outputs": [],
   "source": [
    "DSE = DSE[DSE['STITCH'].isin(DDI_drugs)].reset_index(drop=True)\n",
    "dse_drugs = len(pd.unique(DSE['STITCH'].values))\n",
    "se_mono_names = pd.unique(DSE['Side Effect Name'].values) # Unique individual side effects\n",
    "se_mono_name2idx = {name: i for i, name in enumerate(se_mono_names)}\n",
    "n_semono = len(se_mono_names)"
   ]
  },
  {
   "cell_type": "markdown",
   "metadata": {},
   "source": [
    "### Select DTIs"
   ]
  },
  {
   "cell_type": "code",
   "execution_count": 10,
   "metadata": {},
   "outputs": [],
   "source": [
    "DTI = DTI[DTI['STITCH'].isin(DDI_drugs)].reset_index(drop=True)\n",
    "DTI_genes = pd.unique(DTI['Gene']) # Unique genes in DTI\n",
    "DTI_drugs = pd.unique(DTI['STITCH']) # Unique drugs in DTI\n",
    "dti_drugs = len(DTI_drugs)\n",
    "dti_genes = len(DTI_genes)"
   ]
  },
  {
   "cell_type": "markdown",
   "metadata": {},
   "source": [
    "### Select Docking features"
   ]
  },
  {
   "cell_type": "code",
   "execution_count": 11,
   "metadata": {},
   "outputs": [],
   "source": [
    "DF = DF[np.logical_and(DF['Gene'].isin(DTI_genes),DF['Drug'].isin(DTI_drugs))]\\\n",
    "    .reset_index(drop=True)\n",
    "df_genes = len(pd.unique(DF['Gene'].values))\n",
    "df_drugs = len(pd.unique(DF['Drug'].values))"
   ]
  },
  {
   "cell_type": "markdown",
   "metadata": {},
   "source": [
    "### Select PPIs"
   ]
  },
  {
   "cell_type": "code",
   "execution_count": 12,
   "metadata": {
    "scrolled": true
   },
   "outputs": [],
   "source": [
    "PPI = PPI[np.logical_or(PPI['Gene 1'].isin(DTI_genes),\n",
    "                       PPI['Gene 2'].isin(DTI_genes))].reset_index(drop=True)\n",
    "PPI_genes = pd.unique(PPI[['Gene 1','Gene 2']].values.ravel()) # Unique genes is PPI\n",
    "gene2idx = {gene: i for i, gene in enumerate(PPI_genes)}\n",
    "n_genes = len(PPI_genes)"
   ]
  },
  {
   "cell_type": "markdown",
   "metadata": {},
   "source": [
    "## Adjacency matrices and degrees"
   ]
  },
  {
   "cell_type": "code",
   "execution_count": 13,
   "metadata": {},
   "outputs": [],
   "source": [
    "# DDI adjacency matrices\n",
    "def se_adj_matrix(se_name):\n",
    "    m = np.zeros([n_drugs,n_drugs],dtype=int)\n",
    "    seDDI = DDI[DDI['Side Effect Name'].str.match(se_name)].reset_index()\n",
    "    for j in seDDI.index:\n",
    "        row = drug2idx[seDDI.loc[j,'STITCH 1']]\n",
    "        col = drug2idx[seDDI.loc[j,'STITCH 2']]\n",
    "        m[row,col] = m[col,row] = 1\n",
    "    return sp.csr_matrix(m), se_name\n",
    "ddi_adj_list,se_name= zip(*Parallel(n_jobs=8)\\\n",
    "    (delayed(se_adj_matrix)(d) for d in se_combo_name2idx.keys()))\n",
    "ddi_degrees_list = [np.array(drug_adj.sum(axis=0)).squeeze() for drug_adj in ddi_adj_list]"
   ]
  },
  {
   "cell_type": "code",
   "execution_count": 14,
   "metadata": {},
   "outputs": [
    {
     "name": "stdout",
     "output_type": "stream",
     "text": [
      "('arterial pressure NOS decreased', 'Hypoventilation', 'Difficulty breathing', 'High blood pressure', 'Pain', 'nausea', 'Fatigue')\n",
      "{'arterial pressure NOS decreased': 0, 'Hypoventilation': 1, 'Difficulty breathing': 2, 'High blood pressure': 3, 'Pain': 4, 'nausea': 5, 'Fatigue': 6}\n",
      "4116\n"
     ]
    }
   ],
   "source": [
    "print(se_name)\n",
    "print(se_combo_name2idx)\n",
    "print(n_genes)"
   ]
  },
  {
   "cell_type": "code",
   "execution_count": 15,
   "metadata": {},
   "outputs": [],
   "source": [
    "# DTI adjacency matrices (normalized docking value and binding energy)\n",
    "dti_norm_dock = np.zeros([n_genes,n_drugs])\n",
    "dti_bind_energy = np.zeros([n_genes,n_drugs])\n",
    "dti_adj = np.zeros([n_genes,n_drugs],dtype=np.int8)\n",
    "for i in DF.index:\n",
    "    gene = DF.loc[i,'Gene']\n",
    "    drug = DF.loc[i,'Drug']\n",
    "    row = gene2idx[gene]\n",
    "    col = drug2idx[drug]\n",
    "    ndv = DF[np.logical_and(DF['Gene']==gene,DF['Drug']==drug)]['Norm_docking'].values[0]\n",
    "    be = DF[np.logical_and(DF['Gene']==gene,DF['Drug']==drug)]['Norm_binding_Energy'].values[0]\n",
    "    dti_norm_dock[row,col] = ndv\n",
    "    dti_bind_energy[row,col] = be\n",
    "dti_norm_dock = sp.csr_matrix(dti_norm_dock)\n",
    "dti_bind_energy = sp.csr_matrix(dti_bind_energy)"
   ]
  },
  {
   "cell_type": "code",
   "execution_count": 16,
   "metadata": {},
   "outputs": [],
   "source": [
    "for i in DTI.index:\n",
    "    gene = DTI.loc[i,'Gene']\n",
    "    drug = DTI.loc[i,'STITCH']\n",
    "    row = gene2idx[gene]\n",
    "    col = drug2idx[drug]\n",
    "    dti_adj[row,col] = 1\n",
    "dti_adj = sp.csr_matrix(dti_adj)"
   ]
  },
  {
   "cell_type": "code",
   "execution_count": 17,
   "metadata": {},
   "outputs": [
    {
     "name": "stdout",
     "output_type": "stream",
     "text": [
      "(6032,)\n",
      "(6032,)\n",
      "(2921,)\n"
     ]
    }
   ],
   "source": [
    "print(dti_norm_dock.nonzero()[0].shape)\n",
    "print(dti_bind_energy.nonzero()[0].shape)\n",
    "print(dti_adj.nonzero()[0].shape)"
   ]
  },
  {
   "cell_type": "code",
   "execution_count": 18,
   "metadata": {},
   "outputs": [],
   "source": [
    "# PPI adjacency matrix and degrees\n",
    "ppi_adj = np.zeros([n_genes,n_genes],dtype=int)\n",
    "for i in PPI.index:\n",
    "    row = gene2idx[PPI.loc[i,'Gene 1']]\n",
    "    col = gene2idx[PPI.loc[i,'Gene 2']]\n",
    "    ppi_adj[row,col]=ppi_adj[col,row]=1\n",
    "ppi_degrees = np.sum(ppi_adj,axis=0)\n",
    "ppi_adj = sp.csr_matrix(ppi_adj)"
   ]
  },
  {
   "cell_type": "code",
   "execution_count": 19,
   "metadata": {},
   "outputs": [],
   "source": [
    "# Drug Feature matrix\n",
    "drug_feat = np.zeros([n_drugs,n_semono],dtype=int)\n",
    "for i in DSE.index:\n",
    "    row = drug2idx[DSE.loc[i,'STITCH']]\n",
    "    col = se_mono_name2idx[DSE.loc[i,'Side Effect Name']]\n",
    "    drug_feat[row,col] = 1\n",
    "drug_feat = sp.csr_matrix(drug_feat)"
   ]
  },
  {
   "cell_type": "markdown",
   "metadata": {},
   "source": [
    "### Print"
   ]
  },
  {
   "cell_type": "code",
   "execution_count": 20,
   "metadata": {
    "scrolled": false
   },
   "outputs": [
    {
     "name": "stdout",
     "output_type": "stream",
     "text": [
      "Interactions (edges)\n",
      "Original number of PPI interactions: 20565\n",
      "New number of PPI interactions: 16820\n",
      "\n",
      "\n",
      "Original number of DTI interactions: 2974\n",
      "New number of DTI interactions: 2921\n",
      "\n",
      "\n",
      "Original number of DDI interactions: 97694\n",
      "New number of DDI interactions: 3291\n",
      "\n",
      "\n",
      "Original number of DSE interactions: 19701\n",
      "New number of DSE interactions: 19498\n",
      "\n",
      "\n",
      "Original number of DF interactions: 7552\n",
      "New number of DF interactions: 6032\n",
      "\n",
      "\n",
      "Drugs and genes (nodes)\n",
      "Original number of drugs in DSE: 59\n",
      "New number of drugs in DSE: 58\n",
      "\n",
      "\n",
      "Original number drugs in DTI 59\n",
      "New number of drugs in DTI 58\n",
      "\n",
      "\n",
      "Original number of genes in DTI: 104\n",
      "New number of genes in DTI: 104\n",
      "\n",
      "\n",
      "Original number of genes: 5298\n",
      "New number of genes: 4116\n",
      "\n",
      "\n",
      "Original number of drugs: 59\n",
      "New number of drugs: 58\n",
      "\n",
      "\n",
      "Original number of genes in DF: 128\n",
      "New number of genes in DF: 104\n",
      "\n",
      "\n",
      "Original number of drugs in DF: 59\n",
      "New number of drugs in DF: 58\n",
      "\n",
      "\n",
      "Side effects\n",
      "Original number of joint side effects: 1232\n",
      "New number of joint side effects: 7\n",
      "\n",
      "\n",
      "Original number of single side effects: 5246\n",
      "New number of single side effects: 5233\n"
     ]
    }
   ],
   "source": [
    "# Interactions (edges)\n",
    "print('Interactions (edges)')\n",
    "print('Original number of PPI interactions:', orig_ppi)\n",
    "print('New number of PPI interactions:', len(PPI.index))\n",
    "print('\\n')\n",
    "print('Original number of DTI interactions:', orig_dti)\n",
    "print('New number of DTI interactions:', len(DTI.index))\n",
    "print('\\n')\n",
    "print('Original number of DDI interactions:', orig_ddi)\n",
    "print('New number of DDI interactions:', len(DDI.index))\n",
    "print('\\n')\n",
    "print('Original number of DSE interactions:', orig_dse)\n",
    "print('New number of DSE interactions:', len(DSE.index))\n",
    "print('\\n')\n",
    "print('Original number of DF interactions:', orig_df)\n",
    "print('New number of DF interactions:', len(DF.index))\n",
    "print('\\n')\n",
    "# Drugs and genes (nodes)\n",
    "print('Drugs and genes (nodes)')\n",
    "print(\"Original number of drugs in DSE:\",orig_dse_drugs)\n",
    "print(\"New number of drugs in DSE:\",dse_drugs)\n",
    "print('\\n')\n",
    "print(\"Original number drugs in DTI\",orig_dti_drugs)\n",
    "print(\"New number of drugs in DTI\",dti_drugs)\n",
    "print('\\n')\n",
    "print('Original number of genes in DTI:', orig_dti_genes)\n",
    "print('New number of genes in DTI:',dti_genes)\n",
    "print('\\n')\n",
    "print('Original number of genes:',orig_ppi_genes)\n",
    "print('New number of genes:', n_genes)\n",
    "print('\\n')\n",
    "print('Original number of drugs:',orig_ddi_drugs)\n",
    "print('New number of drugs:', n_drugs)\n",
    "print('\\n')\n",
    "print(\"Original number of genes in DF:\",orig_df_genes)\n",
    "print(\"New number of genes in DF:\",df_genes)\n",
    "print('\\n')\n",
    "print(\"Original number of drugs in DF:\",orig_df_drugs)\n",
    "print(\"New number of drugs in DF:\",df_drugs)\n",
    "print('\\n')\n",
    "# Side effects\n",
    "print('Side effects')\n",
    "print('Original number of joint side effects:',orig_se_combo)\n",
    "print('New number of joint side effects:', len(se_names))\n",
    "print('\\n')\n",
    "print('Original number of single side effects:', orig_se_mono)\n",
    "print('New number of single side effects:', n_semono)"
   ]
  },
  {
   "cell_type": "markdown",
   "metadata": {},
   "source": [
    "## Save"
   ]
  },
  {
   "cell_type": "code",
   "execution_count": 21,
   "metadata": {},
   "outputs": [],
   "source": [
    "data = {}\n",
    "# Dictionaries\n",
    "data['gene2idx'] = gene2idx\n",
    "data['drug2idx'] = drug2idx\n",
    "data['se_mono_name2idx'] = se_mono_name2idx\n",
    "data['se_combo_name2idx'] = se_combo_name2idx\n",
    "# DDI\n",
    "data['ddi_adj_list'] = ddi_adj_list\n",
    "data['ddi_degrees_list'] = ddi_degrees_list\n",
    "# DTI\n",
    "data['dti_norm_dock'] = dti_norm_dock\n",
    "data['dti_bind_energy'] = dti_bind_energy\n",
    "data['dti_adj'] = dti_adj\n",
    "# PPI\n",
    "data['ppi_adj'] = ppi_adj\n",
    "data['ppi_degrees'] = ppi_degrees\n",
    "# DSE\n",
    "data['drug_feat'] = drug_feat"
   ]
  },
  {
   "cell_type": "code",
   "execution_count": 22,
   "metadata": {},
   "outputs": [
    {
     "name": "stdout",
     "output_type": "stream",
     "text": [
      "./data_structures/DS/DS_real_docking_DSE_5233_genes_4116_drugs_58_se_7\n"
     ]
    }
   ],
   "source": [
    "filename = './data_structures/DS/DS_real_docking_DSE_' + str(n_semono) +'_genes_' +\\\n",
    "str(n_genes) + '_drugs_' + str(n_drugs) + '_se_' + str(N)\n",
    "print(filename)"
   ]
  },
  {
   "cell_type": "code",
   "execution_count": 23,
   "metadata": {},
   "outputs": [],
   "source": [
    "with open(filename, 'wb') as f:\n",
    "    pickle.dump(data, f, protocol=3)"
   ]
  },
  {
   "cell_type": "code",
   "execution_count": null,
   "metadata": {},
   "outputs": [],
   "source": []
  }
 ],
 "metadata": {
  "kernelspec": {
   "display_name": "Python 3",
   "language": "python",
   "name": "python3"
  },
  "language_info": {
   "codemirror_mode": {
    "name": "ipython",
    "version": 3
   },
   "file_extension": ".py",
   "mimetype": "text/x-python",
   "name": "python",
   "nbconvert_exporter": "python",
   "pygments_lexer": "ipython3",
   "version": "3.7.4"
  }
 },
 "nbformat": 4,
 "nbformat_minor": 2
}
