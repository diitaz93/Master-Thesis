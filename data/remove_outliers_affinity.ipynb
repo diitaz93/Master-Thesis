{
 "cells": [
  {
   "cell_type": "markdown",
   "metadata": {},
   "source": [
    "# Remove Outliers\n",
    "This notebook filters the original databases used in DECAGON plus the affinity feature database to remove any unlinked node in the network. In short, it keeps only the elements present in all the databases so that the output database is consistent.<br>\n",
    "This code is in part the adaptation in `pandas` of the script `remove_outliers.sh`.\n",
    "\n",
    "Author: Juan Sebastian Diaz Boada, August 2020"
   ]
  },
  {
   "cell_type": "markdown",
   "metadata": {},
   "source": [
    "## Python 3"
   ]
  },
  {
   "cell_type": "code",
   "execution_count": 1,
   "metadata": {},
   "outputs": [],
   "source": [
    "import pandas as pd\n",
    "import numpy as np"
   ]
  },
  {
   "cell_type": "markdown",
   "metadata": {},
   "source": [
    "Import DECAGON Data as `pandas` dataframes"
   ]
  },
  {
   "cell_type": "code",
   "execution_count": 2,
   "metadata": {
    "scrolled": true
   },
   "outputs": [],
   "source": [
    "PPI = pd.read_csv('original_data/bio-decagon-ppi.csv',sep=',')\n",
    "DTI = pd.read_csv('original_data/bio-decagon-targets-all.csv',sep=',')\n",
    "DDI = pd.read_csv('original_data/bio-decagon-combo.csv',sep=',')\n",
    "DSE = pd.read_csv('original_data/bio-decagon-mono.csv',sep=',')\n",
    "AF = pd.read_csv('affinities/DTI-affinity.csv',sep=',')"
   ]
  },
  {
   "cell_type": "code",
   "execution_count": 3,
   "metadata": {},
   "outputs": [],
   "source": [
    "# Original number of interactions\n",
    "orig_ppi = len(PPI.index)\n",
    "orig_dti = len(DTI.index)\n",
    "orig_ddi = len(DDI.index)\n",
    "orig_dse = len(DSE.index)\n",
    "orig_af = len(AF.index)"
   ]
  },
  {
   "cell_type": "markdown",
   "metadata": {},
   "source": [
    "### Initial number of genes, drugs and side effects of datasets"
   ]
  },
  {
   "cell_type": "code",
   "execution_count": 4,
   "metadata": {
    "scrolled": true
   },
   "outputs": [],
   "source": [
    "# PPI genes\n",
    "orig_genes_ppi = len(pd.unique((PPI[[\"Gene 1\", \"Gene 2\"]].values.ravel())))\n",
    "# Affinity genes\n",
    "AF_genes = pd.unique(AF['Target'].values)\n",
    "orig_genes_af = len(AF_genes)\n",
    "# Affinity drugs\n",
    "AF_drugs = pd.unique(AF['Drug'].values)\n",
    "orig_drugs_af = len(AF_drugs)"
   ]
  },
  {
   "cell_type": "code",
   "execution_count": 5,
   "metadata": {},
   "outputs": [],
   "source": [
    "# DDI drugs\n",
    "DDI_drugs = pd.unique(DDI[[\"STITCH 1\", \"STITCH 2\"]].values.ravel())\n",
    "orig_drugs_ddi = len(DDI_drugs)\n",
    "# DDI Side effects\n",
    "orig_se_combo = len(pd.unique(DDI['Polypharmacy Side Effect'].values))\n",
    "# Drugs with single side effects\n",
    "DSE_drugs = pd.unique(DSE['STITCH'].values)\n",
    "orig_drug_dse = len(DSE_drugs)\n",
    "# DSE Side effects\n",
    "orig_se_mono = len(pd.unique(DSE['Side Effect Name']))"
   ]
  },
  {
   "cell_type": "code",
   "execution_count": 6,
   "metadata": {},
   "outputs": [],
   "source": [
    "# DTI genes\n",
    "DTI_genes = pd.unique(DTI['Gene'].values)\n",
    "orig_genes_dti = len(DTI_genes)\n",
    "# DTI drugs\n",
    "DTI_drugs = pd.unique(DTI['STITCH'].values)\n",
    "orig_drugs_dti = len(DTI_drugs)"
   ]
  },
  {
   "cell_type": "markdown",
   "metadata": {},
   "source": [
    "### Node intersection of datasets\n",
    "1. DTI and AF drug intersection (I1)<br>\n",
    "2. DSE and DDI intersection (I2)\n",
    "3. I2 and I1 total intersection (I3)\n",
    "4. Selection of DTI, DSE and DDI drugs\n",
    "5. DTI and AF gene intersection (I4)\n",
    "6. PPI and I4 partial intersection (Formation of PPI network)\n",
    "7. DTI update with PPI genes"
   ]
  },
  {
   "cell_type": "code",
   "execution_count": 7,
   "metadata": {},
   "outputs": [],
   "source": [
    "# 1. DTI and AF drug intersection\n",
    "I1 = np.intersect1d(DTI_drugs,AF_drugs,assume_unique=True)\n",
    "# 2. DSE and DDI intersections\n",
    "I2 = np.intersect1d(DSE_drugs,DDI_drugs,assume_unique=True)\n",
    "# 3. I2 and I1 intersection\n",
    "I3 = np.intersect1d(I2,I1,assume_unique=True)\n",
    "# 4. Selection of DTI, DDI and DSE drugs\n",
    "DDI = DDI[np.logical_and(DDI['STITCH 1'].isin(I3).values,\n",
    "                     DDI['STITCH 2'].isin(I3).values)]\n",
    "DDI_drugs = pd.unique(DDI[[\"STITCH 1\", \"STITCH 2\"]].values.ravel())\n",
    "AF = AF[AF['Drug'].isin(DDI_drugs).values]\n",
    "DTI = DTI[DTI['STITCH'].isin(DDI_drugs).values]\n",
    "DSE = DSE[DSE['STITCH'].isin(DDI_drugs).values]\n",
    "new_drugs_dti = len(pd.unique(DTI['STITCH'].values))\n",
    "new_drugs_ddi = len(DDI_drugs)\n",
    "new_drugs_dse = len(pd.unique(DSE['STITCH'].values))\n",
    "new_drugs_af = len(pd.unique(AF['Drug'].values))\n",
    "new_se_combo = len(pd.unique(DDI['Polypharmacy Side Effect'].values))\n",
    "new_se_mono = len(pd.unique(DSE['Side Effect Name']))"
   ]
  },
  {
   "cell_type": "code",
   "execution_count": 8,
   "metadata": {},
   "outputs": [],
   "source": [
    "# 5. DTI and AF gene intersection\n",
    "I4 = np.intersect1d(DTI_genes,AF_genes,assume_unique=True)\n",
    "# 6. PPI and I4 partial intersection (Formation of PPI network)\n",
    "PPI = PPI[np.logical_or(PPI['Gene 1'].isin(I4).values,\n",
    "                     PPI['Gene 2'].isin(I4).values)]\n",
    "PPI_genes = pd.unique(PPI[[\"Gene 1\", \"Gene 1\"]].values.ravel())\n",
    "new_genes_ppi = len(PPI_genes)\n",
    "# 7. DTI update with PPI genes\n",
    "AF = AF[AF['Target'].isin(PPI_genes).values]\n",
    "DTI = DTI[DTI['Gene'].isin(PPI_genes).values]\n",
    "new_genes_af = len(pd.unique(AF['Target'].values))\n",
    "new_genes_dti = len(pd.unique(DTI['Gene'].values))"
   ]
  },
  {
   "cell_type": "code",
   "execution_count": 9,
   "metadata": {
    "scrolled": false
   },
   "outputs": [
    {
     "name": "stdout",
     "output_type": "stream",
     "text": [
      "Interactions (edges)\n",
      "Original number of PPI interactions 715612\n",
      "New number of PPI interactions 585448\n",
      "\n",
      "\n",
      "Original number of DTI interactions 131034\n",
      "New number of DTI interactions 17802\n",
      "\n",
      "\n",
      "Original number of DDI interactions 4649441\n",
      "New number of DDI interactions 1208035\n",
      "\n",
      "\n",
      "Original number of DSE interactions 174977\n",
      "New number of DSE interactions 81275\n",
      "\n",
      "\n",
      "Original number of AF interactions 131034\n",
      "New number of AF interactions 17802\n",
      "\n",
      "\n",
      "Drugs and genes (nodes)\n",
      "Original number of drugs in DSE: 639\n",
      "New number of drugs in DSE: 282\n",
      "\n",
      "\n",
      "Original number drugs in DTI 1774\n",
      "New number of drugs in DTI 282\n",
      "\n",
      "\n",
      "Original number of genes in DTI: 7795\n",
      "New number of genes in DTI: 3534\n",
      "\n",
      "\n",
      "Original number of genes in PPI: 19081\n",
      "New number of genes in PPI: 16466\n",
      "\n",
      "\n",
      "Original number of drugs in DDI: 645\n",
      "New number of drugs in DDI: 282\n",
      "\n",
      "\n",
      "Original number of genes in AF: 7795\n",
      "New number of genes in AF: 3534\n",
      "\n",
      "\n",
      "Original number drugs in AF 1774\n",
      "New number of drugs in AF 282\n",
      "\n",
      "\n",
      "Side effects\n",
      "Original number of joint side effects: 1317\n",
      "New number of joint side effects: 1308\n",
      "\n",
      "\n",
      "Original number of single side effects: 9702\n",
      "New number of single side effects: 8132\n"
     ]
    }
   ],
   "source": [
    "# Interactions (edges)\n",
    "print('Interactions (edges)')\n",
    "print ('Original number of PPI interactions',orig_ppi)\n",
    "print ('New number of PPI interactions',len(PPI.index))\n",
    "print('\\n')\n",
    "print ('Original number of DTI interactions',orig_dti)\n",
    "print ('New number of DTI interactions',len(DTI.index))\n",
    "print('\\n')\n",
    "print ('Original number of DDI interactions',orig_ddi)\n",
    "print ('New number of DDI interactions', len(DDI.index))\n",
    "print('\\n')\n",
    "print ('Original number of DSE interactions',orig_dse)\n",
    "print('New number of DSE interactions',len(DSE.index))\n",
    "print('\\n')\n",
    "print ('Original number of AF interactions',orig_af)\n",
    "print('New number of AF interactions',len(AF.index))\n",
    "print('\\n')\n",
    "# Drugs and genes (nodes)\n",
    "print('Drugs and genes (nodes)')\n",
    "print(\"Original number of drugs in DSE:\",orig_drug_dse)\n",
    "print(\"New number of drugs in DSE:\",new_drugs_dse)\n",
    "print('\\n')\n",
    "print(\"Original number drugs in DTI\",orig_drugs_dti)\n",
    "print(\"New number of drugs in DTI\",new_drugs_dti)\n",
    "print('\\n')\n",
    "print('Original number of genes in DTI:',orig_genes_dti)\n",
    "print('New number of genes in DTI:',new_genes_dti)\n",
    "print('\\n')\n",
    "print('Original number of genes in PPI:',orig_genes_ppi)\n",
    "print('New number of genes in PPI:',new_genes_ppi)\n",
    "print('\\n')\n",
    "print('Original number of drugs in DDI:',orig_drugs_ddi)\n",
    "print('New number of drugs in DDI:',new_drugs_ddi)\n",
    "print('\\n')\n",
    "print('Original number of genes in AF:',orig_genes_af)\n",
    "print('New number of genes in AF:',new_genes_af)\n",
    "print('\\n')\n",
    "print(\"Original number drugs in AF\",orig_drugs_af)\n",
    "print(\"New number of drugs in AF\",new_drugs_af)\n",
    "print('\\n')\n",
    "# Side effects\n",
    "print('Side effects')\n",
    "print('Original number of joint side effects:',orig_se_combo)\n",
    "print('New number of joint side effects:', new_se_combo)\n",
    "print('\\n')\n",
    "print('Original number of single side effects:', orig_se_mono)\n",
    "print('New number of single side effects:', new_se_mono)"
   ]
  },
  {
   "cell_type": "markdown",
   "metadata": {},
   "source": [
    "## Export to csv"
   ]
  },
  {
   "cell_type": "code",
   "execution_count": 10,
   "metadata": {},
   "outputs": [],
   "source": [
    "PPI.to_csv('affinities/small-decagon-ppi.csv',index=False,sep=',')\n",
    "DTI.to_csv('affinities/small-decagon-targets.csv',index=False,sep=',')\n",
    "DDI.to_csv('affinities/small-decagon-combo.csv',index=False,sep=',')\n",
    "DSE.to_csv('affinities/small-decagon-mono.csv',index=False,sep=',')\n",
    "AF.to_csv('affinities/small-decagon-affinities.csv',index=False,sep=',')"
   ]
  },
  {
   "cell_type": "code",
   "execution_count": null,
   "metadata": {},
   "outputs": [],
   "source": []
  }
 ],
 "metadata": {
  "kernelspec": {
   "display_name": "Python 3",
   "language": "python",
   "name": "python3"
  },
  "language_info": {
   "codemirror_mode": {
    "name": "ipython",
    "version": 3
   },
   "file_extension": ".py",
   "mimetype": "text/x-python",
   "name": "python",
   "nbconvert_exporter": "python",
   "pygments_lexer": "ipython3",
   "version": "3.7.4"
  }
 },
 "nbformat": 4,
 "nbformat_minor": 2
}
