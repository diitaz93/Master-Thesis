{
 "cells": [
  {
   "cell_type": "markdown",
   "metadata": {},
   "source": [
    "# DDI BDM\n",
    "This notebook calculates the algoritmic complexity of the drug interaction network of the DECAGON dataset. The dataset is given as a list of adjacency matrices, each of dimension $N_{drugs} \\times N_{drugs}$, corresponding to the connectivity per each joint side effect. The code uses the package pybdm to calculate the complexity contribution of each node and its corresponding edges per side effect. The result is a list of feature vectors,  exported as a `pickle` readable format file along with relevant data."
   ]
  },
  {
   "cell_type": "markdown",
   "metadata": {},
   "source": [
    "## Python 3"
   ]
  },
  {
   "cell_type": "code",
   "execution_count": 1,
   "metadata": {},
   "outputs": [],
   "source": [
    "import numpy as np\n",
    "import time\n",
    "import os\n",
    "import psutil\n",
    "import pickle\n",
    "import datetime as dt\n",
    "from pybdm import BDM\n",
    "from pybdm.partitions import PartitionRecursive\n",
    "from algorithms import PerturbationExperiment, NodePerturbationExperiment\n",
    "from getpass import getuser"
   ]
  },
  {
   "cell_type": "code",
   "execution_count": 2,
   "metadata": {},
   "outputs": [
    {
     "name": "stdout",
     "output_type": "stream",
     "text": [
      "Input data loaded\n"
     ]
    }
   ],
   "source": [
    "# Settings and loading of the list of adj matrices\n",
    "input_file = './data_structures/DS/DS_toy_genes500_drugs400_se3'\n",
    "start = time.time() \n",
    "pid = os.getpid()\n",
    "ps= psutil.Process(pid)\n",
    "with open(input_file, 'rb') as f:\n",
    "    ddi_adj_list = pickle.load(f)['ddi_adj_list']\n",
    "print('Input data loaded')\n",
    "jobs = 8\n",
    "usrnm = getuser()\n",
    "bdm = BDM(ndim=2, partition=PartitionRecursive)"
   ]
  },
  {
   "cell_type": "code",
   "execution_count": 3,
   "metadata": {},
   "outputs": [
    {
     "name": "stdout",
     "output_type": "stream",
     "text": [
      "set data\n",
      "33.333333333333336 % completed\n",
      "set data\n"
     ]
    },
    {
     "name": "stderr",
     "output_type": "stream",
     "text": [
      "/home/juan/Documents/thesis/decagon-master/data/algorithms.py:318: RuntimeWarning: invalid value encountered in true_divide\n",
      "  row_nodes = np.nan_to_num(row_sum/row_nz, nan=0.0)\n"
     ]
    },
    {
     "name": "stdout",
     "output_type": "stream",
     "text": [
      "66.66666666666667 % completed\n",
      "set data\n",
      "100.0 % completed\n",
      "Node and Edge BDM for DDI calculated\n",
      "0:03:19.663328\n"
     ]
    },
    {
     "name": "stderr",
     "output_type": "stream",
     "text": [
      "/home/juan/Documents/thesis/decagon-master/data/algorithms.py:318: RuntimeWarning: invalid value encountered in true_divide\n",
      "  row_nodes = np.nan_to_num(row_sum/row_nz, nan=0.0)\n"
     ]
    }
   ],
   "source": [
    "# DDI feature vector list\n",
    "start1 = time.time()\n",
    "nodebdm_ddi_list = []\n",
    "add_edgebdm_ddi_list = []\n",
    "rem_edgebdm_ddi_list = []\n",
    "ddi_nodeper = NodePerturbationExperiment(bdm,metric='bdm',bipartite_network=False,\n",
    "                                          parallel=True,jobs=jobs)\n",
    "ddi_edgeper = PerturbationExperiment(bdm, bipartite_network=False)\n",
    "total = len(ddi_adj_list)\n",
    "count=1\n",
    "for i in ddi_adj_list:\n",
    "    ddi_nodeper.set_data(np.array(i.todense()))\n",
    "    ddi_edgeper.set_data(np.array(i.todense()))\n",
    "    print('set data')\n",
    "    nodebdm_ddi_list.append(ddi_nodeper.run())\n",
    "    add_edgebdm_ddi_list.append(ddi_edgeper.run_adding_edges())\n",
    "    rem_edgebdm_ddi_list.append(ddi_edgeper.run_removing_edges())\n",
    "    prog = count*100/total\n",
    "    count += 1\n",
    "    print(prog,'% completed')\n",
    "print('Node and Edge BDM for DDI calculated')\n",
    "print(dt.timedelta(seconds=time.time()-start1))"
   ]
  },
  {
   "cell_type": "code",
   "execution_count": 4,
   "metadata": {},
   "outputs": [],
   "source": [
    "# EXPORTING\n",
    "drugs = np.shape(ddi_adj_list[0])[0]\n",
    "memUse = ps.memory_info()\n",
    "total_time = time.time()-start\n",
    "output_data = {}\n",
    "output_data['nodebdm_ddi_list'] = nodebdm_ddi_list\n",
    "output_data['add_edgebdm_ddi_list'] = add_edgebdm_ddi_list\n",
    "output_data['rem_edgebdm_ddi_list'] = rem_edgebdm_ddi_list\n",
    "output_data['vms_ddi'] = memUse.vms\n",
    "output_data['rss_ddi'] = memUse.rss\n",
    "output_data['time_ddi'] = total_time\n",
    "output_data['jobs_ddi'] = jobs"
   ]
  },
  {
   "cell_type": "code",
   "execution_count": 5,
   "metadata": {},
   "outputs": [
    {
     "name": "stdout",
     "output_type": "stream",
     "text": [
      "['./data', 'structures/DS/DS', 'toy', 'genes500', 'drugs400', 'se3']\n"
     ]
    }
   ],
   "source": [
    "path = os.getcwd()\n",
    "words = input_file.split('_')\n",
    "print(words)"
   ]
  },
  {
   "cell_type": "code",
   "execution_count": 6,
   "metadata": {},
   "outputs": [
    {
     "name": "stdout",
     "output_type": "stream",
     "text": [
      "Output data exported\n"
     ]
    }
   ],
   "source": [
    "output_file = path + '/data_structures/BDM/DDI_BDM_' + words[2] + '_se_' + str(total) +\\\n",
    "             '_drugs_' + str(drugs) + '_' + usrnm + str(jobs)\n",
    "with open(output_file, 'wb') as f:\n",
    "    pickle.dump(output_data, f, protocol=3)\n",
    "print('Output data exported')"
   ]
  },
  {
   "cell_type": "code",
   "execution_count": null,
   "metadata": {},
   "outputs": [],
   "source": []
  }
 ],
 "metadata": {
  "kernelspec": {
   "display_name": "Python 3",
   "language": "python",
   "name": "python3"
  },
  "language_info": {
   "codemirror_mode": {
    "name": "ipython",
    "version": 3
   },
   "file_extension": ".py",
   "mimetype": "text/x-python",
   "name": "python",
   "nbconvert_exporter": "python",
   "pygments_lexer": "ipython3",
   "version": "3.7.4"
  }
 },
 "nbformat": 4,
 "nbformat_minor": 2
}
