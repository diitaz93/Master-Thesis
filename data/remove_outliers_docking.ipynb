{
 "cells": [
  {
   "cell_type": "markdown",
   "metadata": {},
   "source": [
    "# Remove Outliers\n",
    "This notebook filters the original databases used in DECAGON plus the protein feature databases to remove any unlinked node in the network. In short, it keeps only the elements present in all the databases so that the output database is consistent.<br>\n",
    "This code is in part the adaptation in `pandas` of the script `remove_outliers.sh`.\n",
    "\n",
    "Author: Juan Sebastian Diaz Boada, May 2020"
   ]
  },
  {
   "cell_type": "markdown",
   "metadata": {},
   "source": [
    "## Python 3"
   ]
  },
  {
   "cell_type": "code",
   "execution_count": 1,
   "metadata": {},
   "outputs": [],
   "source": [
    "import pandas as pd\n",
    "import numpy as np"
   ]
  },
  {
   "cell_type": "markdown",
   "metadata": {},
   "source": [
    "Import DECAGON Data as `pandas` dataframes"
   ]
  },
  {
   "cell_type": "code",
   "execution_count": 2,
   "metadata": {
    "scrolled": true
   },
   "outputs": [],
   "source": [
    "PPI = pd.read_csv('original_data/bio-decagon-ppi.csv',sep=',')\n",
    "DTI = pd.read_csv('original_data/bio-decagon-targets-all.csv',sep=',')\n",
    "DDI = pd.read_csv('original_data/bio-decagon-combo.csv',sep=',')\n",
    "DSE = pd.read_csv('original_data/bio-decagon-mono.csv',sep=',')\n",
    "DF = pd.read_csv('amir_docking_data/docking_result_sample.csv',sep=',')"
   ]
  },
  {
   "cell_type": "code",
   "execution_count": 3,
   "metadata": {},
   "outputs": [],
   "source": [
    "# Original number of interactions\n",
    "orig_ppi = len(PPI.index)\n",
    "orig_dti = len(DTI.index)\n",
    "orig_ddi = len(DDI.index)\n",
    "orig_dse = len(DSE.index)\n",
    "orig_df = len(DF.index)"
   ]
  },
  {
   "cell_type": "markdown",
   "metadata": {},
   "source": [
    "### Initial number of genes, drugs and side effects of datasets"
   ]
  },
  {
   "cell_type": "code",
   "execution_count": 4,
   "metadata": {
    "scrolled": true
   },
   "outputs": [],
   "source": [
    "# PPI genes\n",
    "orig_genes_ppi = len(pd.unique((PPI[[\"Gene 1\", \"Gene 2\"]].values.ravel())))\n",
    "# Docking genes\n",
    "DF_genes = pd.unique(DF['Gene'].values)\n",
    "orig_genes_df = len(DF_genes)\n",
    "# Docking drugs\n",
    "DF_drugs = pd.unique(DF['Drug'].values)\n",
    "orig_drugs_df = len(DF_drugs)"
   ]
  },
  {
   "cell_type": "code",
   "execution_count": 5,
   "metadata": {},
   "outputs": [],
   "source": [
    "# DDI drugs\n",
    "DDI_drugs = pd.unique(DDI[[\"STITCH 1\", \"STITCH 2\"]].values.ravel())\n",
    "orig_drugs_ddi = len(DDI_drugs)\n",
    "# DDI Side effects\n",
    "orig_se_combo = len(pd.unique(DDI['Polypharmacy Side Effect'].values))\n",
    "# Drugs with single side effects\n",
    "DSE_drugs = pd.unique(DSE['STITCH'].values)\n",
    "orig_drug_dse = len(DSE_drugs)\n",
    "# DSE Side effects\n",
    "orig_se_mono = len(pd.unique(DSE['Side Effect Name']))"
   ]
  },
  {
   "cell_type": "code",
   "execution_count": 6,
   "metadata": {},
   "outputs": [],
   "source": [
    "# DTI genes\n",
    "DTI_genes = pd.unique(DTI['Gene'].values)\n",
    "orig_genes_dti = len(DTI_genes)\n",
    "# DTI drugs\n",
    "DTI_drugs = pd.unique(DTI['STITCH'].values)\n",
    "orig_drugs_dti = len(DTI_drugs)"
   ]
  },
  {
   "cell_type": "markdown",
   "metadata": {},
   "source": [
    "### Node intersection of datasets\n",
    "1. DTI and DF total intersection <br>\n",
    "    a. DTI and DF gene intersection (I1g)<br>\n",
    "    b. DTI and DF drug intersection (I1d)<br>\n",
    "2. Formation of DTI network\n",
    "3. PPI and I1 partial intersection (Formation of PPI network)\n",
    "4. DSE and DDI intersection (I2)\n",
    "5. I2 and DTI(new) total intersection (I3)\n",
    "6. Formation of DDI network with DSE"
   ]
  },
  {
   "cell_type": "code",
   "execution_count": 7,
   "metadata": {},
   "outputs": [],
   "source": [
    "# 1. DTI and DF total intersection\n",
    "I1g = np.intersect1d(DTI_genes,DF_genes,assume_unique=True)\n",
    "I1d = np.intersect1d(DTI_drugs,DF_drugs,assume_unique=True)\n",
    "# 2. Forming DTI network\n",
    "DF = DF[np.logical_and(DF['Gene'].isin(I1g).values,\n",
    "                     DF['Drug'].isin(I1d).values)]\n",
    "DTI = DTI[np.logical_and(DTI['Gene'].isin(I1g).values,\n",
    "                     DTI['STITCH'].isin(I1d).values)]\n",
    "DTI_genes = pd.unique(DTI['Gene'].values)\n",
    "DTI_drugs = pd.unique(DTI['STITCH'].values)\n",
    "new_genes_dti = len(DTI_genes)\n",
    "new_drugs_dti = len(DTI_drugs)"
   ]
  },
  {
   "cell_type": "code",
   "execution_count": 8,
   "metadata": {},
   "outputs": [],
   "source": [
    "# 3. Partial intersection for PPI\n",
    "PPI = PPI[np.logical_or(PPI['Gene 1'].isin(I1g).values,\n",
    "                     PPI['Gene 2'].isin(I1g).values)]\n",
    "PPI_genes = pd.unique(PPI[[\"Gene 1\", \"Gene 1\"]].values.ravel())\n",
    "new_genes_ppi = len(pd.unique(PPI[[\"Gene 1\", \"Gene 2\"]].values.ravel()))\n",
    "new_genes_df = len(pd.unique(DF['Gene'].values))"
   ]
  },
  {
   "cell_type": "code",
   "execution_count": 9,
   "metadata": {},
   "outputs": [],
   "source": [
    "# 4 & 5. DSE and DDI intersections & I2 and DTI total intersection\n",
    "I2 = np.intersect1d(DSE_drugs,DDI_drugs,assume_unique=True)\n",
    "I3 = np.intersect1d(I2,DTI_drugs,assume_unique=True)\n",
    "assert new_drugs_dti==len(I3),'DTI has different drugs that I2'"
   ]
  },
  {
   "cell_type": "code",
   "execution_count": 10,
   "metadata": {},
   "outputs": [],
   "source": [
    "# Total intersection for DDI\n",
    "DDI = DDI[np.logical_and(DDI['STITCH 1'].isin(I3).values,\n",
    "                     DDI['STITCH 2'].isin(I3).values)]\n",
    "DSE = DSE[DSE['STITCH'].isin(I3)]\n",
    "new_drugs_ddi = len(pd.unique(DDI[[\"STITCH 1\", \"STITCH 2\"]].values.ravel()))\n",
    "new_drugs_dse = len(pd.unique(DSE['STITCH'].values))\n",
    "new_drugs_df = len(pd.unique(DF['Drug'].values))\n",
    "new_se_combo = len(pd.unique(DDI['Polypharmacy Side Effect'].values))\n",
    "new_se_mono = len(pd.unique(DSE['Side Effect Name']))"
   ]
  },
  {
   "cell_type": "code",
   "execution_count": 11,
   "metadata": {
    "scrolled": false
   },
   "outputs": [
    {
     "name": "stdout",
     "output_type": "stream",
     "text": [
      "Interactions (edges)\n",
      "Original number of PPI interactions 715612\n",
      "New number of PPI interactions 20565\n",
      "\n",
      "\n",
      "Original number of DTI interactions 131034\n",
      "New number of DTI interactions 2974\n",
      "\n",
      "\n",
      "Original number of DDI interactions 4649441\n",
      "New number of DDI interactions 97694\n",
      "\n",
      "\n",
      "Original number of DSE interactions 174977\n",
      "New number of DSE interactions 19701\n",
      "\n",
      "\n",
      "Original number of DF interactions 7680\n",
      "New number of DF interactions 7552\n",
      "\n",
      "\n",
      "Drugs and genes (nodes)\n",
      "Original number of drugs in DSE: 639\n",
      "New number of drugs in DSE: 59\n",
      "\n",
      "\n",
      "Original number drugs in DTI 1774\n",
      "New number of drugs in DTI 59\n",
      "\n",
      "\n",
      "Original number of genes in DTI: 7795\n",
      "New number of genes in DTI: 104\n",
      "\n",
      "\n",
      "Original number of genes in PPI: 19081\n",
      "New number of genes in PPI: 5298\n",
      "\n",
      "\n",
      "Original number of drugs in DDI: 645\n",
      "New number of drugs in DDI: 59\n",
      "\n",
      "\n",
      "Original number of genes in DF: 128\n",
      "New number of genes in DF: 128\n",
      "\n",
      "\n",
      "Original number drugs in DF 60\n",
      "New number of drugs in DF 59\n",
      "\n",
      "\n",
      "Side effects\n",
      "Original number of joint side effects: 1317\n",
      "New number of joint side effects: 1232\n",
      "\n",
      "\n",
      "Original number of single side effects: 9702\n",
      "New number of single side effects: 5246\n"
     ]
    }
   ],
   "source": [
    "# Interactions (edges)\n",
    "print('Interactions (edges)')\n",
    "print ('Original number of PPI interactions',orig_ppi)\n",
    "print ('New number of PPI interactions',len(PPI.index))\n",
    "print('\\n')\n",
    "print ('Original number of DTI interactions',orig_dti)\n",
    "print ('New number of DTI interactions',len(DTI.index))\n",
    "print('\\n')\n",
    "print ('Original number of DDI interactions',orig_ddi)\n",
    "print ('New number of DDI interactions', len(DDI.index))\n",
    "print('\\n')\n",
    "print ('Original number of DSE interactions',orig_dse)\n",
    "print('New number of DSE interactions',len(DSE.index))\n",
    "print('\\n')\n",
    "print ('Original number of DF interactions',orig_df)\n",
    "print('New number of DF interactions',len(DF.index))\n",
    "print('\\n')\n",
    "# Drugs and genes (nodes)\n",
    "print('Drugs and genes (nodes)')\n",
    "print(\"Original number of drugs in DSE:\",orig_drug_dse)\n",
    "print(\"New number of drugs in DSE:\",new_drugs_dse)\n",
    "print('\\n')\n",
    "print(\"Original number drugs in DTI\",orig_drugs_dti)\n",
    "print(\"New number of drugs in DTI\",new_drugs_dti)\n",
    "print('\\n')\n",
    "print('Original number of genes in DTI:',orig_genes_dti)\n",
    "print('New number of genes in DTI:',new_genes_dti)\n",
    "print('\\n')\n",
    "print('Original number of genes in PPI:',orig_genes_ppi)\n",
    "print('New number of genes in PPI:',new_genes_ppi)\n",
    "print('\\n')\n",
    "print('Original number of drugs in DDI:',orig_drugs_ddi)\n",
    "print('New number of drugs in DDI:',new_drugs_ddi)\n",
    "print('\\n')\n",
    "print('Original number of genes in DF:',orig_genes_df)\n",
    "print('New number of genes in DF:',new_genes_df)\n",
    "print('\\n')\n",
    "print(\"Original number drugs in DF\",orig_drugs_df)\n",
    "print(\"New number of drugs in DF\",new_drugs_df)\n",
    "print('\\n')\n",
    "# Side effects\n",
    "print('Side effects')\n",
    "print('Original number of joint side effects:',orig_se_combo)\n",
    "print('New number of joint side effects:', new_se_combo)\n",
    "print('\\n')\n",
    "print('Original number of single side effects:', orig_se_mono)\n",
    "print('New number of single side effects:', new_se_mono)"
   ]
  },
  {
   "cell_type": "markdown",
   "metadata": {},
   "source": [
    "## Export to csv"
   ]
  },
  {
   "cell_type": "code",
   "execution_count": 12,
   "metadata": {},
   "outputs": [],
   "source": [
    "PPI.to_csv('amir_docking_data/small-decagon-ppi.csv',index=False,sep=',')\n",
    "DTI.to_csv('amir_docking_data/small-decagon-targets.csv',index=False,sep=',')\n",
    "DDI.to_csv('amir_docking_data/small-decagon-combo.csv',index=False,sep=',')\n",
    "DSE.to_csv('amir_docking_data/small-decagon-mono.csv',index=False,sep=',')\n",
    "DF.to_csv('amir_docking_data/small-decagon-docking.csv',index=False,sep=',')"
   ]
  },
  {
   "cell_type": "code",
   "execution_count": null,
   "metadata": {},
   "outputs": [],
   "source": []
  }
 ],
 "metadata": {
  "kernelspec": {
   "display_name": "Python 3",
   "language": "python",
   "name": "python3"
  },
  "language_info": {
   "codemirror_mode": {
    "name": "ipython",
    "version": 3
   },
   "file_extension": ".py",
   "mimetype": "text/x-python",
   "name": "python",
   "nbconvert_exporter": "python",
   "pygments_lexer": "ipython3",
   "version": "3.7.4"
  }
 },
 "nbformat": 4,
 "nbformat_minor": 2
}
