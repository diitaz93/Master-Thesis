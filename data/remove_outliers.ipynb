{
 "cells": [
  {
   "cell_type": "markdown",
   "metadata": {},
   "source": [
    "# Remove Outliers\n",
    "This notebook filters the original databases used in DECAGON plus the protein feature databases to remove any unlinked node in the network. In short, it keeps only the elements present in all the databases so that the output database is consistent.<br>\n",
    "This code is the adaptation in `pandas` of the script `remove_outliers.sh`.\n",
    "\n",
    "Author: Juan Sebastian Diaz Boada, May 2020"
   ]
  },
  {
   "cell_type": "code",
   "execution_count": 1,
   "metadata": {},
   "outputs": [
    {
     "name": "stdout",
     "output_type": "stream",
     "text": [
      "Populating the interactive namespace from numpy and matplotlib\n"
     ]
    }
   ],
   "source": [
    "%pylab inline"
   ]
  },
  {
   "cell_type": "code",
   "execution_count": 2,
   "metadata": {},
   "outputs": [],
   "source": [
    "import pandas as pd\n",
    "# Only for Python 2\n",
    "from __future__ import print_function"
   ]
  },
  {
   "cell_type": "markdown",
   "metadata": {},
   "source": [
    "Import DECAGON Data as `pandas` dataframes"
   ]
  },
  {
   "cell_type": "code",
   "execution_count": 3,
   "metadata": {
    "scrolled": true
   },
   "outputs": [],
   "source": [
    "PPI = pd.read_csv('orig_data/bio-decagon-ppi.csv',sep=',')\n",
    "PF = pd.read_csv('orig_data/proteins.csv',sep=';')\n",
    "DTI = pd.read_csv('orig_data/bio-decagon-targets-all.csv',sep=',')\n",
    "DDI = pd.read_csv('orig_data/bio-decagon-combo.csv',sep=',')\n",
    "DSE = pd.read_csv('orig_data/bio-decagon-mono.csv',sep=',')"
   ]
  },
  {
   "cell_type": "code",
   "execution_count": 4,
   "metadata": {},
   "outputs": [],
   "source": [
    "# Remove comma after thousand\n",
    "PF['Mass'] = PF['Mass'].apply(lambda x: x.replace(',', '')).astype('int')"
   ]
  },
  {
   "cell_type": "markdown",
   "metadata": {},
   "source": [
    "## Genes\n",
    "Form arrays of unique genes in every dataset. Print their lengths"
   ]
  },
  {
   "cell_type": "code",
   "execution_count": 5,
   "metadata": {
    "scrolled": true
   },
   "outputs": [],
   "source": [
    "orig_ppi = len(PPI.index)\n",
    "orig_dti = len(DTI.index)\n",
    "orig_pf = len(PF.index)\n",
    "orig_ddi = len(DDI.index)\n",
    "orig_dse = len(DSE.index)\n",
    "# PPI genes\n",
    "col_genes = PPI[[\"Gene 1\", \"Gene 2\"]].values.ravel()\n",
    "PPI_genes = pd.unique(col_genes)\n",
    "orig_genes_ppi = len(PPI_genes)\n",
    "# PF genes\n",
    "PF_genes = np.array(PF['GeneID'].tolist())\n",
    "orig_genes_pf = len(PF_genes)\n",
    "# DTI genes\n",
    "DTI_genes = pd.unique(DTI[\"Gene\"].values)\n",
    "orig_genes_dti = len(DTI_genes)"
   ]
  },
  {
   "cell_type": "markdown",
   "metadata": {},
   "source": [
    "Calculate the instersection of the 3 datasets (i.e. sind the common genes of the 3 datasest)"
   ]
  },
  {
   "cell_type": "code",
   "execution_count": 6,
   "metadata": {},
   "outputs": [],
   "source": [
    "inter_genes = np.intersect1d(DTI_genes,np.intersect1d(PPI_genes,PF_genes))\n",
    "n_genes = len(inter_genes)"
   ]
  },
  {
   "cell_type": "markdown",
   "metadata": {},
   "source": [
    "Form new datasets with the common genes of the 3 datasets"
   ]
  },
  {
   "cell_type": "code",
   "execution_count": 7,
   "metadata": {},
   "outputs": [],
   "source": [
    "DTI = DTI[DTI['Gene'].isin(inter_genes)]\n",
    "PF = PF[PF['GeneID'].isin(inter_genes)]\n",
    "PPI = PPI[np.logical_or(PPI['Gene 1'].isin(inter_genes).values,\\\n",
    "                     PPI['Gene 2'].isin(inter_genes).values)]\n",
    "new_ppi = len(PPI.index)\n",
    "mid_dti = len(DTI.index)\n",
    "new_pf = len(PF.index)"
   ]
  },
  {
   "cell_type": "markdown",
   "metadata": {},
   "source": [
    "## Drugs\n",
    "Form arrays of unique drugs in every dataset. Print their lengths"
   ]
  },
  {
   "cell_type": "code",
   "execution_count": 8,
   "metadata": {},
   "outputs": [],
   "source": [
    "# DTI drugs\n",
    "DTI_drugs = np.array(pd.unique(DTI[\"STITCH\"].values).tolist())\n",
    "orig_drugs_dti = len(DTI_drugs)\n",
    "# DDI drugs\n",
    "col_drugs = DDI[[\"STITCH 1\", \"STITCH 2\"]].values.ravel()\n",
    "DDI_drugs = np.array(pd.unique(col_drugs).tolist())\n",
    "orig_drugs_ddi = len(DDI_drugs)\n",
    "# Drugs with single side effects\n",
    "DSE_drugs = np.array(pd.unique(DSE['STITCH'].values).tolist())\n",
    "orig_drugs_dse = len(DSE_drugs)"
   ]
  },
  {
   "cell_type": "markdown",
   "metadata": {},
   "source": [
    "Create new rows in DSE for drugs in DTI absent in DSE. Add value 'no_se' in side effects.<br>\n",
    "(This is done to avoid ambiguity with the number of drugs in DDI and DSE. The code of DECAGON adds a vector of zero to these drugs anyway)"
   ]
  },
  {
   "cell_type": "code",
   "execution_count": 9,
   "metadata": {},
   "outputs": [],
   "source": [
    "no_feat = np.setdiff1d(DDI_drugs,DSE_drugs) #outliers\n",
    "n_nf = no_feat.shape[0] #Number of outliers\n",
    "# Create DataFrame with outliers and append it to original DataFrame\n",
    "se_outliers = {'STITCH':no_feat,'Individual Side Effect':n_nf*['no_se'],\\\n",
    "       'Side Effect Name':n_nf*['no_se']}\n",
    "DSE = DSE.append(pd.DataFrame(se_outliers),sort=False, ignore_index=True)\n",
    "# New number of drugs with single side effects\n",
    "DSE_drugs = array(pd.unique(DSE['STITCH'].values).tolist())"
   ]
  },
  {
   "cell_type": "markdown",
   "metadata": {},
   "source": [
    "Calculate the instersection of the 3 datasets (i.e. the common drugs of the 3 datasest)"
   ]
  },
  {
   "cell_type": "code",
   "execution_count": 10,
   "metadata": {
    "scrolled": true
   },
   "outputs": [],
   "source": [
    "inter_drugs = np.intersect1d(DTI_drugs,DDI_drugs)\n",
    "n_drugs = len(inter_drugs)"
   ]
  },
  {
   "cell_type": "markdown",
   "metadata": {},
   "source": [
    "Form new datasets with the common genes of the 3 datasets"
   ]
  },
  {
   "cell_type": "code",
   "execution_count": 11,
   "metadata": {},
   "outputs": [],
   "source": [
    "DTI = DTI[DTI['STITCH'].isin(inter_drugs)]\n",
    "DSE = DSE[DSE['STITCH'].isin(inter_drugs)]\n",
    "DDI = DDI[logical_or(DDI['STITCH 1'].isin(inter_drugs).values,\\\n",
    "                     DDI['STITCH 2'].isin(inter_drugs).values)]\n",
    "new_ddi = len(DDI.index)\n",
    "new_dti = len(DTI.index)\n",
    "new_dse = len(DSE.index)"
   ]
  },
  {
   "cell_type": "code",
   "execution_count": 12,
   "metadata": {},
   "outputs": [
    {
     "name": "stdout",
     "output_type": "stream",
     "text": [
      "Original number of PPI interactions 715612\n",
      "New number of PPI interactions 581429\n",
      "\n",
      "\n",
      "Original number of DTI interactions 131034\n",
      "Number of DTI after gene outlier removal 128149\n",
      "New number of DTI interactions 18293\n",
      "\n",
      "\n",
      "Original number of DDI interactions 4649441\n",
      "New number of DDI interactions 3504271\n",
      "\n",
      "\n",
      "Original number of Protein Features 18991\n",
      "New number of Protein Features 7628\n",
      "\n",
      "\n",
      "Original number of single side effect interactions 174977\n",
      "New number of single side effect interactions 81286\n",
      "\n",
      "\n",
      "Original number of unique genes in PPI: 19081\n",
      "Original number of genes whose proteins have features: 18991\n",
      "Original number of unique genes in DTI 7795\n",
      "New number of genes: 7628\n",
      "\n",
      "\n",
      "Total number of unique drugs in DTI 1774\n",
      "Total number of unique drugs in DDI: 645\n",
      "Total number of drugs with single side effects: 639\n",
      "New number of drugs: 284\n"
     ]
    }
   ],
   "source": [
    "print ('Original number of PPI interactions',orig_ppi)\n",
    "print ('New number of PPI interactions',new_ppi)\n",
    "print('\\n')\n",
    "print ('Original number of DTI interactions',orig_dti)\n",
    "print ('Number of DTI after gene outlier removal',mid_dti)\n",
    "print ('New number of DTI interactions',new_dti)\n",
    "print('\\n')\n",
    "print ('Original number of DDI interactions',orig_ddi)\n",
    "print ('New number of DDI interactions',new_ddi)\n",
    "print('\\n')\n",
    "print ('Original number of Protein Features',orig_pf)\n",
    "print ('New number of Protein Features',new_pf)\n",
    "print('\\n')\n",
    "print ('Original number of single side effect interactions',orig_dse)\n",
    "print('New number of single side effect interactions',new_dse)\n",
    "print('\\n')\n",
    "print(\"Original number of unique genes in PPI:\",orig_genes_ppi)\n",
    "print(\"Original number of genes whose proteins have features:\",orig_genes_pf)\n",
    "print(\"Original number of unique genes in DTI\",orig_genes_dti)\n",
    "print('New number of genes:',n_genes)\n",
    "print('\\n')\n",
    "print(\"Total number of unique drugs in DTI\",orig_drugs_dti)\n",
    "print(\"Total number of unique drugs in DDI:\",orig_drugs_ddi)\n",
    "print(\"Total number of drugs with single side effects:\",orig_drugs_dse)\n",
    "print('New number of drugs:',n_drugs)\n"
   ]
  },
  {
   "cell_type": "markdown",
   "metadata": {},
   "source": [
    "## Export to csv"
   ]
  },
  {
   "cell_type": "code",
   "execution_count": 13,
   "metadata": {},
   "outputs": [],
   "source": [
    "PPI.to_csv('./modif_data/new-decagon-ppi.csv',index=False,sep=',')\n",
    "DTI.to_csv('./modif_data/new-decagon-targets.csv',index=False,sep=',')\n",
    "DDI.to_csv('./modif_data/new-decagon-combo.csv',index=False,sep=',')\n",
    "DSE.to_csv('./modif_data/new-decagon-mono.csv',index=False,sep=',')\n",
    "PF.to_csv('./modif_data/new-decagon-genes.csv',index=False,sep=',')"
   ]
  }
 ],
 "metadata": {
  "kernelspec": {
   "display_name": "Python 2",
   "language": "python",
   "name": "python2"
  },
  "language_info": {
   "codemirror_mode": {
    "name": "ipython",
    "version": 2
   },
   "file_extension": ".py",
   "mimetype": "text/x-python",
   "name": "python",
   "nbconvert_exporter": "python",
   "pygments_lexer": "ipython2",
   "version": "2.7.15"
  }
 },
 "nbformat": 4,
 "nbformat_minor": 2
}
