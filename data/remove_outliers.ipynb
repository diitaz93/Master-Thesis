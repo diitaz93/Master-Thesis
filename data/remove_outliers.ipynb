{
 "cells": [
  {
   "cell_type": "markdown",
   "metadata": {},
   "source": [
    "# Remove Outliers\n",
    "This notebook filters the original databases used in DECAGON plus the protein feature databases to remove any unlinked node in the network. In short, it keeps only the elements present in all the databases so that the output database is consistent.<br>\n",
    "This code is the adaptation in `pandas` of the script `remove_outliers.sh`.\n",
    "\n",
    "Author: Juan Sebastian Diaz Boada, May 2020"
   ]
  },
  {
   "cell_type": "code",
   "execution_count": 1,
   "metadata": {},
   "outputs": [
    {
     "name": "stdout",
     "output_type": "stream",
     "text": [
      "Populating the interactive namespace from numpy and matplotlib\n"
     ]
    }
   ],
   "source": [
    "%pylab inline"
   ]
  },
  {
   "cell_type": "code",
   "execution_count": 2,
   "metadata": {},
   "outputs": [],
   "source": [
    "import pandas as pd\n",
    "# Only for Python 2\n",
    "from __future__ import print_function"
   ]
  },
  {
   "cell_type": "markdown",
   "metadata": {},
   "source": [
    "Import DECAGON Data as `pandas` dataframes"
   ]
  },
  {
   "cell_type": "code",
   "execution_count": 3,
   "metadata": {
    "scrolled": true
   },
   "outputs": [],
   "source": [
    "PPI = pd.read_csv('original_data/bio-decagon-ppi.csv',sep=',')\n",
    "PF = pd.read_csv('original_data/proteins.csv',sep=';')\n",
    "DTI = pd.read_csv('original_data/bio-decagon-targets-all.csv',sep=',')\n",
    "DDI = pd.read_csv('original_data/bio-decagon-combo.csv',sep=',')\n",
    "DSE = pd.read_csv('original_data/bio-decagon-mono.csv',sep=',')\n",
    "# Remove comma after thousand\n",
    "PF['Mass'] = PF['Mass'].apply(lambda x: x.replace(',', '')).astype('int')"
   ]
  },
  {
   "cell_type": "code",
   "execution_count": 4,
   "metadata": {},
   "outputs": [],
   "source": [
    "# Original number of interactions\n",
    "orig_ppi = len(PPI.index)\n",
    "orig_dti = len(DTI.index)\n",
    "orig_pf = len(PF.index)\n",
    "orig_ddi = len(DDI.index)\n",
    "orig_dse = len(DSE.index)"
   ]
  },
  {
   "cell_type": "markdown",
   "metadata": {},
   "source": [
    "### Common genes between PPI network and protein features"
   ]
  },
  {
   "cell_type": "code",
   "execution_count": 5,
   "metadata": {
    "scrolled": true
   },
   "outputs": [],
   "source": [
    "# PPI genes\n",
    "PPI_genes = pd.unique(PPI[[\"Gene 1\", \"Gene 2\"]].values.ravel())\n",
    "orig_genes_ppi = len(PPI_genes) # Original number of genes\n",
    "# PF genes\n",
    "PF_genes = np.array(PF['GeneID'].tolist())\n",
    "orig_genes_pf = len(PF_genes) # Original number of genes"
   ]
  },
  {
   "cell_type": "code",
   "execution_count": 6,
   "metadata": {},
   "outputs": [],
   "source": [
    "# Calculate the instersection of the PPI and PF\n",
    "# (i.e., the genes in the interaction network that code proteins with features)\n",
    "inter_genes = intersect1d(PPI_genes,PF_genes,assume_unique=True)"
   ]
  },
  {
   "cell_type": "code",
   "execution_count": 7,
   "metadata": {},
   "outputs": [],
   "source": [
    "# Choose only the entries in PPI that are in the intersection\n",
    "PPI = PPI[np.logical_and(PPI['Gene 1'].isin(inter_genes).values,\n",
    "                     PPI['Gene 2'].isin(inter_genes).values)]\n",
    "# Some genes in PPI that are common to all 3 datasets may only interact with genes that are\n",
    "# non-common (outsiders). That is why we need to filter a second time using this array.\n",
    "PPI_genes = pd.unique(PPI[[\"Gene 1\", \"Gene 2\"]].values.ravel()).astype(numpy.string_)\n",
    "PF = PF[PF['GeneID'].isin(PPI_genes)]\n",
    "new_genes_ppi = len(pd.unique(PPI[[\"Gene 1\", \"Gene 2\"]].values.ravel()))\n",
    "new_genes_pf = len(pd.unique(PF['GeneID'].values))\n",
    "new_ppi = len(PPI.index)\n",
    "new_pf = len(PF.index)"
   ]
  },
  {
   "cell_type": "markdown",
   "metadata": {},
   "source": [
    "### Common drugs between DDI network and drug single side effects"
   ]
  },
  {
   "cell_type": "code",
   "execution_count": 8,
   "metadata": {},
   "outputs": [],
   "source": [
    "# DDI drugs\n",
    "DDI_drugs = np.array(pd.unique(DDI[[\"STITCH 1\", \"STITCH 2\"]].values.ravel()).tolist())\n",
    "orig_drugs_ddi = len(DDI_drugs) # Original number of drugs\n",
    "# Drugs with single side effects\n",
    "DSE_drugs = np.array(pd.unique(DSE['STITCH'].values).tolist())\n",
    "orig_drugs_dse = len(DSE_drugs) # Original number of drugs"
   ]
  },
  {
   "cell_type": "code",
   "execution_count": 9,
   "metadata": {},
   "outputs": [],
   "source": [
    "# Calculate the instersection of the DDI and DSE\n",
    "# (i.e., the drugs in the intercation network that have single side effect)\n",
    "inter_drugs = intersect1d(DDI_drugs,DSE_drugs,assume_unique=True)\n",
    "# Choose only the entries in DDI that are in the intersection\n",
    "DDI = DDI[np.logical_and(DDI['STITCH 1'].isin(inter_drugs).values,\n",
    "                     DDI['STITCH 2'].isin(inter_drugs).values)]\n",
    "# Some drugs in DDI that are common to all 3 datasets may only interact with genes that are\n",
    "# non-common (outsiders). That is why we need to filter a second time using this array.\n",
    "DDI_drugs = pd.unique(DDI[[\"STITCH 1\", \"STITCH 2\"]].values.ravel()).astype(numpy.string_)\n",
    "DSE = DSE[DSE['STITCH'].isin(DDI_drugs)]\n",
    "new_drugs_ddi = len(pd.unique(DDI[['STITCH 1','STITCH 2']].values.ravel()))\n",
    "new_drugs_dse = len(pd.unique(DSE['STITCH'].values))\n",
    "new_ddi = len(DDI.index)\n",
    "new_dse = len(DSE.index)"
   ]
  },
  {
   "cell_type": "markdown",
   "metadata": {},
   "source": [
    "### Selection of entries of DTI database"
   ]
  },
  {
   "cell_type": "code",
   "execution_count": 10,
   "metadata": {},
   "outputs": [],
   "source": [
    "orig_genes_dti = len(pd.unique(DTI['Gene'].values))\n",
    "orig_drugs_dti = len(pd.unique(DTI['STITCH'].values))\n",
    "DTI = DTI[np.logical_and(DTI['STITCH'].isin(DDI_drugs),DTI['Gene'].isin(PPI_genes))]\n",
    "new_dti = len(DTI.index)\n",
    "new_genes_dti = len(pd.unique(DTI['Gene'].values))\n",
    "new_drugs_dti = len(pd.unique(DTI['STITCH'].values))"
   ]
  },
  {
   "cell_type": "code",
   "execution_count": 11,
   "metadata": {
    "scrolled": false
   },
   "outputs": [
    {
     "name": "stdout",
     "output_type": "stream",
     "text": [
      "Original number of PPI interactions 715612\n",
      "New number of PPI interactions 693353\n",
      "\n",
      "\n",
      "Original number of DTI interactions 131034\n",
      "New number of DTI interactions 18291\n",
      "\n",
      "\n",
      "Original number of DDI interactions 4649441\n",
      "New number of DDI interactions 4615522\n",
      "\n",
      "\n",
      "Original number of proteins with features 18991\n",
      "New number of proteins with features 17929\n",
      "\n",
      "\n",
      "Original number of single side effect interactions 174977\n",
      "New number of single side effect interactions 174977\n",
      "\n",
      "\n",
      "Original number of unique genes in PPI: 19081\n",
      "New number of unique genes in PPI: 17929\n",
      "Original number of genes whose proteins have features: 18991\n",
      "New number of genes whose proteins have features: 17929\n",
      "Original number of unique genes in DTI 7795\n",
      "New number of unique genes in DTI 3587\n",
      "\n",
      "\n",
      "Original number of unique drugs in DDI: 645\n",
      "New number of unique drugs in DDI: 639\n",
      "Original number of drugs with single side effects: 639\n",
      "New number of drugs with single side effects: 639\n",
      "Original number of unique drugs in DTI 1774\n",
      "New number of unique drugs in DTI 283\n"
     ]
    }
   ],
   "source": [
    "print ('Original number of PPI interactions',orig_ppi)\n",
    "print ('New number of PPI interactions',new_ppi)\n",
    "print('\\n')\n",
    "print ('Original number of DTI interactions',orig_dti)\n",
    "print ('New number of DTI interactions',new_dti)\n",
    "print('\\n')\n",
    "print ('Original number of DDI interactions',orig_ddi)\n",
    "print ('New number of DDI interactions',new_ddi)\n",
    "print('\\n')\n",
    "print ('Original number of proteins with features',orig_pf)\n",
    "print ('New number of proteins with features',new_pf)\n",
    "print('\\n')\n",
    "print ('Original number of single side effect interactions',orig_dse)\n",
    "print('New number of single side effect interactions',new_dse)\n",
    "print('\\n')\n",
    "print(\"Original number of unique genes in PPI:\",orig_genes_ppi)\n",
    "print(\"New number of unique genes in PPI:\",new_genes_ppi)\n",
    "print(\"Original number of genes whose proteins have features:\",orig_genes_pf)\n",
    "print(\"New number of genes whose proteins have features:\",new_genes_pf)\n",
    "print(\"Original number of unique genes in DTI\",orig_genes_dti)\n",
    "print(\"New number of unique genes in DTI\",new_genes_dti)\n",
    "print('\\n')\n",
    "print(\"Original number of unique drugs in DDI:\",orig_drugs_ddi)\n",
    "print(\"New number of unique drugs in DDI:\",new_drugs_ddi)\n",
    "print(\"Original number of drugs with single side effects:\",orig_drugs_dse)\n",
    "print(\"New number of drugs with single side effects:\",new_drugs_dse)\n",
    "print(\"Original number of unique drugs in DTI\",orig_drugs_dti)\n",
    "print(\"New number of unique drugs in DTI\",new_drugs_dti)"
   ]
  },
  {
   "cell_type": "markdown",
   "metadata": {},
   "source": [
    "## Export to csv"
   ]
  },
  {
   "cell_type": "code",
   "execution_count": 12,
   "metadata": {},
   "outputs": [],
   "source": [
    "PPI.to_csv('./modif_data/new-decagon-ppi.csv',index=False,sep=',')\n",
    "DTI.to_csv('./modif_data/new-decagon-targets.csv',index=False,sep=',')\n",
    "DDI.to_csv('./modif_data/new-decagon-combo.csv',index=False,sep=',')\n",
    "DSE.to_csv('./modif_data/new-decagon-mono.csv',index=False,sep=',')\n",
    "PF.to_csv('./modif_data/new-decagon-genes.csv',index=False,sep=',')"
   ]
  },
  {
   "cell_type": "code",
   "execution_count": null,
   "metadata": {},
   "outputs": [],
   "source": []
  }
 ],
 "metadata": {
  "kernelspec": {
   "display_name": "Python 2",
   "language": "python",
   "name": "python2"
  },
  "language_info": {
   "codemirror_mode": {
    "name": "ipython",
    "version": 2
   },
   "file_extension": ".py",
   "mimetype": "text/x-python",
   "name": "python",
   "nbconvert_exporter": "python",
   "pygments_lexer": "ipython2",
   "version": "2.7.15"
  }
 },
 "nbformat": 4,
 "nbformat_minor": 2
}
