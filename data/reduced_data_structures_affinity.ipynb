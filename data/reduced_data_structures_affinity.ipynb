{
 "cells": [
  {
   "cell_type": "markdown",
   "metadata": {},
   "source": [
    "# Reduced Data Structures\n",
    "This notebook chooses a small consistent subset of the treated dataset to be run in small machines. The generated dataset is limited to a number of **drug-drug interactions** specified by the variable $N$. From this dataset, it generates the corresponding data structures like dictionaries and adjacency matrices to be fed directly to DECAGON.<br>\n",
    "This code is in part the adaptation in `pandas` of the script `drug_dataset.sh`, merged with `data_structures.ipynb`.\n",
    "\n",
    "Author: Juan Sebastian Diaz Boada, May 2020"
   ]
  },
  {
   "cell_type": "markdown",
   "metadata": {},
   "source": [
    "## Python 3"
   ]
  },
  {
   "cell_type": "code",
   "execution_count": 1,
   "metadata": {},
   "outputs": [],
   "source": [
    "import numpy as np\n",
    "import pandas as pd\n",
    "import scipy.sparse as sp\n",
    "import pickle\n",
    "from joblib import Parallel, delayed"
   ]
  },
  {
   "cell_type": "code",
   "execution_count": 2,
   "metadata": {},
   "outputs": [],
   "source": [
    "# Number of side effects \n",
    "#(Maximum is 1317, but the max chosen is 964 to be consistents with authors of decagon)\n",
    "N = 964\n",
    "RED = True"
   ]
  },
  {
   "cell_type": "markdown",
   "metadata": {},
   "source": [
    "### Import databases"
   ]
  },
  {
   "cell_type": "code",
   "execution_count": 3,
   "metadata": {},
   "outputs": [],
   "source": [
    "PPI = pd.read_csv('affinities/small-decagon-ppi.csv',sep=',')\n",
    "AF = pd.read_csv('affinities/small-decagon-affinities.csv',sep=',')\n",
    "DTI = pd.read_csv('affinities/small-decagon-targets.csv',sep=',')\n",
    "DDI = pd.read_csv('affinities/small-decagon-combo.csv',sep=',')\n",
    "DSE = pd.read_csv('affinities/small-decagon-mono.csv',sep=',')\n",
    "SE = pd.read_csv('original_data/bio-decagon-effectcategories.csv',sep=',')"
   ]
  },
  {
   "cell_type": "code",
   "execution_count": 4,
   "metadata": {},
   "outputs": [],
   "source": [
    "# Number of interactions\n",
    "orig_ppi = len(PPI.index)\n",
    "orig_af = len(AF.index)\n",
    "orig_dti = len(DTI.index)\n",
    "orig_ddi = len(DDI.index)\n",
    "orig_dse = len(DSE.index)\n",
    "# Number of nodes\n",
    "orig_ddi_drugs = len(pd.unique(DDI[['STITCH 1','STITCH 2']].values.ravel()))\n",
    "orig_ppi_genes = len(pd.unique(PPI[['Gene 1','Gene 2']].values.ravel()))\n",
    "orig_dti_drugs = len(pd.unique(DTI['STITCH']))\n",
    "orig_dti_genes = len(pd.unique(DTI['Gene']))\n",
    "orig_dse_drugs = len(pd.unique(DSE['STITCH'].values))\n",
    "orig_af_genes = len(pd.unique(AF['Target'].values))\n",
    "orig_af_drugs = len(pd.unique(AF['Drug'].values))\n",
    "# Side effects\n",
    "orig_se_mono = len(pd.unique(DSE['Side Effect Name']))\n",
    "orig_se_combo = len(pd.unique(DDI['Polypharmacy Side Effect'].values))"
   ]
  },
  {
   "cell_type": "markdown",
   "metadata": {},
   "source": [
    "### Choose Side effects"
   ]
  },
  {
   "cell_type": "code",
   "execution_count": 5,
   "metadata": {},
   "outputs": [],
   "source": [
    "# Sort DDI to be consistent with the authors\n",
    "DDI['freq'] = DDI.groupby('Polypharmacy Side Effect')['Polypharmacy Side Effect']\\\n",
    "            .transform('count')\n",
    "DDI = DDI.sort_values(by=['freq'], ascending=False).drop(columns=['freq'])\n",
    "se = pd.unique(DDI['Polypharmacy Side Effect'].values)\n",
    "se_name = pd.unique(DDI['Side Effect Name'].values)"
   ]
  },
  {
   "cell_type": "code",
   "execution_count": 6,
   "metadata": {},
   "outputs": [
    {
     "name": "stdout",
     "output_type": "stream",
     "text": [
      "8 diarrhea\n",
      "10 emesis\n",
      "24 body temperature increased\n",
      "86 Bleeding\n",
      "156 disorder Renal\n",
      "245 leucopenia\n",
      "248 icterus\n",
      "[8, 10, 24, 86, 156, 245, 248]\n",
      "N= 7\n"
     ]
    }
   ],
   "source": [
    "# Here we choose specific side effects: Diarrhea, Emesis, Increased body temp,\n",
    "# bleeding, Renal disorder, Leucopenia and Icterus\n",
    "# ignoring the previous given number N\n",
    "if RED:\n",
    "    names = ['diarrhea', 'emesis', 'body temperature increased', 'bleeding', 'disorder renal',\\\n",
    "             'leucopenia','icterus']\n",
    "    idx = []\n",
    "    for i in range(len(se_name)):\n",
    "        if se_name[i].lower() in names:\n",
    "            print(i,se_name[i])\n",
    "            idx.append(i)\n",
    "    #idx = list(range(len(names)))\n",
    "    print(idx)\n",
    "    se = se[idx]\n",
    "    N = len(se);\n",
    "    print('N=',N)\n",
    "else:\n",
    "    se = se[:N]\n",
    "    print('N=',len(se))"
   ]
  },
  {
   "cell_type": "markdown",
   "metadata": {},
   "source": [
    "### Select DDIs"
   ]
  },
  {
   "cell_type": "code",
   "execution_count": 7,
   "metadata": {
    "scrolled": true
   },
   "outputs": [],
   "source": [
    "DDI = DDI[DDI['Polypharmacy Side Effect'].isin(se)].reset_index(drop=True)\n",
    "DDI_drugs = pd.unique(DDI[['STITCH 1','STITCH 2']].values.ravel()) # Unique drugs \n",
    "drug2idx = {drug: i for i, drug in enumerate(DDI_drugs)}\n",
    "se_names = pd.unique(DDI['Side Effect Name']) # Unique joint side effects\n",
    "se_combo_name2idx = {se: i for i, se in enumerate(se_names)}\n",
    "n_drugs = len(DDI_drugs)"
   ]
  },
  {
   "cell_type": "markdown",
   "metadata": {},
   "source": [
    "### Select Drug side effects"
   ]
  },
  {
   "cell_type": "code",
   "execution_count": 8,
   "metadata": {},
   "outputs": [],
   "source": [
    "DSE = DSE[DSE['STITCH'].isin(DDI_drugs)].reset_index(drop=True)\n",
    "dse_drugs = len(pd.unique(DSE['STITCH'].values))\n",
    "se_mono_names = pd.unique(DSE['Side Effect Name'].values) # Unique individual side effects\n",
    "se_mono_name2idx = {name: i for i, name in enumerate(se_mono_names)}\n",
    "n_semono = len(se_mono_names)"
   ]
  },
  {
   "cell_type": "markdown",
   "metadata": {},
   "source": [
    "### Select DTIs"
   ]
  },
  {
   "cell_type": "code",
   "execution_count": 9,
   "metadata": {},
   "outputs": [],
   "source": [
    "DTI = DTI[DTI['STITCH'].isin(DDI_drugs)].reset_index(drop=True)\n",
    "DTI_genes = pd.unique(DTI['Gene']) # Unique genes in DTI\n",
    "DTI_drugs = pd.unique(DTI['STITCH']) # Unique drugs in DTI\n",
    "dti_drugs = len(DTI_drugs)\n",
    "dti_genes = len(DTI_genes)"
   ]
  },
  {
   "cell_type": "markdown",
   "metadata": {},
   "source": [
    "### Select Affinity features"
   ]
  },
  {
   "cell_type": "code",
   "execution_count": 10,
   "metadata": {},
   "outputs": [],
   "source": [
    "AF = AF[np.logical_and(AF['Target'].isin(DTI_genes),AF['Drug'].isin(DTI_drugs))]\\\n",
    "    .reset_index(drop=True)\n",
    "af_genes = len(pd.unique(AF['Target'].values))\n",
    "af_drugs = len(pd.unique(AF['Drug'].values))"
   ]
  },
  {
   "cell_type": "markdown",
   "metadata": {},
   "source": [
    "### Select PPIs"
   ]
  },
  {
   "cell_type": "code",
   "execution_count": 11,
   "metadata": {
    "scrolled": true
   },
   "outputs": [],
   "source": [
    "PPI = PPI[np.logical_or(PPI['Gene 1'].isin(DTI_genes),\n",
    "                       PPI['Gene 2'].isin(DTI_genes))].reset_index(drop=True)\n",
    "PPI_genes = pd.unique(PPI[['Gene 1','Gene 2']].values.ravel()) # Unique genes is PPI\n",
    "gene2idx = {gene: i for i, gene in enumerate(PPI_genes)}\n",
    "n_genes = len(PPI_genes)"
   ]
  },
  {
   "cell_type": "markdown",
   "metadata": {},
   "source": [
    "## Adjacency matrices and degrees"
   ]
  },
  {
   "cell_type": "code",
   "execution_count": 12,
   "metadata": {},
   "outputs": [],
   "source": [
    "# DDI adjacency matrices\n",
    "def se_adj_matrix(se_name):\n",
    "    m = np.zeros([n_drugs,n_drugs],dtype=int)\n",
    "    seDDI = DDI[DDI['Side Effect Name'].str.match(se_name)].reset_index()\n",
    "    for j in seDDI.index:\n",
    "        row = drug2idx[seDDI.loc[j,'STITCH 1']]\n",
    "        col = drug2idx[seDDI.loc[j,'STITCH 2']]\n",
    "        m[row,col] = m[col,row] = 1\n",
    "    return sp.csr_matrix(m), se_name\n",
    "ddi_adj_list,se_name= zip(*Parallel(n_jobs=8)\\\n",
    "    (delayed(se_adj_matrix)(d) for d in se_combo_name2idx.keys()))\n",
    "ddi_degrees_list = [np.array(drug_adj.sum(axis=0)).squeeze() for drug_adj in ddi_adj_list]"
   ]
  },
  {
   "cell_type": "code",
   "execution_count": 13,
   "metadata": {},
   "outputs": [
    {
     "name": "stdout",
     "output_type": "stream",
     "text": [
      "('diarrhea', 'emesis', 'body temperature increased', 'Bleeding', 'disorder Renal', 'leucopenia', 'icterus')\n",
      "{'diarrhea': 0, 'emesis': 1, 'body temperature increased': 2, 'Bleeding': 3, 'disorder Renal': 4, 'leucopenia': 5, 'icterus': 6}\n",
      "16814\n"
     ]
    }
   ],
   "source": [
    "print(se_name)\n",
    "print(se_combo_name2idx)\n",
    "print(n_genes)"
   ]
  },
  {
   "cell_type": "code",
   "execution_count": 14,
   "metadata": {},
   "outputs": [],
   "source": [
    "# DTI adjacency matrices (affinity and adjacency)\n",
    "dti_affinity = np.zeros([n_genes,n_drugs])\n",
    "for i in AF.index:\n",
    "    gene = AF.loc[i,'Target']\n",
    "    drug = AF.loc[i,'Drug']\n",
    "    row = gene2idx[gene]\n",
    "    col = drug2idx[drug]\n",
    "    aff = AF[np.logical_and(AF['Target']==gene,AF['Drug']==drug)]['Affinity_norm'].values[0]\n",
    "    dti_affinity[row,col] = aff\n",
    "dti_affinity = sp.csr_matrix(dti_affinity)"
   ]
  },
  {
   "cell_type": "code",
   "execution_count": 15,
   "metadata": {},
   "outputs": [],
   "source": [
    "dti_adj = np.zeros([n_genes,n_drugs],dtype=np.int8)\n",
    "for i in DTI.index:\n",
    "    gene = DTI.loc[i,'Gene']\n",
    "    drug = DTI.loc[i,'STITCH']\n",
    "    row = gene2idx[gene]\n",
    "    col = drug2idx[drug]\n",
    "    dti_adj[row,col] = 1\n",
    "dti_adj = sp.csr_matrix(dti_adj)"
   ]
  },
  {
   "cell_type": "code",
   "execution_count": 17,
   "metadata": {},
   "outputs": [
    {
     "name": "stdout",
     "output_type": "stream",
     "text": [
      "(17142,)\n",
      "(17151,)\n"
     ]
    }
   ],
   "source": [
    "print(dti_affinity.nonzero()[0].shape)\n",
    "print(dti_adj.nonzero()[0].shape)"
   ]
  },
  {
   "cell_type": "code",
   "execution_count": 18,
   "metadata": {},
   "outputs": [],
   "source": [
    "# PPI adjacency matrix and degrees\n",
    "ppi_adj = np.zeros([n_genes,n_genes],dtype=int)\n",
    "for i in PPI.index:\n",
    "    row = gene2idx[PPI.loc[i,'Gene 1']]\n",
    "    col = gene2idx[PPI.loc[i,'Gene 2']]\n",
    "    ppi_adj[row,col]=ppi_adj[col,row]=1\n",
    "ppi_degrees = np.sum(ppi_adj,axis=0)\n",
    "ppi_adj = sp.csr_matrix(ppi_adj)"
   ]
  },
  {
   "cell_type": "code",
   "execution_count": 19,
   "metadata": {},
   "outputs": [],
   "source": [
    "# Drug Feature matrix\n",
    "drug_feat = np.zeros([n_drugs,n_semono],dtype=int)\n",
    "for i in DSE.index:\n",
    "    row = drug2idx[DSE.loc[i,'STITCH']]\n",
    "    col = se_mono_name2idx[DSE.loc[i,'Side Effect Name']]\n",
    "    drug_feat[row,col] = 1\n",
    "drug_feat = sp.csr_matrix(drug_feat)"
   ]
  },
  {
   "cell_type": "markdown",
   "metadata": {},
   "source": [
    "### Print"
   ]
  },
  {
   "cell_type": "code",
   "execution_count": 20,
   "metadata": {
    "scrolled": false
   },
   "outputs": [
    {
     "name": "stdout",
     "output_type": "stream",
     "text": [
      "Interactions (edges)\n",
      "Original number of PPI interactions: 585448\n",
      "New number of PPI interactions: 318062\n",
      "\n",
      "\n",
      "Original number of DTI interactions: 17802\n",
      "New number of DTI interactions: 17151\n",
      "\n",
      "\n",
      "Original number of DDI interactions: 1208035\n",
      "New number of DDI interactions: 24390\n",
      "\n",
      "\n",
      "Original number of DSE interactions: 81275\n",
      "New number of DSE interactions: 80716\n",
      "\n",
      "\n",
      "Original number of AF interactions: 17802\n",
      "New number of AF interactions: 17151\n",
      "\n",
      "\n",
      "Drugs and genes (nodes)\n",
      "Original number of drugs in DSE: 282\n",
      "New number of drugs in DSE: 276\n",
      "\n",
      "\n",
      "Original number drugs in DTI 280\n",
      "New number of drugs in DTI 274\n",
      "\n",
      "\n",
      "Original number of genes in DTI: 3534\n",
      "New number of genes in DTI: 3534\n",
      "\n",
      "\n",
      "Original number of genes: 18240\n",
      "New number of genes: 16814\n",
      "\n",
      "\n",
      "Original number of drugs: 282\n",
      "New number of drugs: 276\n",
      "\n",
      "\n",
      "Original number of genes in AF: 3534\n",
      "New number of genes in AF: 3534\n",
      "\n",
      "\n",
      "Original number of drugs in AF: 280\n",
      "New number of drugs in AF: 274\n",
      "\n",
      "\n",
      "Side effects\n",
      "Original number of joint side effects: 1308\n",
      "New number of joint side effects: 7\n",
      "\n",
      "\n",
      "Original number of single side effects: 8132\n",
      "New number of single side effects: 8120\n"
     ]
    }
   ],
   "source": [
    "# Interactions (edges)\n",
    "print('Interactions (edges)')\n",
    "print('Original number of PPI interactions:', orig_ppi)\n",
    "print('New number of PPI interactions:', len(PPI.index))\n",
    "print('\\n')\n",
    "print('Original number of DTI interactions:', orig_dti)\n",
    "print('New number of DTI interactions:', len(DTI.index))\n",
    "print('\\n')\n",
    "print('Original number of DDI interactions:', orig_ddi)\n",
    "print('New number of DDI interactions:', len(DDI.index))\n",
    "print('\\n')\n",
    "print('Original number of DSE interactions:', orig_dse)\n",
    "print('New number of DSE interactions:', len(DSE.index))\n",
    "print('\\n')\n",
    "print('Original number of AF interactions:', orig_af)\n",
    "print('New number of AF interactions:', len(AF.index))\n",
    "print('\\n')\n",
    "# Drugs and genes (nodes)\n",
    "print('Drugs and genes (nodes)')\n",
    "print(\"Original number of drugs in DSE:\",orig_dse_drugs)\n",
    "print(\"New number of drugs in DSE:\",dse_drugs)\n",
    "print('\\n')\n",
    "print(\"Original number drugs in DTI\",orig_dti_drugs)\n",
    "print(\"New number of drugs in DTI\",dti_drugs)\n",
    "print('\\n')\n",
    "print('Original number of genes in DTI:', orig_dti_genes)\n",
    "print('New number of genes in DTI:',dti_genes)\n",
    "print('\\n')\n",
    "print('Original number of genes:',orig_ppi_genes)\n",
    "print('New number of genes:', n_genes)\n",
    "print('\\n')\n",
    "print('Original number of drugs:',orig_ddi_drugs)\n",
    "print('New number of drugs:', n_drugs)\n",
    "print('\\n')\n",
    "print(\"Original number of genes in AF:\",orig_af_genes)\n",
    "print(\"New number of genes in AF:\",af_genes)\n",
    "print('\\n')\n",
    "print(\"Original number of drugs in AF:\",orig_af_drugs)\n",
    "print(\"New number of drugs in AF:\",af_drugs)\n",
    "print('\\n')\n",
    "# Side effects\n",
    "print('Side effects')\n",
    "print('Original number of joint side effects:',orig_se_combo)\n",
    "print('New number of joint side effects:', len(se_names))\n",
    "print('\\n')\n",
    "print('Original number of single side effects:', orig_se_mono)\n",
    "print('New number of single side effects:', n_semono)"
   ]
  },
  {
   "cell_type": "markdown",
   "metadata": {},
   "source": [
    "## Save"
   ]
  },
  {
   "cell_type": "code",
   "execution_count": 21,
   "metadata": {},
   "outputs": [],
   "source": [
    "data = {}\n",
    "# Dictionaries\n",
    "data['gene2idx'] = gene2idx\n",
    "data['drug2idx'] = drug2idx\n",
    "data['se_mono_name2idx'] = se_mono_name2idx\n",
    "data['se_combo_name2idx'] = se_combo_name2idx\n",
    "# DDI\n",
    "data['ddi_adj_list'] = ddi_adj_list\n",
    "data['ddi_degrees_list'] = ddi_degrees_list\n",
    "# DTI (&AF)\n",
    "data['dti_affinity'] = dti_affinity\n",
    "data['dti_adj'] = dti_adj\n",
    "# PPI\n",
    "data['ppi_adj'] = ppi_adj\n",
    "data['ppi_degrees'] = ppi_degrees\n",
    "# DSE\n",
    "data['drug_feat'] = drug_feat"
   ]
  },
  {
   "cell_type": "code",
   "execution_count": 23,
   "metadata": {},
   "outputs": [
    {
     "name": "stdout",
     "output_type": "stream",
     "text": [
      "./data_structures/DS/DS_real_affinity_DSE_8120_genes_16814_drugs_276_se_7\n"
     ]
    }
   ],
   "source": [
    "filename = './data_structures/DS/DS_real_affinity_DSE_' + str(n_semono) +'_genes_' +\\\n",
    "str(n_genes) + '_drugs_' + str(n_drugs) + '_se_' + str(N)\n",
    "print(filename)"
   ]
  },
  {
   "cell_type": "code",
   "execution_count": 24,
   "metadata": {},
   "outputs": [],
   "source": [
    "with open(filename, 'wb') as f:\n",
    "    pickle.dump(data, f, protocol=3)"
   ]
  },
  {
   "cell_type": "code",
   "execution_count": null,
   "metadata": {},
   "outputs": [],
   "source": []
  }
 ],
 "metadata": {
  "kernelspec": {
   "display_name": "Python 3",
   "language": "python",
   "name": "python3"
  },
  "language_info": {
   "codemirror_mode": {
    "name": "ipython",
    "version": 3
   },
   "file_extension": ".py",
   "mimetype": "text/x-python",
   "name": "python",
   "nbconvert_exporter": "python",
   "pygments_lexer": "ipython3",
   "version": "3.7.4"
  }
 },
 "nbformat": 4,
 "nbformat_minor": 2
}
