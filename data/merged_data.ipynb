{
 "cells": [
  {
   "cell_type": "markdown",
   "metadata": {},
   "source": [
    "# Merged data\n",
    "Loads the bdm data calculated in the different servers and saves it in a single file to be loaded by the deep learning model. "
   ]
  },
  {
   "cell_type": "code",
   "execution_count": 2,
   "metadata": {},
   "outputs": [],
   "source": [
    "import numpy as np\n",
    "import scipy.sparse as sp\n",
    "import pickle\n",
    "from pybdm import BDM\n",
    "from algorithms import PerturbationExperiment, NodePerturbationExperiment"
   ]
  },
  {
   "cell_type": "markdown",
   "metadata": {},
   "source": [
    "### Loading data\n",
    "The final version can receive as parameter the filename of the data shelf "
   ]
  },
  {
   "cell_type": "code",
   "execution_count": 5,
   "metadata": {},
   "outputs": [
    {
     "name": "stdout",
     "output_type": "stream",
     "text": [
      "nodebdm_ddi_list Imported successfully\n",
      "edgebdm_ddi_list Imported successfully\n",
      "vms Imported successfully\n",
      "rss Imported successfully\n",
      "total_time Imported successfully\n",
      "jobs Imported successfully\n"
     ]
    }
   ],
   "source": [
    "filename = './data_structures/ddi_bdm_se3_drugs562_juan8'\n",
    "with open(filename, 'rb') as f:\n",
    "    ddi = pickle.load(f)\n",
    "    for key in ddi.keys():\n",
    "        globals()[key]=ddi[key]\n",
    "        print(key,\"Imported successfully\")"
   ]
  },
  {
   "cell_type": "code",
   "execution_count": 6,
   "metadata": {},
   "outputs": [],
   "source": [
    "data = {}\n",
    "data['vms_ddi'] = vms\n",
    "data['time_ddi'] = total_time\n",
    "data['rss_ddi'] = rss\n",
    "with open('data_structures/decagon.pickle', 'wb') as f:\n",
    "    # Pickle the 'data' dictionary using the highest protocol available.\n",
    "    pickle.dump(data, f, protocol=2)"
   ]
  },
  {
   "cell_type": "code",
   "execution_count": 2,
   "metadata": {},
   "outputs": [
    {
     "name": "stdout",
     "output_type": "stream",
     "text": [
      "Data Structures:\n",
      "drug2idx Imported successfully\n",
      "dti_adj Imported successfully\n",
      "dti_genes Imported successfully\n",
      "ppi_degrees Imported successfully\n",
      "ddi_adj_list Imported successfully\n",
      "prot_feat Imported successfully\n",
      "ddi_degrees_list Imported successfully\n",
      "se_mono_name2idx Imported successfully\n",
      "drug_feat Imported successfully\n",
      "gene2idx Imported successfully\n",
      "dti_drugs Imported successfully\n",
      "ppi_adj Imported successfully\n",
      "BDM feature vectors:\n",
      "rss Imported successfully\n",
      "vms Imported successfully\n",
      "bdm_drugs_dti Imported successfully\n",
      "bdm_ddi_list Imported successfully\n",
      "bdm_ppi Imported successfully\n",
      "total_time Imported successfully\n",
      "bdm_genes_dti Imported successfully\n"
     ]
    }
   ],
   "source": [
    "data_decagon = shelve.open(\"./data_structures/decagon_CMM\")\n",
    "print(\"Data Structures:\")\n",
    "for key in data_decagon:\n",
    "    globals()[key]=data_decagon[key]\n",
    "    print(key,\"Imported successfully\")\n",
    "data_decagon.close()\n",
    "print(\"BDM feature vectors:\")\n",
    "data_bdm = shelve.open(\"./data_structures/bdm_CMM\")\n",
    "for key in data_bdm:\n",
    "    globals()[key]=data_bdm[key]\n",
    "    print(key,\"Imported successfully\")\n",
    "data_bdm.close()"
   ]
  },
  {
   "cell_type": "code",
   "execution_count": 3,
   "metadata": {},
   "outputs": [],
   "source": [
    "nodebdm_drugs_dti = np.array(bdm_genes_dti).reshape(-1,1)\n",
    "nodebdm_genes_dti = np.array(bdm_drugs_dti).reshape(-1,1)"
   ]
  },
  {
   "cell_type": "code",
   "execution_count": 4,
   "metadata": {},
   "outputs": [],
   "source": [
    "prot_feat = np.concatenate((prot_feat.toarray(),np.array(bdm_ppi).reshape(-1,1),\n",
    "                           nodebdm_genes_dti),axis=1)"
   ]
  },
  {
   "cell_type": "code",
   "execution_count": 5,
   "metadata": {},
   "outputs": [
    {
     "data": {
      "text/plain": [
       "(16235, 8)"
      ]
     },
     "execution_count": 5,
     "metadata": {},
     "output_type": "execute_result"
    }
   ],
   "source": [
    "prot_feat.shape"
   ]
  },
  {
   "cell_type": "code",
   "execution_count": 6,
   "metadata": {},
   "outputs": [],
   "source": [
    "arr_list = np.hstack([np.array(i[0]).reshape(-1,1) for i in bdm_ddi_list ])"
   ]
  },
  {
   "cell_type": "code",
   "execution_count": 7,
   "metadata": {},
   "outputs": [
    {
     "data": {
      "text/plain": [
       "(476, 3)"
      ]
     },
     "execution_count": 7,
     "metadata": {},
     "output_type": "execute_result"
    }
   ],
   "source": [
    "np.shape(arr_list)"
   ]
  },
  {
   "cell_type": "code",
   "execution_count": 8,
   "metadata": {},
   "outputs": [
    {
     "data": {
      "text/plain": [
       "(476, 1)"
      ]
     },
     "execution_count": 8,
     "metadata": {},
     "output_type": "execute_result"
    }
   ],
   "source": [
    "nodebdm_drugs_dti.shape"
   ]
  },
  {
   "cell_type": "code",
   "execution_count": 9,
   "metadata": {},
   "outputs": [
    {
     "data": {
      "text/plain": [
       "(476, 9411)"
      ]
     },
     "execution_count": 9,
     "metadata": {},
     "output_type": "execute_result"
    }
   ],
   "source": [
    "drug_feat.shape"
   ]
  },
  {
   "cell_type": "code",
   "execution_count": 10,
   "metadata": {},
   "outputs": [
    {
     "name": "stdout",
     "output_type": "stream",
     "text": [
      "(476, 9415)\n"
     ]
    }
   ],
   "source": [
    "drug_feat = np.concatenate((drug_feat.todense(),arr_list,nodebdm_drugs_dti),axis=1)\n",
    "print(drug_feat.shape)"
   ]
  },
  {
   "cell_type": "markdown",
   "metadata": {},
   "source": [
    "Re-exporting decagon variables to avoid inconsistencies among python versions"
   ]
  },
  {
   "cell_type": "code",
   "execution_count": 12,
   "metadata": {},
   "outputs": [],
   "source": [
    "new_feat = shelve.open('./data_structures/new_feat.dat','n',protocol=2)\n",
    "new_feat['drug_feat'] = sp.csr_matrix(drug_feat)\n",
    "new_feat['prot_feat'] = sp.csr_matrix(prot_feat)\n",
    "# Dictionaries\n",
    "new_feat['gene2idx'] = gene2idx\n",
    "new_feat['drug2idx'] = drug2idx\n",
    "new_feat['se_mono_name2idx'] = se_mono_name2idx\n",
    "#new_feat['se_combo_name2idx'] = se_combo_name2idx\n",
    "# DDI\n",
    "new_feat['ddi_adj_list'] = ddi_adj_list\n",
    "new_feat['ddi_degrees_list'] = ddi_degrees_list\n",
    "# DTI\n",
    "new_feat['dti_adj'] = dti_adj\n",
    "# PPI\n",
    "new_feat['ppi_adj'] = ppi_adj\n",
    "new_feat['ppi_degrees'] = ppi_degrees\n",
    "new_feat.close()"
   ]
  },
  {
   "cell_type": "code",
   "execution_count": null,
   "metadata": {},
   "outputs": [],
   "source": []
  }
 ],
 "metadata": {
  "kernelspec": {
   "display_name": "Python 3",
   "language": "python",
   "name": "python3"
  },
  "language_info": {
   "codemirror_mode": {
    "name": "ipython",
    "version": 3
   },
   "file_extension": ".py",
   "mimetype": "text/x-python",
   "name": "python",
   "nbconvert_exporter": "python",
   "pygments_lexer": "ipython3",
   "version": "3.7.3"
  }
 },
 "nbformat": 4,
 "nbformat_minor": 2
}
