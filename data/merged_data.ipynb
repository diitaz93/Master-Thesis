{
 "cells": [
  {
   "cell_type": "markdown",
   "metadata": {},
   "source": [
    "# Merged data\n",
    "Loads the bdm data calculated in the different servers and saves it in a single file to be loaded by the deep learning model. "
   ]
  },
  {
   "cell_type": "code",
   "execution_count": 1,
   "metadata": {},
   "outputs": [],
   "source": [
    "import numpy as np\n",
    "import scipy.sparse as sp\n",
    "import pickle\n",
    "import shelve\n",
    "from pybdm import BDM\n",
    "from algorithms import PerturbationExperiment, NodePerturbationExperiment\n",
    "import datetime"
   ]
  },
  {
   "cell_type": "markdown",
   "metadata": {},
   "source": [
    "## Loading data\n",
    "The final version can receive as parameter the filename of the data shelf "
   ]
  },
  {
   "cell_type": "markdown",
   "metadata": {},
   "source": [
    "### Database structures"
   ]
  },
  {
   "cell_type": "code",
   "execution_count": 89,
   "metadata": {},
   "outputs": [
    {
     "name": "stdout",
     "output_type": "stream",
     "text": [
      "gene2idx Imported successfully\n",
      "drug2idx Imported successfully\n",
      "se_mono_name2idx Imported successfully\n",
      "se_combo_name2idx Imported successfully\n",
      "ddi_adj_list Imported successfully\n",
      "ddi_degrees_list Imported successfully\n",
      "dti_adj Imported successfully\n",
      "ppi_adj Imported successfully\n",
      "ppi_degrees Imported successfully\n",
      "drug_feat Imported successfully\n",
      "prot_feat Imported successfully\n",
      "norm_prot_feat Imported successfully\n"
     ]
    }
   ],
   "source": [
    "filename = './data_structures/DS_se3_2020_05_26'\n",
    "with open(filename, 'rb') as f:\n",
    "    DS = pickle.load(f)\n",
    "    for key in DS.keys():\n",
    "        globals()[key]=DS[key]\n",
    "        print(key,\"Imported successfully\")"
   ]
  },
  {
   "cell_type": "code",
   "execution_count": 90,
   "metadata": {},
   "outputs": [
    {
     "name": "stdout",
     "output_type": "stream",
     "text": [
      "(513, 9479)\n"
     ]
    }
   ],
   "source": [
    "print(drug_feat.shape)"
   ]
  },
  {
   "cell_type": "markdown",
   "metadata": {},
   "source": [
    "### BDM DDI"
   ]
  },
  {
   "cell_type": "code",
   "execution_count": 91,
   "metadata": {},
   "outputs": [
    {
     "name": "stdout",
     "output_type": "stream",
     "text": [
      "nodebdm_ddi_list Imported successfully\n",
      "edgebdm_ddi_list Imported successfully\n",
      "vms_ddi Imported successfully\n",
      "rss_ddi Imported successfully\n",
      "time_ddi Imported successfully\n",
      "jobs_ddi Imported successfully\n"
     ]
    }
   ],
   "source": [
    "filename = './data_structures/ddi_bdm_se3_drugs513_juan8'\n",
    "with open(filename, 'rb') as f:\n",
    "    ddi = pickle.load(f)\n",
    "    for key in ddi.keys():\n",
    "        globals()[key]=ddi[key]\n",
    "        print(key,\"Imported successfully\")"
   ]
  },
  {
   "cell_type": "code",
   "execution_count": 92,
   "metadata": {},
   "outputs": [],
   "source": [
    "# concatenation ddi-bdm feature vectors\n",
    "nodebdm_ddi_array = np.hstack([i.reshape(-1,1) for i in nodebdm_ddi_list])\n",
    "edgebdm_ddi_array = np.hstack([i.reshape(-1,1) for i in edgebdm_ddi_list])"
   ]
  },
  {
   "cell_type": "code",
   "execution_count": 93,
   "metadata": {},
   "outputs": [
    {
     "name": "stdout",
     "output_type": "stream",
     "text": [
      "(513, 3)\n",
      "(513, 3)\n"
     ]
    }
   ],
   "source": [
    "print(nodebdm_ddi_array.shape)\n",
    "print(edgebdm_ddi_array.shape)\n",
    "nd, se = nodebdm_ddi_array.shape"
   ]
  },
  {
   "cell_type": "markdown",
   "metadata": {},
   "source": [
    "### BDM DTI"
   ]
  },
  {
   "cell_type": "code",
   "execution_count": null,
   "metadata": {},
   "outputs": [],
   "source": [
    "filename = ''\n",
    "with open(filename, 'rb') as f:\n",
    "    dti = pickle.load(f)\n",
    "    for key in dti.keys():\n",
    "        globals()[key]=dti[key]\n",
    "        print(key,\"Imported successfully\")"
   ]
  },
  {
   "cell_type": "code",
   "execution_count": null,
   "metadata": {},
   "outputs": [],
   "source": []
  },
  {
   "cell_type": "markdown",
   "metadata": {},
   "source": [
    "### BDM PPI"
   ]
  },
  {
   "cell_type": "code",
   "execution_count": null,
   "metadata": {},
   "outputs": [],
   "source": [
    "filename = ''\n",
    "with open(filename, 'rb') as f:\n",
    "    ppi = pickle.load(f)\n",
    "    for key in ppi.keys():\n",
    "        globals()[key]=ppi[key]\n",
    "        print(key,\"Imported successfully\")"
   ]
  },
  {
   "cell_type": "markdown",
   "metadata": {},
   "source": [
    "## Concatenation fo features"
   ]
  },
  {
   "cell_type": "code",
   "execution_count": null,
   "metadata": {},
   "outputs": [],
   "source": []
  },
  {
   "cell_type": "markdown",
   "metadata": {},
   "source": [
    "## Exporting"
   ]
  },
  {
   "cell_type": "code",
   "execution_count": null,
   "metadata": {},
   "outputs": [],
   "source": [
    "now = datetime.datetime.now() # current date and time\n",
    "year = now.strftime(\"%Y\")\n",
    "month = now.strftime(\"%m\")\n",
    "day = now.strftime(\"%d\")"
   ]
  },
  {
   "cell_type": "code",
   "execution_count": null,
   "metadata": {},
   "outputs": [],
   "source": [
    "filename = './data_structures/decagon_se'+se+'_genes'+ng+'_drugs'+nd+'_'+year+'_'+month+'_'+day\n",
    "new_feat = {}\n",
    "new_feat['drug_feat'] = sp.csr_matrix(drug_feat)\n",
    "new_feat['prot_feat'] = sp.csr_matrix(prot_feat)\n",
    "# Dictionaries\n",
    "new_feat['gene2idx'] = gene2idx\n",
    "new_feat['drug2idx'] = drug2idx\n",
    "new_feat['se_mono_name2idx'] = se_mono_name2idx\n",
    "new_feat['se_combo_name2idx'] = se_combo_name2idx\n",
    "# DDI\n",
    "new_feat['ddi_adj_list'] = ddi_adj_list\n",
    "new_feat['ddi_degrees_list'] = ddi_degrees_list\n",
    "# DTI\n",
    "new_feat['dti_adj'] = dti_adj\n",
    "# PPI\n",
    "new_feat['ppi_adj'] = ppi_adj\n",
    "new_feat['ppi_degrees'] = ppi_degrees\n",
    "with open(filename, 'wb') as f:\n",
    "    # Pickle the 'data' dictionary using the highest protocol available.\n",
    "    pickle.dump(new_feat, f, protocol=2)"
   ]
  },
  {
   "cell_type": "markdown",
   "metadata": {},
   "source": [
    "# CMM data"
   ]
  },
  {
   "cell_type": "code",
   "execution_count": 74,
   "metadata": {},
   "outputs": [
    {
     "name": "stdout",
     "output_type": "stream",
     "text": [
      "Data Structures:\n",
      "drug2idx Imported successfully\n",
      "dti_adj Imported successfully\n",
      "dti_genes Imported successfully\n",
      "ppi_degrees Imported successfully\n",
      "ddi_adj_list Imported successfully\n",
      "prot_feat Imported successfully\n",
      "ddi_degrees_list Imported successfully\n",
      "se_mono_name2idx Imported successfully\n",
      "drug_feat Imported successfully\n",
      "gene2idx Imported successfully\n",
      "dti_drugs Imported successfully\n",
      "ppi_adj Imported successfully\n",
      "\n",
      "\n",
      "BDM feature vectors:\n",
      "rss Imported successfully\n",
      "vms Imported successfully\n",
      "bdm_drugs_dti Imported successfully\n",
      "bdm_ddi_list Imported successfully\n",
      "bdm_ppi Imported successfully\n",
      "total_time Imported successfully\n",
      "bdm_genes_dti Imported successfully\n"
     ]
    }
   ],
   "source": [
    "data_decagon = shelve.open(\"./data_structures/decagon_CMM\")\n",
    "print(\"Data Structures:\")\n",
    "for key in data_decagon:\n",
    "    globals()[key]=data_decagon[key]\n",
    "    print(key,\"Imported successfully\")\n",
    "data_decagon.close()\n",
    "print('\\n')\n",
    "print(\"BDM feature vectors:\")\n",
    "data_bdm = shelve.open(\"./data_structures/bdm_CMM\")\n",
    "for key in data_bdm:\n",
    "    globals()[key]=data_bdm[key]\n",
    "    print(key,\"Imported successfully\")\n",
    "data_bdm.close()"
   ]
  },
  {
   "cell_type": "code",
   "execution_count": 75,
   "metadata": {},
   "outputs": [
    {
     "data": {
      "text/plain": [
       "(476, 3)"
      ]
     },
     "execution_count": 75,
     "metadata": {},
     "output_type": "execute_result"
    }
   ],
   "source": [
    "arr_ddi = np.hstack([np.array(i[0]).reshape(-1,1) for i in bdm_ddi_list ])\n",
    "arr_ddi.shape"
   ]
  },
  {
   "cell_type": "code",
   "execution_count": 77,
   "metadata": {},
   "outputs": [
    {
     "data": {
      "text/plain": [
       "(476, 1)"
      ]
     },
     "execution_count": 77,
     "metadata": {},
     "output_type": "execute_result"
    }
   ],
   "source": [
    "bdm_drugsdti = np.array(bdm_genes_dti).reshape(-1,1)\n",
    "bdm_drugsdti.shape"
   ]
  },
  {
   "cell_type": "code",
   "execution_count": 78,
   "metadata": {},
   "outputs": [
    {
     "data": {
      "text/plain": [
       "(476, 9411)"
      ]
     },
     "execution_count": 78,
     "metadata": {},
     "output_type": "execute_result"
    }
   ],
   "source": [
    "drug_feat.shape"
   ]
  },
  {
   "cell_type": "code",
   "execution_count": 80,
   "metadata": {},
   "outputs": [
    {
     "name": "stdout",
     "output_type": "stream",
     "text": [
      "(476, 9415)\n"
     ]
    }
   ],
   "source": [
    "drug_feat = np.concatenate((drug_feat.todense(),arr_ddi,bdm_drugsdti),axis=1)\n",
    "print(drug_feat.shape)"
   ]
  },
  {
   "cell_type": "code",
   "execution_count": 81,
   "metadata": {},
   "outputs": [
    {
     "data": {
      "text/plain": [
       "(16235, 1)"
      ]
     },
     "execution_count": 81,
     "metadata": {},
     "output_type": "execute_result"
    }
   ],
   "source": [
    "bdm_genesdti = np.array(bdm_drugs_dti).reshape(-1,1)\n",
    "bdm_genesdti.shape"
   ]
  },
  {
   "cell_type": "code",
   "execution_count": 85,
   "metadata": {},
   "outputs": [
    {
     "data": {
      "text/plain": [
       "(16235, 1)"
      ]
     },
     "execution_count": 85,
     "metadata": {},
     "output_type": "execute_result"
    }
   ],
   "source": [
    "bdm_ppi = np.array(bdm_ppi).reshape(-1,1)\n",
    "bdm_ppi.shape"
   ]
  },
  {
   "cell_type": "code",
   "execution_count": 86,
   "metadata": {},
   "outputs": [
    {
     "data": {
      "text/plain": [
       "(16235, 6)"
      ]
     },
     "execution_count": 86,
     "metadata": {},
     "output_type": "execute_result"
    }
   ],
   "source": [
    "prot_feat.shape"
   ]
  },
  {
   "cell_type": "code",
   "execution_count": 87,
   "metadata": {},
   "outputs": [
    {
     "data": {
      "text/plain": [
       "(16235, 8)"
      ]
     },
     "execution_count": 87,
     "metadata": {},
     "output_type": "execute_result"
    }
   ],
   "source": [
    "prot_feat = np.concatenate((prot_feat.todense(),bdm_ppi,bdm_genesdti),axis=1)\n",
    "prot_feat.shape"
   ]
  },
  {
   "cell_type": "markdown",
   "metadata": {},
   "source": [
    "Re-exporting decagon variables to avoid inconsistencies among python versions"
   ]
  },
  {
   "cell_type": "code",
   "execution_count": null,
   "metadata": {},
   "outputs": [],
   "source": [
    "filename = './data_structures/decagon_se'+\n",
    "new_feat = {}\n",
    "new_feat['drug_feat'] = sp.csr_matrix(drug_feat)\n",
    "new_feat['prot_feat'] = sp.csr_matrix(prot_feat)\n",
    "# Dictionaries\n",
    "new_feat['gene2idx'] = gene2idx\n",
    "new_feat['drug2idx'] = drug2idx\n",
    "new_feat['se_mono_name2idx'] = se_mono_name2idx\n",
    "# DDI\n",
    "new_feat['ddi_adj_list'] = ddi_adj_list\n",
    "new_feat['ddi_degrees_list'] = ddi_degrees_list\n",
    "# DTI\n",
    "new_feat['dti_adj'] = dti_adj\n",
    "# PPI\n",
    "new_feat['ppi_adj'] = ppi_adj\n",
    "new_feat['ppi_degrees'] = ppi_degrees\n",
    "with open(filename, 'wb') as f:\n",
    "    # Pickle the 'data' dictionary using the highest protocol available.\n",
    "    pickle.dump(new_feat, f, protocol=2)"
   ]
  },
  {
   "cell_type": "code",
   "execution_count": null,
   "metadata": {},
   "outputs": [],
   "source": []
  }
 ],
 "metadata": {
  "kernelspec": {
   "display_name": "Python 3",
   "language": "python",
   "name": "python3"
  },
  "language_info": {
   "codemirror_mode": {
    "name": "ipython",
    "version": 3
   },
   "file_extension": ".py",
   "mimetype": "text/x-python",
   "name": "python",
   "nbconvert_exporter": "python",
   "pygments_lexer": "ipython3",
   "version": "3.7.3"
  }
 },
 "nbformat": 4,
 "nbformat_minor": 2
}
