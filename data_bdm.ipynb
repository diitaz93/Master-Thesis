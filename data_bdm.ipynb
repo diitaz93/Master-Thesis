{
 "cells": [
  {
   "cell_type": "code",
   "execution_count": null,
   "metadata": {},
   "outputs": [],
   "source": [
    "import numpy as np\n",
    "import scipy.sparse as sp\n",
    "import time\n",
    "import os\n",
    "import psutil\n",
    "import shelve\n",
    "from pybdm import BDM\n",
    "from pybdm.utils import decompose_dataset\n",
    "from joblib import Parallel, delayed\n",
    "from node import NodePerturbationExperiment"
   ]
  },
  {
   "cell_type": "code",
   "execution_count": null,
   "metadata": {},
   "outputs": [],
   "source": [
    "# psutil & time BEGIN\n",
    "start = time.time() #in seconds\n",
    "pid = os.getpid()\n",
    "ps= psutil.Process(pid)"
   ]
  },
  {
   "cell_type": "code",
   "execution_count": null,
   "metadata": {},
   "outputs": [],
   "source": [
    "input_data = shelve.open('./results/decagon')\n",
    "for key in input_data:\n",
    "    globals()[key]=input_data[key]\n",
    "input_data.close()\n",
    "print('Input data loaded')\n",
    "bdm = BDM(ndim=2)"
   ]
  },
  {
   "cell_type": "code",
   "execution_count": null,
   "metadata": {},
   "outputs": [],
   "source": [
    "node_per = NodePerturbationExperiment(bdm,np.array(ppi_adj.todense())\n",
    "                                      ,metric='bdm',bipartite_network=False)\n",
    "bdm_ppi = node_per.run()\n",
    "print('BDM for PPI calculated')"
   ]
  },
  {
   "cell_type": "code",
   "execution_count": null,
   "metadata": {},
   "outputs": [],
   "source": [
    "node_per = NodePerturbationExperiment(bdm,np.array(dti_adj.todense())\n",
    "                                      ,metric='bdm',bipartite_network=True)\n",
    "bdm_drugs_dti,bdm_genes_dti = node_per.run()\n",
    "print('BDM for DTI calculated')"
   ]
  },
  {
   "cell_type": "code",
   "execution_count": null,
   "metadata": {},
   "outputs": [],
   "source": [
    "bdm_ddi_list = []\n",
    "for i in ddi_adj_list:\n",
    "    node_per = NodePerturbationExperiment(bdm,np.array(i.todense())\n",
    "                                          ,metric='bdm',bipartite_network=False)\n",
    "    print('next ddi matrix')\n",
    "    bdm_ddi_list.append(node_per.run())\n",
    "print('BDM for DDI calculated')"
   ]
  },
  {
   "cell_type": "code",
   "execution_count": null,
   "metadata": {},
   "outputs": [],
   "source": [
    "memUse = ps.memory_info()\n",
    "total_time=time.time()-start\n",
    "print('Time and memory calculated')"
   ]
  },
  {
   "cell_type": "code",
   "execution_count": null,
   "metadata": {},
   "outputs": [],
   "source": [
    "output_data = shelve.open('./results/bdm','n',protocol=2)\n",
    "output_data['bdm_ppi'] = bdm_ppi\n",
    "output_data['bdm_drugs_dti'] = bdm_drugs_dti\n",
    "output_data['bdm_genes_dti'] = bdm_genes_dti\n",
    "output_data['bdm_ddi_list'] = bdm_ddi_list\n",
    "output_data['vms'] = memUse.vms\n",
    "output_data['rss'] = memUse.rss\n",
    "output_data['total_time'] = total_time\n",
    "output_data.close()\n",
    "print('Output data exported')"
   ]
  },
  {
   "cell_type": "code",
   "execution_count": null,
   "metadata": {},
   "outputs": [],
   "source": []
  }
 ],
 "metadata": {
  "kernelspec": {
   "display_name": "Python 3",
   "language": "python",
   "name": "python3"
  },
  "language_info": {
   "codemirror_mode": {
    "name": "ipython",
    "version": 3
   },
   "file_extension": ".py",
   "mimetype": "text/x-python",
   "name": "python",
   "nbconvert_exporter": "python",
   "pygments_lexer": "ipython3",
   "version": "3.7.3"
  }
 },
 "nbformat": 4,
 "nbformat_minor": 2
}
