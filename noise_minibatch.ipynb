{
 "cells": [
  {
   "cell_type": "code",
   "execution_count": 1,
   "metadata": {},
   "outputs": [],
   "source": [
    "from __future__ import division\n",
    "from __future__ import print_function\n",
    "import tensorflow as tf\n",
    "import numpy as np\n",
    "import scipy.sparse as sp\n",
    "import pickle\n",
    "from decagon.deep.minibatch import EdgeMinibatchIterator"
   ]
  },
  {
   "cell_type": "code",
   "execution_count": 2,
   "metadata": {},
   "outputs": [],
   "source": [
    "noise = 0.05"
   ]
  },
  {
   "cell_type": "code",
   "execution_count": 30,
   "metadata": {},
   "outputs": [],
   "source": [
    "mb_file = 'data/data_structures/MINIBATCH/MINIBATCH_toy_genes_500_drugs_400_se_4_batchsize_512_valsize_0.15'\n",
    "with open(mb_file, 'rb') as f:\n",
    "    minibatch = pickle.load(f)"
   ]
  },
  {
   "cell_type": "code",
   "execution_count": 31,
   "metadata": {},
   "outputs": [
    {
     "name": "stdout",
     "output_type": "stream",
     "text": [
      "(1, 53, 2)\n",
      "(1, 53, 2)\n",
      "(1, 92, 2)\n",
      "(4,)\n"
     ]
    }
   ],
   "source": [
    "for edge in minibatch.test_edges:\n",
    "    #for p in minibatch.test_edges[edge]:\n",
    "    print(np.shape(minibatch.test_edges[edge]))"
   ]
  },
  {
   "cell_type": "code",
   "execution_count": 32,
   "metadata": {},
   "outputs": [
    {
     "name": "stdout",
     "output_type": "stream",
     "text": [
      "Edge: (0, 1) 0\n",
      "Number of edges: 53\n",
      "Number of noise edges: 5\n",
      "Number of items changed from false to true 2\n",
      "Number of items changed from true to false 3\n",
      "Temporal extended length 55\n",
      "Temporal extended length 56\n",
      "Final length 52\n",
      "Final length 54\n",
      "Edge: (1, 0) 0\n",
      "Number of edges: 53\n",
      "Number of noise edges: 5\n",
      "Number of items changed from false to true 2\n",
      "Number of items changed from true to false 3\n",
      "Temporal extended length 55\n",
      "Temporal extended length 56\n",
      "Final length 52\n",
      "Final length 54\n",
      "Edge: (0, 0) 0\n",
      "Number of edges: 92\n",
      "Number of noise edges: 9\n",
      "Number of items changed from false to true 1\n",
      "Number of items changed from true to false 8\n",
      "Temporal extended length 93\n",
      "Temporal extended length 100\n",
      "Final length 85\n",
      "Final length 99\n",
      "Edge: (1, 1) 0\n",
      "Number of edges: 3112\n",
      "Number of noise edges: 311\n",
      "Number of items changed from false to true 161\n",
      "Number of items changed from true to false 150\n",
      "Temporal extended length 3273\n",
      "Temporal extended length 3262\n",
      "Final length 3125\n",
      "Final length 3104\n",
      "Edge: (1, 1) 1\n",
      "Number of edges: 1511\n",
      "Number of noise edges: 151\n",
      "Number of items changed from false to true 79\n",
      "Number of items changed from true to false 72\n",
      "Temporal extended length 1590\n",
      "Temporal extended length 1583\n",
      "Final length 1520\n",
      "Final length 1506\n",
      "Edge: (1, 1) 2\n",
      "Number of edges: 445\n",
      "Number of noise edges: 44\n",
      "Number of items changed from false to true 22\n",
      "Number of items changed from true to false 22\n",
      "Temporal extended length 467\n",
      "Temporal extended length 467\n",
      "Final length 445\n",
      "Final length 445\n",
      "Edge: (1, 1) 3\n",
      "Number of edges: 57\n",
      "Number of noise edges: 5\n",
      "Number of items changed from false to true 2\n",
      "Number of items changed from true to false 3\n",
      "Temporal extended length 59\n",
      "Temporal extended length 60\n",
      "Final length 56\n",
      "Final length 58\n"
     ]
    }
   ],
   "source": [
    "for edge in minibatch.test_edges:\n",
    "    for p in range(np.shape(minibatch.test_edges[edge])[0]):\n",
    "        print('Edge:',edge,p)\n",
    "        data_true = minibatch.test_edges[edge][p]\n",
    "        data_false = minibatch.test_edges_false[edge][p]\n",
    "        assert len(data_true)==len(data_false), 'Dimension of true and false mismatch'\n",
    "        l = len(data_true)\n",
    "        print('Number of edges:',l)\n",
    "        #data = np.concatenate((data_true.reshape(l,2,1),data_false.reshape(l,2,1)),axis=2)\n",
    "        full_idx = np.arange(2*l)\n",
    "        n_idx = np.floor(noise*2*l).astype(np.int)\n",
    "        idx = np.random.choice(full_idx,size=n_idx)\n",
    "        col = np.zeros(len(idx))\n",
    "        print('Number of noise edges:',len(idx))\n",
    "        # We choose a convention that indices from l to 2l are from the true dataset\n",
    "        for i in range(len(idx)):\n",
    "            if idx[i] >= l:\n",
    "                idx[i] = idx[i]-l\n",
    "                col[i] = 1\n",
    "        col = col.astype(np.bool)\n",
    "        false_to_true = idx[~col]\n",
    "        print('Number of items changed from false to true',len(false_to_true))\n",
    "        true_to_false = idx[col]\n",
    "        print('Number of items changed from true to false',len(true_to_false))\n",
    "        data_true = np.concatenate((data_true,data_false[false_to_true]),axis=0)\n",
    "        print('Temporal extended length',len(data_true))\n",
    "        data_false = np.concatenate((data_false,data_true[true_to_false]),axis=0)\n",
    "        print('Temporal extended length',len(data_false))\n",
    "        minibatch.test_edges[edge][p] = np.delete(data_true, true_to_false, axis=0)\n",
    "        print('Final length',len(minibatch.test_edges[edge][p]))\n",
    "        minibatch.test_edges_false[edge][p] = np.delete(data_false, false_to_true, axis=0)\n",
    "        print('Final length',len(minibatch.test_edges_false[edge][p]))"
   ]
  },
  {
   "cell_type": "code",
   "execution_count": null,
   "metadata": {},
   "outputs": [],
   "source": []
  }
 ],
 "metadata": {
  "kernelspec": {
   "display_name": "Python 2",
   "language": "python",
   "name": "python2"
  },
  "language_info": {
   "codemirror_mode": {
    "name": "ipython",
    "version": 2
   },
   "file_extension": ".py",
   "mimetype": "text/x-python",
   "name": "python",
   "nbconvert_exporter": "python",
   "pygments_lexer": "ipython2",
   "version": "2.7.15"
  }
 },
 "nbformat": 4,
 "nbformat_minor": 2
}
