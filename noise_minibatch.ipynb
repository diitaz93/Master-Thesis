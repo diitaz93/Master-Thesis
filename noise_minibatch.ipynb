{
 "cells": [
  {
   "cell_type": "markdown",
   "metadata": {},
   "source": [
    "# Noise minibatch"
   ]
  },
  {
   "cell_type": "code",
   "execution_count": 1,
   "metadata": {},
   "outputs": [],
   "source": [
    "# PYTHON 2\n",
    "from __future__ import print_function\n",
    "import numpy as np\n",
    "import pickle\n",
    "from decagon.deep.minibatch import EdgeMinibatchIterator"
   ]
  },
  {
   "cell_type": "code",
   "execution_count": 2,
   "metadata": {},
   "outputs": [],
   "source": [
    "noise = 0.05"
   ]
  },
  {
   "cell_type": "code",
   "execution_count": 3,
   "metadata": {},
   "outputs": [],
   "source": [
    "mb_file = 'data/data_structures/MINIBATCH/MINIBATCH_toy_genes_500_drugs_400_se_4_batchsize_512_valsize_0.15'\n",
    "with open(mb_file, 'rb') as f:\n",
    "    minibatch = pickle.load(f)"
   ]
  },
  {
   "cell_type": "code",
   "execution_count": 4,
   "metadata": {},
   "outputs": [],
   "source": [
    "for edge in minibatch.test_edges:\n",
    "    for p in range(np.shape(minibatch.test_edges[edge])[0]):\n",
    "        data_true = minibatch.test_edges[edge][p]\n",
    "        data_false = minibatch.test_edges_false[edge][p]\n",
    "        assert len(data_true)==len(data_false), 'Dimension of true and false mismatch'\n",
    "        l = len(data_true)\n",
    "        full_idx = np.arange(2*l)\n",
    "        n_idx = np.floor(noise*2*l).astype(np.int)\n",
    "        idx = np.random.choice(full_idx,size=n_idx)\n",
    "        col = np.zeros(len(idx))\n",
    "        # We choose a convention that indices from l to 2l are from the true dataset\n",
    "        for i in range(len(idx)):\n",
    "            if idx[i] >= l:\n",
    "                idx[i] = idx[i]-l\n",
    "                col[i] = 1\n",
    "        col = col.astype(np.bool)\n",
    "        false_to_true = idx[~col]\n",
    "        true_to_false = idx[col]\n",
    "        data_true = np.concatenate((data_true,data_false[false_to_true]),axis=0)\n",
    "        data_false = np.concatenate((data_false,data_true[true_to_false]),axis=0)\n",
    "        minibatch.test_edges[edge][p] = np.delete(data_true, true_to_false, axis=0)\n",
    "        minibatch.test_edges_false[edge][p] = np.delete(data_false, false_to_true, axis=0)"
   ]
  },
  {
   "cell_type": "code",
   "execution_count": 7,
   "metadata": {},
   "outputs": [
    {
     "name": "stdout",
     "output_type": "stream",
     "text": [
      "data/data_structures/MINIBATCH/MINIBATCH_toy_genes_500_drugs_400_se_4_batchsize_512_valsize_0.15_noise_0.05\n"
     ]
    }
   ],
   "source": [
    "out_file = mb_file + '_noise_' + str(noise)\n",
    "print(out_file)"
   ]
  },
  {
   "cell_type": "code",
   "execution_count": 8,
   "metadata": {},
   "outputs": [],
   "source": [
    "with open(out_file,'wb') as f:\n",
    "    pickle.dump(minibatch, f, protocol=2)"
   ]
  },
  {
   "cell_type": "code",
   "execution_count": null,
   "metadata": {},
   "outputs": [],
   "source": []
  }
 ],
 "metadata": {
  "kernelspec": {
   "display_name": "Python 2",
   "language": "python",
   "name": "python2"
  },
  "language_info": {
   "codemirror_mode": {
    "name": "ipython",
    "version": 2
   },
   "file_extension": ".py",
   "mimetype": "text/x-python",
   "name": "python",
   "nbconvert_exporter": "python",
   "pygments_lexer": "ipython2",
   "version": "2.7.18"
  }
 },
 "nbformat": 4,
 "nbformat_minor": 2
}
