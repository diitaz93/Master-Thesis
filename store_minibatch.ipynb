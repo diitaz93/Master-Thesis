{
 "cells": [
  {
   "cell_type": "markdown",
   "metadata": {},
   "source": [
    "# Store Minibatch\n",
    "Saves the minibatch data structures in a `pickle` file"
   ]
  },
  {
   "cell_type": "code",
   "execution_count": 1,
   "metadata": {},
   "outputs": [],
   "source": [
    "from __future__ import print_function\n",
    "import time\n",
    "import datetime\n",
    "import tensorflow as tf\n",
    "import numpy as np\n",
    "import pickle\n",
    "from decagon.deep.minibatch import EdgeMinibatchIterator"
   ]
  },
  {
   "cell_type": "code",
   "execution_count": 2,
   "metadata": {},
   "outputs": [],
   "source": [
    "start = time.time() #in seconds\n",
    "# Path to input file. Goes as parameter in script\n",
    "in_file = './data/data_structures/DECAGON/DECAGON_toy_genes_500_drugs_400_se_4'"
   ]
  },
  {
   "cell_type": "code",
   "execution_count": 3,
   "metadata": {},
   "outputs": [],
   "source": [
    "words = in_file.split('_')\n",
    "DSE = False\n",
    "BDM = False\n",
    "DOCK = False\n",
    "BIND = False\n",
    "if 'DSE' in words: DSE = True\n",
    "if 'BDM' in words: BDM = True\n",
    "if 'docking' in words: DOCK = True\n",
    "elif 'binding' in words: BIND = True\n",
    "d_text = DOCK*'_docking'+BIND*'_binding'"
   ]
  },
  {
   "cell_type": "code",
   "execution_count": 4,
   "metadata": {
    "scrolled": true
   },
   "outputs": [
    {
     "name": "stdout",
     "output_type": "stream",
     "text": [
      "edge2name Imported successfully\n",
      "se_mono_name2idx Imported successfully\n",
      "gene2idx Imported successfully\n",
      "nonzero_feat Imported successfully\n",
      "edge_type2dim Imported successfully\n",
      "adj_mats_orig Imported successfully\n",
      "edge_type2decoder Imported successfully\n",
      "se_combo_name2idx Imported successfully\n",
      "drug2idx Imported successfully\n",
      "degrees Imported successfully\n",
      "edge_types Imported successfully\n",
      "num_edge_types Imported successfully\n",
      "num_feat Imported successfully\n",
      "feat Imported successfully\n"
     ]
    }
   ],
   "source": [
    "with open(in_file, 'rb') as f:\n",
    "    DS = pickle.load(f)\n",
    "    for key in DS.keys():\n",
    "        globals()[key]=DS[key]\n",
    "        print(key,\"Imported successfully\")"
   ]
  },
  {
   "cell_type": "code",
   "execution_count": 5,
   "metadata": {},
   "outputs": [
    {
     "name": "stdout",
     "output_type": "stream",
     "text": [
      "500 400 4 600 False\n"
     ]
    }
   ],
   "source": [
    "n_genes = len(gene2idx)\n",
    "n_drugs = len(drug2idx)\n",
    "n_se_combo = len(se_combo_name2idx)\n",
    "n_se_mono = len(se_mono_name2idx)\n",
    "print(n_genes,n_drugs,n_se_combo,n_se_mono,DSE)"
   ]
  },
  {
   "cell_type": "code",
   "execution_count": 6,
   "metadata": {},
   "outputs": [],
   "source": [
    "val_test_size = 0.15\n",
    "batch_size = 128"
   ]
  },
  {
   "cell_type": "code",
   "execution_count": 7,
   "metadata": {
    "scrolled": true
   },
   "outputs": [
    {
     "name": "stdout",
     "output_type": "stream",
     "text": [
      "Create minibatch iterator\n",
      "Minibatch edge type: (0, 1, 0)\n",
      "Constructing test edges= 0000/0053\n",
      "Constructing val edges= 0000/0053\n",
      "Constructing train edges= 0000/0253\n",
      "Train edges= 0253\n",
      "Val edges= 0053\n",
      "Test edges= 0053\n",
      "Minibatch edge type: (1, 0, 0)\n",
      "Constructing test edges= 0000/0053\n",
      "Constructing val edges= 0000/0053\n",
      "Constructing train edges= 0000/0253\n",
      "Train edges= 0253\n",
      "Val edges= 0053\n",
      "Test edges= 0053\n",
      "Minibatch edge type: (0, 0, 0)\n",
      "Constructing test edges= 0000/0092\n",
      "Constructing val edges= 0000/0092\n",
      "Constructing train edges= 0000/0431\n",
      "Train edges= 0431\n",
      "Val edges= 0092\n",
      "Test edges= 0092\n",
      "Minibatch edge type: (1, 1, 0)\n",
      "Constructing test edges= 0000/3112\n",
      "Constructing test edges= 0000/3112\n"
     ]
    },
    {
     "name": "stderr",
     "output_type": "stream",
     "text": [
      "decagon/deep/minibatch.py:78: RuntimeWarning: divide by zero encountered in power\n",
      "  rowdegree_mat_inv = sp.diags(np.nan_to_num(np.power(rowsum, -0.5)).flatten())\n",
      "decagon/deep/minibatch.py:79: RuntimeWarning: divide by zero encountered in power\n",
      "  coldegree_mat_inv = sp.diags(np.nan_to_num(np.power(colsum, -0.5)).flatten())\n"
     ]
    },
    {
     "name": "stdout",
     "output_type": "stream",
     "text": [
      "Constructing test edges= 1000/3112\n",
      "Constructing test edges= 2000/3112\n",
      "Constructing test edges= 3000/3112\n",
      "Constructing val edges= 0000/3112\n",
      "Constructing val edges= 1000/3112\n",
      "Constructing val edges= 2000/3112\n",
      "Constructing val edges= 3000/3112\n",
      "Constructing val edges= 3000/3112\n",
      "Constructing train edges= 0000/14529\n",
      "Constructing train edges= 1000/14529\n",
      "Constructing train edges= 2000/14529\n",
      "Constructing train edges= 2000/14529\n",
      "Constructing train edges= 3000/14529\n",
      "Constructing train edges= 4000/14529\n",
      "Constructing train edges= 5000/14529\n",
      "Constructing train edges= 6000/14529\n",
      "Constructing train edges= 6000/14529\n",
      "Constructing train edges= 7000/14529\n",
      "Constructing train edges= 8000/14529\n",
      "Constructing train edges= 9000/14529\n",
      "Constructing train edges= 9000/14529\n",
      "Constructing train edges= 10000/14529\n",
      "Constructing train edges= 10000/14529\n",
      "Constructing train edges= 10000/14529\n",
      "Constructing train edges= 11000/14529\n",
      "Constructing train edges= 12000/14529\n",
      "Constructing train edges= 12000/14529\n",
      "Constructing train edges= 12000/14529\n",
      "Constructing train edges= 12000/14529\n",
      "Constructing train edges= 13000/14529\n",
      "Constructing train edges= 14000/14529\n",
      "Train edges= 14529\n",
      "Val edges= 3112\n",
      "Test edges= 3112\n",
      "Minibatch edge type: (1, 1, 1)\n",
      "Constructing test edges= 0000/1511\n",
      "Constructing test edges= 1000/1511\n",
      "Constructing val edges= 0000/1511\n",
      "Constructing val edges= 1000/1511\n",
      "Constructing train edges= 0000/7054\n",
      "Constructing train edges= 1000/7054\n",
      "Constructing train edges= 2000/7054\n",
      "Constructing train edges= 3000/7054\n",
      "Constructing train edges= 4000/7054\n",
      "Constructing train edges= 5000/7054\n",
      "Constructing train edges= 6000/7054\n",
      "Constructing train edges= 7000/7054\n",
      "Train edges= 7054\n",
      "Val edges= 1511\n",
      "Test edges= 1511\n",
      "Minibatch edge type: (1, 1, 2)\n",
      "Constructing test edges= 0000/0445\n",
      "Constructing val edges= 0000/0445\n",
      "Constructing train edges= 0000/2081\n",
      "Constructing train edges= 1000/2081\n",
      "Constructing train edges= 2000/2081\n",
      "Train edges= 2081\n",
      "Val edges= 0445\n",
      "Test edges= 0445\n",
      "Minibatch edge type: (1, 1, 3)\n",
      "Constructing test edges= 0000/0057\n",
      "Constructing val edges= 0000/0057\n",
      "Constructing train edges= 0000/0267\n",
      "Train edges= 0267\n",
      "Val edges= 0057\n",
      "Test edges= 0057\n"
     ]
    }
   ],
   "source": [
    "print(\"Create minibatch iterator\")\n",
    "minibatch = EdgeMinibatchIterator(\n",
    "    adj_mats=adj_mats_orig,\n",
    "    feat=feat,\n",
    "    edge_types=edge_types,\n",
    "    batch_size=batch_size,\n",
    "    val_test_size=val_test_size)"
   ]
  },
  {
   "cell_type": "code",
   "execution_count": 9,
   "metadata": {},
   "outputs": [
    {
     "name": "stdout",
     "output_type": "stream",
     "text": [
      "data/data_structures/MINIBATCH/MINIBATCH_toy_genes_500_drugs_400_se_4_batchsize_128_valsize_0.15\n"
     ]
    }
   ],
   "source": [
    "out_file = 'data/data_structures/MINIBATCH/MINIBATCH_'+words[2]+d_text+\\\n",
    "            DSE*('_DSE_'+str(n_se_mono))+BDM*('_BDM')+'_genes_'+str(n_genes)+'_drugs_'+\\\n",
    "            str(n_drugs)+'_se_'+str(n_se_combo)+'_batchsize_'+str(batch_size)+\\\n",
    "            '_valsize_'+str(val_test_size)\n",
    "print(out_file)"
   ]
  },
  {
   "cell_type": "code",
   "execution_count": null,
   "metadata": {},
   "outputs": [],
   "source": [
    "with open(out_file,'wb') as f:\n",
    "    pickle.dump(minibatch, f, protocol=2)"
   ]
  },
  {
   "cell_type": "code",
   "execution_count": null,
   "metadata": {},
   "outputs": [],
   "source": [
    "print('Total time:', datetime.timedelta(seconds=time.time()-start))"
   ]
  },
  {
   "cell_type": "markdown",
   "metadata": {},
   "source": [
    "## Add noise"
   ]
  },
  {
   "cell_type": "code",
   "execution_count": null,
   "metadata": {},
   "outputs": [],
   "source": [
    "noise = 0.05"
   ]
  },
  {
   "cell_type": "code",
   "execution_count": null,
   "metadata": {},
   "outputs": [],
   "source": [
    "minibatch.test_edges[0,0][0].shape"
   ]
  },
  {
   "cell_type": "code",
   "execution_count": null,
   "metadata": {},
   "outputs": [],
   "source": []
  },
  {
   "cell_type": "code",
   "execution_count": null,
   "metadata": {},
   "outputs": [],
   "source": []
  },
  {
   "cell_type": "code",
   "execution_count": null,
   "metadata": {},
   "outputs": [],
   "source": []
  },
  {
   "cell_type": "code",
   "execution_count": null,
   "metadata": {},
   "outputs": [],
   "source": []
  },
  {
   "cell_type": "code",
   "execution_count": null,
   "metadata": {},
   "outputs": [],
   "source": []
  },
  {
   "cell_type": "code",
   "execution_count": null,
   "metadata": {},
   "outputs": [],
   "source": []
  }
 ],
 "metadata": {
  "kernelspec": {
   "display_name": "Python 2",
   "language": "python",
   "name": "python2"
  },
  "language_info": {
   "codemirror_mode": {
    "name": "ipython",
    "version": 2
   },
   "file_extension": ".py",
   "mimetype": "text/x-python",
   "name": "python",
   "nbconvert_exporter": "python",
   "pygments_lexer": "ipython2",
   "version": "2.7.15"
  }
 },
 "nbformat": 4,
 "nbformat_minor": 2
}
