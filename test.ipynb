{
 "cells": [
  {
   "cell_type": "markdown",
   "metadata": {},
   "source": [
    "# DECAGON Training\n",
    "Test notebook for training"
   ]
  },
  {
   "cell_type": "markdown",
   "metadata": {},
   "source": [
    "## Python 2"
   ]
  },
  {
   "cell_type": "code",
   "execution_count": 1,
   "metadata": {},
   "outputs": [],
   "source": [
    "from __future__ import division\n",
    "from __future__ import print_function\n",
    "from operator import itemgetter\n",
    "from itertools import combinations, chain\n",
    "import time\n",
    "import os\n",
    "import tensorflow as tf\n",
    "import numpy as np\n",
    "import networkx as nx\n",
    "import scipy.sparse as sp\n",
    "from sklearn import metrics\n",
    "import pandas as pd\n",
    "import psutil\n",
    "import pickle\n",
    "from decagon.deep.optimizer import DecagonOptimizer\n",
    "from decagon.deep.model import DecagonModel\n",
    "from decagon.deep.minibatch import EdgeMinibatchIterator\n",
    "from decagon.utility import rank_metrics, preprocessing"
   ]
  },
  {
   "cell_type": "code",
   "execution_count": 2,
   "metadata": {},
   "outputs": [
    {
     "name": "stdout",
     "output_type": "stream",
     "text": [
      "Populating the interactive namespace from numpy and matplotlib\n"
     ]
    }
   ],
   "source": [
    "%pylab inline"
   ]
  },
  {
   "cell_type": "code",
   "execution_count": 3,
   "metadata": {},
   "outputs": [],
   "source": [
    "# Train on GPU\n",
    "#os.environ[\"CUDA_DEVICE_ORDER\"] = 'PCI_BUS_ID'\n",
    "#os.environ[\"CUDA_VISIBLE_DEVICES\"] = '0'\n",
    "#config = tf.ConfigProto()\n",
    "#config.gpu_options.allow_growth = True"
   ]
  },
  {
   "cell_type": "code",
   "execution_count": 4,
   "metadata": {},
   "outputs": [],
   "source": [
    "# psutil & time BEGIN\n",
    "start = time.time() #in seconds\n",
    "pid = os.getpid()\n",
    "ps= psutil.Process(pid)"
   ]
  },
  {
   "cell_type": "markdown",
   "metadata": {},
   "source": [
    "# Import Data from previous computations"
   ]
  },
  {
   "cell_type": "code",
   "execution_count": 8,
   "metadata": {},
   "outputs": [],
   "source": [
    "# Path to input file. Goes as parameter in script\n",
    "in_file = './data/data_structures/DECAGON/DECAGON_real_DSE_9688_BDM_genes_16269_drugs_630_se_6'"
   ]
  },
  {
   "cell_type": "code",
   "execution_count": 9,
   "metadata": {
    "scrolled": true
   },
   "outputs": [],
   "source": [
    "words = in_file.split('_')\n",
    "DSE = False\n",
    "if 'DSE' in words: DSE = True"
   ]
  },
  {
   "cell_type": "code",
   "execution_count": 10,
   "metadata": {},
   "outputs": [
    {
     "name": "stdout",
     "output_type": "stream",
     "text": [
      "se_mono_name2idx Imported successfully\n",
      "gene2idx Imported successfully\n",
      "nonzero_feat Imported successfully\n",
      "edge_type2dim Imported successfully\n",
      "adj_mats_orig Imported successfully\n",
      "edge_type2decoder Imported successfully\n",
      "se_combo_name2idx Imported successfully\n",
      "drug2idx Imported successfully\n",
      "degrees Imported successfully\n",
      "edge_types Imported successfully\n",
      "num_edge_types Imported successfully\n",
      "num_feat Imported successfully\n",
      "feat Imported successfully\n"
     ]
    }
   ],
   "source": [
    "with open(in_file, 'rb') as f:\n",
    "    DS = pickle.load(f)\n",
    "    for key in DS.keys():\n",
    "        globals()[key]=DS[key]\n",
    "        print(key,\"Imported successfully\")"
   ]
  },
  {
   "cell_type": "code",
   "execution_count": 11,
   "metadata": {},
   "outputs": [
    {
     "name": "stdout",
     "output_type": "stream",
     "text": [
      "16269 630 6 9688 True\n"
     ]
    }
   ],
   "source": [
    "n_genes = len(gene2idx)\n",
    "n_drugs = len(drug2idx)\n",
    "n_se_combo = len(se_combo_name2idx)\n",
    "n_se_mono = len(se_mono_name2idx)\n",
    "print(n_genes,n_drugs,n_se_combo,n_se_mono,DSE)"
   ]
  },
  {
   "cell_type": "markdown",
   "metadata": {},
   "source": [
    "# Functions"
   ]
  },
  {
   "cell_type": "code",
   "execution_count": 12,
   "metadata": {},
   "outputs": [],
   "source": [
    "def get_accuracy_scores(edges_pos, edges_neg, edge_type):\n",
    "    feed_dict.update({placeholders['dropout']: 0})\n",
    "    feed_dict.update({placeholders['batch_edge_type_idx']: minibatch.edge_type2idx[edge_type]})\n",
    "    feed_dict.update({placeholders['batch_row_edge_type']: edge_type[0]})\n",
    "    feed_dict.update({placeholders['batch_col_edge_type']: edge_type[1]})\n",
    "    rec = sess.run(opt.predictions, feed_dict=feed_dict)\n",
    "\n",
    "    def sigmoid(x):\n",
    "        return 1. / (1 + np.exp(-x))\n",
    "\n",
    "    # Predict on test set of edges\n",
    "    preds = []\n",
    "    actual = []\n",
    "    predicted = []\n",
    "    edge_ind = 0\n",
    "    for u, v in edges_pos[edge_type[:2]][edge_type[2]]:\n",
    "        score = sigmoid(rec[u, v])\n",
    "        preds.append(score)\n",
    "        assert adj_mats_orig[edge_type[:2]][edge_type[2]][u,v] == 1, 'Problem 1'\n",
    "\n",
    "        actual.append(edge_ind)\n",
    "        predicted.append((score, edge_ind))\n",
    "        edge_ind += 1\n",
    "\n",
    "    preds_neg = []\n",
    "    for u, v in edges_neg[edge_type[:2]][edge_type[2]]:\n",
    "        score = sigmoid(rec[u, v])\n",
    "        preds_neg.append(score)\n",
    "        assert adj_mats_orig[edge_type[:2]][edge_type[2]][u,v] == 0, 'Problem 0'\n",
    "\n",
    "        predicted.append((score, edge_ind))\n",
    "        edge_ind += 1\n",
    "\n",
    "    preds_all = np.hstack([preds, preds_neg])\n",
    "    preds_all = np.nan_to_num(preds_all)\n",
    "    labels_all = np.hstack([np.ones(len(preds)), np.zeros(len(preds_neg))])\n",
    "    predicted = list(zip(*sorted(predicted, reverse=True, key=itemgetter(0))))[1]\n",
    "\n",
    "    roc_sc = metrics.roc_auc_score(labels_all, preds_all)\n",
    "    aupr_sc = metrics.average_precision_score(labels_all, preds_all)\n",
    "    apk_sc = rank_metrics.apk(actual, predicted, k=50)\n",
    "\n",
    "    return roc_sc, aupr_sc, apk_sc\n",
    "\n",
    "\n",
    "def construct_placeholders(edge_types):\n",
    "    placeholders = {\n",
    "        'batch': tf.placeholder(tf.int32, name='batch'),\n",
    "        'batch_edge_type_idx': tf.placeholder(tf.int32, shape=(), name='batch_edge_type_idx'),\n",
    "        'batch_row_edge_type': tf.placeholder(tf.int32, shape=(), name='batch_row_edge_type'),\n",
    "        'batch_col_edge_type': tf.placeholder(tf.int32, shape=(), name='batch_col_edge_type'),\n",
    "        'degrees': tf.placeholder(tf.int32),\n",
    "        'dropout': tf.placeholder_with_default(0., shape=()),\n",
    "    }\n",
    "    placeholders.update({\n",
    "        'adj_mats_%d,%d,%d' % (i, j, k): tf.sparse_placeholder(tf.float32)\n",
    "        for i, j in edge_types for k in range(edge_types[i,j])})\n",
    "    placeholders.update({\n",
    "        'feat_%d' % i: tf.sparse_placeholder(tf.float32)\n",
    "        for i, _ in edge_types})\n",
    "    return placeholders"
   ]
  },
  {
   "cell_type": "markdown",
   "metadata": {},
   "source": [
    "## Settings and placeholders"
   ]
  },
  {
   "cell_type": "code",
   "execution_count": 13,
   "metadata": {},
   "outputs": [],
   "source": [
    "val_test_size = 0.05\n",
    "flags = tf.app.flags\n",
    "FLAGS = flags.FLAGS\n",
    "flags.DEFINE_integer('neg_sample_size', 1, 'Negative sample size.')\n",
    "flags.DEFINE_float('learning_rate', 0.001, 'Initial learning rate.')\n",
    "flags.DEFINE_integer('epochs', 10, 'Number of epochs to train.')\n",
    "flags.DEFINE_integer('hidden1', 64, 'Number of units in hidden layer 1.')\n",
    "flags.DEFINE_integer('hidden2', 32, 'Number of units in hidden layer 2.')\n",
    "flags.DEFINE_float('weight_decay', 0, 'Weight for L2 loss on embedding matrix.')\n",
    "flags.DEFINE_float('dropout', 0.1, 'Dropout rate (1 - keep probability).')\n",
    "flags.DEFINE_float('max_margin', 0.1, 'Max margin parameter in hinge loss')\n",
    "flags.DEFINE_integer('batch_size', 128, 'minibatch size.')\n",
    "flags.DEFINE_boolean('bias', True, 'Bias term.')\n",
    "# Important -- Do not evaluate/print validation performance every iteration as it can take\n",
    "# substantial amount of time\n",
    "PRINT_PROGRESS_EVERY = 1\n"
   ]
  },
  {
   "cell_type": "code",
   "execution_count": 14,
   "metadata": {},
   "outputs": [
    {
     "name": "stdout",
     "output_type": "stream",
     "text": [
      "Defining placeholders\n"
     ]
    }
   ],
   "source": [
    "print(\"Defining placeholders\")\n",
    "placeholders = construct_placeholders(edge_types)"
   ]
  },
  {
   "cell_type": "code",
   "execution_count": 15,
   "metadata": {},
   "outputs": [],
   "source": [
    "# MACHETAZO!! Soluciona el bug de Jupyter con tensorflow que proporciona un flag -f\n",
    "tf.app.flags.DEFINE_string('f', '', 'kernel')"
   ]
  },
  {
   "cell_type": "markdown",
   "metadata": {},
   "source": [
    "## Create minibatch iterator, model and optimizer"
   ]
  },
  {
   "cell_type": "code",
   "execution_count": 16,
   "metadata": {
    "scrolled": true
   },
   "outputs": [
    {
     "name": "stdout",
     "output_type": "stream",
     "text": [
      "Create minibatch iterator\n",
      "Minibatch edge type: (0, 1, 0)\n",
      "Constructing test edges= 0000/0904\n",
      "Constructing val edges= 0000/0904\n"
     ]
    },
    {
     "name": "stderr",
     "output_type": "stream",
     "text": [
      "decagon/deep/minibatch.py:71: RuntimeWarning: divide by zero encountered in power\n",
      "  rowdegree_mat_inv = sp.diags(np.nan_to_num(np.power(rowsum, -0.5)).flatten())\n",
      "decagon/deep/minibatch.py:72: RuntimeWarning: divide by zero encountered in power\n",
      "  coldegree_mat_inv = sp.diags(np.nan_to_num(np.power(colsum, -0.5)).flatten())\n"
     ]
    },
    {
     "name": "stdout",
     "output_type": "stream",
     "text": [
      "Train edges= 16283\n",
      "Val edges= 0904\n",
      "Test edges= 0904\n",
      "Minibatch edge type: (1, 0, 0)\n",
      "Constructing test edges= 0000/0904\n",
      "Constructing val edges= 0000/0904\n",
      "Train edges= 16283\n",
      "Val edges= 0904\n",
      "Test edges= 0904\n",
      "Minibatch edge type: (0, 0, 0)\n",
      "Constructing test edges= 0000/31098\n",
      "Constructing test edges= 1000/31098\n",
      "Constructing test edges= 2000/31098\n",
      "Constructing test edges= 3000/31098\n",
      "Constructing test edges= 4000/31098\n",
      "Constructing test edges= 5000/31098\n",
      "Constructing test edges= 6000/31098\n",
      "Constructing test edges= 7000/31098\n",
      "Constructing test edges= 8000/31098\n",
      "Constructing test edges= 9000/31098\n",
      "Constructing test edges= 10000/31098\n",
      "Constructing test edges= 11000/31098\n",
      "Constructing test edges= 12000/31098\n",
      "Constructing test edges= 13000/31098\n",
      "Constructing test edges= 14000/31098\n",
      "Constructing test edges= 15000/31098\n",
      "Constructing test edges= 16000/31098\n",
      "Constructing test edges= 17000/31098\n",
      "Constructing test edges= 18000/31098\n",
      "Constructing test edges= 19000/31098\n",
      "Constructing test edges= 20000/31098\n",
      "Constructing test edges= 21000/31098\n",
      "Constructing test edges= 22000/31098\n",
      "Constructing test edges= 23000/31098\n",
      "Constructing test edges= 24000/31098\n",
      "Constructing test edges= 25000/31098\n",
      "Constructing test edges= 26000/31098\n",
      "Constructing test edges= 27000/31098\n",
      "Constructing test edges= 28000/31098\n",
      "Constructing test edges= 29000/31098\n",
      "Constructing test edges= 30000/31098\n",
      "Constructing test edges= 31000/31098\n",
      "Constructing val edges= 0000/31098\n",
      "Constructing val edges= 1000/31098\n",
      "Constructing val edges= 2000/31098\n",
      "Constructing val edges= 3000/31098\n",
      "Constructing val edges= 4000/31098\n",
      "Constructing val edges= 5000/31098\n",
      "Constructing val edges= 6000/31098\n",
      "Constructing val edges= 7000/31098\n",
      "Constructing val edges= 8000/31098\n",
      "Constructing val edges= 9000/31098\n",
      "Constructing val edges= 10000/31098\n",
      "Constructing val edges= 11000/31098\n",
      "Constructing val edges= 12000/31098\n",
      "Constructing val edges= 13000/31098\n",
      "Constructing val edges= 14000/31098\n",
      "Constructing val edges= 15000/31098\n",
      "Constructing val edges= 16000/31098\n",
      "Constructing val edges= 17000/31098\n",
      "Constructing val edges= 18000/31098\n",
      "Constructing val edges= 19000/31098\n",
      "Constructing val edges= 20000/31098\n",
      "Constructing val edges= 21000/31098\n",
      "Constructing val edges= 22000/31098\n",
      "Constructing val edges= 23000/31098\n",
      "Constructing val edges= 24000/31098\n",
      "Constructing val edges= 25000/31098\n",
      "Constructing val edges= 26000/31098\n",
      "Constructing val edges= 27000/31098\n",
      "Constructing val edges= 28000/31098\n",
      "Constructing val edges= 29000/31098\n",
      "Constructing val edges= 30000/31098\n",
      "Constructing val edges= 31000/31098\n",
      "Train edges= 559770\n",
      "Val edges= 31098\n",
      "Test edges= 31098\n",
      "Minibatch edge type: (0, 0, 1)\n",
      "Constructing test edges= 0000/31098\n",
      "Constructing test edges= 1000/31098\n",
      "Constructing test edges= 2000/31098\n",
      "Constructing test edges= 3000/31098\n",
      "Constructing test edges= 4000/31098\n",
      "Constructing test edges= 5000/31098\n",
      "Constructing test edges= 6000/31098\n",
      "Constructing test edges= 7000/31098\n",
      "Constructing test edges= 8000/31098\n",
      "Constructing test edges= 9000/31098\n",
      "Constructing test edges= 10000/31098\n",
      "Constructing test edges= 11000/31098\n",
      "Constructing test edges= 12000/31098\n",
      "Constructing test edges= 13000/31098\n",
      "Constructing test edges= 14000/31098\n",
      "Constructing test edges= 15000/31098\n",
      "Constructing test edges= 16000/31098\n",
      "Constructing test edges= 17000/31098\n",
      "Constructing test edges= 18000/31098\n",
      "Constructing test edges= 19000/31098\n",
      "Constructing test edges= 20000/31098\n",
      "Constructing test edges= 21000/31098\n",
      "Constructing test edges= 22000/31098\n",
      "Constructing test edges= 23000/31098\n",
      "Constructing test edges= 24000/31098\n",
      "Constructing test edges= 25000/31098\n",
      "Constructing test edges= 26000/31098\n",
      "Constructing test edges= 27000/31098\n",
      "Constructing test edges= 28000/31098\n",
      "Constructing test edges= 29000/31098\n",
      "Constructing test edges= 30000/31098\n",
      "Constructing test edges= 31000/31098\n",
      "Constructing val edges= 0000/31098\n",
      "Constructing val edges= 1000/31098\n",
      "Constructing val edges= 2000/31098\n",
      "Constructing val edges= 3000/31098\n",
      "Constructing val edges= 4000/31098\n",
      "Constructing val edges= 5000/31098\n",
      "Constructing val edges= 6000/31098\n",
      "Constructing val edges= 7000/31098\n",
      "Constructing val edges= 8000/31098\n",
      "Constructing val edges= 9000/31098\n",
      "Constructing val edges= 10000/31098\n",
      "Constructing val edges= 11000/31098\n",
      "Constructing val edges= 12000/31098\n",
      "Constructing val edges= 13000/31098\n",
      "Constructing val edges= 14000/31098\n",
      "Constructing val edges= 15000/31098\n",
      "Constructing val edges= 16000/31098\n",
      "Constructing val edges= 17000/31098\n",
      "Constructing val edges= 18000/31098\n",
      "Constructing val edges= 19000/31098\n",
      "Constructing val edges= 20000/31098\n",
      "Constructing val edges= 21000/31098\n",
      "Constructing val edges= 22000/31098\n",
      "Constructing val edges= 23000/31098\n",
      "Constructing val edges= 24000/31098\n",
      "Constructing val edges= 25000/31098\n",
      "Constructing val edges= 26000/31098\n",
      "Constructing val edges= 27000/31098\n",
      "Constructing val edges= 28000/31098\n",
      "Constructing val edges= 29000/31098\n",
      "Constructing val edges= 30000/31098\n",
      "Constructing val edges= 31000/31098\n",
      "Train edges= 559770\n",
      "Val edges= 31098\n",
      "Test edges= 31098\n",
      "Minibatch edge type: (1, 1, 0)\n",
      "Constructing test edges= 0000/2426\n",
      "Constructing test edges= 1000/2426\n",
      "Constructing test edges= 2000/2426\n",
      "Constructing val edges= 0000/2426\n",
      "Constructing val edges= 0000/2426\n",
      "Constructing val edges= 0000/2426\n",
      "Constructing val edges= 0000/2426\n",
      "Constructing val edges= 1000/2426\n",
      "Constructing val edges= 2000/2426\n",
      "Train edges= 43682\n",
      "Val edges= 2426\n",
      "Test edges= 2426\n",
      "Minibatch edge type: (1, 1, 1)\n",
      "Constructing test edges= 0000/1923\n",
      "Constructing test edges= 1000/1923\n",
      "Constructing val edges= 0000/1923\n",
      "Constructing val edges= 0000/1923\n",
      "Constructing val edges= 1000/1923\n",
      "Train edges= 34618\n",
      "Val edges= 1923\n",
      "Test edges= 1923\n",
      "Minibatch edge type: (1, 1, 2)\n",
      "Constructing test edges= 0000/1783\n",
      "Constructing test edges= 1000/1783\n",
      "Constructing val edges= 0000/1783\n",
      "Constructing val edges= 1000/1783\n",
      "Train edges= 32098\n",
      "Val edges= 1783\n",
      "Test edges= 1783\n",
      "Minibatch edge type: (1, 1, 3)\n",
      "Constructing test edges= 0000/1740\n",
      "Constructing test edges= 1000/1740\n",
      "Constructing val edges= 0000/1740\n",
      "Constructing val edges= 1000/1740\n",
      "Train edges= 31336\n",
      "Val edges= 1740\n",
      "Test edges= 1740\n",
      "Minibatch edge type: (1, 1, 4)\n",
      "Constructing test edges= 0000/1618\n",
      "Constructing test edges= 1000/1618\n",
      "Constructing val edges= 0000/1618\n",
      "Constructing val edges= 1000/1618\n",
      "Train edges= 29142\n",
      "Val edges= 1618\n",
      "Test edges= 1618\n",
      "Minibatch edge type: (1, 1, 5)\n",
      "Constructing test edges= 0000/1584\n",
      "Constructing test edges= 1000/1584\n",
      "Constructing val edges= 0000/1584\n",
      "Constructing val edges= 1000/1584\n",
      "Train edges= 28528\n",
      "Val edges= 1584\n",
      "Test edges= 1584\n",
      "Minibatch edge type: (1, 1, 6)\n",
      "Constructing test edges= 0000/2426\n",
      "Constructing test edges= 1000/2426\n",
      "Constructing test edges= 2000/2426\n",
      "Constructing val edges= 0000/2426\n",
      "Constructing val edges= 1000/2426\n",
      "Constructing val edges= 2000/2426\n",
      "Train edges= 43682\n",
      "Val edges= 2426\n",
      "Test edges= 2426\n",
      "Minibatch edge type: (1, 1, 7)\n",
      "Constructing test edges= 0000/1923\n",
      "Constructing test edges= 1000/1923\n",
      "Constructing val edges= 0000/1923\n",
      "Constructing val edges= 1000/1923\n",
      "Train edges= 34618\n",
      "Val edges= 1923\n",
      "Test edges= 1923\n",
      "Minibatch edge type: (1, 1, 8)\n",
      "Constructing test edges= 0000/1783\n",
      "Constructing test edges= 1000/1783\n",
      "Constructing val edges= 0000/1783\n",
      "Constructing val edges= 1000/1783\n",
      "Train edges= 32098\n",
      "Val edges= 1783\n",
      "Test edges= 1783\n",
      "Minibatch edge type: (1, 1, 9)\n",
      "Constructing test edges= 0000/1740\n",
      "Constructing test edges= 1000/1740\n",
      "Constructing val edges= 0000/1740\n",
      "Constructing val edges= 1000/1740\n",
      "Train edges= 31336\n",
      "Val edges= 1740\n",
      "Test edges= 1740\n",
      "Minibatch edge type: (1, 1, 10)\n",
      "Constructing test edges= 0000/1618\n",
      "Constructing test edges= 1000/1618\n",
      "Constructing val edges= 0000/1618\n",
      "Constructing val edges= 1000/1618\n",
      "Train edges= 29142\n",
      "Val edges= 1618\n",
      "Test edges= 1618\n",
      "Minibatch edge type: (1, 1, 11)\n",
      "Constructing test edges= 0000/1584\n",
      "Constructing test edges= 1000/1584\n",
      "Constructing val edges= 0000/1584\n",
      "Constructing val edges= 1000/1584\n",
      "Train edges= 28528\n",
      "Val edges= 1584\n",
      "Test edges= 1584\n"
     ]
    }
   ],
   "source": [
    "print(\"Create minibatch iterator\")\n",
    "minibatch = EdgeMinibatchIterator(\n",
    "    adj_mats=adj_mats_orig,\n",
    "    feat=feat,\n",
    "    edge_types=edge_types,\n",
    "    batch_size=FLAGS.batch_size,\n",
    "    val_test_size=val_test_size\n",
    ")"
   ]
  },
  {
   "cell_type": "code",
   "execution_count": 17,
   "metadata": {},
   "outputs": [
    {
     "data": {
      "text/plain": [
       "{(0, 0, 0): 2,\n",
       " (0, 0, 1): 3,\n",
       " (0, 1, 0): 0,\n",
       " (1, 0, 0): 1,\n",
       " (1, 1, 0): 4,\n",
       " (1, 1, 1): 5,\n",
       " (1, 1, 2): 6,\n",
       " (1, 1, 3): 7,\n",
       " (1, 1, 4): 8,\n",
       " (1, 1, 5): 9,\n",
       " (1, 1, 6): 10,\n",
       " (1, 1, 7): 11,\n",
       " (1, 1, 8): 12,\n",
       " (1, 1, 9): 13,\n",
       " (1, 1, 10): 14,\n",
       " (1, 1, 11): 15}"
      ]
     },
     "execution_count": 17,
     "metadata": {},
     "output_type": "execute_result"
    }
   ],
   "source": [
    "minibatch.edge_type2idx"
   ]
  },
  {
   "cell_type": "code",
   "execution_count": null,
   "metadata": {},
   "outputs": [],
   "source": [
    "print(\"Create model\")\n",
    "model = DecagonModel(\n",
    "    placeholders=placeholders,\n",
    "    num_feat=num_feat,\n",
    "    nonzero_feat=nonzero_feat,\n",
    "    edge_types=edge_types,\n",
    "    decoders=edge_type2decoder,\n",
    ")"
   ]
  },
  {
   "cell_type": "code",
   "execution_count": null,
   "metadata": {
    "scrolled": true
   },
   "outputs": [],
   "source": [
    "print(\"Create optimizer\")\n",
    "with tf.name_scope('optimizer'):\n",
    "    opt = DecagonOptimizer(\n",
    "        embeddings=model.embeddings,\n",
    "        latent_inters=model.latent_inters,\n",
    "        latent_varies=model.latent_varies,\n",
    "        degrees=degrees,\n",
    "        edge_types=edge_types,\n",
    "        edge_type2dim=edge_type2dim,\n",
    "        placeholders=placeholders,\n",
    "        batch_size=FLAGS.batch_size,\n",
    "        margin=FLAGS.max_margin\n",
    "    )"
   ]
  },
  {
   "cell_type": "code",
   "execution_count": null,
   "metadata": {},
   "outputs": [],
   "source": [
    "print(\"Initialize session\")\n",
    "sess = tf.Session()\n",
    "sess.run(tf.global_variables_initializer())\n",
    "feed_dict = {}"
   ]
  },
  {
   "cell_type": "markdown",
   "metadata": {},
   "source": [
    "# Train model"
   ]
  },
  {
   "cell_type": "code",
   "execution_count": null,
   "metadata": {},
   "outputs": [],
   "source": [
    "#filename = 'results_training/TRAIN_toy_test_epochs'+str(FLAGS.epochs)+'_h1'+str(FLAGS.hidden1)+\\\n",
    "#           '_h2'+str(FLAGS.hidden2)+'_lr'+str(FLAGS.learning_rate)+'_dropout'+str(FLAGS.dropout)\n",
    "out_file = 'results_training/TRAIN_'+words[2]+DSE*('_DSE_'+str(n_se_mono))+'_genes_'+\\\n",
    "            str(n_genes)+'_drugs_'+str(n_drugs)+'_se_'+str(n_se_combo)+'_epochs_'+\\\n",
    "            str(FLAGS.epochs)+'_h1_'+str(FLAGS.hidden1)+'_h2_'+str(FLAGS.hidden2)+\\\n",
    "            '_lr_'+str(FLAGS.learning_rate)+'_dropout_'+str(FLAGS.dropout)\n",
    "print(out_file)"
   ]
  },
  {
   "cell_type": "code",
   "execution_count": null,
   "metadata": {},
   "outputs": [],
   "source": [
    "output_data = {}\n",
    "acc_scores = np.zeros([num_edge_types,4,1])\n",
    "print(\"Train model\")\n",
    "for epoch in range(FLAGS.epochs):\n",
    "    acc_layer = np.zeros([num_edge_types,4,1])\n",
    "    minibatch.shuffle()\n",
    "    itr = 0\n",
    "    edge_count = range(num_edge_types)\n",
    "    while not minibatch.end():\n",
    "        # Construct feed dictionary\n",
    "        feed_dict = minibatch.next_minibatch_feed_dict(placeholders=placeholders)\n",
    "        feed_dict = minibatch.update_feed_dict(\n",
    "            feed_dict=feed_dict,\n",
    "            dropout=FLAGS.dropout,\n",
    "            placeholders=placeholders)\n",
    "\n",
    "        t = time.time()\n",
    "\n",
    "        # Training step: run single weight update\n",
    "        outs = sess.run([opt.opt_op, opt.cost, opt.batch_edge_type_idx], feed_dict=feed_dict)\n",
    "        train_cost = outs[1]\n",
    "        batch_edge_type = outs[2]\n",
    "\n",
    "        #if itr % PRINT_PROGRESS_EVERY == 0:\n",
    "        if batch_edge_type in edge_count:\n",
    "            val_auc, val_auprc, val_apk = get_accuracy_scores(\n",
    "                minibatch.val_edges, minibatch.val_edges_false,\n",
    "                minibatch.idx2edge_type[minibatch.current_edge_type_idx])\n",
    "            step_time = time.time() - t\n",
    "            acc_layer[batch_edge_type,:,0] = [val_auc,val_auprc,val_apk,train_cost]\n",
    "            print(\"Epoch:\", \"%04d\" % (epoch + 1), \"Iter:\", \"%04d\" % (itr + 1), \"Edge:\", \"%04d\" % batch_edge_type,\n",
    "                  \"train_loss=\", \"{:.5f}\".format(train_cost),\n",
    "                  \"val_roc=\", \"{:.5f}\".format(val_auc), \"val_auprc=\", \"{:.5f}\".format(val_auprc),\n",
    "                  \"val_apk=\", \"{:.5f}\".format(val_apk), \"time=\", \"{:.5f}\".format(step_time))\n",
    "            edge_count.remove(batch_edge_type)\n",
    "        itr += 1\n",
    "    acc_scores = np.concatenate((acc_scores,acc_layer),axis=2)\n",
    "    output_data['val_auc'] = acc_scores[:,0,1:]\n",
    "    output_data['val_auprc'] = acc_scores[:,1,1:]\n",
    "    output_data['val_apk'] = acc_scores[:,2,1:]\n",
    "    output_data['train_cost'] = acc_scores[:,3,1:]\n",
    "    output_data['epoch'] = epoch + 1\n",
    "    with open(out_file,'wb') as f:\n",
    "        pickle.dump(output_data, f, protocol=2)\n",
    "    acc_layer = np.zeros([num_edge_types,4,1])\n",
    "    \n",
    "print(\"Optimization finished!\")\n",
    "final_scores = np.zeros([num_edge_types,4,1])\n",
    "for et in range(num_edge_types):\n",
    "    roc_score, auprc_score, apk_score = get_accuracy_scores(\n",
    "        minibatch.test_edges, minibatch.test_edges_false, minibatch.idx2edge_type[et])\n",
    "    print(\"Edge type=\", \"[%02d, %02d, %02d]\" % minibatch.idx2edge_type[et])\n",
    "    print(\"Edge type:\", \"%04d\" % et, \"Test AUROC score\", \"{:.5f}\".format(roc_score))\n",
    "    print(\"Edge type:\", \"%04d\" % et, \"Test AUPRC score\", \"{:.5f}\".format(auprc_score))\n",
    "    print(\"Edge type:\", \"%04d\" % et, \"Test AP@k score\", \"{:.5f}\".format(apk_score))\n",
    "    print()\n",
    "    final_scores[et,0,0] = roc_score\n",
    "    final_scores[et,1,0] = auprc_score\n",
    "    final_scores[et,2,0] = apk_score\n",
    "acc_scores = np.concatenate((acc_scores,final_scores),axis=2)\n",
    "output_data['val_auc'] = acc_scores[:,0,1:]\n",
    "output_data['val_auprc'] = acc_scores[:,1,1:]\n",
    "output_data['val_apk'] = acc_scores[:,2,1:]\n",
    "output_data['train_cost'] = acc_scores[:,3,1:]\n",
    "memUse = ps.memory_info()\n",
    "print('Virtual memory:', memUse.vms)\n",
    "print('RSS Memory:', memUse.rss)\n",
    "total_time=time.time()-start\n",
    "output_data['time'] = total_time\n",
    "output_data['vms'] = memUse.vms\n",
    "output_data['rss'] = memUse.rss\n",
    "with open(out_file,'wb') as f:\n",
    "    pickle.dump(output_data, f, protocol=2)\n",
    "print(\"Total time:\",total_time)\n"
   ]
  },
  {
   "cell_type": "code",
   "execution_count": null,
   "metadata": {},
   "outputs": [],
   "source": []
  }
 ],
 "metadata": {
  "kernelspec": {
   "display_name": "Python 2",
   "language": "python",
   "name": "python2"
  },
  "language_info": {
   "codemirror_mode": {
    "name": "ipython",
    "version": 2
   },
   "file_extension": ".py",
   "mimetype": "text/x-python",
   "name": "python",
   "nbconvert_exporter": "python",
   "pygments_lexer": "ipython2",
   "version": "2.7.15"
  }
 },
 "nbformat": 4,
 "nbformat_minor": 2
}
