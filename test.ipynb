{
 "cells": [
  {
   "cell_type": "markdown",
   "metadata": {},
   "source": [
    "# DECAGON Training"
   ]
  },
  {
   "cell_type": "code",
   "execution_count": 1,
   "metadata": {},
   "outputs": [],
   "source": [
    "from __future__ import division\n",
    "from __future__ import print_function\n",
    "from operator import itemgetter\n",
    "from itertools import combinations, chain\n",
    "import time\n",
    "import os\n",
    "import tensorflow as tf\n",
    "import numpy as np\n",
    "import networkx as nx\n",
    "import scipy.sparse as sp\n",
    "from sklearn import metrics\n",
    "import pandas as pd\n",
    "import psutil\n",
    "import pickle\n",
    "from decagon.deep.optimizer import DecagonOptimizer\n",
    "from decagon.deep.model import DecagonModel\n",
    "from decagon.deep.minibatch import EdgeMinibatchIterator\n",
    "from decagon.utility import rank_metrics, preprocessing"
   ]
  },
  {
   "cell_type": "code",
   "execution_count": 2,
   "metadata": {},
   "outputs": [
    {
     "name": "stdout",
     "output_type": "stream",
     "text": [
      "Populating the interactive namespace from numpy and matplotlib\n"
     ]
    }
   ],
   "source": [
    "%pylab inline"
   ]
  },
  {
   "cell_type": "code",
   "execution_count": 3,
   "metadata": {},
   "outputs": [],
   "source": [
    "# Train on GPU\n",
    "#os.environ[\"CUDA_DEVICE_ORDER\"] = 'PCI_BUS_ID'\n",
    "#os.environ[\"CUDA_VISIBLE_DEVICES\"] = '0'\n",
    "#config = tf.ConfigProto()\n",
    "#config.gpu_options.allow_growth = True"
   ]
  },
  {
   "cell_type": "code",
   "execution_count": 4,
   "metadata": {},
   "outputs": [],
   "source": [
    "# psutil & time BEGIN\n",
    "start = time.time() #in seconds\n",
    "pid = os.getpid()\n",
    "ps= psutil.Process(pid)"
   ]
  },
  {
   "cell_type": "markdown",
   "metadata": {},
   "source": [
    "# Import Data from previous computations"
   ]
  },
  {
   "cell_type": "code",
   "execution_count": 5,
   "metadata": {
    "scrolled": false
   },
   "outputs": [
    {
     "name": "stdout",
     "output_type": "stream",
     "text": [
      "nonzero_feat Imported successfully\n",
      "edge_type2dim Imported successfully\n",
      "adj_mats_orig Imported successfully\n",
      "edge_type2decoder Imported successfully\n",
      "degrees Imported successfully\n",
      "edge_types Imported successfully\n",
      "num_edge_types Imported successfully\n",
      "num_feat Imported successfully\n",
      "feat Imported successfully\n"
     ]
    }
   ],
   "source": [
    "filename = './data/data_structures/DECAGON_toy_test'\n",
    "with open(filename, 'rb') as f:\n",
    "    DS = pickle.load(f)\n",
    "    for key in DS.keys():\n",
    "        globals()[key]=DS[key]\n",
    "        print(key,\"Imported successfully\")"
   ]
  },
  {
   "cell_type": "markdown",
   "metadata": {},
   "source": [
    "# Functions"
   ]
  },
  {
   "cell_type": "code",
   "execution_count": 6,
   "metadata": {},
   "outputs": [],
   "source": [
    "def get_accuracy_scores(edges_pos, edges_neg, edge_type):\n",
    "    feed_dict.update({placeholders['dropout']: 0})\n",
    "    feed_dict.update({placeholders['batch_edge_type_idx']: minibatch.edge_type2idx[edge_type]})\n",
    "    feed_dict.update({placeholders['batch_row_edge_type']: edge_type[0]})\n",
    "    feed_dict.update({placeholders['batch_col_edge_type']: edge_type[1]})\n",
    "    rec = sess.run(opt.predictions, feed_dict=feed_dict)\n",
    "\n",
    "    def sigmoid(x):\n",
    "        return 1. / (1 + np.exp(-x))\n",
    "\n",
    "    # Predict on test set of edges\n",
    "    preds = []\n",
    "    actual = []\n",
    "    predicted = []\n",
    "    edge_ind = 0\n",
    "    for u, v in edges_pos[edge_type[:2]][edge_type[2]]:\n",
    "        score = sigmoid(rec[u, v])\n",
    "        preds.append(score)\n",
    "        assert adj_mats_orig[edge_type[:2]][edge_type[2]][u,v] == 1, 'Problem 1'\n",
    "\n",
    "        actual.append(edge_ind)\n",
    "        predicted.append((score, edge_ind))\n",
    "        edge_ind += 1\n",
    "\n",
    "    preds_neg = []\n",
    "    for u, v in edges_neg[edge_type[:2]][edge_type[2]]:\n",
    "        score = sigmoid(rec[u, v])\n",
    "        preds_neg.append(score)\n",
    "        assert adj_mats_orig[edge_type[:2]][edge_type[2]][u,v] == 0, 'Problem 0'\n",
    "\n",
    "        predicted.append((score, edge_ind))\n",
    "        edge_ind += 1\n",
    "\n",
    "    preds_all = np.hstack([preds, preds_neg])\n",
    "    preds_all = np.nan_to_num(preds_all)\n",
    "    labels_all = np.hstack([np.ones(len(preds)), np.zeros(len(preds_neg))])\n",
    "    predicted = list(zip(*sorted(predicted, reverse=True, key=itemgetter(0))))[1]\n",
    "\n",
    "    roc_sc = metrics.roc_auc_score(labels_all, preds_all)\n",
    "    aupr_sc = metrics.average_precision_score(labels_all, preds_all)\n",
    "    apk_sc = rank_metrics.apk(actual, predicted, k=50)\n",
    "\n",
    "    return roc_sc, aupr_sc, apk_sc\n",
    "\n",
    "\n",
    "def construct_placeholders(edge_types):\n",
    "    placeholders = {\n",
    "        'batch': tf.placeholder(tf.int32, name='batch'),\n",
    "        'batch_edge_type_idx': tf.placeholder(tf.int32, shape=(), name='batch_edge_type_idx'),\n",
    "        'batch_row_edge_type': tf.placeholder(tf.int32, shape=(), name='batch_row_edge_type'),\n",
    "        'batch_col_edge_type': tf.placeholder(tf.int32, shape=(), name='batch_col_edge_type'),\n",
    "        'degrees': tf.placeholder(tf.int32),\n",
    "        'dropout': tf.placeholder_with_default(0., shape=()),\n",
    "    }\n",
    "    placeholders.update({\n",
    "        'adj_mats_%d,%d,%d' % (i, j, k): tf.sparse_placeholder(tf.float32)\n",
    "        for i, j in edge_types for k in range(edge_types[i,j])})\n",
    "    placeholders.update({\n",
    "        'feat_%d' % i: tf.sparse_placeholder(tf.float32)\n",
    "        for i, _ in edge_types})\n",
    "    return placeholders"
   ]
  },
  {
   "cell_type": "markdown",
   "metadata": {},
   "source": [
    "## Settings and placeholders"
   ]
  },
  {
   "cell_type": "code",
   "execution_count": 7,
   "metadata": {},
   "outputs": [],
   "source": [
    "val_test_size = 0.05\n",
    "flags = tf.app.flags\n",
    "FLAGS = flags.FLAGS\n",
    "flags.DEFINE_integer('neg_sample_size', 1, 'Negative sample size.')\n",
    "flags.DEFINE_float('learning_rate', 0.001, 'Initial learning rate.')\n",
    "flags.DEFINE_integer('epochs', 10, 'Number of epochs to train.')\n",
    "flags.DEFINE_integer('hidden1', 64, 'Number of units in hidden layer 1.')\n",
    "flags.DEFINE_integer('hidden2', 32, 'Number of units in hidden layer 2.')\n",
    "flags.DEFINE_float('weight_decay', 0, 'Weight for L2 loss on embedding matrix.')\n",
    "flags.DEFINE_float('dropout', 0.1, 'Dropout rate (1 - keep probability).')\n",
    "flags.DEFINE_float('max_margin', 0.1, 'Max margin parameter in hinge loss')\n",
    "flags.DEFINE_integer('batch_size', 128, 'minibatch size.')\n",
    "flags.DEFINE_boolean('bias', True, 'Bias term.')\n",
    "# Important -- Do not evaluate/print validation performance every iteration as it can take\n",
    "# substantial amount of time\n",
    "PRINT_PROGRESS_EVERY = 1\n"
   ]
  },
  {
   "cell_type": "code",
   "execution_count": 8,
   "metadata": {},
   "outputs": [
    {
     "name": "stdout",
     "output_type": "stream",
     "text": [
      "Defining placeholders\n"
     ]
    }
   ],
   "source": [
    "print(\"Defining placeholders\")\n",
    "placeholders = construct_placeholders(edge_types)"
   ]
  },
  {
   "cell_type": "code",
   "execution_count": 9,
   "metadata": {},
   "outputs": [],
   "source": [
    "# MACHETAZO!! Soluciona el bug de Jupyter con tensorflow que proporciona un flag -f\n",
    "tf.app.flags.DEFINE_string('f', '', 'kernel')"
   ]
  },
  {
   "cell_type": "markdown",
   "metadata": {},
   "source": [
    "## Create minibatch iterator, model and optimizer"
   ]
  },
  {
   "cell_type": "code",
   "execution_count": 10,
   "metadata": {
    "scrolled": true
   },
   "outputs": [
    {
     "name": "stdout",
     "output_type": "stream",
     "text": [
      "Create minibatch iterator\n",
      "Minibatch edge type: (0, 1, 0)\n",
      "Constructing test edges= 0000/0665\n",
      "Constructing val edges= 0000/0665\n",
      "Constructing val edges= 0000/0665\n",
      "Train edges= 11986\n",
      "Val edges= 0665\n",
      "Test edges= 0665\n",
      "Minibatch edge type: (1, 0, 0)\n",
      "Constructing test edges= 0000/0665\n",
      "Constructing val edges= 0000/0665\n",
      "Train edges= 11986\n",
      "Val edges= 0665\n",
      "Test edges= 0665\n",
      "Minibatch edge type: (0, 0, 0)\n",
      "Constructing test edges= 0000/0650\n",
      "Constructing val edges= 0000/0650\n",
      "Train edges= 11714\n",
      "Val edges= 0650\n",
      "Test edges= 0650\n",
      "Minibatch edge type: (0, 0, 1)\n",
      "Constructing test edges= 0000/0650\n",
      "Constructing val edges= 0000/0650\n",
      "Train edges= 11714\n",
      "Val edges= 0650\n",
      "Test edges= 0650\n",
      "Minibatch edge type: (1, 1, 0)\n",
      "Constructing test edges= 0000/0383\n",
      "Constructing val edges= 0000/0383\n",
      "Train edges= 6906\n",
      "Val edges= 0383\n",
      "Test edges= 0383\n",
      "Minibatch edge type: (1, 1, 1)\n",
      "Constructing test edges= 0000/0138\n",
      "Constructing val edges= 0000/0138\n",
      "Train edges= 2502\n",
      "Val edges= 0138\n",
      "Test edges= 0138\n",
      "Minibatch edge type: (1, 1, 2)\n",
      "Constructing test edges= 0000/0046\n",
      "Constructing val edges= 0000/0046\n",
      "Train edges= 0828\n",
      "Val edges= 0046\n",
      "Test edges= 0046\n",
      "Minibatch edge type: (1, 1, 3)\n",
      "Constructing test edges= 0000/0383\n",
      "Constructing val edges= 0000/0383\n",
      "Train edges= 6906\n",
      "Val edges= 0383\n",
      "Test edges= 0383\n",
      "Minibatch edge type: (1, 1, 4)\n",
      "Constructing test edges= 0000/0138\n",
      "Constructing val edges= 0000/0138\n",
      "Train edges= 2502\n",
      "Val edges= 0138\n",
      "Test edges= 0138\n",
      "Minibatch edge type: (1, 1, 5)\n",
      "Constructing test edges= 0000/0046\n",
      "Constructing val edges= 0000/0046\n",
      "Train edges= 0828\n",
      "Val edges= 0046\n",
      "Test edges= 0046\n"
     ]
    }
   ],
   "source": [
    "print(\"Create minibatch iterator\")\n",
    "minibatch = EdgeMinibatchIterator(\n",
    "    adj_mats=adj_mats_orig,\n",
    "    feat=feat,\n",
    "    edge_types=edge_types,\n",
    "    batch_size=FLAGS.batch_size,\n",
    "    val_test_size=val_test_size\n",
    ")"
   ]
  },
  {
   "cell_type": "code",
   "execution_count": 11,
   "metadata": {},
   "outputs": [
    {
     "data": {
      "text/plain": [
       "[0, 0, 0, 0, 0, 0, 0, 0, 0, 0]"
      ]
     },
     "execution_count": 11,
     "metadata": {},
     "output_type": "execute_result"
    }
   ],
   "source": [
    "minibatch.edge_type2idx\n",
    "minibatch.freebatch_edge_types\n",
    "minibatch.batch_num\n",
    "#minibatch.current_edge_type_idx"
   ]
  },
  {
   "cell_type": "code",
   "execution_count": 12,
   "metadata": {},
   "outputs": [
    {
     "name": "stdout",
     "output_type": "stream",
     "text": [
      "Create model\n",
      "WARNING:tensorflow:From decagon/deep/layers.py:93: calling l2_normalize (from tensorflow.python.ops.nn_impl) with dim is deprecated and will be removed in a future version.\n",
      "Instructions for updating:\n",
      "dim is deprecated, use axis instead\n"
     ]
    }
   ],
   "source": [
    "print(\"Create model\")\n",
    "model = DecagonModel(\n",
    "    placeholders=placeholders,\n",
    "    num_feat=num_feat,\n",
    "    nonzero_feat=nonzero_feat,\n",
    "    edge_types=edge_types,\n",
    "    decoders=edge_type2decoder,\n",
    ")"
   ]
  },
  {
   "cell_type": "code",
   "execution_count": 13,
   "metadata": {
    "scrolled": true
   },
   "outputs": [
    {
     "name": "stdout",
     "output_type": "stream",
     "text": [
      "Create optimizer\n",
      "WARNING:tensorflow:tf.op_scope(values, name, default_name) is deprecated, use tf.name_scope(name, default_name, values)\n",
      "WARNING:tensorflow:tf.op_scope(values, name, default_name) is deprecated, use tf.name_scope(name, default_name, values)\n"
     ]
    },
    {
     "name": "stderr",
     "output_type": "stream",
     "text": [
      "/home/juan/anaconda3/envs/py2/lib/python2.7/site-packages/tensorflow/python/ops/gradients_impl.py:100: UserWarning: Converting sparse IndexedSlices to a dense Tensor of unknown shape. This may consume a large amount of memory.\n",
      "  \"Converting sparse IndexedSlices to a dense Tensor of unknown shape. \"\n"
     ]
    }
   ],
   "source": [
    "print(\"Create optimizer\")\n",
    "with tf.name_scope('optimizer'):\n",
    "    opt = DecagonOptimizer(\n",
    "        embeddings=model.embeddings,\n",
    "        latent_inters=model.latent_inters,\n",
    "        latent_varies=model.latent_varies,\n",
    "        degrees=degrees,\n",
    "        edge_types=edge_types,\n",
    "        edge_type2dim=edge_type2dim,\n",
    "        placeholders=placeholders,\n",
    "        batch_size=FLAGS.batch_size,\n",
    "        margin=FLAGS.max_margin\n",
    "    )"
   ]
  },
  {
   "cell_type": "code",
   "execution_count": 14,
   "metadata": {},
   "outputs": [
    {
     "name": "stdout",
     "output_type": "stream",
     "text": [
      "Initialize session\n"
     ]
    }
   ],
   "source": [
    "print(\"Initialize session\")\n",
    "sess = tf.Session()\n",
    "sess.run(tf.global_variables_initializer())\n",
    "feed_dict = {}"
   ]
  },
  {
   "cell_type": "markdown",
   "metadata": {},
   "source": [
    "# Train model"
   ]
  },
  {
   "cell_type": "code",
   "execution_count": 49,
   "metadata": {
    "scrolled": true
   },
   "outputs": [
    {
     "name": "stdout",
     "output_type": "stream",
     "text": [
      "Train model\n",
      "Epoch: 0001 Iter: 0002 Edge: 0000 train_loss= 119.72731 val_roc= 0.78660 val_auprc= 0.75704 val_apk= 0.70365 time= 0.07037\n",
      "Epoch: 0001 Iter: 0003 Edge: 0001 train_loss= 111.39823 val_roc= 0.77165 val_auprc= 0.72113 val_apk= 0.60528 time= 0.17721\n",
      "Epoch: 0001 Iter: 0005 Edge: 0002 train_loss= 127.18874 val_roc= 0.79460 val_auprc= 0.74006 val_apk= 0.66487 time= 0.07502\n",
      "Epoch: 0001 Iter: 0040 Edge: 0003 train_loss= 130.52489 val_roc= 0.84227 val_auprc= 0.78258 val_apk= 0.63435 time= 0.17305\n",
      "Epoch: 0001 Iter: 0104 Edge: 0004 train_loss= 136.11340 val_roc= 0.81838 val_auprc= 0.77214 val_apk= 0.68141 time= 0.04805\n",
      "Epoch: 0001 Iter: 0108 Edge: 0005 train_loss= 114.54538 val_roc= 0.88926 val_auprc= 0.84043 val_apk= 0.73269 time= 0.02831\n",
      "Epoch: 0001 Iter: 0128 Edge: 0006 train_loss= 86.18833 val_roc= 0.91257 val_auprc= 0.92061 val_apk= 0.82838 time= 0.02131\n",
      "Epoch: 0001 Iter: 0148 Edge: 0007 train_loss= 149.68130 val_roc= 0.82071 val_auprc= 0.75429 val_apk= 0.58968 time= 0.10379\n",
      "Epoch: 0001 Iter: 0156 Edge: 0008 train_loss= 104.86507 val_roc= 0.87786 val_auprc= 0.83676 val_apk= 0.77538 time= 0.04672\n",
      "Epoch: 0002 Iter: 0002 Edge: 0000 train_loss= 102.02939 val_roc= 0.78521 val_auprc= 0.75404 val_apk= 0.73764 time= 0.07253\n",
      "Epoch: 0002 Iter: 0003 Edge: 0001 train_loss= 109.25095 val_roc= 0.77568 val_auprc= 0.72704 val_apk= 0.61909 time= 0.17735\n",
      "Epoch: 0002 Iter: 0005 Edge: 0002 train_loss= 113.96642 val_roc= 0.80553 val_auprc= 0.75175 val_apk= 0.65064 time= 0.07581\n",
      "Epoch: 0002 Iter: 0036 Edge: 0003 train_loss= 128.82938 val_roc= 0.83872 val_auprc= 0.77930 val_apk= 0.63193 time= 0.16482\n",
      "Epoch: 0002 Iter: 0048 Edge: 0004 train_loss= 129.44946 val_roc= 0.82381 val_auprc= 0.77537 val_apk= 0.68928 time= 0.05010\n",
      "Epoch: 0002 Iter: 0116 Edge: 0005 train_loss= 104.97097 val_roc= 0.88915 val_auprc= 0.83658 val_apk= 0.74323 time= 0.02900\n",
      "Epoch: 0003 Iter: 0002 Edge: 0000 train_loss= 114.61139 val_roc= 0.78068 val_auprc= 0.74504 val_apk= 0.64408 time= 0.07247\n",
      "Epoch: 0003 Iter: 0003 Edge: 0001 train_loss= 118.12615 val_roc= 0.77345 val_auprc= 0.72711 val_apk= 0.69565 time= 0.18307\n",
      "Epoch: 0003 Iter: 0005 Edge: 0002 train_loss= 103.19685 val_roc= 0.79680 val_auprc= 0.74439 val_apk= 0.68209 time= 0.08229\n",
      "Epoch: 0003 Iter: 0020 Edge: 0003 train_loss= 113.46349 val_roc= 0.84413 val_auprc= 0.78086 val_apk= 0.59541 time= 0.18147\n",
      "Epoch: 0003 Iter: 0024 Edge: 0004 train_loss= 144.54204 val_roc= 0.82304 val_auprc= 0.77313 val_apk= 0.67248 time= 0.04916\n",
      "Epoch: 0003 Iter: 0028 Edge: 0005 train_loss= 114.92451 val_roc= 0.87308 val_auprc= 0.81058 val_apk= 0.70954 time= 0.02986\n",
      "Epoch: 0003 Iter: 0032 Edge: 0006 train_loss= 118.76083 val_roc= 0.90879 val_auprc= 0.90474 val_apk= 0.80994 time= 0.02221\n",
      "Epoch: 0003 Iter: 0036 Edge: 0007 train_loss= 132.40691 val_roc= 0.82622 val_auprc= 0.76082 val_apk= 0.63982 time= 0.10678\n",
      "Epoch: 0003 Iter: 0068 Edge: 0008 train_loss= 117.22527 val_roc= 0.86668 val_auprc= 0.82262 val_apk= 0.72066 time= 0.04690\n",
      "Epoch: 0003 Iter: 0072 Edge: 0009 train_loss= 78.62131 val_roc= 0.94329 val_auprc= 0.93316 val_apk= 0.86214 time= 0.02828\n",
      "(10, 5, 2)\n",
      "Epoch: 0003 Iter: 0074 Edge: 0000 train_loss= 120.83060 val_roc= 0.78025 val_auprc= 0.74517 val_apk= 0.71681 time= 0.07232\n",
      "Epoch: 0003 Iter: 0075 Edge: 0001 train_loss= 129.87068 val_roc= 0.77290 val_auprc= 0.72991 val_apk= 0.71151 time= 0.17828\n",
      "Epoch: 0003 Iter: 0077 Edge: 0002 train_loss= 121.62321 val_roc= 0.80222 val_auprc= 0.74603 val_apk= 0.66272 time= 0.06879\n",
      "Epoch: 0003 Iter: 0116 Edge: 0003 train_loss= 126.17989 val_roc= 0.83987 val_auprc= 0.78381 val_apk= 0.68020 time= 0.17153\n",
      "Epoch: 0003 Iter: 0120 Edge: 0004 train_loss= 162.74799 val_roc= 0.81635 val_auprc= 0.76371 val_apk= 0.60593 time= 0.04951\n",
      "Epoch: 0003 Iter: 0144 Edge: 0005 train_loss= 120.12726 val_roc= 0.88952 val_auprc= 0.83658 val_apk= 0.74502 time= 0.03078\n",
      "Epoch: 0004 Iter: 0002 Edge: 0000 train_loss= 122.14326 val_roc= 0.78505 val_auprc= 0.75138 val_apk= 0.71599 time= 0.08054\n",
      "Epoch: 0004 Iter: 0003 Edge: 0001 train_loss= 104.32188 val_roc= 0.77050 val_auprc= 0.72299 val_apk= 0.66038 time= 0.18705\n",
      "Epoch: 0004 Iter: 0005 Edge: 0002 train_loss= 128.28848 val_roc= 0.79665 val_auprc= 0.73620 val_apk= 0.60535 time= 0.07640\n",
      "Epoch: 0004 Iter: 0016 Edge: 0003 train_loss= 110.30936 val_roc= 0.84146 val_auprc= 0.77709 val_apk= 0.60758 time= 0.18305\n",
      "Epoch: 0004 Iter: 0032 Edge: 0004 train_loss= 121.27544 val_roc= 0.82029 val_auprc= 0.76367 val_apk= 0.66676 time= 0.05401\n",
      "Epoch: 0004 Iter: 0140 Edge: 0005 train_loss= 98.26624 val_roc= 0.88338 val_auprc= 0.82919 val_apk= 0.73353 time= 0.02831\n",
      "Epoch: 0005 Iter: 0002 Edge: 0000 train_loss= 111.53342 val_roc= 0.78565 val_auprc= 0.75250 val_apk= 0.64985 time= 0.07069\n",
      "Epoch: 0005 Iter: 0003 Edge: 0001 train_loss= 129.43747 val_roc= 0.77823 val_auprc= 0.73357 val_apk= 0.67213 time= 0.17936\n",
      "Epoch: 0005 Iter: 0005 Edge: 0002 train_loss= 123.22694 val_roc= 0.79169 val_auprc= 0.73537 val_apk= 0.67530 time= 0.07631\n",
      "Epoch: 0005 Iter: 0012 Edge: 0003 train_loss= 110.50096 val_roc= 0.84024 val_auprc= 0.78032 val_apk= 0.70192 time= 0.17646\n",
      "Epoch: 0005 Iter: 0024 Edge: 0004 train_loss= 128.25432 val_roc= 0.82189 val_auprc= 0.76879 val_apk= 0.68746 time= 0.04948\n",
      "Epoch: 0005 Iter: 0060 Edge: 0005 train_loss= 104.16925 val_roc= 0.89204 val_auprc= 0.83940 val_apk= 0.75023 time= 0.02923\n",
      "Epoch: 0005 Iter: 0064 Edge: 0006 train_loss= 95.00821 val_roc= 0.90737 val_auprc= 0.92110 val_apk= 0.83112 time= 0.02088\n",
      "Epoch: 0005 Iter: 0080 Edge: 0007 train_loss= 133.05042 val_roc= 0.82650 val_auprc= 0.76899 val_apk= 0.66054 time= 0.11104\n",
      "Epoch: 0005 Iter: 0124 Edge: 0008 train_loss= 131.47076 val_roc= 0.86715 val_auprc= 0.82294 val_apk= 0.73719 time= 0.04693\n",
      "Epoch: 0005 Iter: 0128 Edge: 0009 train_loss= 100.12904 val_roc= 0.94329 val_auprc= 0.94242 val_apk= 0.87491 time= 0.02594\n",
      "(10, 5, 3)\n",
      "Epoch: 0005 Iter: 0130 Edge: 0000 train_loss= 130.38615 val_roc= 0.78134 val_auprc= 0.74647 val_apk= 0.67223 time= 0.07158\n",
      "Epoch: 0005 Iter: 0131 Edge: 0001 train_loss= 110.16112 val_roc= 0.78063 val_auprc= 0.74076 val_apk= 0.72334 time= 0.18126\n",
      "Epoch: 0005 Iter: 0133 Edge: 0002 train_loss= 124.73474 val_roc= 0.79860 val_auprc= 0.74070 val_apk= 0.67406 time= 0.07294\n",
      "Epoch: 0005 Iter: 0136 Edge: 0003 train_loss= 115.23381 val_roc= 0.84109 val_auprc= 0.77699 val_apk= 0.63846 time= 0.17876\n",
      "Epoch: 0005 Iter: 0144 Edge: 0004 train_loss= 144.00217 val_roc= 0.81826 val_auprc= 0.76261 val_apk= 0.65843 time= 0.04797\n",
      "Epoch: 0005 Iter: 0152 Edge: 0005 train_loss= 113.22571 val_roc= 0.88826 val_auprc= 0.82991 val_apk= 0.71409 time= 0.02974\n",
      "Epoch: 0005 Iter: 0180 Edge: 0006 train_loss= 101.64028 val_roc= 0.91966 val_auprc= 0.92214 val_apk= 0.82594 time= 0.02210\n",
      "Epoch: 0005 Iter: 0196 Edge: 0007 train_loss= 136.14780 val_roc= 0.82786 val_auprc= 0.76063 val_apk= 0.56162 time= 0.11679\n",
      "Epoch: 0005 Iter: 0200 Edge: 0008 train_loss= 109.44717 val_roc= 0.87083 val_auprc= 0.81309 val_apk= 0.68246 time= 0.05182\n",
      "Epoch: 0006 Iter: 0002 Edge: 0000 train_loss= 112.04732 val_roc= 0.78321 val_auprc= 0.74656 val_apk= 0.64486 time= 0.07438\n",
      "Epoch: 0006 Iter: 0003 Edge: 0001 train_loss= 116.10184 val_roc= 0.76969 val_auprc= 0.72179 val_apk= 0.68354 time= 0.17993\n",
      "Epoch: 0006 Iter: 0005 Edge: 0002 train_loss= 130.90497 val_roc= 0.79876 val_auprc= 0.74182 val_apk= 0.63459 time= 0.07632\n",
      "Epoch: 0006 Iter: 0012 Edge: 0003 train_loss= 100.41371 val_roc= 0.84592 val_auprc= 0.78831 val_apk= 0.71941 time= 0.18175\n",
      "Epoch: 0006 Iter: 0048 Edge: 0004 train_loss= 124.16597 val_roc= 0.82149 val_auprc= 0.77157 val_apk= 0.74101 time= 0.04711\n",
      "Epoch: 0006 Iter: 0108 Edge: 0005 train_loss= 116.09011 val_roc= 0.89551 val_auprc= 0.83456 val_apk= 0.71348 time= 0.02820\n",
      "Epoch: 0006 Iter: 0124 Edge: 0006 train_loss= 82.95276 val_roc= 0.89556 val_auprc= 0.89103 val_apk= 0.81612 time= 0.02795\n",
      "Epoch: 0006 Iter: 0168 Edge: 0007 train_loss= 135.25516 val_roc= 0.82706 val_auprc= 0.76709 val_apk= 0.60439 time= 0.10652\n",
      "Epoch: 0006 Iter: 0192 Edge: 0008 train_loss= 125.29951 val_roc= 0.87188 val_auprc= 0.82803 val_apk= 0.73577 time= 0.04899\n",
      "Epoch: 0007 Iter: 0002 Edge: 0000 train_loss= 96.93703 val_roc= 0.78393 val_auprc= 0.75096 val_apk= 0.67163 time= 0.07561\n",
      "Epoch: 0007 Iter: 0003 Edge: 0001 train_loss= 106.69135 val_roc= 0.77281 val_auprc= 0.72273 val_apk= 0.64585 time= 0.17845\n"
     ]
    },
    {
     "name": "stdout",
     "output_type": "stream",
     "text": [
      "Epoch: 0007 Iter: 0005 Edge: 0002 train_loss= 103.78951 val_roc= 0.80547 val_auprc= 0.75471 val_apk= 0.65401 time= 0.07784\n",
      "Epoch: 0007 Iter: 0020 Edge: 0003 train_loss= 107.87608 val_roc= 0.84500 val_auprc= 0.78448 val_apk= 0.64280 time= 0.17864\n",
      "Epoch: 0007 Iter: 0024 Edge: 0004 train_loss= 136.03262 val_roc= 0.82449 val_auprc= 0.77477 val_apk= 0.74475 time= 0.04956\n",
      "Epoch: 0007 Iter: 0040 Edge: 0005 train_loss= 116.05843 val_roc= 0.89367 val_auprc= 0.83487 val_apk= 0.73014 time= 0.02833\n",
      "Epoch: 0007 Iter: 0092 Edge: 0006 train_loss= 105.03470 val_roc= 0.89650 val_auprc= 0.89205 val_apk= 0.81695 time= 0.02073\n",
      "Epoch: 0007 Iter: 0096 Edge: 0007 train_loss= 126.49261 val_roc= 0.82412 val_auprc= 0.76104 val_apk= 0.61978 time= 0.10293\n",
      "Epoch: 0007 Iter: 0100 Edge: 0008 train_loss= 125.81898 val_roc= 0.86473 val_auprc= 0.81330 val_apk= 0.66379 time= 0.04789\n",
      "Epoch: 0007 Iter: 0136 Edge: 0009 train_loss= 88.06210 val_roc= 0.94849 val_auprc= 0.94442 val_apk= 0.85483 time= 0.02711\n",
      "(10, 5, 4)\n",
      "Epoch: 0007 Iter: 0138 Edge: 0000 train_loss= 109.28278 val_roc= 0.78415 val_auprc= 0.74047 val_apk= 0.61176 time= 0.07508\n",
      "Epoch: 0007 Iter: 0139 Edge: 0001 train_loss= 115.60130 val_roc= 0.77779 val_auprc= 0.72907 val_apk= 0.68979 time= 0.18140\n",
      "Epoch: 0007 Iter: 0141 Edge: 0002 train_loss= 111.40913 val_roc= 0.80322 val_auprc= 0.74832 val_apk= 0.64305 time= 0.07505\n",
      "Epoch: 0007 Iter: 0184 Edge: 0003 train_loss= 125.38206 val_roc= 0.84848 val_auprc= 0.79360 val_apk= 0.70288 time= 0.17426\n",
      "Epoch: 0007 Iter: 0192 Edge: 0004 train_loss= 131.22261 val_roc= 0.82590 val_auprc= 0.77305 val_apk= 0.73624 time= 0.04874\n",
      "Epoch: 0007 Iter: 0216 Edge: 0005 train_loss= 110.64105 val_roc= 0.90118 val_auprc= 0.84262 val_apk= 0.74946 time= 0.02909\n",
      "Epoch: 0007 Iter: 0268 Edge: 0006 train_loss= 103.50922 val_roc= 0.90974 val_auprc= 0.90621 val_apk= 0.81038 time= 0.02183\n",
      "Epoch: 0007 Iter: 0272 Edge: 0007 train_loss= 142.23654 val_roc= 0.82476 val_auprc= 0.76091 val_apk= 0.61074 time= 0.10392\n",
      "Epoch: 0007 Iter: 0296 Edge: 0008 train_loss= 96.59470 val_roc= 0.87303 val_auprc= 0.82548 val_apk= 0.71169 time= 0.04797\n",
      "Epoch: 0008 Iter: 0002 Edge: 0000 train_loss= 114.63342 val_roc= 0.78329 val_auprc= 0.74381 val_apk= 0.66398 time= 0.07814\n",
      "Epoch: 0008 Iter: 0003 Edge: 0001 train_loss= 111.27397 val_roc= 0.78175 val_auprc= 0.73467 val_apk= 0.67722 time= 0.18386\n",
      "Epoch: 0008 Iter: 0005 Edge: 0002 train_loss= 107.74786 val_roc= 0.80631 val_auprc= 0.74893 val_apk= 0.62665 time= 0.07724\n",
      "Epoch: 0008 Iter: 0020 Edge: 0003 train_loss= 100.73924 val_roc= 0.83998 val_auprc= 0.77984 val_apk= 0.64966 time= 0.18462\n",
      "Epoch: 0008 Iter: 0076 Edge: 0004 train_loss= 131.60489 val_roc= 0.82409 val_auprc= 0.76751 val_apk= 0.67751 time= 0.04947\n",
      "Epoch: 0008 Iter: 0120 Edge: 0005 train_loss= 118.07155 val_roc= 0.89367 val_auprc= 0.83262 val_apk= 0.69415 time= 0.03083\n",
      "Epoch: 0008 Iter: 0128 Edge: 0006 train_loss= 93.68919 val_roc= 0.90548 val_auprc= 0.90613 val_apk= 0.81432 time= 0.02307\n",
      "Epoch: 0008 Iter: 0144 Edge: 0007 train_loss= 134.09171 val_roc= 0.81853 val_auprc= 0.75318 val_apk= 0.57660 time= 0.10490\n",
      "Epoch: 0008 Iter: 0216 Edge: 0008 train_loss= 112.30385 val_roc= 0.87770 val_auprc= 0.82310 val_apk= 0.67301 time= 0.05656\n",
      "Epoch: 0008 Iter: 0240 Edge: 0009 train_loss= 89.26812 val_roc= 0.94896 val_auprc= 0.94776 val_apk= 0.85948 time= 0.02748\n",
      "(10, 5, 5)\n",
      "Epoch: 0008 Iter: 0242 Edge: 0000 train_loss= 102.93624 val_roc= 0.78548 val_auprc= 0.74858 val_apk= 0.65219 time= 0.07711\n",
      "Epoch: 0008 Iter: 0243 Edge: 0001 train_loss= 112.80872 val_roc= 0.78056 val_auprc= 0.73751 val_apk= 0.71517 time= 0.18074\n",
      "Epoch: 0008 Iter: 0245 Edge: 0002 train_loss= 112.96985 val_roc= 0.80707 val_auprc= 0.75138 val_apk= 0.62912 time= 0.07349\n",
      "Epoch: 0008 Iter: 0256 Edge: 0003 train_loss= 115.82498 val_roc= 0.84237 val_auprc= 0.78438 val_apk= 0.64239 time= 0.18709\n",
      "Epoch: 0008 Iter: 0260 Edge: 0004 train_loss= 137.95879 val_roc= 0.82890 val_auprc= 0.77141 val_apk= 0.69146 time= 0.05531\n",
      "Epoch: 0008 Iter: 0296 Edge: 0005 train_loss= 124.63086 val_roc= 0.89955 val_auprc= 0.85145 val_apk= 0.78312 time= 0.02968\n",
      "Epoch: 0009 Iter: 0002 Edge: 0000 train_loss= 113.40936 val_roc= 0.78297 val_auprc= 0.74927 val_apk= 0.70522 time= 0.07470\n",
      "Epoch: 0009 Iter: 0003 Edge: 0001 train_loss= 123.84111 val_roc= 0.76973 val_auprc= 0.72206 val_apk= 0.67506 time= 0.18457\n",
      "Epoch: 0009 Iter: 0005 Edge: 0002 train_loss= 134.13943 val_roc= 0.80251 val_auprc= 0.75141 val_apk= 0.75955 time= 0.08126\n",
      "Epoch: 0009 Iter: 0056 Edge: 0003 train_loss= 131.95808 val_roc= 0.84190 val_auprc= 0.78043 val_apk= 0.65198 time= 0.17435\n",
      "Epoch: 0009 Iter: 0116 Edge: 0004 train_loss= 132.08629 val_roc= 0.82728 val_auprc= 0.77569 val_apk= 0.71833 time= 0.05283\n",
      "Epoch: 0009 Iter: 0132 Edge: 0005 train_loss= 114.28593 val_roc= 0.89445 val_auprc= 0.83746 val_apk= 0.75570 time= 0.02816\n",
      "Epoch: 0009 Iter: 0208 Edge: 0006 train_loss= 97.66220 val_roc= 0.90690 val_auprc= 0.90972 val_apk= 0.79951 time= 0.02157\n",
      "Epoch: 0009 Iter: 0212 Edge: 0007 train_loss= 140.86014 val_roc= 0.81544 val_auprc= 0.75070 val_apk= 0.58397 time= 0.10633\n",
      "Epoch: 0009 Iter: 0240 Edge: 0008 train_loss= 123.70153 val_roc= 0.87697 val_auprc= 0.82853 val_apk= 0.68564 time= 0.04906\n",
      "Epoch: 0010 Iter: 0002 Edge: 0000 train_loss= 98.13641 val_roc= 0.78404 val_auprc= 0.74796 val_apk= 0.68403 time= 0.07716\n",
      "Epoch: 0010 Iter: 0003 Edge: 0001 train_loss= 113.49605 val_roc= 0.77332 val_auprc= 0.72734 val_apk= 0.65788 time= 0.17731\n",
      "Epoch: 0010 Iter: 0005 Edge: 0002 train_loss= 106.32504 val_roc= 0.80670 val_auprc= 0.74996 val_apk= 0.64214 time= 0.08138\n",
      "Epoch: 0010 Iter: 0024 Edge: 0003 train_loss= 111.62643 val_roc= 0.84366 val_auprc= 0.78865 val_apk= 0.68756 time= 0.17434\n",
      "Epoch: 0010 Iter: 0068 Edge: 0004 train_loss= 132.06503 val_roc= 0.82052 val_auprc= 0.76686 val_apk= 0.66159 time= 0.05058\n",
      "Epoch: 0010 Iter: 0084 Edge: 0005 train_loss= 114.05157 val_roc= 0.89593 val_auprc= 0.84052 val_apk= 0.76320 time= 0.02803\n",
      "Epoch: 0010 Iter: 0100 Edge: 0006 train_loss= 96.49015 val_roc= 0.91163 val_auprc= 0.91453 val_apk= 0.83833 time= 0.02155\n",
      "Epoch: 0010 Iter: 0132 Edge: 0007 train_loss= 139.75385 val_roc= 0.81398 val_auprc= 0.75518 val_apk= 0.64860 time= 0.10587\n",
      "Epoch: 0010 Iter: 0160 Edge: 0008 train_loss= 110.02133 val_roc= 0.87613 val_auprc= 0.83723 val_apk= 0.74250 time= 0.04806\n",
      "Epoch: 0010 Iter: 0184 Edge: 0009 train_loss= 88.16507 val_roc= 0.94896 val_auprc= 0.94590 val_apk= 0.87545 time= 0.02814\n",
      "(10, 5, 6)\n",
      "Epoch: 0010 Iter: 0186 Edge: 0000 train_loss= 116.28592 val_roc= 0.77922 val_auprc= 0.74163 val_apk= 0.61282 time= 0.07598\n",
      "Epoch: 0010 Iter: 0187 Edge: 0001 train_loss= 112.16557 val_roc= 0.77250 val_auprc= 0.72999 val_apk= 0.66913 time= 0.18651\n",
      "Epoch: 0010 Iter: 0189 Edge: 0002 train_loss= 107.91925 val_roc= 0.80617 val_auprc= 0.75453 val_apk= 0.69222 time= 0.07313\n",
      "Epoch: 0010 Iter: 0216 Edge: 0003 train_loss= 111.97209 val_roc= 0.84360 val_auprc= 0.78908 val_apk= 0.67075 time= 0.16780\n",
      "Epoch: 0010 Iter: 0232 Edge: 0004 train_loss= 136.09805 val_roc= 0.82289 val_auprc= 0.76770 val_apk= 0.68768 time= 0.05127\n",
      "Epoch: 0010 Iter: 0276 Edge: 0005 train_loss= 102.81413 val_roc= 0.89645 val_auprc= 0.83368 val_apk= 0.70587 time= 0.03087\n",
      "Optimization finished!\n",
      "Edge type= [00, 01, 00]\n",
      "Edge type: 0000 Test AUROC score 0.78269\n",
      "Edge type: 0000 Test AUPRC score 0.74340\n",
      "Edge type: 0000 Test AP@k score 0.73498\n",
      "\n",
      "Edge type= [01, 00, 00]\n",
      "Edge type: 0001 Test AUROC score 0.77705\n",
      "Edge type: 0001 Test AUPRC score 0.72428\n",
      "Edge type: 0001 Test AP@k score 0.58311\n",
      "\n",
      "Edge type= [00, 00, 00]\n",
      "Edge type: 0002 Test AUROC score 0.81867\n",
      "Edge type: 0002 Test AUPRC score 0.75639\n",
      "Edge type: 0002 Test AP@k score 0.52830\n",
      "\n",
      "Edge type= [00, 00, 01]\n",
      "Edge type: 0003 Test AUROC score 0.86868\n",
      "Edge type: 0003 Test AUPRC score 0.82504\n",
      "Edge type: 0003 Test AP@k score 0.82892\n",
      "\n",
      "Edge type= [01, 01, 00]\n",
      "Edge type: 0004 Test AUROC score 0.83613\n",
      "Edge type: 0004 Test AUPRC score 0.77920\n",
      "Edge type: 0004 Test AP@k score 0.63867\n",
      "\n",
      "Edge type= [01, 01, 01]\n",
      "Edge type: 0005 Test AUROC score 0.86190\n",
      "Edge type: 0005 Test AUPRC score 0.83742\n",
      "Edge type: 0005 Test AP@k score 0.81506\n",
      "\n",
      "Edge type= [01, 01, 02]\n",
      "Edge type: 0006 Test AUROC score 0.88091\n",
      "Edge type: 0006 Test AUPRC score 0.83549\n",
      "Edge type: 0006 Test AP@k score 0.73231\n",
      "\n",
      "Edge type= [01, 01, 03]\n",
      "Edge type: 0007 Test AUROC score 0.83768\n",
      "Edge type: 0007 Test AUPRC score 0.78816\n",
      "Edge type: 0007 Test AP@k score 0.71448\n",
      "\n"
     ]
    },
    {
     "name": "stdout",
     "output_type": "stream",
     "text": [
      "Edge type= [01, 01, 04]\n",
      "Edge type: 0008 Test AUROC score 0.88873\n",
      "Edge type: 0008 Test AUPRC score 0.84506\n",
      "Edge type: 0008 Test AP@k score 0.77180\n",
      "\n",
      "Edge type= [01, 01, 05]\n",
      "Edge type: 0009 Test AUROC score 0.95558\n",
      "Edge type: 0009 Test AUPRC score 0.95237\n",
      "Edge type: 0009 Test AP@k score 0.91943\n",
      "\n",
      "Virtual memory: 3405586432\n",
      "RSS Memory: 385282048\n",
      "Total time: 2901.04236412\n"
     ]
    }
   ],
   "source": [
    "acc_scores = np.zeros([num_edge_types,5,1])\n",
    "print(\"Train model\")\n",
    "for epoch in range(FLAGS.epochs):\n",
    "    acc_layer = np.zeros([num_edge_types,5,1])\n",
    "    minibatch.shuffle()\n",
    "    itr = 0\n",
    "    edge_count = 0\n",
    "    while not minibatch.end():\n",
    "        # Construct feed dictionary\n",
    "        feed_dict = minibatch.next_minibatch_feed_dict(placeholders=placeholders)\n",
    "        feed_dict = minibatch.update_feed_dict(\n",
    "            feed_dict=feed_dict,\n",
    "            dropout=FLAGS.dropout,\n",
    "            placeholders=placeholders)\n",
    "\n",
    "        t = time.time()\n",
    "\n",
    "        # Training step: run single weight update\n",
    "        outs = sess.run([opt.opt_op, opt.cost, opt.batch_edge_type_idx], feed_dict=feed_dict)\n",
    "        train_cost = outs[1]\n",
    "        batch_edge_type = outs[2]\n",
    "\n",
    "        #if itr % PRINT_PROGRESS_EVERY == 0:\n",
    "        if batch_edge_type == edge_count:\n",
    "            val_auc, val_auprc, val_apk = get_accuracy_scores(\n",
    "                minibatch.val_edges, minibatch.val_edges_false,\n",
    "                minibatch.idx2edge_type[minibatch.current_edge_type_idx])\n",
    "            step_time = time.time() - t\n",
    "            acc_layer[edge_count,:,0] = [val_auc,val_auprc,val_apk,train_cost,step_time]\n",
    "            print(\"Epoch:\", \"%04d\" % (epoch + 1), \"Iter:\", \"%04d\" % (itr + 1), \"Edge:\", \"%04d\" % batch_edge_type,\n",
    "                  \"train_loss=\", \"{:.5f}\".format(train_cost),\n",
    "                  \"val_roc=\", \"{:.5f}\".format(val_auc), \"val_auprc=\", \"{:.5f}\".format(val_auprc),\n",
    "                  \"val_apk=\", \"{:.5f}\".format(val_apk), \"time=\", \"{:.5f}\".format(step_time))\n",
    "            edge_count += 1\n",
    "        if edge_count == num_edge_types: \n",
    "            edge_count=0\n",
    "            acc_scores = np.concatenate((acc_scores,acc_layer),axis=2)\n",
    "            acc_layer = np.zeros([num_edge_types,5,1])\n",
    "            print(acc_scores.shape)\n",
    "        itr += 1\n",
    "        \n",
    "acc_scores=acc_scores[:,:,1:]\n",
    "output_data = {}\n",
    "output_data['val_auc'] = acc_scores[:,0,:]\n",
    "output_data['val_auprc'] = acc_scores[:,1,:]\n",
    "output_data['val_apk'] = acc_scores[:,2,:]\n",
    "output_data['train_cost'] = acc_scores[:,3,:]\n",
    "output_data['step_time'] = acc_scores[:,4,:]\n",
    "print(\"Optimization finished!\")\n",
    "for et in range(num_edge_types):\n",
    "    roc_score, auprc_score, apk_score = get_accuracy_scores(\n",
    "        minibatch.test_edges, minibatch.test_edges_false, minibatch.idx2edge_type[et])\n",
    "    print(\"Edge type=\", \"[%02d, %02d, %02d]\" % minibatch.idx2edge_type[et])\n",
    "    print(\"Edge type:\", \"%04d\" % et, \"Test AUROC score\", \"{:.5f}\".format(roc_score))\n",
    "    print(\"Edge type:\", \"%04d\" % et, \"Test AUPRC score\", \"{:.5f}\".format(auprc_score))\n",
    "    print(\"Edge type:\", \"%04d\" % et, \"Test AP@k score\", \"{:.5f}\".format(apk_score))\n",
    "    print()\n",
    "memUse = ps.memory_info()\n",
    "print('Virtual memory:', memUse.vms)\n",
    "print('RSS Memory:', memUse.rss)\n",
    "total_time=time.time()-start\n",
    "output_data['time'] = total_time\n",
    "output_data['vms'] = memUse.vms\n",
    "output_data['rss'] = memUse.rss\n",
    "print(\"Total time:\",total_time)\n"
   ]
  },
  {
   "cell_type": "code",
   "execution_count": 61,
   "metadata": {},
   "outputs": [
    {
     "data": {
      "text/plain": [
       "[<matplotlib.lines.Line2D at 0x7f6ac05b3dd0>]"
      ]
     },
     "execution_count": 61,
     "metadata": {},
     "output_type": "execute_result"
    },
    {
     "data": {
      "image/png": "[encoded data removed]",
      "text/plain": [
       "<Figure size 432x288 with 1 Axes>"
      ]
     },
     "metadata": {
      "needs_background": "light"
     },
     "output_type": "display_data"
    }
   ],
   "source": [
    "plot(acc_scores[:,0,:][7])"
   ]
  },
  {
   "cell_type": "code",
   "execution_count": null,
   "metadata": {},
   "outputs": [],
   "source": [
    "filename = 'results_training/TRAIN_toy_test_epochs'+str(FLAGS.epochs)+'_h1'+str(FLAGS.hidden1)+\\\n",
    "           '_h2'+str(FLAGS.hidden2)+'_lr'+str(FLAGS.learning_rate)+'dropout'+str(FLAGS.dropout)\n",
    "with open(filename, 'wb') as f:\n",
    "    pickle.dump(output_data, f, protocol=2)"
   ]
  }
 ],
 "metadata": {
  "kernelspec": {
   "display_name": "Python 2",
   "language": "python",
   "name": "python2"
  },
  "language_info": {
   "codemirror_mode": {
    "name": "ipython",
    "version": 2
   },
   "file_extension": ".py",
   "mimetype": "text/x-python",
   "name": "python",
   "nbconvert_exporter": "python",
   "pygments_lexer": "ipython2",
   "version": "2.7.15"
  }
 },
 "nbformat": 4,
 "nbformat_minor": 2
}
