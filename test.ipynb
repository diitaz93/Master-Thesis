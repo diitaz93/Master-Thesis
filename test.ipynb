{
 "cells": [
  {
   "cell_type": "markdown",
   "metadata": {},
   "source": [
    "# DECAGON Training\n",
    "Test notebook for training"
   ]
  },
  {
   "cell_type": "markdown",
   "metadata": {},
   "source": [
    "## Python 2"
   ]
  },
  {
   "cell_type": "code",
   "execution_count": 1,
   "metadata": {},
   "outputs": [],
   "source": [
    "from __future__ import division\n",
    "from __future__ import print_function\n",
    "from operator import itemgetter\n",
    "from itertools import combinations, chain\n",
    "import time\n",
    "import os\n",
    "import tensorflow as tf\n",
    "import numpy as np\n",
    "import networkx as nx\n",
    "import scipy.sparse as sp\n",
    "from sklearn import metrics\n",
    "import pandas as pd\n",
    "import psutil\n",
    "import pickle\n",
    "from decagon.deep.optimizer import DecagonOptimizer\n",
    "from decagon.deep.model import DecagonModel\n",
    "from decagon.deep.minibatch import EdgeMinibatchIterator\n",
    "from decagon.utility import rank_metrics, preprocessing"
   ]
  },
  {
   "cell_type": "code",
   "execution_count": 2,
   "metadata": {},
   "outputs": [
    {
     "name": "stdout",
     "output_type": "stream",
     "text": [
      "Populating the interactive namespace from numpy and matplotlib\n"
     ]
    }
   ],
   "source": [
    "%pylab inline"
   ]
  },
  {
   "cell_type": "code",
   "execution_count": 3,
   "metadata": {},
   "outputs": [],
   "source": [
    "# Train on GPU\n",
    "#os.environ[\"CUDA_DEVICE_ORDER\"] = 'PCI_BUS_ID'\n",
    "#os.environ[\"CUDA_VISIBLE_DEVICES\"] = '0'\n",
    "#config = tf.ConfigProto()\n",
    "#config.gpu_options.allow_growth = True"
   ]
  },
  {
   "cell_type": "code",
   "execution_count": 4,
   "metadata": {},
   "outputs": [],
   "source": [
    "# psutil & time BEGIN\n",
    "start = time.time() #in seconds\n",
    "pid = os.getpid()\n",
    "ps= psutil.Process(pid)"
   ]
  },
  {
   "cell_type": "markdown",
   "metadata": {},
   "source": [
    "# Import Data from previous computations"
   ]
  },
  {
   "cell_type": "code",
   "execution_count": 5,
   "metadata": {
    "scrolled": true
   },
   "outputs": [
    {
     "name": "stdout",
     "output_type": "stream",
     "text": [
      "nonzero_feat Imported successfully\n",
      "edge_type2dim Imported successfully\n",
      "adj_mats_orig Imported successfully\n",
      "edge_type2decoder Imported successfully\n",
      "degrees Imported successfully\n",
      "edge_types Imported successfully\n",
      "num_edge_types Imported successfully\n",
      "num_feat Imported successfully\n",
      "feat Imported successfully\n"
     ]
    }
   ],
   "source": [
    "filename = './data/data_structures/DECAGON/DECAGON_toy_test'\n",
    "with open(filename, 'rb') as f:\n",
    "    DS = pickle.load(f)\n",
    "    for key in DS.keys():\n",
    "        globals()[key]=DS[key]\n",
    "        print(key,\"Imported successfully\")"
   ]
  },
  {
   "cell_type": "markdown",
   "metadata": {},
   "source": [
    "# Functions"
   ]
  },
  {
   "cell_type": "code",
   "execution_count": 7,
   "metadata": {},
   "outputs": [],
   "source": [
    "def get_accuracy_scores(edges_pos, edges_neg, edge_type):\n",
    "    feed_dict.update({placeholders['dropout']: 0})\n",
    "    feed_dict.update({placeholders['batch_edge_type_idx']: minibatch.edge_type2idx[edge_type]})\n",
    "    feed_dict.update({placeholders['batch_row_edge_type']: edge_type[0]})\n",
    "    feed_dict.update({placeholders['batch_col_edge_type']: edge_type[1]})\n",
    "    rec = sess.run(opt.predictions, feed_dict=feed_dict)\n",
    "\n",
    "    def sigmoid(x):\n",
    "        return 1. / (1 + np.exp(-x))\n",
    "\n",
    "    # Predict on test set of edges\n",
    "    preds = []\n",
    "    actual = []\n",
    "    predicted = []\n",
    "    edge_ind = 0\n",
    "    for u, v in edges_pos[edge_type[:2]][edge_type[2]]:\n",
    "        score = sigmoid(rec[u, v])\n",
    "        preds.append(score)\n",
    "        assert adj_mats_orig[edge_type[:2]][edge_type[2]][u,v] == 1, 'Problem 1'\n",
    "\n",
    "        actual.append(edge_ind)\n",
    "        predicted.append((score, edge_ind))\n",
    "        edge_ind += 1\n",
    "\n",
    "    preds_neg = []\n",
    "    for u, v in edges_neg[edge_type[:2]][edge_type[2]]:\n",
    "        score = sigmoid(rec[u, v])\n",
    "        preds_neg.append(score)\n",
    "        assert adj_mats_orig[edge_type[:2]][edge_type[2]][u,v] == 0, 'Problem 0'\n",
    "\n",
    "        predicted.append((score, edge_ind))\n",
    "        edge_ind += 1\n",
    "\n",
    "    preds_all = np.hstack([preds, preds_neg])\n",
    "    preds_all = np.nan_to_num(preds_all)\n",
    "    labels_all = np.hstack([np.ones(len(preds)), np.zeros(len(preds_neg))])\n",
    "    predicted = list(zip(*sorted(predicted, reverse=True, key=itemgetter(0))))[1]\n",
    "\n",
    "    roc_sc = metrics.roc_auc_score(labels_all, preds_all)\n",
    "    aupr_sc = metrics.average_precision_score(labels_all, preds_all)\n",
    "    apk_sc = rank_metrics.apk(actual, predicted, k=50)\n",
    "\n",
    "    return roc_sc, aupr_sc, apk_sc\n",
    "\n",
    "\n",
    "def construct_placeholders(edge_types):\n",
    "    placeholders = {\n",
    "        'batch': tf.placeholder(tf.int32, name='batch'),\n",
    "        'batch_edge_type_idx': tf.placeholder(tf.int32, shape=(), name='batch_edge_type_idx'),\n",
    "        'batch_row_edge_type': tf.placeholder(tf.int32, shape=(), name='batch_row_edge_type'),\n",
    "        'batch_col_edge_type': tf.placeholder(tf.int32, shape=(), name='batch_col_edge_type'),\n",
    "        'degrees': tf.placeholder(tf.int32),\n",
    "        'dropout': tf.placeholder_with_default(0., shape=()),\n",
    "    }\n",
    "    placeholders.update({\n",
    "        'adj_mats_%d,%d,%d' % (i, j, k): tf.sparse_placeholder(tf.float32)\n",
    "        for i, j in edge_types for k in range(edge_types[i,j])})\n",
    "    placeholders.update({\n",
    "        'feat_%d' % i: tf.sparse_placeholder(tf.float32)\n",
    "        for i, _ in edge_types})\n",
    "    return placeholders"
   ]
  },
  {
   "cell_type": "markdown",
   "metadata": {},
   "source": [
    "## Settings and placeholders"
   ]
  },
  {
   "cell_type": "code",
   "execution_count": 8,
   "metadata": {},
   "outputs": [],
   "source": [
    "val_test_size = 0.05\n",
    "flags = tf.app.flags\n",
    "FLAGS = flags.FLAGS\n",
    "flags.DEFINE_integer('neg_sample_size', 1, 'Negative sample size.')\n",
    "flags.DEFINE_float('learning_rate', 0.001, 'Initial learning rate.')\n",
    "flags.DEFINE_integer('epochs', 10, 'Number of epochs to train.')\n",
    "flags.DEFINE_integer('hidden1', 64, 'Number of units in hidden layer 1.')\n",
    "flags.DEFINE_integer('hidden2', 32, 'Number of units in hidden layer 2.')\n",
    "flags.DEFINE_float('weight_decay', 0, 'Weight for L2 loss on embedding matrix.')\n",
    "flags.DEFINE_float('dropout', 0.1, 'Dropout rate (1 - keep probability).')\n",
    "flags.DEFINE_float('max_margin', 0.1, 'Max margin parameter in hinge loss')\n",
    "flags.DEFINE_integer('batch_size', 128, 'minibatch size.')\n",
    "flags.DEFINE_boolean('bias', True, 'Bias term.')\n",
    "# Important -- Do not evaluate/print validation performance every iteration as it can take\n",
    "# substantial amount of time\n",
    "PRINT_PROGRESS_EVERY = 1\n"
   ]
  },
  {
   "cell_type": "code",
   "execution_count": 9,
   "metadata": {},
   "outputs": [
    {
     "name": "stdout",
     "output_type": "stream",
     "text": [
      "Defining placeholders\n"
     ]
    }
   ],
   "source": [
    "print(\"Defining placeholders\")\n",
    "placeholders = construct_placeholders(edge_types)"
   ]
  },
  {
   "cell_type": "code",
   "execution_count": 10,
   "metadata": {},
   "outputs": [],
   "source": [
    "# MACHETAZO!! Soluciona el bug de Jupyter con tensorflow que proporciona un flag -f\n",
    "tf.app.flags.DEFINE_string('f', '', 'kernel')"
   ]
  },
  {
   "cell_type": "markdown",
   "metadata": {},
   "source": [
    "## Create minibatch iterator, model and optimizer"
   ]
  },
  {
   "cell_type": "code",
   "execution_count": 11,
   "metadata": {
    "scrolled": true
   },
   "outputs": [
    {
     "name": "stdout",
     "output_type": "stream",
     "text": [
      "Create minibatch iterator\n",
      "Minibatch edge type: (0, 1, 0)\n",
      "Constructing test edges= 0000/0665\n",
      "Constructing val edges= 0000/0665\n",
      "Constructing val edges= 0000/0665\n",
      "Train edges= 11986\n",
      "Val edges= 0665\n",
      "Test edges= 0665\n",
      "Minibatch edge type: (1, 0, 0)\n",
      "Constructing test edges= 0000/0665\n",
      "Constructing val edges= 0000/0665\n",
      "Train edges= 11986\n",
      "Val edges= 0665\n",
      "Test edges= 0665\n",
      "Minibatch edge type: (0, 0, 0)\n",
      "Constructing test edges= 0000/0650\n",
      "Constructing val edges= 0000/0650\n",
      "Train edges= 11714\n",
      "Val edges= 0650\n",
      "Test edges= 0650\n",
      "Minibatch edge type: (0, 0, 1)\n",
      "Constructing test edges= 0000/0650\n",
      "Constructing val edges= 0000/0650\n",
      "Train edges= 11714\n",
      "Val edges= 0650\n",
      "Test edges= 0650\n",
      "Minibatch edge type: (1, 1, 0)\n",
      "Constructing test edges= 0000/0383\n",
      "Constructing val edges= 0000/0383\n",
      "Train edges= 6906\n",
      "Val edges= 0383\n",
      "Test edges= 0383\n",
      "Minibatch edge type: (1, 1, 1)\n",
      "Constructing test edges= 0000/0138\n",
      "Constructing val edges= 0000/0138\n",
      "Train edges= 2502\n",
      "Val edges= 0138\n",
      "Test edges= 0138\n",
      "Minibatch edge type: (1, 1, 2)\n",
      "Constructing test edges= 0000/0046\n",
      "Constructing val edges= 0000/0046\n",
      "Train edges= 0828\n",
      "Val edges= 0046\n",
      "Test edges= 0046\n",
      "Minibatch edge type: (1, 1, 3)\n",
      "Constructing test edges= 0000/0383\n",
      "Constructing val edges= 0000/0383\n",
      "Train edges= 6906\n",
      "Val edges= 0383\n",
      "Test edges= 0383\n",
      "Minibatch edge type: (1, 1, 4)\n",
      "Constructing test edges= 0000/0138\n",
      "Constructing val edges= 0000/0138\n",
      "Train edges= 2502\n",
      "Val edges= 0138\n",
      "Test edges= 0138\n",
      "Minibatch edge type: (1, 1, 5)\n",
      "Constructing test edges= 0000/0046\n",
      "Constructing val edges= 0000/0046\n",
      "Train edges= 0828\n",
      "Val edges= 0046\n",
      "Test edges= 0046\n"
     ]
    }
   ],
   "source": [
    "print(\"Create minibatch iterator\")\n",
    "minibatch = EdgeMinibatchIterator(\n",
    "    adj_mats=adj_mats_orig,\n",
    "    feat=feat,\n",
    "    edge_types=edge_types,\n",
    "    batch_size=FLAGS.batch_size,\n",
    "    val_test_size=val_test_size\n",
    ")"
   ]
  },
  {
   "cell_type": "code",
   "execution_count": 12,
   "metadata": {},
   "outputs": [
    {
     "name": "stdout",
     "output_type": "stream",
     "text": [
      "Create model\n",
      "WARNING:tensorflow:From decagon/deep/layers.py:93: calling l2_normalize (from tensorflow.python.ops.nn_impl) with dim is deprecated and will be removed in a future version.\n",
      "Instructions for updating:\n",
      "dim is deprecated, use axis instead\n"
     ]
    }
   ],
   "source": [
    "print(\"Create model\")\n",
    "model = DecagonModel(\n",
    "    placeholders=placeholders,\n",
    "    num_feat=num_feat,\n",
    "    nonzero_feat=nonzero_feat,\n",
    "    edge_types=edge_types,\n",
    "    decoders=edge_type2decoder,\n",
    ")"
   ]
  },
  {
   "cell_type": "code",
   "execution_count": 13,
   "metadata": {
    "scrolled": true
   },
   "outputs": [
    {
     "name": "stdout",
     "output_type": "stream",
     "text": [
      "Create optimizer\n",
      "WARNING:tensorflow:tf.op_scope(values, name, default_name) is deprecated, use tf.name_scope(name, default_name, values)\n",
      "WARNING:tensorflow:tf.op_scope(values, name, default_name) is deprecated, use tf.name_scope(name, default_name, values)\n"
     ]
    },
    {
     "name": "stderr",
     "output_type": "stream",
     "text": [
      "/home/juan/anaconda3/envs/py2/lib/python2.7/site-packages/tensorflow/python/ops/gradients_impl.py:100: UserWarning: Converting sparse IndexedSlices to a dense Tensor of unknown shape. This may consume a large amount of memory.\n",
      "  \"Converting sparse IndexedSlices to a dense Tensor of unknown shape. \"\n"
     ]
    }
   ],
   "source": [
    "print(\"Create optimizer\")\n",
    "with tf.name_scope('optimizer'):\n",
    "    opt = DecagonOptimizer(\n",
    "        embeddings=model.embeddings,\n",
    "        latent_inters=model.latent_inters,\n",
    "        latent_varies=model.latent_varies,\n",
    "        degrees=degrees,\n",
    "        edge_types=edge_types,\n",
    "        edge_type2dim=edge_type2dim,\n",
    "        placeholders=placeholders,\n",
    "        batch_size=FLAGS.batch_size,\n",
    "        margin=FLAGS.max_margin\n",
    "    )"
   ]
  },
  {
   "cell_type": "code",
   "execution_count": 14,
   "metadata": {},
   "outputs": [
    {
     "name": "stdout",
     "output_type": "stream",
     "text": [
      "Initialize session\n"
     ]
    }
   ],
   "source": [
    "print(\"Initialize session\")\n",
    "sess = tf.Session()\n",
    "sess.run(tf.global_variables_initializer())\n",
    "feed_dict = {}"
   ]
  },
  {
   "cell_type": "markdown",
   "metadata": {},
   "source": [
    "# Train model"
   ]
  },
  {
   "cell_type": "code",
   "execution_count": null,
   "metadata": {},
   "outputs": [],
   "source": [
    "filename = 'results_training/TRAIN_toy_test_epochs'+str(FLAGS.epochs)+'_h1'+str(FLAGS.hidden1)+\\\n",
    "           '_h2'+str(FLAGS.hidden2)+'_lr'+str(FLAGS.learning_rate)+'_dropout'+str(FLAGS.dropout)\n",
    "print(filename)"
   ]
  },
  {
   "cell_type": "code",
   "execution_count": 32,
   "metadata": {},
   "outputs": [
    {
     "name": "stdout",
     "output_type": "stream",
     "text": [
      "results_training/TRAIN_toy_test_epochs10_h164_h232_lr0.001_dropout0.1\n",
      "Train model\n",
      "Epoch: 0001 Iter: 0001 Edge: 0002 train_loss= 128.82510 val_roc= 0.77018 val_auprc= 0.71630 val_apk= 0.53523 time= 0.07192\n",
      "Epoch: 0001 Iter: 0002 Edge: 0000 train_loss= 112.76912 val_roc= 0.76302 val_auprc= 0.72546 val_apk= 0.66969 time= 0.06878\n",
      "Epoch: 0001 Iter: 0003 Edge: 0001 train_loss= 127.86971 val_roc= 0.75795 val_auprc= 0.71872 val_apk= 0.67325 time= 0.17842\n",
      "Epoch: 0001 Iter: 0004 Edge: 0008 train_loss= 135.40604 val_roc= 0.77731 val_auprc= 0.73633 val_apk= 0.63679 time= 0.04802\n",
      "Epoch: 0001 Iter: 0008 Edge: 0003 train_loss= 128.49643 val_roc= 0.79976 val_auprc= 0.76131 val_apk= 0.76822 time= 0.17468\n",
      "Epoch: 0001 Iter: 0012 Edge: 0007 train_loss= 140.97672 val_roc= 0.77095 val_auprc= 0.72465 val_apk= 0.66180 time= 0.10499\n",
      "Epoch: 0001 Iter: 0016 Edge: 0005 train_loss= 133.78764 val_roc= 0.80093 val_auprc= 0.74908 val_apk= 0.64620 time= 0.02959\n",
      "Epoch: 0001 Iter: 0032 Edge: 0006 train_loss= 122.12558 val_roc= 0.84452 val_auprc= 0.87175 val_apk= 0.71868 time= 0.02051\n",
      "Epoch: 0001 Iter: 0052 Edge: 0004 train_loss= 141.74843 val_roc= 0.76758 val_auprc= 0.73986 val_apk= 0.72052 time= 0.05007\n",
      "Epoch: 0001 Iter: 0068 Edge: 0009 train_loss= 130.96262 val_roc= 0.83223 val_auprc= 0.82949 val_apk= 0.68119 time= 0.02714\n",
      "Epoch: 0002 Iter: 0001 Edge: 0002 train_loss= 140.23267 val_roc= 0.76935 val_auprc= 0.71717 val_apk= 0.63238 time= 0.07490\n",
      "Epoch: 0002 Iter: 0002 Edge: 0000 train_loss= 121.23495 val_roc= 0.76188 val_auprc= 0.72710 val_apk= 0.66820 time= 0.07549\n",
      "Epoch: 0002 Iter: 0003 Edge: 0001 train_loss= 110.67577 val_roc= 0.75332 val_auprc= 0.71043 val_apk= 0.59026 time= 0.17929\n",
      "Epoch: 0002 Iter: 0004 Edge: 0003 train_loss= 127.92561 val_roc= 0.81116 val_auprc= 0.77138 val_apk= 0.69534 time= 0.18294\n",
      "Epoch: 0002 Iter: 0008 Edge: 0005 train_loss= 130.48256 val_roc= 0.79983 val_auprc= 0.74425 val_apk= 0.58715 time= 0.03270\n",
      "Epoch: 0002 Iter: 0012 Edge: 0008 train_loss= 141.31616 val_roc= 0.78739 val_auprc= 0.74335 val_apk= 0.62154 time= 0.04811\n",
      "Epoch: 0002 Iter: 0020 Edge: 0006 train_loss= 114.54297 val_roc= 0.83459 val_auprc= 0.85430 val_apk= 0.73161 time= 0.02046\n",
      "Epoch: 0002 Iter: 0048 Edge: 0009 train_loss= 114.27531 val_roc= 0.83601 val_auprc= 0.83842 val_apk= 0.69050 time= 0.02720\n",
      "Epoch: 0002 Iter: 0052 Edge: 0004 train_loss= 139.33829 val_roc= 0.75366 val_auprc= 0.72801 val_apk= 0.75530 time= 0.04977\n",
      "Epoch: 0002 Iter: 0072 Edge: 0007 train_loss= 153.39433 val_roc= 0.77549 val_auprc= 0.72446 val_apk= 0.62018 time= 0.10554\n",
      "Epoch: 0003 Iter: 0001 Edge: 0002 train_loss= 130.45496 val_roc= 0.77123 val_auprc= 0.71777 val_apk= 0.58517 time= 0.07444\n",
      "Epoch: 0003 Iter: 0002 Edge: 0000 train_loss= 115.54674 val_roc= 0.76434 val_auprc= 0.72794 val_apk= 0.69119 time= 0.08064\n",
      "Epoch: 0003 Iter: 0003 Edge: 0001 train_loss= 125.34661 val_roc= 0.76854 val_auprc= 0.72759 val_apk= 0.67492 time= 0.18265\n",
      "Epoch: 0003 Iter: 0004 Edge: 0008 train_loss= 141.10890 val_roc= 0.79379 val_auprc= 0.74665 val_apk= 0.60041 time= 0.04676\n",
      "Epoch: 0003 Iter: 0012 Edge: 0005 train_loss= 129.53088 val_roc= 0.81758 val_auprc= 0.76425 val_apk= 0.67542 time= 0.02936\n",
      "Epoch: 0003 Iter: 0016 Edge: 0007 train_loss= 145.27896 val_roc= 0.77831 val_auprc= 0.72472 val_apk= 0.59243 time= 0.10762\n",
      "Epoch: 0003 Iter: 0020 Edge: 0004 train_loss= 156.66202 val_roc= 0.76612 val_auprc= 0.73109 val_apk= 0.66938 time= 0.05285\n",
      "Epoch: 0003 Iter: 0044 Edge: 0006 train_loss= 126.42113 val_roc= 0.83979 val_auprc= 0.84907 val_apk= 0.71020 time= 0.02089\n",
      "Epoch: 0003 Iter: 0068 Edge: 0003 train_loss= 131.50708 val_roc= 0.81036 val_auprc= 0.76547 val_apk= 0.69119 time= 0.17331\n",
      "Epoch: 0003 Iter: 0076 Edge: 0009 train_loss= 107.47565 val_roc= 0.84263 val_auprc= 0.85576 val_apk= 0.72932 time= 0.02852\n",
      "Epoch: 0004 Iter: 0001 Edge: 0002 train_loss= 120.74534 val_roc= 0.77332 val_auprc= 0.72477 val_apk= 0.68413 time= 0.07298\n",
      "Epoch: 0004 Iter: 0002 Edge: 0000 train_loss= 130.22844 val_roc= 0.76924 val_auprc= 0.73540 val_apk= 0.75367 time= 0.08011\n",
      "Epoch: 0004 Iter: 0003 Edge: 0001 train_loss= 112.92422 val_roc= 0.77199 val_auprc= 0.73162 val_apk= 0.68570 time= 0.18572\n",
      "Epoch: 0004 Iter: 0004 Edge: 0009 train_loss= 123.45995 val_roc= 0.86673 val_auprc= 0.88098 val_apk= 0.71777 time= 0.02948\n",
      "Epoch: 0004 Iter: 0012 Edge: 0007 train_loss= 152.37791 val_roc= 0.77544 val_auprc= 0.72534 val_apk= 0.66692 time= 0.11079\n",
      "Epoch: 0004 Iter: 0016 Edge: 0004 train_loss= 145.04968 val_roc= 0.76042 val_auprc= 0.72383 val_apk= 0.66680 time= 0.04747\n",
      "Epoch: 0004 Iter: 0024 Edge: 0008 train_loss= 134.48415 val_roc= 0.79033 val_auprc= 0.74376 val_apk= 0.60851 time= 0.04706\n",
      "Epoch: 0004 Iter: 0028 Edge: 0006 train_loss= 116.14216 val_roc= 0.83885 val_auprc= 0.86022 val_apk= 0.73895 time= 0.02153\n",
      "Epoch: 0004 Iter: 0048 Edge: 0003 train_loss= 123.61800 val_roc= 0.81673 val_auprc= 0.77301 val_apk= 0.71229 time= 0.17249\n",
      "Epoch: 0004 Iter: 0072 Edge: 0005 train_loss= 122.04394 val_roc= 0.80640 val_auprc= 0.74954 val_apk= 0.64401 time= 0.02782\n",
      "Epoch: 0005 Iter: 0001 Edge: 0002 train_loss= 121.86885 val_roc= 0.77018 val_auprc= 0.71947 val_apk= 0.61314 time= 0.06952\n",
      "Epoch: 0005 Iter: 0002 Edge: 0000 train_loss= 121.75955 val_roc= 0.77763 val_auprc= 0.74227 val_apk= 0.73483 time= 0.07256\n",
      "Epoch: 0005 Iter: 0003 Edge: 0001 train_loss= 138.65475 val_roc= 0.77504 val_auprc= 0.73546 val_apk= 0.65937 time= 0.18100\n",
      "Epoch: 0005 Iter: 0004 Edge: 0003 train_loss= 124.44569 val_roc= 0.81427 val_auprc= 0.77321 val_apk= 0.73631 time= 0.17081\n",
      "Epoch: 0005 Iter: 0008 Edge: 0008 train_loss= 122.90775 val_roc= 0.80923 val_auprc= 0.75951 val_apk= 0.63482 time= 0.04935\n",
      "Epoch: 0005 Iter: 0012 Edge: 0009 train_loss= 111.52300 val_roc= 0.86389 val_auprc= 0.86629 val_apk= 0.71697 time= 0.02878\n",
      "Epoch: 0005 Iter: 0016 Edge: 0005 train_loss= 134.92218 val_roc= 0.81359 val_auprc= 0.76568 val_apk= 0.70260 time= 0.02813\n",
      "Epoch: 0005 Iter: 0020 Edge: 0007 train_loss= 152.00529 val_roc= 0.76775 val_auprc= 0.71625 val_apk= 0.58751 time= 0.10725\n",
      "Epoch: 0005 Iter: 0036 Edge: 0004 train_loss= 151.69662 val_roc= 0.77308 val_auprc= 0.73887 val_apk= 0.72403 time= 0.04856\n",
      "Epoch: 0005 Iter: 0060 Edge: 0006 train_loss= 119.83917 val_roc= 0.84641 val_auprc= 0.86043 val_apk= 0.73558 time= 0.02078\n",
      "Epoch: 0006 Iter: 0001 Edge: 0002 train_loss= 129.51843 val_roc= 0.77658 val_auprc= 0.72507 val_apk= 0.60838 time= 0.07181\n",
      "Epoch: 0006 Iter: 0002 Edge: 0000 train_loss= 118.42445 val_roc= 0.77642 val_auprc= 0.74031 val_apk= 0.73153 time= 0.07143\n",
      "Epoch: 0006 Iter: 0003 Edge: 0001 train_loss= 117.90588 val_roc= 0.76816 val_auprc= 0.73289 val_apk= 0.68410 time= 0.17852\n",
      "Epoch: 0006 Iter: 0004 Edge: 0007 train_loss= 139.30228 val_roc= 0.78715 val_auprc= 0.73656 val_apk= 0.64100 time= 0.09563\n",
      "Epoch: 0006 Iter: 0012 Edge: 0005 train_loss= 123.56698 val_roc= 0.82430 val_auprc= 0.76366 val_apk= 0.63752 time= 0.02761\n",
      "Epoch: 0006 Iter: 0016 Edge: 0006 train_loss= 126.62971 val_roc= 0.85066 val_auprc= 0.86379 val_apk= 0.72122 time= 0.02066\n",
      "Epoch: 0006 Iter: 0020 Edge: 0008 train_loss= 119.69400 val_roc= 0.80020 val_auprc= 0.75010 val_apk= 0.61290 time= 0.04831\n",
      "Epoch: 0006 Iter: 0032 Edge: 0009 train_loss= 109.14168 val_roc= 0.85539 val_auprc= 0.86236 val_apk= 0.73225 time= 0.02866\n",
      "Epoch: 0006 Iter: 0056 Edge: 0003 train_loss= 122.32581 val_roc= 0.82148 val_auprc= 0.77980 val_apk= 0.76818 time= 0.16862\n",
      "Epoch: 0006 Iter: 0088 Edge: 0004 train_loss= 135.22513 val_roc= 0.75862 val_auprc= 0.71948 val_apk= 0.66381 time= 0.04940\n",
      "Epoch: 0007 Iter: 0001 Edge: 0002 train_loss= 125.50196 val_roc= 0.76953 val_auprc= 0.71978 val_apk= 0.58554 time= 0.07057\n",
      "Epoch: 0007 Iter: 0002 Edge: 0000 train_loss= 137.73360 val_roc= 0.77800 val_auprc= 0.74144 val_apk= 0.78622 time= 0.07397\n",
      "Epoch: 0007 Iter: 0003 Edge: 0001 train_loss= 115.33125 val_roc= 0.76912 val_auprc= 0.72486 val_apk= 0.63512 time= 0.18014\n",
      "Epoch: 0007 Iter: 0004 Edge: 0008 train_loss= 122.90872 val_roc= 0.81774 val_auprc= 0.76443 val_apk= 0.63087 time= 0.04908\n",
      "Epoch: 0007 Iter: 0008 Edge: 0005 train_loss= 128.54816 val_roc= 0.83465 val_auprc= 0.78505 val_apk= 0.74267 time= 0.02904\n",
      "Epoch: 0007 Iter: 0012 Edge: 0007 train_loss= 145.16302 val_roc= 0.78087 val_auprc= 0.72639 val_apk= 0.59761 time= 0.10560\n"
     ]
    },
    {
     "name": "stdout",
     "output_type": "stream",
     "text": [
      "Epoch: 0007 Iter: 0016 Edge: 0003 train_loss= 136.22119 val_roc= 0.81620 val_auprc= 0.77563 val_apk= 0.71318 time= 0.17317\n",
      "Epoch: 0007 Iter: 0020 Edge: 0006 train_loss= 119.53064 val_roc= 0.81853 val_auprc= 0.83631 val_apk= 0.71606 time= 0.02143\n",
      "Epoch: 0007 Iter: 0044 Edge: 0009 train_loss= 115.24404 val_roc= 0.88091 val_auprc= 0.88608 val_apk= 0.75049 time= 0.02561\n",
      "Epoch: 0007 Iter: 0088 Edge: 0004 train_loss= 144.05028 val_roc= 0.77361 val_auprc= 0.73252 val_apk= 0.61915 time= 0.04862\n",
      "Epoch: 0008 Iter: 0001 Edge: 0002 train_loss= 122.85263 val_roc= 0.78307 val_auprc= 0.72650 val_apk= 0.63460 time= 0.07554\n",
      "Epoch: 0008 Iter: 0002 Edge: 0000 train_loss= 134.51477 val_roc= 0.77428 val_auprc= 0.74292 val_apk= 0.71885 time= 0.07310\n",
      "Epoch: 0008 Iter: 0003 Edge: 0001 train_loss= 143.71570 val_roc= 0.76949 val_auprc= 0.73203 val_apk= 0.71806 time= 0.18262\n",
      "Epoch: 0008 Iter: 0004 Edge: 0003 train_loss= 139.86348 val_roc= 0.82577 val_auprc= 0.78474 val_apk= 0.69520 time= 0.17163\n",
      "Epoch: 0008 Iter: 0008 Edge: 0006 train_loss= 116.27631 val_roc= 0.85870 val_auprc= 0.86107 val_apk= 0.74463 time= 0.02503\n",
      "Epoch: 0008 Iter: 0016 Edge: 0004 train_loss= 133.00017 val_roc= 0.78071 val_auprc= 0.74494 val_apk= 0.70022 time= 0.04713\n",
      "Epoch: 0008 Iter: 0020 Edge: 0005 train_loss= 125.41957 val_roc= 0.82892 val_auprc= 0.77035 val_apk= 0.61174 time= 0.02855\n",
      "Epoch: 0008 Iter: 0028 Edge: 0009 train_loss= 120.59261 val_roc= 0.87524 val_auprc= 0.89174 val_apk= 0.74159 time= 0.02685\n",
      "Epoch: 0008 Iter: 0052 Edge: 0008 train_loss= 136.14485 val_roc= 0.82084 val_auprc= 0.75978 val_apk= 0.58346 time= 0.04689\n",
      "Epoch: 0008 Iter: 0096 Edge: 0007 train_loss= 138.60300 val_roc= 0.78931 val_auprc= 0.73160 val_apk= 0.57292 time= 0.10517\n",
      "Epoch: 0009 Iter: 0001 Edge: 0002 train_loss= 125.56116 val_roc= 0.78387 val_auprc= 0.72843 val_apk= 0.59762 time= 0.07357\n",
      "Epoch: 0009 Iter: 0002 Edge: 0000 train_loss= 130.36154 val_roc= 0.78297 val_auprc= 0.74765 val_apk= 0.72842 time= 0.07239\n",
      "Epoch: 0009 Iter: 0003 Edge: 0001 train_loss= 125.26608 val_roc= 0.77462 val_auprc= 0.72710 val_apk= 0.64480 time= 0.17983\n",
      "Epoch: 0009 Iter: 0004 Edge: 0008 train_loss= 124.49327 val_roc= 0.81837 val_auprc= 0.77214 val_apk= 0.66347 time= 0.04726\n",
      "Epoch: 0009 Iter: 0008 Edge: 0006 train_loss= 113.19678 val_roc= 0.85255 val_auprc= 0.87322 val_apk= 0.74713 time= 0.02039\n",
      "Epoch: 0009 Iter: 0012 Edge: 0007 train_loss= 147.17691 val_roc= 0.79278 val_auprc= 0.73841 val_apk= 0.64324 time= 0.10171\n",
      "Epoch: 0009 Iter: 0016 Edge: 0004 train_loss= 135.49600 val_roc= 0.77552 val_auprc= 0.74211 val_apk= 0.73750 time= 0.04827\n",
      "Epoch: 0009 Iter: 0020 Edge: 0003 train_loss= 125.99393 val_roc= 0.82054 val_auprc= 0.78064 val_apk= 0.69398 time= 0.17633\n",
      "Epoch: 0009 Iter: 0044 Edge: 0005 train_loss= 119.22569 val_roc= 0.82540 val_auprc= 0.76069 val_apk= 0.61574 time= 0.02765\n",
      "Epoch: 0009 Iter: 0052 Edge: 0009 train_loss= 115.53178 val_roc= 0.89461 val_auprc= 0.90621 val_apk= 0.80153 time= 0.02584\n",
      "Epoch: 0010 Iter: 0001 Edge: 0002 train_loss= 111.55881 val_roc= 0.78320 val_auprc= 0.73282 val_apk= 0.69432 time= 0.07288\n",
      "Epoch: 0010 Iter: 0002 Edge: 0000 train_loss= 113.51761 val_roc= 0.78135 val_auprc= 0.74955 val_apk= 0.77033 time= 0.07252\n",
      "Epoch: 0010 Iter: 0003 Edge: 0001 train_loss= 124.33794 val_roc= 0.77193 val_auprc= 0.72586 val_apk= 0.73060 time= 0.18083\n",
      "Epoch: 0010 Iter: 0004 Edge: 0006 train_loss= 118.94415 val_roc= 0.85539 val_auprc= 0.87385 val_apk= 0.74930 time= 0.02094\n",
      "Epoch: 0010 Iter: 0008 Edge: 0009 train_loss= 112.15144 val_roc= 0.89178 val_auprc= 0.89786 val_apk= 0.75722 time= 0.02874\n",
      "Epoch: 0010 Iter: 0012 Edge: 0008 train_loss= 134.42960 val_roc= 0.81973 val_auprc= 0.76726 val_apk= 0.63743 time= 0.04587\n",
      "Epoch: 0010 Iter: 0020 Edge: 0003 train_loss= 117.19270 val_roc= 0.82137 val_auprc= 0.77806 val_apk= 0.67407 time= 0.18031\n",
      "Epoch: 0010 Iter: 0036 Edge: 0005 train_loss= 117.72045 val_roc= 0.83307 val_auprc= 0.76777 val_apk= 0.61836 time= 0.02750\n",
      "Epoch: 0010 Iter: 0060 Edge: 0004 train_loss= 134.60506 val_roc= 0.76867 val_auprc= 0.73908 val_apk= 0.76651 time= 0.05263\n",
      "Epoch: 0010 Iter: 0104 Edge: 0007 train_loss= 160.46548 val_roc= 0.79013 val_auprc= 0.73413 val_apk= 0.59194 time= 0.10832\n",
      "Optimization finished!\n",
      "Edge type= [00, 01, 00]\n",
      "Edge type: 0000 Test AUROC score 0.72691\n",
      "Edge type: 0000 Test AUPRC score 0.67248\n",
      "Edge type: 0000 Test AP@k score 0.54441\n",
      "\n",
      "Edge type= [01, 00, 00]\n",
      "Edge type: 0001 Test AUROC score 0.74885\n",
      "Edge type: 0001 Test AUPRC score 0.71823\n",
      "Edge type: 0001 Test AP@k score 0.71672\n",
      "\n",
      "Edge type= [00, 00, 00]\n",
      "Edge type: 0002 Test AUROC score 0.77969\n",
      "Edge type: 0002 Test AUPRC score 0.71141\n",
      "Edge type: 0002 Test AP@k score 0.43153\n",
      "\n",
      "Edge type= [00, 00, 01]\n",
      "Edge type: 0003 Test AUROC score 0.84153\n",
      "Edge type: 0003 Test AUPRC score 0.78645\n",
      "Edge type: 0003 Test AP@k score 0.64500\n",
      "\n",
      "Edge type= [01, 01, 00]\n",
      "Edge type: 0004 Test AUROC score 0.79437\n",
      "Edge type: 0004 Test AUPRC score 0.72645\n",
      "Edge type: 0004 Test AP@k score 0.53869\n",
      "\n",
      "Edge type= [01, 01, 01]\n",
      "Edge type: 0005 Test AUROC score 0.82052\n",
      "Edge type: 0005 Test AUPRC score 0.79337\n",
      "Edge type: 0005 Test AP@k score 0.71060\n",
      "\n",
      "Edge type= [01, 01, 02]\n",
      "Edge type: 0006 Test AUROC score 0.78592\n",
      "Edge type: 0006 Test AUPRC score 0.78769\n",
      "Edge type: 0006 Test AP@k score 0.61968\n",
      "\n",
      "Edge type= [01, 01, 03]\n",
      "Edge type: 0007 Test AUROC score 0.81190\n",
      "Edge type: 0007 Test AUPRC score 0.77494\n",
      "Edge type: 0007 Test AP@k score 0.78071\n",
      "\n",
      "Edge type= [01, 01, 04]\n",
      "Edge type: 0008 Test AUROC score 0.85218\n",
      "Edge type: 0008 Test AUPRC score 0.81237\n",
      "Edge type: 0008 Test AP@k score 0.73031\n",
      "\n",
      "Edge type= [01, 01, 05]\n",
      "Edge type: 0009 Test AUROC score 0.89603\n",
      "Edge type: 0009 Test AUPRC score 0.88930\n",
      "Edge type: 0009 Test AP@k score 0.79528\n",
      "\n",
      "Virtual memory: 3328815104\n",
      "RSS Memory: 387096576\n",
      "Total time: 2534.46216512\n"
     ]
    }
   ],
   "source": [
    "output_data = {}\n",
    "acc_scores = np.zeros([num_edge_types,4,1])\n",
    "print(\"Train model\")\n",
    "for epoch in range(FLAGS.epochs):\n",
    "    acc_layer = np.zeros([num_edge_types,4,1])\n",
    "    minibatch.shuffle()\n",
    "    itr = 0\n",
    "    edge_count = range(num_edge_types)\n",
    "    while not minibatch.end():\n",
    "        # Construct feed dictionary\n",
    "        feed_dict = minibatch.next_minibatch_feed_dict(placeholders=placeholders)\n",
    "        feed_dict = minibatch.update_feed_dict(\n",
    "            feed_dict=feed_dict,\n",
    "            dropout=FLAGS.dropout,\n",
    "            placeholders=placeholders)\n",
    "\n",
    "        t = time.time()\n",
    "\n",
    "        # Training step: run single weight update\n",
    "        outs = sess.run([opt.opt_op, opt.cost, opt.batch_edge_type_idx], feed_dict=feed_dict)\n",
    "        train_cost = outs[1]\n",
    "        batch_edge_type = outs[2]\n",
    "\n",
    "        #if itr % PRINT_PROGRESS_EVERY == 0:\n",
    "        if batch_edge_type in edge_count:\n",
    "            val_auc, val_auprc, val_apk = get_accuracy_scores(\n",
    "                minibatch.val_edges, minibatch.val_edges_false,\n",
    "                minibatch.idx2edge_type[minibatch.current_edge_type_idx])\n",
    "            step_time = time.time() - t\n",
    "            acc_layer[batch_edge_type,:,0] = [val_auc,val_auprc,val_apk,train_cost]\n",
    "            print(\"Epoch:\", \"%04d\" % (epoch + 1), \"Iter:\", \"%04d\" % (itr + 1), \"Edge:\", \"%04d\" % batch_edge_type,\n",
    "                  \"train_loss=\", \"{:.5f}\".format(train_cost),\n",
    "                  \"val_roc=\", \"{:.5f}\".format(val_auc), \"val_auprc=\", \"{:.5f}\".format(val_auprc),\n",
    "                  \"val_apk=\", \"{:.5f}\".format(val_apk), \"time=\", \"{:.5f}\".format(step_time))\n",
    "            edge_count.remove(batch_edge_type)\n",
    "        itr += 1\n",
    "    acc_scores = np.concatenate((acc_scores,acc_layer),axis=2)\n",
    "    output_data['val_auc'] = acc_scores[:,0,1:]\n",
    "    output_data['val_auprc'] = acc_scores[:,1,1:]\n",
    "    output_data['val_apk'] = acc_scores[:,2,1:]\n",
    "    output_data['train_cost'] = acc_scores[:,3,1:]\n",
    "    output_data['epoch'] = epoch + 1\n",
    "    with open(filename,'wb') as f:\n",
    "        pickle.dump(output_data, f, protocol=2)\n",
    "    acc_layer = np.zeros([num_edge_types,4,1])\n",
    "    \n",
    "print(\"Optimization finished!\")\n",
    "final_scores = np.zeros([num_edge_types,4,1])\n",
    "for et in range(num_edge_types):\n",
    "    roc_score, auprc_score, apk_score = get_accuracy_scores(\n",
    "        minibatch.test_edges, minibatch.test_edges_false, minibatch.idx2edge_type[et])\n",
    "    print(\"Edge type=\", \"[%02d, %02d, %02d]\" % minibatch.idx2edge_type[et])\n",
    "    print(\"Edge type:\", \"%04d\" % et, \"Test AUROC score\", \"{:.5f}\".format(roc_score))\n",
    "    print(\"Edge type:\", \"%04d\" % et, \"Test AUPRC score\", \"{:.5f}\".format(auprc_score))\n",
    "    print(\"Edge type:\", \"%04d\" % et, \"Test AP@k score\", \"{:.5f}\".format(apk_score))\n",
    "    print()\n",
    "    final_scores[et,0,0] = roc_score\n",
    "    final_scores[et,1,0] = auprc_score\n",
    "    final_scores[et,2,0] = apk_score\n",
    "acc_scores = np.concatenate((acc_scores,final_scores),axis=2)\n",
    "output_data['val_auc'] = acc_scores[:,0,1:]\n",
    "output_data['val_auprc'] = acc_scores[:,1,1:]\n",
    "output_data['val_apk'] = acc_scores[:,2,1:]\n",
    "output_data['train_cost'] = acc_scores[:,3,1:]\n",
    "memUse = ps.memory_info()\n",
    "print('Virtual memory:', memUse.vms)\n",
    "print('RSS Memory:', memUse.rss)\n",
    "total_time=time.time()-start\n",
    "output_data['time'] = total_time\n",
    "output_data['vms'] = memUse.vms\n",
    "output_data['rss'] = memUse.rss\n",
    "with open(filename,'wb') as f:\n",
    "    pickle.dump(output_data, f, protocol=2)\n",
    "print(\"Total time:\",total_time)\n"
   ]
  },
  {
   "cell_type": "code",
   "execution_count": null,
   "metadata": {},
   "outputs": [],
   "source": []
  }
 ],
 "metadata": {
  "kernelspec": {
   "display_name": "Python 2",
   "language": "python",
   "name": "python2"
  },
  "language_info": {
   "codemirror_mode": {
    "name": "ipython",
    "version": 2
   },
   "file_extension": ".py",
   "mimetype": "text/x-python",
   "name": "python",
   "nbconvert_exporter": "python",
   "pygments_lexer": "ipython2",
   "version": "2.7.15"
  }
 },
 "nbformat": 4,
 "nbformat_minor": 2
}
