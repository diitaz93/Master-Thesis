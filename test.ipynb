{
 "cells": [
  {
   "cell_type": "code",
   "execution_count": 1,
   "metadata": {},
   "outputs": [],
   "source": [
    "from __future__ import division\n",
    "from __future__ import print_function\n",
    "from operator import itemgetter\n",
    "from itertools import combinations\n",
    "import time\n",
    "import os\n",
    "import tensorflow as tf\n",
    "import numpy as np\n",
    "import networkx as nx\n",
    "import scipy.sparse as sp\n",
    "from sklearn import metrics"
   ]
  },
  {
   "cell_type": "code",
   "execution_count": 2,
   "metadata": {},
   "outputs": [
    {
     "name": "stdout",
     "output_type": "stream",
     "text": [
      "1.8.0\n"
     ]
    }
   ],
   "source": [
    "print(tf.__version__)"
   ]
  },
  {
   "cell_type": "code",
   "execution_count": 3,
   "metadata": {},
   "outputs": [
    {
     "name": "stdout",
     "output_type": "stream",
     "text": [
      "Populating the interactive namespace from numpy and matplotlib\n"
     ]
    }
   ],
   "source": [
    "%pylab inline"
   ]
  },
  {
   "cell_type": "code",
   "execution_count": 4,
   "metadata": {},
   "outputs": [],
   "source": [
    "from decagon.deep.optimizer import DecagonOptimizer\n",
    "from decagon.deep.model import DecagonModel\n",
    "from decagon.deep.minibatch import EdgeMinibatchIterator\n",
    "from decagon.utility import rank_metrics, preprocessing\n",
    "from data.utils_mod import *"
   ]
  },
  {
   "cell_type": "code",
   "execution_count": 5,
   "metadata": {},
   "outputs": [],
   "source": [
    "# Train on GPU\n",
    "os.environ[\"CUDA_DEVICE_ORDER\"] = 'PCI_BUS_ID'\n",
    "os.environ[\"CUDA_VISIBLE_DEVICES\"] = '0'\n",
    "config = tf.ConfigProto()\n",
    "config.gpu_options.allow_growth = True"
   ]
  },
  {
   "cell_type": "markdown",
   "metadata": {},
   "source": [
    "# Functions"
   ]
  },
  {
   "cell_type": "code",
   "execution_count": 6,
   "metadata": {},
   "outputs": [],
   "source": [
    "def get_accuracy_scores(edges_pos, edges_neg, edge_type):\n",
    "    feed_dict.update({placeholders['dropout']: 0})\n",
    "    feed_dict.update({placeholders['batch_edge_type_idx']: minibatch.edge_type2idx[edge_type]})\n",
    "    feed_dict.update({placeholders['batch_row_edge_type']: edge_type[0]})\n",
    "    feed_dict.update({placeholders['batch_col_edge_type']: edge_type[1]})\n",
    "    rec = sess.run(opt.predictions, feed_dict=feed_dict)\n",
    "\n",
    "    def sigmoid(x):\n",
    "        return 1. / (1 + np.exp(-x))\n",
    "\n",
    "    # Predict on test set of edges\n",
    "    preds = []\n",
    "    actual = []\n",
    "    predicted = []\n",
    "    edge_ind = 0\n",
    "    for u, v in edges_pos[edge_type[:2]][edge_type[2]]:\n",
    "        score = sigmoid(rec[u, v])\n",
    "        preds.append(score)\n",
    "        assert adj_mats_orig[edge_type[:2]][edge_type[2]][u,v] == 1, 'Problem 1'\n",
    "\n",
    "        actual.append(edge_ind)\n",
    "        predicted.append((score, edge_ind))\n",
    "        edge_ind += 1\n",
    "\n",
    "    preds_neg = []\n",
    "    for u, v in edges_neg[edge_type[:2]][edge_type[2]]:\n",
    "        score = sigmoid(rec[u, v])\n",
    "        preds_neg.append(score)\n",
    "        assert adj_mats_orig[edge_type[:2]][edge_type[2]][u,v] == 0, 'Problem 0'\n",
    "\n",
    "        predicted.append((score, edge_ind))\n",
    "        edge_ind += 1\n",
    "\n",
    "    preds_all = np.hstack([preds, preds_neg])\n",
    "    preds_all = np.nan_to_num(preds_all)\n",
    "    labels_all = np.hstack([np.ones(len(preds)), np.zeros(len(preds_neg))])\n",
    "    predicted = list(zip(*sorted(predicted, reverse=True, key=itemgetter(0))))[1]\n",
    "\n",
    "    roc_sc = metrics.roc_auc_score(labels_all, preds_all)\n",
    "    aupr_sc = metrics.average_precision_score(labels_all, preds_all)\n",
    "    apk_sc = rank_metrics.apk(actual, predicted, k=50)\n",
    "\n",
    "    return roc_sc, aupr_sc, apk_sc\n",
    "\n",
    "\n",
    "def construct_placeholders(edge_types):\n",
    "    placeholders = {\n",
    "        'batch': tf.placeholder(tf.int32, name='batch'),\n",
    "        'batch_edge_type_idx': tf.placeholder(tf.int32, shape=(), name='batch_edge_type_idx'),\n",
    "        'batch_row_edge_type': tf.placeholder(tf.int32, shape=(), name='batch_row_edge_type'),\n",
    "        'batch_col_edge_type': tf.placeholder(tf.int32, shape=(), name='batch_col_edge_type'),\n",
    "        'degrees': tf.placeholder(tf.int32),\n",
    "        'dropout': tf.placeholder_with_default(0., shape=()),\n",
    "    }\n",
    "    placeholders.update({\n",
    "        'adj_mats_%d,%d,%d' % (i, j, k): tf.sparse_placeholder(tf.float32)\n",
    "        for i, j in edge_types for k in range(edge_types[i,j])})\n",
    "    placeholders.update({\n",
    "        'feat_%d' % i: tf.sparse_placeholder(tf.float32)\n",
    "        for i, _ in edge_types})\n",
    "    return placeholders"
   ]
  },
  {
   "cell_type": "markdown",
   "metadata": {},
   "source": [
    "# Load and preprocess data "
   ]
  },
  {
   "cell_type": "code",
   "execution_count": 7,
   "metadata": {},
   "outputs": [
    {
     "name": "stdout",
     "output_type": "stream",
     "text": [
      "Reading: data/modif_data/ppi_mini.csv\n",
      "Edges: 6609\n",
      "Nodes: 4499\n",
      "Reading: data/modif_data/mono_mini.csv\n",
      "Number of individual side effects:  564\n",
      "Reading: data/modif_data/target_mini.csv\n",
      "Reading: data/modif_data/combo_mini.csv\n",
      "Drug combinations: 22866 Side effects: 6\n",
      "Drug-drug interactions: 27746\n",
      "Number of drugs:  590\n"
     ]
    }
   ],
   "source": [
    "# Loading Gene data (PPI)\n",
    "ppi, gene2idx = load_ppi(fname='data/modif_data/ppi_mini.csv')\n",
    "ppi_adj = nx.adjacency_matrix(ppi)\n",
    "ppi_degrees = np.array(ppi_adj.sum(axis=0)).squeeze() \n",
    "n_genes = ppi.number_of_nodes() # Number of genes (nodes)\n",
    "# Loading individual side effects\n",
    "stitch2se, semono2name, semono2idx = load_mono_se(fname='data/modif_data/mono_mini.csv')\n",
    "n_semono = len(semono2name)\n",
    "print('Number of individual side effects: ', n_semono)\n",
    "# Loading Target data (DTI)\n",
    "stitch2proteins = load_targets(fname='data/modif_data/target_mini.csv')\n",
    "# Loading Drug data (DDI)\n",
    "combo2stitch, combo2se, se2name, drug2idx = load_combo_se(fname='data/modif_data/combo_mini.csv')\n",
    "# Loading Side effect data (features)\n",
    "#stitch2se, se2name = load_mono_se(fname='polypharmacy/mono_mini.csv')\n",
    "n_drugs = len(drug2idx)\n",
    "print('Number of drugs: ', n_drugs)"
   ]
  },
  {
   "cell_type": "code",
   "execution_count": 8,
   "metadata": {},
   "outputs": [],
   "source": [
    "# Drug-traget adjacency matrix\n",
    "dti_adj = np.zeros([n_genes,n_drugs],dtype=int)\n",
    "for drug in drug2idx.keys():\n",
    "    for gene in stitch2proteins[drug]:\n",
    "        if gene==set():\n",
    "            continue\n",
    "        else:\n",
    "            idp = gene2idx[str(gene)]\n",
    "            idd = drug2idx[drug]\n",
    "            dti_adj[idp,idd] = 1  "
   ]
  },
  {
   "cell_type": "code",
   "execution_count": 9,
   "metadata": {},
   "outputs": [],
   "source": [
    "dti_adj = sp.csr_matrix(dti_adj)"
   ]
  },
  {
   "cell_type": "code",
   "execution_count": 10,
   "metadata": {},
   "outputs": [],
   "source": [
    "# DDi adjacency matrix\n",
    "ddi_adj_list = []\n",
    "for se in se2name.keys():\n",
    "    mat = np.zeros([n_drugs,n_drugs],dtype=int)\n",
    "    for pair in combo2se.keys():\n",
    "        if se in combo2se[pair]:\n",
    "            d1,d2 = combo2stitch[pair]\n",
    "            mat[drug2idx[d1],drug2idx[d2]] = 1\n",
    "    ddi_adj_list.append(sp.csr_matrix(mat))    \n",
    "ddi_degrees_list = [np.array(drug_adj.sum(axis=0)).squeeze() for drug_adj in ddi_adj_list]\n",
    "\n",
    "adj_mats_orig = {\n",
    "    (0, 0): [ppi_adj, ppi_adj.transpose(copy=True)],\n",
    "    (0, 1): [dti_adj],\n",
    "    (1, 0): [dti_adj.transpose(copy=True)],\n",
    "    (1, 1): ddi_adj_list + [x.transpose(copy=True) for x in ddi_adj_list],\n",
    "}\n",
    "degrees = {\n",
    "    0: [ppi_degrees, ppi_degrees],\n",
    "    1: ddi_degrees_list + ddi_degrees_list, \n",
    "}"
   ]
  },
  {
   "cell_type": "code",
   "execution_count": 11,
   "metadata": {},
   "outputs": [],
   "source": [
    "# featureless (genes)\n",
    "gene_feat = sp.identity(n_genes)\n",
    "gene_nonzero_feat, gene_num_feat = gene_feat.shape\n",
    "gene_feat = preprocessing.sparse_to_tuple(gene_feat.tocoo())\n",
    "# features (drugs)\n",
    "oh_feat = np.zeros([n_drugs,n_semono], dtype=int)\n",
    "for drug in drug2idx.keys():\n",
    "    for se in stitch2se[drug]:\n",
    "        did = drug2idx[drug]\n",
    "        seid = semono2idx[se]\n",
    "        oh_feat[did,seid] = 1\n",
    "drug_feat = sp.csr_matrix(oh_feat)\n",
    "drug_nonzero_feat = n_semono\n",
    "drug_num_feat = n_semono\n",
    "drug_feat = preprocessing.sparse_to_tuple(drug_feat.tocoo())"
   ]
  },
  {
   "cell_type": "code",
   "execution_count": 12,
   "metadata": {},
   "outputs": [
    {
     "name": "stdout",
     "output_type": "stream",
     "text": [
      "Edge types: 16\n"
     ]
    }
   ],
   "source": [
    "# data representation\n",
    "num_feat = {\n",
    "    0: gene_num_feat,\n",
    "    1: drug_num_feat,\n",
    "}\n",
    "nonzero_feat = {\n",
    "    0: gene_nonzero_feat,\n",
    "    1: drug_nonzero_feat,\n",
    "}\n",
    "feat = {\n",
    "    0: gene_feat,\n",
    "    1: drug_feat,\n",
    "}\n",
    "# Dictionary with the shape of all the matrices of the dictionary adj_mats_orig\n",
    "edge_type2dim = {k: [adj.shape for adj in adjs] for k, adjs in adj_mats_orig.items()}\n",
    "edge_type2decoder = {\n",
    "    (0, 0): 'bilinear',\n",
    "    (0, 1): 'bilinear',\n",
    "    (1, 0): 'bilinear',\n",
    "    (1, 1): 'dedicom',\n",
    "}\n",
    "#Dictionary with the number of matrices for each entry of adj_mats_orig\n",
    "edge_types = {k: len(v) for k, v in adj_mats_orig.items()}\n",
    "num_edge_types = sum(edge_types.values())\n",
    "print(\"Edge types:\", \"%d\" % num_edge_types)"
   ]
  },
  {
   "cell_type": "code",
   "execution_count": 13,
   "metadata": {},
   "outputs": [
    {
     "name": "stdout",
     "output_type": "stream",
     "text": [
      "{0: 4434, 1: 550}\n",
      "{0: 4434, 1: 550}\n"
     ]
    }
   ],
   "source": [
    "print(num_feat)\n",
    "print(nonzero_feat)"
   ]
  },
  {
   "cell_type": "markdown",
   "metadata": {},
   "source": [
    "## Settings and placeholders"
   ]
  },
  {
   "cell_type": "code",
   "execution_count": 14,
   "metadata": {},
   "outputs": [],
   "source": [
    "val_test_size = 0.05\n",
    "flags = tf.app.flags\n",
    "FLAGS = flags.FLAGS\n",
    "flags.DEFINE_integer('neg_sample_size', 1, 'Negative sample size.')\n",
    "flags.DEFINE_float('learning_rate', 0.001, 'Initial learning rate.')\n",
    "flags.DEFINE_integer('epochs', 50, 'Number of epochs to train.')\n",
    "flags.DEFINE_integer('hidden1', 64, 'Number of units in hidden layer 1.')\n",
    "flags.DEFINE_integer('hidden2', 32, 'Number of units in hidden layer 2.')\n",
    "flags.DEFINE_float('weight_decay', 0, 'Weight for L2 loss on embedding matrix.')\n",
    "flags.DEFINE_float('dropout', 0.1, 'Dropout rate (1 - keep probability).')\n",
    "flags.DEFINE_float('max_margin', 0.1, 'Max margin parameter in hinge loss')\n",
    "flags.DEFINE_integer('batch_size', 512, 'minibatch size.')\n",
    "flags.DEFINE_boolean('bias', True, 'Bias term.')\n",
    "# Important -- Do not evaluate/print validation performance every iteration as it can take\n",
    "# substantial amount of time\n",
    "PRINT_PROGRESS_EVERY = 150\n"
   ]
  },
  {
   "cell_type": "code",
   "execution_count": 15,
   "metadata": {},
   "outputs": [
    {
     "name": "stdout",
     "output_type": "stream",
     "text": [
      "Defining placeholders\n"
     ]
    }
   ],
   "source": [
    "print(\"Defining placeholders\")\n",
    "placeholders = construct_placeholders(edge_types)"
   ]
  },
  {
   "cell_type": "code",
   "execution_count": 16,
   "metadata": {},
   "outputs": [],
   "source": [
    "# MACHETAZO!! Soluciona el bug de Jupyter con tensorflow que proporciona un flag -f\n",
    "tf.app.flags.DEFINE_string('f', '', 'kernel')"
   ]
  },
  {
   "cell_type": "markdown",
   "metadata": {},
   "source": [
    "## Create minibatch iterator, model and optimizer"
   ]
  },
  {
   "cell_type": "code",
   "execution_count": 17,
   "metadata": {
    "scrolled": true
   },
   "outputs": [
    {
     "name": "stdout",
     "output_type": "stream",
     "text": [
      "Create minibatch iterator\n",
      "Minibatch edge type: (0, 1, 0)\n",
      "Constructing test edges= 0000/0801\n",
      "Constructing val edges= 0000/0801\n",
      "Train edges= 14424\n",
      "Val edges= 0801\n",
      "Test edges= 0801\n",
      "Minibatch edge type: (1, 0, 0)\n",
      "Constructing test edges= 0000/0801\n"
     ]
    },
    {
     "name": "stderr",
     "output_type": "stream",
     "text": [
      "decagon/deep/minibatch.py:67: RuntimeWarning: divide by zero encountered in power\n",
      "  rowdegree_mat_inv = sp.diags(np.nan_to_num(np.power(rowsum, -0.5)).flatten())\n",
      "decagon/deep/minibatch.py:68: RuntimeWarning: divide by zero encountered in power\n",
      "  coldegree_mat_inv = sp.diags(np.nan_to_num(np.power(colsum, -0.5)).flatten())\n"
     ]
    },
    {
     "name": "stdout",
     "output_type": "stream",
     "text": [
      "Constructing val edges= 0000/0801\n",
      "Train edges= 14424\n",
      "Val edges= 0801\n",
      "Test edges= 0801\n",
      "Minibatch edge type: (0, 0, 0)\n",
      "Constructing test edges= 0000/0647\n",
      "Constructing val edges= 0000/0647\n",
      "Train edges= 11664\n",
      "Val edges= 0647\n",
      "Test edges= 0647\n",
      "Minibatch edge type: (0, 0, 1)\n",
      "Constructing test edges= 0000/0647\n",
      "Constructing val edges= 0000/0647\n",
      "Train edges= 11664\n",
      "Val edges= 0647\n",
      "Test edges= 0647\n",
      "Minibatch edge type: (1, 1, 0)\n",
      "Constructing test edges= 0000/0022\n",
      "Constructing val edges= 0000/0022\n",
      "Train edges= 0402\n",
      "Val edges= 0022\n",
      "Test edges= 0022\n",
      "Minibatch edge type: (1, 1, 1)\n",
      "Constructing test edges= 0000/0189\n",
      "Constructing val edges= 0000/0189\n",
      "Train edges= 3421\n",
      "Val edges= 0189\n",
      "Test edges= 0189\n",
      "Minibatch edge type: (1, 1, 2)\n",
      "Constructing test edges= 0000/0124\n",
      "Constructing val edges= 0000/0124\n",
      "Train edges= 2234\n",
      "Val edges= 0124\n",
      "Test edges= 0124\n",
      "Minibatch edge type: (1, 1, 3)\n",
      "Constructing test edges= 0000/0147\n",
      "Constructing val edges= 0000/0147\n",
      "Train edges= 2646\n",
      "Val edges= 0147\n",
      "Test edges= 0147\n",
      "Minibatch edge type: (1, 1, 4)\n",
      "Constructing test edges= 0000/0554\n",
      "Constructing val edges= 0000/0554\n",
      "Train edges= 9988\n",
      "Val edges= 0554\n",
      "Test edges= 0554\n",
      "Minibatch edge type: (1, 1, 5)\n",
      "Constructing test edges= 0000/0020\n",
      "Constructing val edges= 0000/0020\n",
      "Train edges= 0341\n",
      "Val edges= 0020\n",
      "Test edges= 0020\n",
      "Minibatch edge type: (1, 1, 6)\n",
      "Constructing test edges= 0000/0022\n",
      "Constructing val edges= 0000/0022\n",
      "Train edges= 0402\n",
      "Val edges= 0022\n",
      "Test edges= 0022\n",
      "Minibatch edge type: (1, 1, 7)\n",
      "Constructing test edges= 0000/0189\n",
      "Constructing val edges= 0000/0189\n",
      "Train edges= 3421\n",
      "Val edges= 0189\n",
      "Test edges= 0189\n",
      "Minibatch edge type: (1, 1, 8)\n",
      "Constructing test edges= 0000/0124\n",
      "Constructing val edges= 0000/0124\n",
      "Train edges= 2234\n",
      "Val edges= 0124\n",
      "Test edges= 0124\n",
      "Minibatch edge type: (1, 1, 9)\n",
      "Constructing test edges= 0000/0147\n",
      "Constructing val edges= 0000/0147\n",
      "Train edges= 2646\n",
      "Val edges= 0147\n",
      "Test edges= 0147\n",
      "Minibatch edge type: (1, 1, 10)\n",
      "Constructing test edges= 0000/0554\n",
      "Constructing val edges= 0000/0554\n",
      "Train edges= 9988\n",
      "Val edges= 0554\n",
      "Test edges= 0554\n",
      "Minibatch edge type: (1, 1, 11)\n",
      "Constructing test edges= 0000/0020\n",
      "Constructing val edges= 0000/0020\n",
      "Train edges= 0341\n",
      "Val edges= 0020\n",
      "Test edges= 0020\n"
     ]
    }
   ],
   "source": [
    "print(\"Create minibatch iterator\")\n",
    "minibatch = EdgeMinibatchIterator(\n",
    "    adj_mats=adj_mats_orig,\n",
    "    feat=feat,\n",
    "    edge_types=edge_types,\n",
    "    batch_size=FLAGS.batch_size,\n",
    "    val_test_size=val_test_size\n",
    ")"
   ]
  },
  {
   "cell_type": "code",
   "execution_count": 18,
   "metadata": {},
   "outputs": [
    {
     "name": "stdout",
     "output_type": "stream",
     "text": [
      "Create model\n",
      "WARNING:tensorflow:From decagon/deep/layers.py:93: calling l2_normalize (from tensorflow.python.ops.nn_impl) with dim is deprecated and will be removed in a future version.\n",
      "Instructions for updating:\n",
      "dim is deprecated, use axis instead\n"
     ]
    }
   ],
   "source": [
    "print(\"Create model\")\n",
    "model = DecagonModel(\n",
    "    placeholders=placeholders,\n",
    "    num_feat=num_feat,\n",
    "    nonzero_feat=nonzero_feat,\n",
    "    edge_types=edge_types,\n",
    "    decoders=edge_type2decoder,\n",
    ")"
   ]
  },
  {
   "cell_type": "code",
   "execution_count": 19,
   "metadata": {},
   "outputs": [
    {
     "name": "stdout",
     "output_type": "stream",
     "text": [
      "Create optimizer\n",
      "WARNING:tensorflow:tf.op_scope(values, name, default_name) is deprecated, use tf.name_scope(name, default_name, values)\n",
      "WARNING:tensorflow:tf.op_scope(values, name, default_name) is deprecated, use tf.name_scope(name, default_name, values)\n"
     ]
    },
    {
     "name": "stderr",
     "output_type": "stream",
     "text": [
      "/home/juan/anaconda3/envs/py2/lib/python2.7/site-packages/tensorflow/python/ops/gradients_impl.py:100: UserWarning: Converting sparse IndexedSlices to a dense Tensor of unknown shape. This may consume a large amount of memory.\n",
      "  \"Converting sparse IndexedSlices to a dense Tensor of unknown shape. \"\n"
     ]
    }
   ],
   "source": [
    "print(\"Create optimizer\")\n",
    "with tf.name_scope('optimizer'):\n",
    "    opt = DecagonOptimizer(\n",
    "        embeddings=model.embeddings,\n",
    "        latent_inters=model.latent_inters,\n",
    "        latent_varies=model.latent_varies,\n",
    "        degrees=degrees,\n",
    "        edge_types=edge_types,\n",
    "        edge_type2dim=edge_type2dim,\n",
    "        placeholders=placeholders,\n",
    "        batch_size=FLAGS.batch_size,\n",
    "        margin=FLAGS.max_margin\n",
    "    )"
   ]
  },
  {
   "cell_type": "code",
   "execution_count": 20,
   "metadata": {},
   "outputs": [
    {
     "name": "stdout",
     "output_type": "stream",
     "text": [
      "Initialize session\n"
     ]
    }
   ],
   "source": [
    "print(\"Initialize session\")\n",
    "sess = tf.Session()\n",
    "sess.run(tf.global_variables_initializer())\n",
    "feed_dict = {}"
   ]
  },
  {
   "cell_type": "markdown",
   "metadata": {},
   "source": [
    "# Train model"
   ]
  },
  {
   "cell_type": "code",
   "execution_count": 22,
   "metadata": {
    "scrolled": false
   },
   "outputs": [
    {
     "name": "stdout",
     "output_type": "stream",
     "text": [
      "Train model\n",
      "Epoch: 0001 Iter: 0001 Edge: 0002 train_loss= 436.42828 val_roc= 0.89174 val_auprc= 0.86522 val_apk= 0.90518 time= 0.12993\n",
      "Epoch: 0001 Iter: 0151 Edge: 0001 train_loss= 74.67413 val_roc= 0.95012 val_auprc= 0.95428 val_apk= 0.93168 time= 0.27760\n",
      "Epoch: 0001 Iter: 0301 Edge: 0002 train_loss= 373.37909 val_roc= 0.91530 val_auprc= 0.88832 val_apk= 0.89002 time= 0.14255\n",
      "Epoch: 0002 Iter: 0001 Edge: 0002 train_loss= 358.67566 val_roc= 0.91818 val_auprc= 0.89357 val_apk= 0.87376 time= 0.14029\n",
      "Epoch: 0002 Iter: 0151 Edge: 0001 train_loss= 78.46939 val_roc= 0.95775 val_auprc= 0.96091 val_apk= 0.95208 time= 0.26353\n",
      "Epoch: 0002 Iter: 0301 Edge: 0002 train_loss= 335.62213 val_roc= 0.92790 val_auprc= 0.89283 val_apk= 0.80133 time= 0.14011\n",
      "Epoch: 0003 Iter: 0001 Edge: 0002 train_loss= 301.38019 val_roc= 0.93459 val_auprc= 0.90072 val_apk= 0.80147 time= 0.14022\n",
      "Epoch: 0003 Iter: 0151 Edge: 0001 train_loss= 73.81236 val_roc= 0.94972 val_auprc= 0.96076 val_apk= 1.00000 time= 0.27485\n",
      "Epoch: 0003 Iter: 0301 Edge: 0002 train_loss= 285.46954 val_roc= 0.94584 val_auprc= 0.92365 val_apk= 0.89408 time= 0.13339\n",
      "Epoch: 0004 Iter: 0001 Edge: 0002 train_loss= 286.48444 val_roc= 0.94910 val_auprc= 0.93102 val_apk= 0.93168 time= 0.13693\n",
      "Epoch: 0004 Iter: 0151 Edge: 0001 train_loss= 85.55103 val_roc= 0.95910 val_auprc= 0.96400 val_apk= 1.00000 time= 0.25866\n",
      "Epoch: 0004 Iter: 0301 Edge: 0002 train_loss= 245.74866 val_roc= 0.95417 val_auprc= 0.93853 val_apk= 0.94860 time= 0.14241\n",
      "Epoch: 0005 Iter: 0001 Edge: 0002 train_loss= 241.90843 val_roc= 0.95361 val_auprc= 0.93768 val_apk= 0.94673 time= 0.13506\n",
      "Epoch: 0005 Iter: 0151 Edge: 0001 train_loss= 88.78247 val_roc= 0.96222 val_auprc= 0.96589 val_apk= 1.00000 time= 0.27305\n",
      "Epoch: 0005 Iter: 0301 Edge: 0002 train_loss= 240.08551 val_roc= 0.96040 val_auprc= 0.95092 val_apk= 1.00000 time= 0.13677\n",
      "Epoch: 0006 Iter: 0001 Edge: 0002 train_loss= 240.64432 val_roc= 0.96265 val_auprc= 0.95085 val_apk= 0.94098 time= 0.13560\n",
      "Epoch: 0006 Iter: 0151 Edge: 0001 train_loss= 79.25642 val_roc= 0.95944 val_auprc= 0.96182 val_apk= 0.96470 time= 0.24621\n",
      "Epoch: 0006 Iter: 0301 Edge: 0002 train_loss= 212.62260 val_roc= 0.96414 val_auprc= 0.95048 val_apk= 0.94469 time= 0.14117\n",
      "Epoch: 0007 Iter: 0001 Edge: 0002 train_loss= 202.55748 val_roc= 0.96797 val_auprc= 0.95479 val_apk= 0.94187 time= 0.14000\n",
      "Epoch: 0007 Iter: 0151 Edge: 0001 train_loss= 73.29095 val_roc= 0.95832 val_auprc= 0.96320 val_apk= 1.00000 time= 0.27327\n",
      "Epoch: 0007 Iter: 0301 Edge: 0002 train_loss= 205.35675 val_roc= 0.96825 val_auprc= 0.95772 val_apk= 0.97238 time= 0.14614\n",
      "Epoch: 0008 Iter: 0001 Edge: 0002 train_loss= 171.20694 val_roc= 0.97010 val_auprc= 0.95541 val_apk= 0.90390 time= 0.13840\n",
      "Epoch: 0008 Iter: 0151 Edge: 0001 train_loss= 67.85224 val_roc= 0.95666 val_auprc= 0.95774 val_apk= 0.92668 time= 0.26909\n",
      "Epoch: 0008 Iter: 0301 Edge: 0002 train_loss= 186.89911 val_roc= 0.97407 val_auprc= 0.96651 val_apk= 0.97457 time= 0.14336\n",
      "Epoch: 0009 Iter: 0001 Edge: 0002 train_loss= 210.55672 val_roc= 0.97206 val_auprc= 0.96121 val_apk= 0.94187 time= 0.14462\n",
      "Epoch: 0009 Iter: 0151 Edge: 0001 train_loss= 75.63312 val_roc= 0.94834 val_auprc= 0.95221 val_apk= 0.93902 time= 0.25694\n",
      "Epoch: 0009 Iter: 0301 Edge: 0002 train_loss= 191.88962 val_roc= 0.97957 val_auprc= 0.97399 val_apk= 0.97607 time= 0.13633\n",
      "Epoch: 0010 Iter: 0001 Edge: 0002 train_loss= 174.18025 val_roc= 0.97929 val_auprc= 0.97128 val_apk= 0.96710 time= 0.13762\n",
      "Epoch: 0010 Iter: 0151 Edge: 0001 train_loss= 57.94686 val_roc= 0.95550 val_auprc= 0.95535 val_apk= 0.92002 time= 0.29235\n",
      "Epoch: 0010 Iter: 0301 Edge: 0002 train_loss= 169.17076 val_roc= 0.98250 val_auprc= 0.97667 val_apk= 0.96383 time= 0.13717\n",
      "Epoch: 0011 Iter: 0001 Edge: 0002 train_loss= 165.86095 val_roc= 0.98222 val_auprc= 0.97880 val_apk= 1.00000 time= 0.13691\n",
      "Epoch: 0011 Iter: 0151 Edge: 0001 train_loss= 80.23978 val_roc= 0.95548 val_auprc= 0.95829 val_apk= 0.97295 time= 0.26553\n",
      "Epoch: 0011 Iter: 0301 Edge: 0002 train_loss= 158.68808 val_roc= 0.98249 val_auprc= 0.97921 val_apk= 1.00000 time= 0.13129\n",
      "Epoch: 0012 Iter: 0001 Edge: 0002 train_loss= 154.97017 val_roc= 0.98087 val_auprc= 0.97350 val_apk= 0.96292 time= 0.13780\n",
      "Epoch: 0012 Iter: 0151 Edge: 0001 train_loss= 57.77219 val_roc= 0.95491 val_auprc= 0.95713 val_apk= 0.95763 time= 0.27078\n",
      "Epoch: 0012 Iter: 0301 Edge: 0002 train_loss= 162.00720 val_roc= 0.98454 val_auprc= 0.98064 val_apk= 1.00000 time= 0.13115\n",
      "Epoch: 0013 Iter: 0001 Edge: 0002 train_loss= 133.75926 val_roc= 0.98402 val_auprc= 0.97960 val_apk= 1.00000 time= 0.13325\n",
      "Epoch: 0013 Iter: 0151 Edge: 0001 train_loss= 72.10683 val_roc= 0.95048 val_auprc= 0.95063 val_apk= 0.92002 time= 0.27579\n",
      "Epoch: 0013 Iter: 0301 Edge: 0002 train_loss= 166.14778 val_roc= 0.98565 val_auprc= 0.98336 val_apk= 1.00000 time= 0.17277\n",
      "Epoch: 0014 Iter: 0001 Edge: 0002 train_loss= 133.88477 val_roc= 0.98437 val_auprc= 0.98010 val_apk= 1.00000 time= 0.13408\n",
      "Epoch: 0014 Iter: 0151 Edge: 0001 train_loss= 68.24011 val_roc= 0.95127 val_auprc= 0.94825 val_apk= 0.93168 time= 0.28719\n",
      "Epoch: 0014 Iter: 0301 Edge: 0002 train_loss= 140.72176 val_roc= 0.98687 val_auprc= 0.98527 val_apk= 1.00000 time= 0.13542\n",
      "Epoch: 0015 Iter: 0001 Edge: 0002 train_loss= 138.57120 val_roc= 0.98524 val_auprc= 0.98222 val_apk= 1.00000 time= 0.13683\n",
      "Epoch: 0015 Iter: 0151 Edge: 0001 train_loss= 73.51157 val_roc= 0.95077 val_auprc= 0.95256 val_apk= 0.97559 time= 0.25678\n",
      "Epoch: 0015 Iter: 0301 Edge: 0002 train_loss= 161.20447 val_roc= 0.98544 val_auprc= 0.98187 val_apk= 1.00000 time= 0.14164\n",
      "Epoch: 0016 Iter: 0001 Edge: 0002 train_loss= 130.34212 val_roc= 0.98576 val_auprc= 0.98064 val_apk= 1.00000 time= 0.14328\n",
      "Epoch: 0016 Iter: 0151 Edge: 0001 train_loss= 57.21926 val_roc= 0.94545 val_auprc= 0.94473 val_apk= 0.93980 time= 0.28698\n",
      "Epoch: 0016 Iter: 0301 Edge: 0002 train_loss= 131.73184 val_roc= 0.98542 val_auprc= 0.98143 val_apk= 1.00000 time= 0.14274\n",
      "Epoch: 0017 Iter: 0001 Edge: 0002 train_loss= 126.86777 val_roc= 0.98515 val_auprc= 0.97865 val_apk= 1.00000 time= 0.13661\n",
      "Epoch: 0017 Iter: 0151 Edge: 0001 train_loss= 59.24072 val_roc= 0.94836 val_auprc= 0.94925 val_apk= 0.97702 time= 0.27468\n",
      "Epoch: 0017 Iter: 0301 Edge: 0002 train_loss= 141.37593 val_roc= 0.98323 val_auprc= 0.97678 val_apk= 1.00000 time= 0.14366\n",
      "Epoch: 0018 Iter: 0001 Edge: 0002 train_loss= 117.16631 val_roc= 0.98243 val_auprc= 0.97588 val_apk= 1.00000 time= 0.14337\n",
      "Epoch: 0018 Iter: 0151 Edge: 0001 train_loss= 53.45906 val_roc= 0.94909 val_auprc= 0.94927 val_apk= 0.95479 time= 0.26681\n",
      "Epoch: 0018 Iter: 0301 Edge: 0002 train_loss= 124.17198 val_roc= 0.98502 val_auprc= 0.97999 val_apk= 1.00000 time= 0.14374\n",
      "Epoch: 0019 Iter: 0001 Edge: 0002 train_loss= 128.98117 val_roc= 0.98312 val_auprc= 0.97667 val_apk= 1.00000 time= 0.13659\n",
      "Epoch: 0019 Iter: 0151 Edge: 0001 train_loss= 55.36376 val_roc= 0.95170 val_auprc= 0.94904 val_apk= 0.97702 time= 0.31877\n",
      "Epoch: 0019 Iter: 0301 Edge: 0002 train_loss= 117.44460 val_roc= 0.98495 val_auprc= 0.97985 val_apk= 1.00000 time= 0.14707\n",
      "Epoch: 0020 Iter: 0001 Edge: 0002 train_loss= 114.20780 val_roc= 0.98695 val_auprc= 0.98309 val_apk= 1.00000 time= 0.14508\n",
      "Epoch: 0020 Iter: 0151 Edge: 0001 train_loss= 60.22527 val_roc= 0.94484 val_auprc= 0.94374 val_apk= 0.92887 time= 0.27044\n",
      "Epoch: 0020 Iter: 0301 Edge: 0002 train_loss= 107.83281 val_roc= 0.98598 val_auprc= 0.97907 val_apk= 1.00000 time= 0.14754\n",
      "Epoch: 0021 Iter: 0001 Edge: 0002 train_loss= 136.49072 val_roc= 0.98535 val_auprc= 0.97828 val_apk= 0.96856 time= 0.14515\n",
      "Epoch: 0021 Iter: 0151 Edge: 0001 train_loss= 64.30681 val_roc= 0.95196 val_auprc= 0.95055 val_apk= 0.97559 time= 0.28879\n",
      "Epoch: 0021 Iter: 0301 Edge: 0002 train_loss= 129.97116 val_roc= 0.98695 val_auprc= 0.97959 val_apk= 0.97119 time= 0.15171\n",
      "Epoch: 0022 Iter: 0001 Edge: 0002 train_loss= 130.71808 val_roc= 0.98501 val_auprc= 0.97704 val_apk= 1.00000 time= 0.14576\n",
      "Epoch: 0022 Iter: 0151 Edge: 0001 train_loss= 59.63188 val_roc= 0.95349 val_auprc= 0.95220 val_apk= 0.97056 time= 0.28512\n",
      "Epoch: 0022 Iter: 0301 Edge: 0002 train_loss= 99.76817 val_roc= 0.98697 val_auprc= 0.97994 val_apk= 0.96383 time= 0.14790\n",
      "Epoch: 0023 Iter: 0001 Edge: 0002 train_loss= 123.17630 val_roc= 0.98705 val_auprc= 0.98009 val_apk= 1.00000 time= 0.14466\n"
     ]
    },
    {
     "name": "stdout",
     "output_type": "stream",
     "text": [
      "Epoch: 0023 Iter: 0151 Edge: 0001 train_loss= 67.88560 val_roc= 0.95078 val_auprc= 0.95202 val_apk= 0.96925 time= 0.29250\n",
      "Epoch: 0023 Iter: 0301 Edge: 0002 train_loss= 104.52620 val_roc= 0.98825 val_auprc= 0.98318 val_apk= 1.00000 time= 0.15135\n",
      "Epoch: 0024 Iter: 0001 Edge: 0002 train_loss= 110.70338 val_roc= 0.98840 val_auprc= 0.98429 val_apk= 1.00000 time= 0.15908\n",
      "Epoch: 0024 Iter: 0151 Edge: 0001 train_loss= 68.77203 val_roc= 0.94908 val_auprc= 0.94994 val_apk= 1.00000 time= 0.29045\n",
      "Epoch: 0024 Iter: 0301 Edge: 0002 train_loss= 101.16736 val_roc= 0.98863 val_auprc= 0.98556 val_apk= 1.00000 time= 0.14915\n",
      "Epoch: 0025 Iter: 0001 Edge: 0002 train_loss= 87.86604 val_roc= 0.99003 val_auprc= 0.98580 val_apk= 0.97559 time= 0.15303\n",
      "Epoch: 0025 Iter: 0151 Edge: 0001 train_loss= 67.94505 val_roc= 0.94498 val_auprc= 0.94857 val_apk= 1.00000 time= 0.29947\n",
      "Epoch: 0025 Iter: 0301 Edge: 0002 train_loss= 117.31165 val_roc= 0.98741 val_auprc= 0.98040 val_apk= 0.97702 time= 0.14469\n",
      "Epoch: 0026 Iter: 0001 Edge: 0002 train_loss= 109.17657 val_roc= 0.98845 val_auprc= 0.98281 val_apk= 0.97747 time= 0.14615\n",
      "Epoch: 0026 Iter: 0151 Edge: 0001 train_loss= 67.09739 val_roc= 0.95545 val_auprc= 0.95486 val_apk= 1.00000 time= 0.29434\n",
      "Epoch: 0026 Iter: 0301 Edge: 0002 train_loss= 110.92549 val_roc= 0.98983 val_auprc= 0.98556 val_apk= 1.00000 time= 0.15487\n",
      "Epoch: 0027 Iter: 0001 Edge: 0002 train_loss= 110.40750 val_roc= 0.98893 val_auprc= 0.98312 val_apk= 1.00000 time= 0.14663\n",
      "Epoch: 0027 Iter: 0151 Edge: 0001 train_loss= 69.02817 val_roc= 0.95188 val_auprc= 0.95366 val_apk= 1.00000 time= 0.29368\n",
      "Epoch: 0027 Iter: 0301 Edge: 0002 train_loss= 105.01394 val_roc= 0.99109 val_auprc= 0.98641 val_apk= 0.97295 time= 0.14918\n",
      "Epoch: 0028 Iter: 0001 Edge: 0002 train_loss= 113.01821 val_roc= 0.98984 val_auprc= 0.98489 val_apk= 1.00000 time= 0.15653\n",
      "Epoch: 0028 Iter: 0151 Edge: 0001 train_loss= 62.99742 val_roc= 0.95540 val_auprc= 0.95590 val_apk= 1.00000 time= 0.29199\n",
      "Epoch: 0028 Iter: 0301 Edge: 0002 train_loss= 102.51901 val_roc= 0.98949 val_auprc= 0.98457 val_apk= 1.00000 time= 0.15047\n",
      "Epoch: 0029 Iter: 0001 Edge: 0002 train_loss= 100.82767 val_roc= 0.98880 val_auprc= 0.98443 val_apk= 1.00000 time= 0.14162\n",
      "Epoch: 0029 Iter: 0151 Edge: 0001 train_loss= 67.25614 val_roc= 0.95212 val_auprc= 0.95339 val_apk= 1.00000 time= 0.26729\n",
      "Epoch: 0029 Iter: 0301 Edge: 0002 train_loss= 89.65506 val_roc= 0.99035 val_auprc= 0.98736 val_apk= 1.00000 time= 0.15124\n",
      "Epoch: 0030 Iter: 0001 Edge: 0002 train_loss= 89.72398 val_roc= 0.99074 val_auprc= 0.98806 val_apk= 1.00000 time= 0.14399\n",
      "Epoch: 0030 Iter: 0151 Edge: 0001 train_loss= 63.51495 val_roc= 0.95303 val_auprc= 0.95220 val_apk= 1.00000 time= 0.27795\n",
      "Epoch: 0030 Iter: 0301 Edge: 0002 train_loss= 111.65901 val_roc= 0.98957 val_auprc= 0.98495 val_apk= 1.00000 time= 0.14599\n",
      "Epoch: 0031 Iter: 0001 Edge: 0002 train_loss= 100.94943 val_roc= 0.99183 val_auprc= 0.98918 val_apk= 1.00000 time= 0.15460\n",
      "Epoch: 0031 Iter: 0151 Edge: 0001 train_loss= 51.65961 val_roc= 0.94930 val_auprc= 0.94864 val_apk= 1.00000 time= 0.27718\n",
      "Epoch: 0031 Iter: 0301 Edge: 0002 train_loss= 97.08047 val_roc= 0.98918 val_auprc= 0.98311 val_apk= 0.96992 time= 0.14252\n",
      "Epoch: 0032 Iter: 0001 Edge: 0002 train_loss= 101.02431 val_roc= 0.98907 val_auprc= 0.98278 val_apk= 0.98000 time= 0.13911\n",
      "Epoch: 0032 Iter: 0151 Edge: 0001 train_loss= 56.78067 val_roc= 0.95466 val_auprc= 0.95321 val_apk= 0.97791 time= 0.29097\n",
      "Epoch: 0032 Iter: 0301 Edge: 0002 train_loss= 100.26288 val_roc= 0.99086 val_auprc= 0.98742 val_apk= 1.00000 time= 0.14534\n",
      "Epoch: 0033 Iter: 0001 Edge: 0002 train_loss= 110.00380 val_roc= 0.99280 val_auprc= 0.99127 val_apk= 1.00000 time= 0.15113\n",
      "Epoch: 0033 Iter: 0151 Edge: 0001 train_loss= 57.92413 val_roc= 0.95269 val_auprc= 0.95365 val_apk= 1.00000 time= 0.27506\n",
      "Epoch: 0033 Iter: 0301 Edge: 0002 train_loss= 89.58998 val_roc= 0.99263 val_auprc= 0.98951 val_apk= 1.00000 time= 0.14559\n",
      "Epoch: 0034 Iter: 0001 Edge: 0002 train_loss= 97.70729 val_roc= 0.99273 val_auprc= 0.99056 val_apk= 1.00000 time= 0.14798\n",
      "Epoch: 0034 Iter: 0151 Edge: 0001 train_loss= 56.81574 val_roc= 0.95171 val_auprc= 0.95363 val_apk= 1.00000 time= 0.29148\n",
      "Epoch: 0034 Iter: 0301 Edge: 0002 train_loss= 86.52493 val_roc= 0.99157 val_auprc= 0.98667 val_apk= 1.00000 time= 0.14753\n",
      "Epoch: 0035 Iter: 0001 Edge: 0002 train_loss= 99.87138 val_roc= 0.99027 val_auprc= 0.98524 val_apk= 1.00000 time= 0.14975\n",
      "Epoch: 0035 Iter: 0151 Edge: 0001 train_loss= 59.78447 val_roc= 0.95345 val_auprc= 0.95114 val_apk= 0.97747 time= 0.29871\n",
      "Epoch: 0035 Iter: 0301 Edge: 0002 train_loss= 89.70844 val_roc= 0.98954 val_auprc= 0.97973 val_apk= 0.94390 time= 0.15302\n",
      "Epoch: 0036 Iter: 0001 Edge: 0002 train_loss= 97.94244 val_roc= 0.98943 val_auprc= 0.97743 val_apk= 0.92668 time= 0.14781\n",
      "Epoch: 0036 Iter: 0151 Edge: 0001 train_loss= 71.47131 val_roc= 0.95244 val_auprc= 0.94900 val_apk= 0.96856 time= 0.30011\n",
      "Epoch: 0036 Iter: 0301 Edge: 0002 train_loss= 92.03316 val_roc= 0.99060 val_auprc= 0.97985 val_apk= 0.90199 time= 0.14385\n",
      "Epoch: 0037 Iter: 0001 Edge: 0002 train_loss= 88.63896 val_roc= 0.99073 val_auprc= 0.98411 val_apk= 0.98000 time= 0.14366\n",
      "Epoch: 0037 Iter: 0151 Edge: 0001 train_loss= 72.11078 val_roc= 0.94859 val_auprc= 0.94693 val_apk= 1.00000 time= 0.30502\n",
      "Epoch: 0037 Iter: 0301 Edge: 0002 train_loss= 93.31586 val_roc= 0.99156 val_auprc= 0.98483 val_apk= 0.97179 time= 0.14291\n",
      "Epoch: 0038 Iter: 0001 Edge: 0002 train_loss= 83.23518 val_roc= 0.99092 val_auprc= 0.98418 val_apk= 0.96785 time= 0.14095\n",
      "Epoch: 0038 Iter: 0151 Edge: 0001 train_loss= 56.52373 val_roc= 0.95197 val_auprc= 0.95031 val_apk= 1.00000 time= 0.27807\n",
      "Epoch: 0038 Iter: 0301 Edge: 0002 train_loss= 80.05158 val_roc= 0.99263 val_auprc= 0.98851 val_apk= 0.97405 time= 0.15415\n",
      "Epoch: 0039 Iter: 0001 Edge: 0002 train_loss= 75.24690 val_roc= 0.99142 val_auprc= 0.98466 val_apk= 0.97405 time= 0.14717\n",
      "Epoch: 0039 Iter: 0151 Edge: 0001 train_loss= 56.79493 val_roc= 0.95174 val_auprc= 0.94855 val_apk= 0.97791 time= 0.28928\n",
      "Epoch: 0039 Iter: 0301 Edge: 0002 train_loss= 71.01856 val_roc= 0.99158 val_auprc= 0.98609 val_apk= 0.95763 time= 0.14662\n",
      "Epoch: 0040 Iter: 0001 Edge: 0002 train_loss= 65.33640 val_roc= 0.99070 val_auprc= 0.98491 val_apk= 1.00000 time= 0.14373\n",
      "Epoch: 0040 Iter: 0151 Edge: 0001 train_loss= 63.16103 val_roc= 0.95418 val_auprc= 0.95027 val_apk= 0.96634 time= 0.28241\n",
      "Epoch: 0040 Iter: 0301 Edge: 0002 train_loss= 100.93524 val_roc= 0.99286 val_auprc= 0.99046 val_apk= 1.00000 time= 0.14303\n",
      "Epoch: 0041 Iter: 0001 Edge: 0002 train_loss= 80.64037 val_roc= 0.99171 val_auprc= 0.98660 val_apk= 0.97119 time= 0.14766\n",
      "Epoch: 0041 Iter: 0151 Edge: 0001 train_loss= 61.65665 val_roc= 0.95362 val_auprc= 0.94996 val_apk= 1.00000 time= 0.29609\n",
      "Epoch: 0041 Iter: 0301 Edge: 0002 train_loss= 80.13985 val_roc= 0.99083 val_auprc= 0.98136 val_apk= 0.93648 time= 0.14623\n",
      "Epoch: 0042 Iter: 0001 Edge: 0002 train_loss= 89.76440 val_roc= 0.99062 val_auprc= 0.98247 val_apk= 0.95992 time= 0.14697\n",
      "Epoch: 0042 Iter: 0151 Edge: 0001 train_loss= 54.73722 val_roc= 0.95344 val_auprc= 0.95009 val_apk= 1.00000 time= 0.27604\n",
      "Epoch: 0042 Iter: 0301 Edge: 0002 train_loss= 91.97905 val_roc= 0.99026 val_auprc= 0.97769 val_apk= 0.89812 time= 0.14630\n",
      "Epoch: 0043 Iter: 0001 Edge: 0002 train_loss= 78.86145 val_roc= 0.98922 val_auprc= 0.97976 val_apk= 0.94210 time= 0.15122\n",
      "Epoch: 0043 Iter: 0151 Edge: 0001 train_loss= 64.19485 val_roc= 0.95020 val_auprc= 0.94882 val_apk= 1.00000 time= 0.27691\n",
      "Epoch: 0043 Iter: 0301 Edge: 0002 train_loss= 89.62685 val_roc= 0.98869 val_auprc= 0.97538 val_apk= 0.90729 time= 0.14924\n",
      "Epoch: 0044 Iter: 0001 Edge: 0002 train_loss= 88.61254 val_roc= 0.98975 val_auprc= 0.97736 val_apk= 0.89414 time= 0.15071\n",
      "Epoch: 0044 Iter: 0151 Edge: 0001 train_loss= 65.40859 val_roc= 0.95518 val_auprc= 0.95118 val_apk= 1.00000 time= 0.29874\n",
      "Epoch: 0044 Iter: 0301 Edge: 0002 train_loss= 67.02939 val_roc= 0.99018 val_auprc= 0.98113 val_apk= 0.93882 time= 0.14359\n",
      "Epoch: 0045 Iter: 0001 Edge: 0002 train_loss= 76.66779 val_roc= 0.99026 val_auprc= 0.97943 val_apk= 0.91496 time= 0.14897\n",
      "Epoch: 0045 Iter: 0151 Edge: 0001 train_loss= 55.69130 val_roc= 0.95226 val_auprc= 0.94778 val_apk= 0.97457 time= 0.27949\n",
      "Epoch: 0045 Iter: 0301 Edge: 0002 train_loss= 79.64165 val_roc= 0.99054 val_auprc= 0.98210 val_apk= 0.94896 time= 0.15188\n"
     ]
    },
    {
     "name": "stdout",
     "output_type": "stream",
     "text": [
      "Epoch: 0046 Iter: 0001 Edge: 0002 train_loss= 81.00751 val_roc= 0.99114 val_auprc= 0.98172 val_apk= 0.92151 time= 0.14630\n",
      "Epoch: 0046 Iter: 0151 Edge: 0001 train_loss= 53.61271 val_roc= 0.95398 val_auprc= 0.95034 val_apk= 1.00000 time= 0.29137\n",
      "Epoch: 0046 Iter: 0301 Edge: 0002 train_loss= 81.70570 val_roc= 0.98968 val_auprc= 0.98337 val_apk= 0.97919 time= 0.19254\n",
      "Epoch: 0047 Iter: 0001 Edge: 0002 train_loss= 101.42620 val_roc= 0.99058 val_auprc= 0.98403 val_apk= 0.97351 time= 0.14587\n",
      "Epoch: 0047 Iter: 0151 Edge: 0001 train_loss= 63.82941 val_roc= 0.95561 val_auprc= 0.95382 val_apk= 1.00000 time= 0.26633\n",
      "Epoch: 0047 Iter: 0301 Edge: 0002 train_loss= 67.93335 val_roc= 0.99019 val_auprc= 0.98311 val_apk= 0.97457 time= 0.14241\n",
      "Epoch: 0048 Iter: 0001 Edge: 0002 train_loss= 80.76517 val_roc= 0.99144 val_auprc= 0.98495 val_apk= 1.00000 time= 0.14227\n",
      "Epoch: 0048 Iter: 0151 Edge: 0001 train_loss= 55.94589 val_roc= 0.95366 val_auprc= 0.95088 val_apk= 1.00000 time= 0.28040\n",
      "Epoch: 0048 Iter: 0301 Edge: 0002 train_loss= 78.69286 val_roc= 0.99178 val_auprc= 0.98755 val_apk= 1.00000 time= 0.13719\n",
      "Epoch: 0049 Iter: 0001 Edge: 0002 train_loss= 73.23846 val_roc= 0.99320 val_auprc= 0.99142 val_apk= 1.00000 time= 0.14681\n",
      "Epoch: 0049 Iter: 0151 Edge: 0001 train_loss= 52.89719 val_roc= 0.95875 val_auprc= 0.95861 val_apk= 1.00000 time= 0.27208\n",
      "Epoch: 0049 Iter: 0301 Edge: 0002 train_loss= 83.74553 val_roc= 0.99402 val_auprc= 0.99257 val_apk= 1.00000 time= 0.15068\n",
      "Epoch: 0050 Iter: 0001 Edge: 0002 train_loss= 91.01367 val_roc= 0.99291 val_auprc= 0.99004 val_apk= 1.00000 time= 0.13983\n",
      "Epoch: 0050 Iter: 0151 Edge: 0001 train_loss= 62.19613 val_roc= 0.95874 val_auprc= 0.95808 val_apk= 1.00000 time= 0.27399\n",
      "Epoch: 0050 Iter: 0301 Edge: 0002 train_loss= 80.59958 val_roc= 0.99308 val_auprc= 0.99003 val_apk= 1.00000 time= 0.14020\n",
      "Optimization finished!\n",
      "Total time:  0.0460331439972\n"
     ]
    }
   ],
   "source": [
    "print(\"Train model\")\n",
    "for epoch in range(FLAGS.epochs):\n",
    "\n",
    "    minibatch.shuffle()\n",
    "    itr = 0\n",
    "    while not minibatch.end():\n",
    "        # Construct feed dictionary\n",
    "        feed_dict = minibatch.next_minibatch_feed_dict(placeholders=placeholders)\n",
    "        feed_dict = minibatch.update_feed_dict(\n",
    "            feed_dict=feed_dict,\n",
    "            dropout=FLAGS.dropout,\n",
    "            placeholders=placeholders)\n",
    "\n",
    "        t = time.time()\n",
    "\n",
    "        # Training step: run single weight update\n",
    "        outs = sess.run([opt.opt_op, opt.cost, opt.batch_edge_type_idx], feed_dict=feed_dict)\n",
    "        train_cost = outs[1]\n",
    "        batch_edge_type = outs[2]\n",
    "\n",
    "        if itr % PRINT_PROGRESS_EVERY == 0:\n",
    "            val_auc, val_auprc, val_apk = get_accuracy_scores(\n",
    "                minibatch.val_edges, minibatch.val_edges_false,\n",
    "                minibatch.idx2edge_type[minibatch.current_edge_type_idx])\n",
    "\n",
    "            print(\"Epoch:\", \"%04d\" % (epoch + 1), \"Iter:\", \"%04d\" % (itr + 1), \"Edge:\", \"%04d\" % batch_edge_type,\n",
    "                  \"train_loss=\", \"{:.5f}\".format(train_cost),\n",
    "                  \"val_roc=\", \"{:.5f}\".format(val_auc), \"val_auprc=\", \"{:.5f}\".format(val_auprc),\n",
    "                  \"val_apk=\", \"{:.5f}\".format(val_apk), \"time=\", \"{:.5f}\".format(time.time() - t))\n",
    "\n",
    "        itr += 1\n",
    "#sess.close()\n",
    "print(\"Optimization finished!\")\n",
    "print(\"Total time: \", time.time()-t)"
   ]
  },
  {
   "cell_type": "code",
   "execution_count": null,
   "metadata": {},
   "outputs": [],
   "source": [
    "t/3600"
   ]
  },
  {
   "cell_type": "code",
   "execution_count": null,
   "metadata": {},
   "outputs": [],
   "source": []
  },
  {
   "cell_type": "code",
   "execution_count": null,
   "metadata": {},
   "outputs": [],
   "source": []
  },
  {
   "cell_type": "code",
   "execution_count": null,
   "metadata": {},
   "outputs": [],
   "source": []
  },
  {
   "cell_type": "code",
   "execution_count": null,
   "metadata": {},
   "outputs": [],
   "source": []
  },
  {
   "cell_type": "code",
   "execution_count": null,
   "metadata": {},
   "outputs": [],
   "source": []
  },
  {
   "cell_type": "code",
   "execution_count": null,
   "metadata": {},
   "outputs": [],
   "source": []
  },
  {
   "cell_type": "code",
   "execution_count": null,
   "metadata": {},
   "outputs": [],
   "source": []
  }
 ],
 "metadata": {
  "kernelspec": {
   "display_name": "Python 2",
   "language": "python",
   "name": "python2"
  },
  "language_info": {
   "codemirror_mode": {
    "name": "ipython",
    "version": 2
   },
   "file_extension": ".py",
   "mimetype": "text/x-python",
   "name": "python",
   "nbconvert_exporter": "python",
   "pygments_lexer": "ipython2",
   "version": "2.7.15"
  }
 },
 "nbformat": 4,
 "nbformat_minor": 2
}
