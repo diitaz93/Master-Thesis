{
 "cells": [
  {
   "cell_type": "code",
   "execution_count": 2,
   "metadata": {
    "scrolled": true
   },
   "outputs": [],
   "source": [
    "import numpy as np\n",
    "import networkx as nx\n",
    "import scipy.sparse as sp\n",
    "import pandas as pd\n",
    "from itertools import combinations, chain\n",
    "import shelve\n",
    "from getpass import getuser\n",
    "from data.load_functions import *"
   ]
  },
  {
   "cell_type": "code",
   "execution_count": 3,
   "metadata": {
    "scrolled": true
   },
   "outputs": [
    {
     "name": "stdout",
     "output_type": "stream",
     "text": [
      "Populating the interactive namespace from numpy and matplotlib\n"
     ]
    }
   ],
   "source": [
    "%pylab inline"
   ]
  },
  {
   "cell_type": "code",
   "execution_count": 22,
   "metadata": {},
   "outputs": [
    {
     "data": {
      "text/plain": [
       "2"
      ]
     },
     "execution_count": 22,
     "metadata": {},
     "output_type": "execute_result"
    }
   ],
   "source": [
    "newdict = {1:0, 2:0, 3:0, 4:1}\n",
    "newdict.keys()\n",
    "u_value = set(val for val in newdict.values())\n",
    "len(set( val for val in newdict.values()))"
   ]
  },
  {
   "cell_type": "code",
   "execution_count": 27,
   "metadata": {},
   "outputs": [
    {
     "name": "stdout",
     "output_type": "stream",
     "text": [
      "Number of ppi interactions: 308950\n",
      "Number of genes: 16261\n",
      "Number of individual side effects:  9928\n",
      "Number fo DTI interactions: 16367\n",
      "Number of genes in DTI: 235\n",
      "Number of drugs in DTI: 235\n",
      "Drug combinations: 15229 Side effects: 3\n",
      "Drug-drug interactions: 16030\n",
      "Number of drugs:  528\n"
     ]
    }
   ],
   "source": [
    "# Loading Gene data (PPI)\n",
    "ppi, gene2idx = load_ppi(fname='data/clean_data/ppi_mini.csv')\n",
    "ppi_adj = nx.adjacency_matrix(ppi)\n",
    "ppi_degrees = np.array(ppi_adj.sum(axis=0)).squeeze() \n",
    "ppi_genes = ppi.number_of_nodes() # Number of genes (nodes)\n",
    "# Loading individual side effects\n",
    "stitch2se, semono2name, semono2idx = load_mono_se(fname='data/clean_data/mono_mini.csv')\n",
    "n_semono = len(semono2name)\n",
    "print('Number of individual side effects: ', n_semono)\n",
    "# Loading Target data (DTI)\n",
    "stitch2proteins = load_targets(fname='data/clean_data/targets_mini.csv')\n",
    "dti_drugs = len(pd.unique(list(stitch2proteins.keys())))\n",
    "dti_genes = len([val for val in stitch2proteins.values()])\n",
    "print('Number of genes in DTI:', dti_genes)\n",
    "print('Number of drugs in DTI:', dti_drugs)\n",
    "# Loading Drug data (DDI)\n",
    "combo2stitch, combo2se, secombo2name, drug2idx = load_combo_se(fname='data/clean_data/combo_mini.csv')\n",
    "n_secombo = len(secombo2name)\n",
    "# Loading Side effect data (features)\n",
    "stitch2se, semono2name, semono2idx = load_mono_se(fname='data/clean_data/mono_mini.csv')\n",
    "# Loading protein features\n",
    "PF = pd.read_csv('data/clean_data/genes_mini.csv', sep=',',header=None).to_numpy()\n",
    "ddi_drugs = len(drug2idx)\n",
    "print('Number of drugs: ', ddi_drugs)"
   ]
  },
  {
   "cell_type": "code",
   "execution_count": null,
   "metadata": {},
   "outputs": [],
   "source": []
  },
  {
   "cell_type": "code",
   "execution_count": null,
   "metadata": {},
   "outputs": [],
   "source": []
  },
  {
   "cell_type": "markdown",
   "metadata": {},
   "source": [
    "## Object saving\n",
    "`numpy.save()` only to save arrays. One per file"
   ]
  },
  {
   "cell_type": "markdown",
   "metadata": {},
   "source": [
    "## Formatted string saving\n",
    "```\n",
    "f=open('file.txt', 'rb')\n",
    "f.write(...)\n",
    "```"
   ]
  },
  {
   "cell_type": "code",
   "execution_count": null,
   "metadata": {},
   "outputs": [],
   "source": [
    "scores = np.load('results/acc_test.npy',allow_pickle=True)"
   ]
  },
  {
   "cell_type": "code",
   "execution_count": null,
   "metadata": {
    "scrolled": true
   },
   "outputs": [],
   "source": [
    "mem = np.load('results/memtime_test.npy',allow_pickle=True)\n",
    "print('CMM values')\n",
    "print('Virtual memory: %.3fGb'%(mem[0]*1e-9))\n",
    "print('RSS memory: %.3fGb' % (mem[1]*1e-9))\n",
    "print('Total time: ', str(datetime.timedelta(seconds=round(mem[2]))))"
   ]
  },
  {
   "cell_type": "code",
   "execution_count": null,
   "metadata": {
    "scrolled": true
   },
   "outputs": [],
   "source": [
    "plot(scores[:,1])"
   ]
  },
  {
   "cell_type": "markdown",
   "metadata": {},
   "source": [
    "## Use shelve to save and load"
   ]
  },
  {
   "cell_type": "code",
   "execution_count": null,
   "metadata": {},
   "outputs": [],
   "source": [
    "my_shelf = shelve.open('data.out','n')"
   ]
  },
  {
   "cell_type": "code",
   "execution_count": null,
   "metadata": {},
   "outputs": [],
   "source": [
    "my_shelf['mem'] = mem\n",
    "my_shelf['scores'] = scores"
   ]
  },
  {
   "cell_type": "code",
   "execution_count": null,
   "metadata": {},
   "outputs": [],
   "source": [
    "my_shelf['mem']"
   ]
  },
  {
   "cell_type": "code",
   "execution_count": null,
   "metadata": {},
   "outputs": [],
   "source": [
    "my_shelf.close()"
   ]
  },
  {
   "cell_type": "code",
   "execution_count": null,
   "metadata": {},
   "outputs": [],
   "source": [
    "del mem\n",
    "del scores"
   ]
  },
  {
   "cell_type": "code",
   "execution_count": null,
   "metadata": {},
   "outputs": [],
   "source": [
    "print(scores)"
   ]
  },
  {
   "cell_type": "code",
   "execution_count": 7,
   "metadata": {},
   "outputs": [],
   "source": [
    "my_shelf = shelve.open('session_juan_NSE_3.out')\n"
   ]
  },
  {
   "cell_type": "code",
   "execution_count": 8,
   "metadata": {},
   "outputs": [
    {
     "data": {
      "text/plain": [
       "['ppi_adj', 'dti_adj', 'ddi_adj_list']"
      ]
     },
     "execution_count": 8,
     "metadata": {},
     "output_type": "execute_result"
    }
   ],
   "source": [
    "my_shelf.keys()"
   ]
  },
  {
   "cell_type": "code",
   "execution_count": 9,
   "metadata": {},
   "outputs": [],
   "source": [
    "for key in my_shelf:\n",
    "    globals()[key]=my_shelf[key]"
   ]
  },
  {
   "cell_type": "code",
   "execution_count": 10,
   "metadata": {},
   "outputs": [],
   "source": [
    "my_shelf.close()"
   ]
  },
  {
   "cell_type": "code",
   "execution_count": 11,
   "metadata": {},
   "outputs": [
    {
     "data": {
      "text/plain": [
       "<16261x16261 sparse matrix of type '<type 'numpy.int64'>'\n",
       "\twith 617900 stored elements in Compressed Sparse Row format>"
      ]
     },
     "execution_count": 11,
     "metadata": {},
     "output_type": "execute_result"
    }
   ],
   "source": [
    "ppi_adj"
   ]
  },
  {
   "cell_type": "markdown",
   "metadata": {},
   "source": [
    "## Load adjacency matrices"
   ]
  },
  {
   "cell_type": "code",
   "execution_count": null,
   "metadata": {},
   "outputs": [],
   "source": [
    "adj_mats_orig = np.load('adjs.npy',allow_pickle=True)"
   ]
  },
  {
   "cell_type": "code",
   "execution_count": null,
   "metadata": {},
   "outputs": [],
   "source": [
    "adj_mats_orig[0].todense()"
   ]
  },
  {
   "cell_type": "code",
   "execution_count": null,
   "metadata": {},
   "outputs": [],
   "source": []
  }
 ],
 "metadata": {
  "kernelspec": {
   "display_name": "Python 3",
   "language": "python",
   "name": "python3"
  },
  "language_info": {
   "codemirror_mode": {
    "name": "ipython",
    "version": 3
   },
   "file_extension": ".py",
   "mimetype": "text/x-python",
   "name": "python",
   "nbconvert_exporter": "python",
   "pygments_lexer": "ipython3",
   "version": "3.7.3"
  }
 },
 "nbformat": 4,
 "nbformat_minor": 2
}
