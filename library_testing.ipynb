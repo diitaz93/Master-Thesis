{
 "cells": [
  {
   "cell_type": "code",
   "execution_count": 1,
   "metadata": {
    "scrolled": true
   },
   "outputs": [],
   "source": [
    "import numpy as np\n",
    "import networkx as nx\n",
    "import scipy.sparse as sp\n",
    "import pandas as pd\n",
    "from itertools import combinations, chain\n",
    "import shelve\n",
    "from getpass import getuser"
   ]
  },
  {
   "cell_type": "code",
   "execution_count": 2,
   "metadata": {
    "scrolled": true
   },
   "outputs": [
    {
     "name": "stdout",
     "output_type": "stream",
     "text": [
      "Populating the interactive namespace from numpy and matplotlib\n"
     ]
    }
   ],
   "source": [
    "%pylab inline"
   ]
  },
  {
   "cell_type": "markdown",
   "metadata": {},
   "source": [
    "### PF"
   ]
  },
  {
   "cell_type": "code",
   "execution_count": 17,
   "metadata": {},
   "outputs": [
    {
     "name": "stdout",
     "output_type": "stream",
     "text": [
      "Number of genes in network: 12678\n",
      "Protein feature matrix calculated\n",
      "Important structures: prot_feat, gene2idx\n"
     ]
    }
   ],
   "source": [
    "PF = pd.read_csv('data/clean_data/genes_mini.csv',\n",
    "                 sep=',',names=['GeneID','Length','Mass','n_helices','n_strands','n_turns'])\n",
    "genes = pd.unique(PF['GeneID'].values)\n",
    "gene2idx = {gene: i for i, gene in enumerate(genes)}\n",
    "n_genes = len(gene2idx)\n",
    "print('Number of genes in network:',n_genes)\n",
    "prot_feat = sp.coo_matrix(PF.to_numpy())\n",
    "print('Protein feature matrix calculated')\n",
    "print('Important structures: prot_feat, gene2idx')"
   ]
  },
  {
   "cell_type": "markdown",
   "metadata": {},
   "source": [
    "### PPI"
   ]
  },
  {
   "cell_type": "code",
   "execution_count": 6,
   "metadata": {},
   "outputs": [
    {
     "name": "stdout",
     "output_type": "stream",
     "text": [
      "Number of genes in PPI: 12678\n",
      "PPI adjacency matrix and degrees calculated\n",
      "Important structures from PPI: ppi_genes, gene2idx, ppi_adj, ppi_degrees\n"
     ]
    }
   ],
   "source": [
    "PPI = pd.read_csv('data/clean_data/ppi_mini.csv',sep=',',names=[\"Gene_1\", \"Gene_2\"])\n",
    "# PPI adjacency matrix\n",
    "ppi_adj = np.zeros([n_genes,n_genes],dtype=int)\n",
    "for i in PPI.index:\n",
    "    row = gene2idx[PPI.loc[i,'Gene_1']]\n",
    "    col = gene2idx[PPI.loc[i,'Gene_2']]\n",
    "    ppi_adj[row,col]=ppi_adj[col,row]=1\n",
    "ppi_degrees = sum(ppi_adj,axis=0)\n",
    "ppi_adj = sp.csr_matrix(ppi_adj)\n",
    "print('PPI adjacency matrix and degrees calculated')\n",
    "print('Important structures from PPI: ppi_adj, ppi_degrees')"
   ]
  },
  {
   "cell_type": "markdown",
   "metadata": {},
   "source": [
    "### DDI"
   ]
  },
  {
   "cell_type": "code",
   "execution_count": 4,
   "metadata": {},
   "outputs": [
    {
     "name": "stdout",
     "output_type": "stream",
     "text": [
      "Number of drugs in DDI 413\n",
      "Number of DDI side effects 3\n",
      "DDI adjacency matrix list and degree list calculated\n",
      "Important structures: ddi_drugs, n_secombo, se_mono_name2idx, ddi_adj_list, ddi_degrees_list\n"
     ]
    }
   ],
   "source": [
    "DDI = pd.read_csv('data/clean_data/combo_mini.csv', sep=','\n",
    "                  ,names=[\"STITCH_1\", \"STITCH_2\", \"SE\", \"SE_name\"])\n",
    "drugs = pd.unique(np.hstack((DDI['STITCH_1'].values,DDI['STITCH_2'].values)))\n",
    "drug2idx = {drug: i for i, drug in enumerate(drugs)}\n",
    "n_drugs = len(drugs)\n",
    "print('Number of drugs in the network',n_drugs)\n",
    "se_names = pd.unique(DDI['SE_name'].values)\n",
    "se_combo_name2idx = {se: i for i, se in enumerate(se_names)}\n",
    "n_secombo = len(se_combo_name2idx)\n",
    "print('Number of DDI side effects',n_secombo)\n",
    "# DDI adjacency matrices\n",
    "ddi_adj_list = []\n",
    "for i in se_combo_name2idx.keys():\n",
    "    m = np.zeros([n_drugs,n_drugs],dtype=int)\n",
    "    seDDI = DDI[DDI['SE_name'].str.match(i)].reset_index()\n",
    "    for j in seDDI.index:\n",
    "        row = drug2idx[seDDI.loc[j,'STITCH_1']]\n",
    "        col = drug2idx[seDDI.loc[j,'STITCH_2']]\n",
    "        m[row,col] = m[col,row] = 1\n",
    "    ddi_adj_list.append(sp.csr_matrix(m))\n",
    "ddi_degrees_list = [np.array(drug_adj.sum(axis=0)).squeeze() for drug_adj in ddi_adj_list]\n",
    "print('DDI adjacency matrix list and degree list calculated')\n",
    "print('Important structures: se_mono_name2idx, ddi_adj_list, ddi_degrees_list')"
   ]
  },
  {
   "cell_type": "markdown",
   "metadata": {},
   "source": [
    "### DTI"
   ]
  },
  {
   "cell_type": "code",
   "execution_count": null,
   "metadata": {},
   "outputs": [],
   "source": [
    "DTI = pd.read_csv('data/clean_data/targets_mini.csv',sep=',',names=[\"STITCH\", \"GENE\"])\n",
    "dti_drugs = len(pd.unique(DTI['STITCH'].values))\n",
    "dti_genes = len(pd.unique(DTI['GENE'].values))\n",
    "print('Number of DTI drugs:',dti_drugs)\n",
    "print('Number of DTI genes:',dti_genes)\n",
    "#DTI adjacency matrix\n",
    "dti_adj = np.zeros([n_genes,n_drugs],dtype=int)\n",
    "for i in DTI.index:\n",
    "    row = gene2idx[DTI.loc[i,'GENE']]\n",
    "    col = drug2idx[DTI.loc[i,'STITCH']]\n",
    "    dti_adj[row,col] = 1\n",
    "dti_adj = sp.csr_matrix(dti_adj)\n",
    "print('DTI adjacency matrix calculated')\n",
    "print('Important structures: dti_drugs, dti_genes, dti_adj')"
   ]
  },
  {
   "cell_type": "markdown",
   "metadata": {},
   "source": [
    "### DSE"
   ]
  },
  {
   "cell_type": "code",
   "execution_count": null,
   "metadata": {},
   "outputs": [],
   "source": [
    "DSE = pd.read_csv('data/clean_data/mono_mini.csv', sep=',',names=[\"STITCH\",\"SE\", \"SE_name\"])\n",
    "se_mono_names = pd.unique(DSE['SE_name'].values)\n",
    "se_mono_name2idx = {name: i for i, name in enumerate(se_mono_names)}\n",
    "n_semono = len(se_mono_name2idx)\n",
    "print('Number of DSE side effects:',n_semono)\n",
    "# Drug Feature matrix\n",
    "drug_feat = np.zeros([n_drugs,n_semono],dtype=int)\n",
    "for i in DSE.index:\n",
    "    row = drug2idx[DSE.loc[i,'STITCH']]\n",
    "    col = se_mono_name2idx[DSE.loc[i,'SE_name']]\n",
    "    drug_feat[row,col] = 1\n",
    "drug_feat = sp.csr_matrix(drug_feat)\n",
    "print('Drug feature matrix calculated')\n",
    "print('Important structures: drug_feat, se_mono_name2idx, n_semono')"
   ]
  },
  {
   "cell_type": "markdown",
   "metadata": {},
   "source": [
    "### Save"
   ]
  },
  {
   "cell_type": "code",
   "execution_count": null,
   "metadata": {},
   "outputs": [],
   "source": [
    "my_shelf = shelve.open('decagon','n')"
   ]
  },
  {
   "cell_type": "code",
   "execution_count": null,
   "metadata": {},
   "outputs": [],
   "source": [
    "my_shelf['ppi_adj'] = ppi_adj\n",
    "my_shelf['ppi_degrees'] = ppi_degrees\n",
    "\n",
    "my_shelf['ddi_adj_list'] = ddi_adj_list\n",
    "my_shelf['ddi_degrees_list'] = ddi_degrees_list\n",
    "my_shelf['secombo2name'] = secombo2name\n",
    "\n",
    "my_shelf['dti_adj'] = dti_adj\n",
    "my_shelf['ddi_adj_list'] = ddi_adj_list\n",
    "my_shelf['ddi_degrees_list'] = ddi_degrees_list\n",
    "\n",
    "\n",
    "my_shelf['drug_feat'] = drug_feat\n",
    "my_shelf['prot_feat'] = prot_feat"
   ]
  },
  {
   "cell_type": "code",
   "execution_count": null,
   "metadata": {},
   "outputs": [],
   "source": [
    "newdict = {1:0, 2:0, 3:0, 4:1}\n",
    "newdict.keys()\n",
    "u_value = set(val for val in newdict.values())\n",
    "len(set( val for val in newdict.values()))"
   ]
  },
  {
   "cell_type": "code",
   "execution_count": null,
   "metadata": {},
   "outputs": [],
   "source": []
  },
  {
   "cell_type": "code",
   "execution_count": null,
   "metadata": {},
   "outputs": [],
   "source": []
  },
  {
   "cell_type": "markdown",
   "metadata": {},
   "source": [
    "## Object saving\n",
    "`numpy.save()` only to save arrays. One per file"
   ]
  },
  {
   "cell_type": "markdown",
   "metadata": {},
   "source": [
    "## Formatted string saving\n",
    "```\n",
    "f=open('file.txt', 'rb')\n",
    "f.write(...)\n",
    "```"
   ]
  },
  {
   "cell_type": "code",
   "execution_count": null,
   "metadata": {},
   "outputs": [],
   "source": [
    "scores = np.load('results/acc_test.npy',allow_pickle=True)"
   ]
  },
  {
   "cell_type": "code",
   "execution_count": null,
   "metadata": {
    "scrolled": true
   },
   "outputs": [],
   "source": [
    "mem = np.load('results/memtime_test.npy',allow_pickle=True)\n",
    "print('CMM values')\n",
    "print('Virtual memory: %.3fGb'%(mem[0]*1e-9))\n",
    "print('RSS memory: %.3fGb' % (mem[1]*1e-9))\n",
    "print('Total time: ', str(datetime.timedelta(seconds=round(mem[2]))))"
   ]
  },
  {
   "cell_type": "code",
   "execution_count": null,
   "metadata": {
    "scrolled": true
   },
   "outputs": [],
   "source": [
    "plot(scores[:,1])"
   ]
  },
  {
   "cell_type": "markdown",
   "metadata": {},
   "source": [
    "## Use shelve to save and load"
   ]
  },
  {
   "cell_type": "code",
   "execution_count": null,
   "metadata": {},
   "outputs": [],
   "source": [
    "my_shelf = shelve.open('data.out','n')"
   ]
  },
  {
   "cell_type": "code",
   "execution_count": null,
   "metadata": {},
   "outputs": [],
   "source": [
    "my_shelf['mem'] = mem\n",
    "my_shelf['scores'] = scores"
   ]
  },
  {
   "cell_type": "code",
   "execution_count": null,
   "metadata": {},
   "outputs": [],
   "source": [
    "my_shelf['mem']"
   ]
  },
  {
   "cell_type": "code",
   "execution_count": null,
   "metadata": {},
   "outputs": [],
   "source": [
    "my_shelf.close()"
   ]
  },
  {
   "cell_type": "code",
   "execution_count": null,
   "metadata": {},
   "outputs": [],
   "source": [
    "del mem\n",
    "del scores"
   ]
  },
  {
   "cell_type": "code",
   "execution_count": null,
   "metadata": {},
   "outputs": [],
   "source": [
    "print(scores)"
   ]
  },
  {
   "cell_type": "code",
   "execution_count": null,
   "metadata": {},
   "outputs": [],
   "source": [
    "my_shelf = shelve.open('session_juan_NSE_3.out')\n"
   ]
  },
  {
   "cell_type": "code",
   "execution_count": null,
   "metadata": {},
   "outputs": [],
   "source": [
    "my_shelf.keys()"
   ]
  },
  {
   "cell_type": "code",
   "execution_count": null,
   "metadata": {},
   "outputs": [],
   "source": [
    "for key in my_shelf:\n",
    "    globals()[key]=my_shelf[key]"
   ]
  },
  {
   "cell_type": "code",
   "execution_count": null,
   "metadata": {},
   "outputs": [],
   "source": [
    "my_shelf.close()"
   ]
  },
  {
   "cell_type": "code",
   "execution_count": null,
   "metadata": {},
   "outputs": [],
   "source": [
    "ppi_adj"
   ]
  },
  {
   "cell_type": "markdown",
   "metadata": {},
   "source": [
    "## Load adjacency matrices"
   ]
  },
  {
   "cell_type": "code",
   "execution_count": null,
   "metadata": {},
   "outputs": [],
   "source": [
    "adj_mats_orig = np.load('adjs.npy',allow_pickle=True)"
   ]
  },
  {
   "cell_type": "code",
   "execution_count": null,
   "metadata": {},
   "outputs": [],
   "source": [
    "adj_mats_orig[0].todense()"
   ]
  },
  {
   "cell_type": "code",
   "execution_count": null,
   "metadata": {},
   "outputs": [],
   "source": []
  }
 ],
 "metadata": {
  "kernelspec": {
   "display_name": "Python 3",
   "language": "python",
   "name": "python3"
  },
  "language_info": {
   "codemirror_mode": {
    "name": "ipython",
    "version": 3
   },
   "file_extension": ".py",
   "mimetype": "text/x-python",
   "name": "python",
   "nbconvert_exporter": "python",
   "pygments_lexer": "ipython3",
   "version": "3.7.3"
  }
 },
 "nbformat": 4,
 "nbformat_minor": 2
}
