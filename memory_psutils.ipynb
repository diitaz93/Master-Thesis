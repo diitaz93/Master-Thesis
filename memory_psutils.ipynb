{
 "cells": [
  {
   "cell_type": "code",
   "execution_count": 1,
   "metadata": {
    "scrolled": true
   },
   "outputs": [
    {
     "name": "stdout",
     "output_type": "stream",
     "text": [
      "Populating the interactive namespace from numpy and matplotlib\n"
     ]
    }
   ],
   "source": [
    "%pylab inline"
   ]
  },
  {
   "cell_type": "code",
   "execution_count": 3,
   "metadata": {
    "scrolled": true
   },
   "outputs": [
    {
     "name": "stdout",
     "output_type": "stream",
     "text": [
      "\u001b[33mDEPRECATION: Python 2.7 reached the end of its life on January 1st, 2020. Please upgrade your Python as Python 2.7 is no longer maintained. A future version of pip will drop support for Python 2.7. More details about Python 2 support in pip, can be found at https://pip.pypa.io/en/latest/development/release-process/#python-2-support\u001b[0m\n",
      "Collecting psutil\n",
      "  Downloading psutil-5.7.0.tar.gz (449 kB)\n",
      "\u001b[K     |████████████████████████████████| 449 kB 4.8 MB/s eta 0:00:01\n",
      "\u001b[?25hBuilding wheels for collected packages: psutil\n",
      "  Building wheel for psutil (setup.py) ... \u001b[?25ldone\n",
      "\u001b[?25h  Created wheel for psutil: filename=psutil-5.7.0-cp27-cp27mu-linux_x86_64.whl size=270078 sha256=e97145ad88a826ec24f62b7c8d76382172b718b307858c475c6404eeedbe7aa6\n",
      "  Stored in directory: /home/juan/.cache/pip/wheels/f9/56/38/19f36601aa467e1093012b7993246e803c6a03f204082fa046\n",
      "Successfully built psutil\n",
      "Installing collected packages: psutil\n",
      "Successfully installed psutil-5.7.0\n"
     ]
    }
   ],
   "source": [
    "import sys\n",
    "!{sys.executable} -m pip install psutil"
   ]
  },
  {
   "cell_type": "code",
   "execution_count": 4,
   "metadata": {},
   "outputs": [],
   "source": [
    "import os, psutil"
   ]
  },
  {
   "cell_type": "code",
   "execution_count": 5,
   "metadata": {},
   "outputs": [
    {
     "name": "stdout",
     "output_type": "stream",
     "text": [
      "8582\n"
     ]
    }
   ],
   "source": [
    "pid = os.getpid()\n",
    "print(pid)"
   ]
  },
  {
   "cell_type": "code",
   "execution_count": 6,
   "metadata": {},
   "outputs": [
    {
     "name": "stdout",
     "output_type": "stream",
     "text": [
      "pmem(rss=80687104, vms=928010240, shared=20729856, text=8192, lib=0, data=396627968, dirty=0)\n"
     ]
    }
   ],
   "source": [
    "ps= psutil.Process(pid)\n",
    "memUse = ps.memory_info()\n",
    "print(memUse)"
   ]
  },
  {
   "cell_type": "code",
   "execution_count": 15,
   "metadata": {},
   "outputs": [
    {
     "name": "stdout",
     "output_type": "stream",
     "text": [
      "(928010240, 80687104)\n"
     ]
    }
   ],
   "source": [
    "print (memUse.vms , memUse.rss)"
   ]
  },
  {
   "cell_type": "code",
   "execution_count": 12,
   "metadata": {},
   "outputs": [],
   "source": [
    "from pybdm import BDM\n",
    "from pybdm.algorithms import PerturbationExperiment"
   ]
  },
  {
   "cell_type": "code",
   "execution_count": 9,
   "metadata": {},
   "outputs": [],
   "source": [
    "# Create a dataset (must be of integer type)\n",
    "X = np.ones((100, 100), dtype=int)"
   ]
  },
  {
   "cell_type": "code",
   "execution_count": 13,
   "metadata": {},
   "outputs": [],
   "source": [
    "# Initialize BDM object\n",
    "bdm = BDM(ndim=2)\n",
    "\n",
    "# Compute BDM\n",
    "new_feat = bdm.bdm(X)\n",
    "\n",
    "# BDM objects may also compute standard Shannon entropy in base 2\n",
    "new_ent = bdm.ent(X)"
   ]
  },
  {
   "cell_type": "code",
   "execution_count": 14,
   "metadata": {},
   "outputs": [
    {
     "name": "stdout",
     "output_type": "stream",
     "text": [
      "18874.48607108777 9.281312379549453\n"
     ]
    }
   ],
   "source": [
    "print(new_feat,new_ent)"
   ]
  },
  {
   "cell_type": "code",
   "execution_count": 25,
   "metadata": {},
   "outputs": [],
   "source": [
    "# Here is an example applied to an adjacency matrix\n",
    "# (only 1's are perturbed and switched to 0's)\n",
    "# (so perturbations correspond to edge deletions)\n",
    "X = np.random.randint(0, 2, (100, 100))\n",
    "#X = np.ones((100, 100), dtype=int)\n",
    "bdm = BDM(ndim=2)\n",
    "# Indices of nonzero entries in the matrix\n",
    "idx = np.argwhere(X)\n",
    "# PerturbationExperiment can be instantiated without passing data\n",
    "pe = PerturbationExperiment(bdm, metric='bdm')\n",
    "# data can be added later\n",
    "pe.set_data(X)\n",
    "# Run experiment and perturb edges\n",
    "# No values argument is passed so perturbations automatically switch\n",
    "# values to other values from the alphabet (in this case 1 --> 0)\n",
    "delta_bdm = pe.run(idx)"
   ]
  },
  {
   "cell_type": "code",
   "execution_count": 28,
   "metadata": {},
   "outputs": [
    {
     "name": "stdout",
     "output_type": "stream",
     "text": [
      "(5113,)\n",
      "[[ 0  0]\n",
      " [ 0  3]\n",
      " [ 0  5]\n",
      " ...\n",
      " [99 97]\n",
      " [99 98]\n",
      " [99 99]]\n"
     ]
    }
   ],
   "source": [
    "print(shape(delta_bdm))\n",
    "print(idx)"
   ]
  },
  {
   "cell_type": "code",
   "execution_count": 27,
   "metadata": {},
   "outputs": [
    {
     "data": {
      "text/plain": [
       "[<matplotlib.lines.Line2D at 0x7f772e2c0cf8>]"
      ]
     },
     "execution_count": 27,
     "metadata": {},
     "output_type": "execute_result"
    },
    {
     "data": {
      "image/png": "[encoded data removed]",
      "text/plain": [
       "<Figure size 432x288 with 1 Axes>"
      ]
     },
     "metadata": {
      "needs_background": "light"
     },
     "output_type": "display_data"
    }
   ],
   "source": [
    "plot(delta_bdm)"
   ]
  },
  {
   "cell_type": "code",
   "execution_count": 11,
   "metadata": {},
   "outputs": [],
   "source": [
    "import numpy as np\n",
    "from pybdm import BDM\n",
    "from pybdm.algorithms import PerturbationExperiment\n",
    "import matplotlib.pyplot as plt"
   ]
  },
  {
   "cell_type": "code",
   "execution_count": 2,
   "metadata": {},
   "outputs": [],
   "source": [
    "# Create a dataset (must be of integer type)\n",
    "X = np.ones((100, 100), dtype=int)"
   ]
  },
  {
   "cell_type": "code",
   "execution_count": 3,
   "metadata": {},
   "outputs": [],
   "source": [
    "# Initialize BDM object\n",
    "bdm = BDM(ndim=2)"
   ]
  },
  {
   "cell_type": "code",
   "execution_count": 4,
   "metadata": {},
   "outputs": [],
   "source": [
    "# Initialize perturbation experiment object\n",
    "# (may be run for both bdm or entropy)\n",
    "perturbation = PerturbationExperiment(bdm, X, metric='bdm')"
   ]
  },
  {
   "cell_type": "code",
   "execution_count": 5,
   "metadata": {},
   "outputs": [],
   "source": [
    "# Compute BDM change for all data points\n",
    "delta_bdm = perturbation.run()"
   ]
  },
  {
   "cell_type": "code",
   "execution_count": 12,
   "metadata": {},
   "outputs": [
    {
     "name": "stdout",
     "output_type": "stream",
     "text": [
      "<class 'numpy.ndarray'>\n",
      "(10000,)\n"
     ]
    },
    {
     "data": {
      "text/plain": [
       "[<matplotlib.lines.Line2D at 0x7fd3230c4048>]"
      ]
     },
     "execution_count": 12,
     "metadata": {},
     "output_type": "execute_result"
    },
    {
     "data": {
      "image/png": "[encoded data removed]",
      "text/plain": [
       "<Figure size 432x288 with 1 Axes>"
      ]
     },
     "metadata": {
      "needs_background": "light"
     },
     "output_type": "display_data"
    }
   ],
   "source": [
    "print(type(delta_bdm))\n",
    "print(delta_bdm.shape)\n",
    "plt.plot(delta_bdm)"
   ]
  },
  {
   "cell_type": "code",
   "execution_count": 13,
   "metadata": {},
   "outputs": [],
   "source": [
    "# Compute BDM change for selected data points and keep the changes while running\n",
    "# One array provide indices of elements that are to be change.\n",
    "idx = np.array([[0, 0], [10, 10]], dtype=int)\n",
    "# Another array provide new values to assign.\n",
    "# Negative values mean that new values will be selected\n",
    "# randomly from the set of other possible values from the alphabet.\n",
    "values = np.array([-1, -1], dtype=int)\n",
    "delta_bdm = perturbation.run(idx, values, keep_changes=True)"
   ]
  },
  {
   "cell_type": "code",
   "execution_count": 14,
   "metadata": {},
   "outputs": [
    {
     "name": "stdout",
     "output_type": "stream",
     "text": [
      "(2,)\n"
     ]
    },
    {
     "data": {
      "text/plain": [
       "[<matplotlib.lines.Line2D at 0x7fd322fd3eb8>]"
      ]
     },
     "execution_count": 14,
     "metadata": {},
     "output_type": "execute_result"
    },
    {
     "data": {
      "image/png": "[encoded data removed]",
      "text/plain": [
       "<Figure size 432x288 with 1 Axes>"
      ]
     },
     "metadata": {
      "needs_background": "light"
     },
     "output_type": "display_data"
    }
   ],
   "source": [
    "print(delta_bdm.shape)\n",
    "plt.plot(delta_bdm)"
   ]
  },
  {
   "cell_type": "code",
   "execution_count": 15,
   "metadata": {},
   "outputs": [],
   "source": [
    "# Here is an example applied to an adjacency matrix\n",
    "# (only 1's are perturbed and switched to 0's)\n",
    "# (so perturbations correspond to edge deletions)\n",
    "X = np.random.randint(0, 2, (100, 100))"
   ]
  },
  {
   "cell_type": "code",
   "execution_count": 16,
   "metadata": {},
   "outputs": [],
   "source": [
    "# Indices of nonzero entries in the matrix\n",
    "idx = np.argwhere(X)"
   ]
  },
  {
   "cell_type": "code",
   "execution_count": 17,
   "metadata": {},
   "outputs": [],
   "source": [
    "# PerturbationExperiment can be instantiated without passing data\n",
    "pe = PerturbationExperiment(bdm, metric='bdm')"
   ]
  },
  {
   "cell_type": "code",
   "execution_count": 18,
   "metadata": {},
   "outputs": [],
   "source": [
    "# data can be added later\n",
    "pe.set_data(X)"
   ]
  },
  {
   "cell_type": "code",
   "execution_count": 19,
   "metadata": {},
   "outputs": [],
   "source": [
    "# Run experiment and perturb edges\n",
    "# No values argument is passed so perturbations automatically switch\n",
    "# values to other values from the alphabet (in this case 1 --> 0)\n",
    "delta_bdm = pe.run(idx)"
   ]
  },
  {
   "cell_type": "code",
   "execution_count": 20,
   "metadata": {},
   "outputs": [
    {
     "data": {
      "text/plain": [
       "[<matplotlib.lines.Line2D at 0x7fd322f8e908>]"
      ]
     },
     "execution_count": 20,
     "metadata": {},
     "output_type": "execute_result"
    },
    {
     "data": {
      "image/png": "[encoded data removed]",
      "text/plain": [
       "<Figure size 432x288 with 1 Axes>"
      ]
     },
     "metadata": {
      "needs_background": "light"
     },
     "output_type": "display_data"
    }
   ],
   "source": [
    "plt.plot(delta_bdm)"
   ]
  },
  {
   "cell_type": "markdown",
   "metadata": {},
   "source": [
    "Parts which after yield negative contribution to the overall complexity after change are likely to be important for the system, since their removal make it more noisy. On the other hand parts that yield positive contribution to the overall complexity after change are likely to be noise since they extend the system’s description length."
   ]
  },
  {
   "cell_type": "code",
   "execution_count": null,
   "metadata": {},
   "outputs": [],
   "source": []
  }
 ],
 "metadata": {
  "kernelspec": {
   "display_name": "Python 3",
   "language": "python",
   "name": "python3"
  },
  "language_info": {
   "codemirror_mode": {
    "name": "ipython",
    "version": 3
   },
   "file_extension": ".py",
   "mimetype": "text/x-python",
   "name": "python",
   "nbconvert_exporter": "python",
   "pygments_lexer": "ipython3",
   "version": "3.7.3"
  }
 },
 "nbformat": 4,
 "nbformat_minor": 2
}
