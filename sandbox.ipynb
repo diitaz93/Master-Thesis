{
 "cells": [
  {
   "cell_type": "markdown",
   "metadata": {},
   "source": [
    "# Sandbox\n",
    "Notebook to test code before real implementation"
   ]
  },
  {
   "cell_type": "code",
   "execution_count": 1,
   "metadata": {},
   "outputs": [],
   "source": [
    "################ ONLY PYTHON 2 #########################\n",
    "from __future__ import division\n",
    "from __future__ import print_function\n",
    "from operator import itemgetter\n",
    "from itertools import combinations, chain, product\n",
    "import argparse\n",
    "import time\n",
    "import os\n",
    "import tensorflow as tf\n",
    "import numpy as np\n",
    "import networkx as nx\n",
    "import scipy.sparse as sp\n",
    "from sklearn import metrics\n",
    "import pandas as pd\n",
    "import psutil\n",
    "import pickle\n",
    "from decagon.deep.optimizer import DecagonOptimizer\n",
    "from decagon.deep.model import DecagonModel\n",
    "from decagon.deep.minibatch import EdgeMinibatchIterator\n",
    "from decagon.utility import rank_metrics, preprocessing"
   ]
  },
  {
   "cell_type": "code",
   "execution_count": 1,
   "metadata": {},
   "outputs": [],
   "source": [
    "import numpy as np\n",
    "import pandas as pd\n",
    "import scipy.sparse as sp\n",
    "import time\n",
    "import os\n",
    "import psutil\n",
    "import pickle\n",
    "from pybdm import BDM\n",
    "from pybdm.utils import decompose_dataset\n",
    "from pybdm.partitions import PartitionIgnore\n",
    "from joblib import Parallel, delayed\n",
    "from joblib import parallel_backend\n",
    "from data.algorithms import PerturbationExperiment, NodePerturbationExperiment\n",
    "import math\n",
    "import datetime as dt\n",
    "from itertools import product"
   ]
  },
  {
   "cell_type": "markdown",
   "metadata": {},
   "source": [
    "# TWOSIDES"
   ]
  },
  {
   "cell_type": "code",
   "execution_count": 4,
   "metadata": {},
   "outputs": [],
   "source": [
    "DF = pd.read_csv('../Thesis_datasets/TWOSIDES/small.csv',sep=',')"
   ]
  },
  {
   "cell_type": "code",
   "execution_count": 5,
   "metadata": {},
   "outputs": [],
   "source": [
    "DEC = pd.read_csv('data/original_data/bio-decagon-combo.csv',sep=',')"
   ]
  },
  {
   "cell_type": "code",
   "execution_count": 6,
   "metadata": {},
   "outputs": [
    {
     "data": {
      "text/html": [
       "<div>\n",
       "<style scoped>\n",
       "    .dataframe tbody tr th:only-of-type {\n",
       "        vertical-align: middle;\n",
       "    }\n",
       "\n",
       "    .dataframe tbody tr th {\n",
       "        vertical-align: top;\n",
       "    }\n",
       "\n",
       "    .dataframe thead th {\n",
       "        text-align: right;\n",
       "    }\n",
       "</style>\n",
       "<table border=\"1\" class=\"dataframe\">\n",
       "  <thead>\n",
       "    <tr style=\"text-align: right;\">\n",
       "      <th></th>\n",
       "      <th>STITCH 1</th>\n",
       "      <th>STITCH 2</th>\n",
       "      <th>Polypharmacy Side Effect</th>\n",
       "      <th>Side Effect Name</th>\n",
       "    </tr>\n",
       "  </thead>\n",
       "  <tbody>\n",
       "    <tr>\n",
       "      <td>0</td>\n",
       "      <td>CID000002173</td>\n",
       "      <td>CID000003345</td>\n",
       "      <td>C0151714</td>\n",
       "      <td>hypermagnesemia</td>\n",
       "    </tr>\n",
       "    <tr>\n",
       "      <td>1</td>\n",
       "      <td>CID000002173</td>\n",
       "      <td>CID000003345</td>\n",
       "      <td>C0035344</td>\n",
       "      <td>retinopathy of prematurity</td>\n",
       "    </tr>\n",
       "    <tr>\n",
       "      <td>2</td>\n",
       "      <td>CID000002173</td>\n",
       "      <td>CID000003345</td>\n",
       "      <td>C0004144</td>\n",
       "      <td>atelectasis</td>\n",
       "    </tr>\n",
       "    <tr>\n",
       "      <td>3</td>\n",
       "      <td>CID000002173</td>\n",
       "      <td>CID000003345</td>\n",
       "      <td>C0002063</td>\n",
       "      <td>alkalosis</td>\n",
       "    </tr>\n",
       "    <tr>\n",
       "      <td>4</td>\n",
       "      <td>CID000002173</td>\n",
       "      <td>CID000003345</td>\n",
       "      <td>C0004604</td>\n",
       "      <td>Back Ache</td>\n",
       "    </tr>\n",
       "  </tbody>\n",
       "</table>\n",
       "</div>"
      ],
      "text/plain": [
       "       STITCH 1      STITCH 2 Polypharmacy Side Effect  \\\n",
       "0  CID000002173  CID000003345                 C0151714   \n",
       "1  CID000002173  CID000003345                 C0035344   \n",
       "2  CID000002173  CID000003345                 C0004144   \n",
       "3  CID000002173  CID000003345                 C0002063   \n",
       "4  CID000002173  CID000003345                 C0004604   \n",
       "\n",
       "             Side Effect Name  \n",
       "0             hypermagnesemia  \n",
       "1  retinopathy of prematurity  \n",
       "2                 atelectasis  \n",
       "3                   alkalosis  \n",
       "4                   Back Ache  "
      ]
     },
     "execution_count": 6,
     "metadata": {},
     "output_type": "execute_result"
    }
   ],
   "source": [
    "DEC.head()"
   ]
  },
  {
   "cell_type": "code",
   "execution_count": 3,
   "metadata": {},
   "outputs": [
    {
     "data": {
      "text/html": [
       "<div>\n",
       "<style scoped>\n",
       "    .dataframe tbody tr th:only-of-type {\n",
       "        vertical-align: middle;\n",
       "    }\n",
       "\n",
       "    .dataframe tbody tr th {\n",
       "        vertical-align: top;\n",
       "    }\n",
       "\n",
       "    .dataframe thead th {\n",
       "        text-align: right;\n",
       "    }\n",
       "</style>\n",
       "<table border=\"1\" class=\"dataframe\">\n",
       "  <thead>\n",
       "    <tr style=\"text-align: right;\">\n",
       "      <th></th>\n",
       "      <th>drug_1_rxnorn_id</th>\n",
       "      <th>drug_1_concept_name</th>\n",
       "      <th>drug_2_rxnorm_id</th>\n",
       "      <th>drug_2_concept_name</th>\n",
       "      <th>condition_meddra_id</th>\n",
       "      <th>condition_concept_name</th>\n",
       "      <th>A</th>\n",
       "      <th>B</th>\n",
       "      <th>C</th>\n",
       "      <th>D</th>\n",
       "      <th>PRR</th>\n",
       "      <th>PRR_error</th>\n",
       "      <th>mean_reporting_frequency</th>\n",
       "    </tr>\n",
       "  </thead>\n",
       "  <tbody>\n",
       "    <tr>\n",
       "      <td>0</td>\n",
       "      <td>10355</td>\n",
       "      <td>Temazepam</td>\n",
       "      <td>136411</td>\n",
       "      <td>sildenafil</td>\n",
       "      <td>10003239</td>\n",
       "      <td>Arthralgia</td>\n",
       "      <td>7</td>\n",
       "      <td>149</td>\n",
       "      <td>24</td>\n",
       "      <td>1536</td>\n",
       "      <td>2.916670</td>\n",
       "      <td>0.421275</td>\n",
       "      <td>0.044872</td>\n",
       "    </tr>\n",
       "    <tr>\n",
       "      <td>1</td>\n",
       "      <td>1808</td>\n",
       "      <td>Bumetanide</td>\n",
       "      <td>7824</td>\n",
       "      <td>Oxytocin</td>\n",
       "      <td>10003239</td>\n",
       "      <td>Arthralgia</td>\n",
       "      <td>1</td>\n",
       "      <td>13</td>\n",
       "      <td>2</td>\n",
       "      <td>138</td>\n",
       "      <td>5.000000</td>\n",
       "      <td>1.192240</td>\n",
       "      <td>0.071429</td>\n",
       "    </tr>\n",
       "    <tr>\n",
       "      <td>2</td>\n",
       "      <td>221147</td>\n",
       "      <td>POLYETHYLENE GLYCOL 3350</td>\n",
       "      <td>5521</td>\n",
       "      <td>Hydroxychloroquine</td>\n",
       "      <td>10003239</td>\n",
       "      <td>Arthralgia</td>\n",
       "      <td>6</td>\n",
       "      <td>103</td>\n",
       "      <td>20</td>\n",
       "      <td>1070</td>\n",
       "      <td>3.000000</td>\n",
       "      <td>0.454505</td>\n",
       "      <td>0.055046</td>\n",
       "    </tr>\n",
       "    <tr>\n",
       "      <td>3</td>\n",
       "      <td>10324</td>\n",
       "      <td>Tamoxifen</td>\n",
       "      <td>8640</td>\n",
       "      <td>Prednisone</td>\n",
       "      <td>10012735</td>\n",
       "      <td>Diarrhoea</td>\n",
       "      <td>18</td>\n",
       "      <td>123</td>\n",
       "      <td>35</td>\n",
       "      <td>1375</td>\n",
       "      <td>5.142860</td>\n",
       "      <td>0.276271</td>\n",
       "      <td>0.127660</td>\n",
       "    </tr>\n",
       "    <tr>\n",
       "      <td>4</td>\n",
       "      <td>10355</td>\n",
       "      <td>Temazepam</td>\n",
       "      <td>136411</td>\n",
       "      <td>sildenafil</td>\n",
       "      <td>10012735</td>\n",
       "      <td>Diarrhoea</td>\n",
       "      <td>2</td>\n",
       "      <td>154</td>\n",
       "      <td>37</td>\n",
       "      <td>1523</td>\n",
       "      <td>0.540541</td>\n",
       "      <td>0.721093</td>\n",
       "      <td>0.012821</td>\n",
       "    </tr>\n",
       "    <tr>\n",
       "      <td>...</td>\n",
       "      <td>...</td>\n",
       "      <td>...</td>\n",
       "      <td>...</td>\n",
       "      <td>...</td>\n",
       "      <td>...</td>\n",
       "      <td>...</td>\n",
       "      <td>...</td>\n",
       "      <td>...</td>\n",
       "      <td>...</td>\n",
       "      <td>...</td>\n",
       "      <td>...</td>\n",
       "      <td>...</td>\n",
       "      <td>...</td>\n",
       "    </tr>\n",
       "    <tr>\n",
       "      <td>95</td>\n",
       "      <td>221147</td>\n",
       "      <td>POLYETHYLENE GLYCOL 3350</td>\n",
       "      <td>5521</td>\n",
       "      <td>Hydroxychloroquine</td>\n",
       "      <td>10002855</td>\n",
       "      <td>Anxiety</td>\n",
       "      <td>3</td>\n",
       "      <td>106</td>\n",
       "      <td>23</td>\n",
       "      <td>1067</td>\n",
       "      <td>1.304350</td>\n",
       "      <td>0.605574</td>\n",
       "      <td>0.027523</td>\n",
       "    </tr>\n",
       "    <tr>\n",
       "      <td>96</td>\n",
       "      <td>10355</td>\n",
       "      <td>Temazepam</td>\n",
       "      <td>136411</td>\n",
       "      <td>sildenafil</td>\n",
       "      <td>10049119</td>\n",
       "      <td>Emotional distress</td>\n",
       "      <td>4</td>\n",
       "      <td>152</td>\n",
       "      <td>8</td>\n",
       "      <td>1552</td>\n",
       "      <td>5.000000</td>\n",
       "      <td>0.606588</td>\n",
       "      <td>0.025641</td>\n",
       "    </tr>\n",
       "    <tr>\n",
       "      <td>97</td>\n",
       "      <td>161</td>\n",
       "      <td>Acetaminophen</td>\n",
       "      <td>1546438</td>\n",
       "      <td>glycopyrronium</td>\n",
       "      <td>10049119</td>\n",
       "      <td>Emotional distress</td>\n",
       "      <td>1</td>\n",
       "      <td>22</td>\n",
       "      <td>2</td>\n",
       "      <td>228</td>\n",
       "      <td>5.000000</td>\n",
       "      <td>1.205060</td>\n",
       "      <td>0.043478</td>\n",
       "    </tr>\n",
       "    <tr>\n",
       "      <td>98</td>\n",
       "      <td>221147</td>\n",
       "      <td>POLYETHYLENE GLYCOL 3350</td>\n",
       "      <td>5521</td>\n",
       "      <td>Hydroxychloroquine</td>\n",
       "      <td>10049119</td>\n",
       "      <td>Emotional distress</td>\n",
       "      <td>2</td>\n",
       "      <td>107</td>\n",
       "      <td>5</td>\n",
       "      <td>1085</td>\n",
       "      <td>4.000000</td>\n",
       "      <td>0.830607</td>\n",
       "      <td>0.018349</td>\n",
       "    </tr>\n",
       "    <tr>\n",
       "      <td>99</td>\n",
       "      <td>10355</td>\n",
       "      <td>Temazepam</td>\n",
       "      <td>136411</td>\n",
       "      <td>sildenafil</td>\n",
       "      <td>10022116</td>\n",
       "      <td>Injury</td>\n",
       "      <td>12</td>\n",
       "      <td>144</td>\n",
       "      <td>13</td>\n",
       "      <td>1547</td>\n",
       "      <td>9.230770</td>\n",
       "      <td>0.391414</td>\n",
       "      <td>0.076923</td>\n",
       "    </tr>\n",
       "  </tbody>\n",
       "</table>\n",
       "<p>100 rows × 13 columns</p>\n",
       "</div>"
      ],
      "text/plain": [
       "    drug_1_rxnorn_id       drug_1_concept_name  drug_2_rxnorm_id  \\\n",
       "0              10355                 Temazepam            136411   \n",
       "1               1808                Bumetanide              7824   \n",
       "2             221147  POLYETHYLENE GLYCOL 3350              5521   \n",
       "3              10324                 Tamoxifen              8640   \n",
       "4              10355                 Temazepam            136411   \n",
       "..               ...                       ...               ...   \n",
       "95            221147  POLYETHYLENE GLYCOL 3350              5521   \n",
       "96             10355                 Temazepam            136411   \n",
       "97               161             Acetaminophen           1546438   \n",
       "98            221147  POLYETHYLENE GLYCOL 3350              5521   \n",
       "99             10355                 Temazepam            136411   \n",
       "\n",
       "   drug_2_concept_name  condition_meddra_id condition_concept_name   A    B  \\\n",
       "0           sildenafil             10003239             Arthralgia   7  149   \n",
       "1             Oxytocin             10003239             Arthralgia   1   13   \n",
       "2   Hydroxychloroquine             10003239             Arthralgia   6  103   \n",
       "3           Prednisone             10012735              Diarrhoea  18  123   \n",
       "4           sildenafil             10012735              Diarrhoea   2  154   \n",
       "..                 ...                  ...                    ...  ..  ...   \n",
       "95  Hydroxychloroquine             10002855                Anxiety   3  106   \n",
       "96          sildenafil             10049119     Emotional distress   4  152   \n",
       "97      glycopyrronium             10049119     Emotional distress   1   22   \n",
       "98  Hydroxychloroquine             10049119     Emotional distress   2  107   \n",
       "99          sildenafil             10022116                 Injury  12  144   \n",
       "\n",
       "     C     D       PRR  PRR_error  mean_reporting_frequency  \n",
       "0   24  1536  2.916670   0.421275                  0.044872  \n",
       "1    2   138  5.000000   1.192240                  0.071429  \n",
       "2   20  1070  3.000000   0.454505                  0.055046  \n",
       "3   35  1375  5.142860   0.276271                  0.127660  \n",
       "4   37  1523  0.540541   0.721093                  0.012821  \n",
       "..  ..   ...       ...        ...                       ...  \n",
       "95  23  1067  1.304350   0.605574                  0.027523  \n",
       "96   8  1552  5.000000   0.606588                  0.025641  \n",
       "97   2   228  5.000000   1.205060                  0.043478  \n",
       "98   5  1085  4.000000   0.830607                  0.018349  \n",
       "99  13  1547  9.230770   0.391414                  0.076923  \n",
       "\n",
       "[100 rows x 13 columns]"
      ]
     },
     "execution_count": 3,
     "metadata": {},
     "output_type": "execute_result"
    }
   ],
   "source": [
    "DF"
   ]
  },
  {
   "cell_type": "code",
   "execution_count": null,
   "metadata": {},
   "outputs": [],
   "source": []
  },
  {
   "cell_type": "code",
   "execution_count": null,
   "metadata": {},
   "outputs": [],
   "source": []
  },
  {
   "cell_type": "code",
   "execution_count": null,
   "metadata": {},
   "outputs": [],
   "source": []
  },
  {
   "cell_type": "code",
   "execution_count": null,
   "metadata": {},
   "outputs": [],
   "source": []
  },
  {
   "cell_type": "markdown",
   "metadata": {},
   "source": [
    "## Testing fixed unigram candidate sampler found in optimization"
   ]
  },
  {
   "cell_type": "code",
   "execution_count": null,
   "metadata": {},
   "outputs": [],
   "source": [
    "sess = tf.Session()\n",
    "a = [7,0,20,8,33,9]\n",
    "A = tf.reshape(tf.constant(a,dtype=tf.int64),[6,1])\n",
    "sampled_ids, true_expected_count, sampled_expected_count = tf.nn.fixed_unigram_candidate_sampler(\n",
    "   true_classes = A,\n",
    "   num_true = 1,\n",
    "   num_sampled = 20,\n",
    "   unique = False,\n",
    "   range_max = np.shape(a)[0],\n",
    "   unigrams = [ 10, 10, 10, 10, 50, 10 ]\n",
    ")\n",
    "sample = tf.gather( A, sampled_ids )\n",
    "print(sess.run( true_expected_count ))\n",
    "print(sess.run( sampled_ids ))\n",
    "print(sess.run( sampled_expected_count ))\n",
    "print(sess.run( sample ))"
   ]
  },
  {
   "cell_type": "code",
   "execution_count": 2,
   "metadata": {},
   "outputs": [
    {
     "name": "stdout",
     "output_type": "stream",
     "text": [
      "edge2name Imported successfully\n",
      "se_mono_name2idx Imported successfully\n",
      "gene2idx Imported successfully\n",
      "nonzero_feat Imported successfully\n",
      "edge_type2dim Imported successfully\n",
      "adj_mats_orig Imported successfully\n",
      "edge_type2decoder Imported successfully\n",
      "se_combo_name2idx Imported successfully\n",
      "drug2idx Imported successfully\n",
      "degrees Imported successfully\n",
      "edge_types Imported successfully\n",
      "num_edge_types Imported successfully\n",
      "num_feat Imported successfully\n",
      "feat Imported successfully\n"
     ]
    }
   ],
   "source": [
    "in_file = 'data/data_structures/DECAGON/DECAGON_real_affinities_genes_16814_drugs_276_se_7'\n",
    "with open(in_file, 'rb') as f:\n",
    "    DS = pickle.load(f)\n",
    "    for key in DS.keys():\n",
    "        globals()[key]=DS[key]\n",
    "        print(key,\"Imported successfully\")"
   ]
  },
  {
   "cell_type": "code",
   "execution_count": 9,
   "metadata": {},
   "outputs": [
    {
     "data": {
      "text/plain": [
       "17151"
      ]
     },
     "execution_count": 9,
     "metadata": {},
     "output_type": "execute_result"
    }
   ],
   "source": [
    "adj_mats_orig[1,0][0].todense().sum()"
   ]
  },
  {
   "cell_type": "code",
   "execution_count": 6,
   "metadata": {},
   "outputs": [
    {
     "data": {
      "text/plain": [
       "array([[0.89498749, 0.9307078 , 0.90229473],\n",
       "       [0.98858382, 0.98770252, 0.97454285],\n",
       "       [0.89350087, 0.88853503, 0.81277744],\n",
       "       ...,\n",
       "       [0.64791111, 0.58248612, 0.53333333],\n",
       "       [0.5614612 , 0.49023296, 0.45973154],\n",
       "       [0.67573696, 0.5640822 , 0.53061224]])"
      ]
     },
     "execution_count": 6,
     "metadata": {},
     "output_type": "execute_result"
    }
   ],
   "source": [
    "val_metrics[0,:,:]"
   ]
  },
  {
   "cell_type": "code",
   "execution_count": 2,
   "metadata": {
    "scrolled": true
   },
   "outputs": [
    {
     "name": "stdout",
     "output_type": "stream",
     "text": [
      "Populating the interactive namespace from numpy and matplotlib\n"
     ]
    }
   ],
   "source": [
    "%pylab inline"
   ]
  },
  {
   "cell_type": "code",
   "execution_count": null,
   "metadata": {},
   "outputs": [],
   "source": [
    "pd.read_csv('../Thesis_datasets/DrugBank/drugbank_all_full_database.xml/full database.xml')"
   ]
  },
  {
   "cell_type": "code",
   "execution_count": null,
   "metadata": {},
   "outputs": [],
   "source": []
  },
  {
   "cell_type": "code",
   "execution_count": null,
   "metadata": {},
   "outputs": [],
   "source": []
  },
  {
   "cell_type": "code",
   "execution_count": null,
   "metadata": {},
   "outputs": [],
   "source": []
  },
  {
   "cell_type": "code",
   "execution_count": null,
   "metadata": {},
   "outputs": [],
   "source": []
  },
  {
   "cell_type": "code",
   "execution_count": null,
   "metadata": {},
   "outputs": [],
   "source": []
  },
  {
   "cell_type": "code",
   "execution_count": null,
   "metadata": {},
   "outputs": [],
   "source": []
  }
 ],
 "metadata": {
  "kernelspec": {
   "display_name": "Python 3",
   "language": "python",
   "name": "python3"
  },
  "language_info": {
   "codemirror_mode": {
    "name": "ipython",
    "version": 3
   },
   "file_extension": ".py",
   "mimetype": "text/x-python",
   "name": "python",
   "nbconvert_exporter": "python",
   "pygments_lexer": "ipython3",
   "version": "3.7.4"
  }
 },
 "nbformat": 4,
 "nbformat_minor": 2
}
