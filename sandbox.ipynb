{
 "cells": [
  {
   "cell_type": "markdown",
   "metadata": {},
   "source": [
    "# Sandbox\n",
    "Notebook to test code before real implementation"
   ]
  },
  {
   "cell_type": "code",
   "execution_count": 1,
   "metadata": {},
   "outputs": [],
   "source": [
    "################ ONLY PYTHON 2 #########################\n",
    "from __future__ import division\n",
    "from __future__ import print_function\n",
    "from operator import itemgetter\n",
    "from itertools import combinations, chain, product\n",
    "from collections import defaultdict\n",
    "import argparse\n",
    "import time\n",
    "import os\n",
    "import tensorflow as tf\n",
    "import numpy as np\n",
    "import networkx as nx\n",
    "import scipy.sparse as sp\n",
    "from sklearn import metrics\n",
    "import pandas as pd\n",
    "import psutil\n",
    "import pickle\n",
    "from decagon.deep.optimizer import DecagonOptimizer\n",
    "from decagon.deep.model import DecagonModel\n",
    "from decagon.deep.minibatch import EdgeMinibatchIterator\n",
    "from decagon.utility import rank_metrics, preprocessing"
   ]
  },
  {
   "cell_type": "code",
   "execution_count": null,
   "metadata": {},
   "outputs": [],
   "source": [
    "import numpy as np\n",
    "import pandas as pd\n",
    "import scipy.sparse as sp\n",
    "import time\n",
    "import os\n",
    "import psutil\n",
    "import pickle\n",
    "from pybdm import BDM\n",
    "from pybdm.utils import decompose_dataset\n",
    "from pybdm.partitions import PartitionIgnore\n",
    "from joblib import Parallel, delayed\n",
    "from joblib import parallel_backend\n",
    "from data.algorithms import PerturbationExperiment, NodePerturbationExperiment\n",
    "import math\n",
    "import datetime as dt\n",
    "from itertools import product"
   ]
  },
  {
   "cell_type": "markdown",
   "metadata": {},
   "source": [
    "# Guardado de predictions en diccionario"
   ]
  },
  {
   "cell_type": "code",
   "execution_count": null,
   "metadata": {},
   "outputs": [],
   "source": [
    "opti = 'data/data_structures/intento_optimizer'\n",
    "with open(opti, 'rb') as f:\n",
    "    opt = pickle.load(f)"
   ]
  },
  {
   "cell_type": "code",
   "execution_count": null,
   "metadata": {},
   "outputs": [],
   "source": [
    "print(opt.keys())\n",
    "len(opt[1,1])"
   ]
  },
  {
   "cell_type": "code",
   "execution_count": null,
   "metadata": {},
   "outputs": [],
   "source": [
    "H = np.random.rand(3,4)\n",
    "A = np.random.rand(4,4)-0.15\n",
    "A = np.abs(np.round((A + A.T)/2))\n",
    "W = np.random.rand(6,3)"
   ]
  },
  {
   "cell_type": "code",
   "execution_count": null,
   "metadata": {},
   "outputs": [],
   "source": [
    "A"
   ]
  },
  {
   "cell_type": "code",
   "execution_count": null,
   "metadata": {},
   "outputs": [],
   "source": [
    "H_2 = np.dot(np.dot(W,H),A)\n",
    "H_2"
   ]
  },
  {
   "cell_type": "code",
   "execution_count": null,
   "metadata": {},
   "outputs": [],
   "source": [
    "W_2 = np.random.rand(9,6)"
   ]
  },
  {
   "cell_type": "code",
   "execution_count": null,
   "metadata": {},
   "outputs": [],
   "source": [
    "embeddings = np.dot(np.dot(W_2,H_2),A)\n",
    "embeddings"
   ]
  },
  {
   "cell_type": "markdown",
   "metadata": {},
   "source": [
    "# TWOSIDES"
   ]
  },
  {
   "cell_type": "code",
   "execution_count": 2,
   "metadata": {},
   "outputs": [],
   "source": [
    "DF = pd.read_csv('../Thesis_datasets/TWOSIDES/small.csv',sep=',',usecols=[0,1,2,3,4,5])\n",
    "DEC = pd.read_csv('data/original_data/bio-decagon-combo.csv',sep=',')"
   ]
  },
  {
   "cell_type": "code",
   "execution_count": 3,
   "metadata": {},
   "outputs": [
    {
     "data": {
      "text/html": [
       "<div>\n",
       "<style scoped>\n",
       "    .dataframe tbody tr th:only-of-type {\n",
       "        vertical-align: middle;\n",
       "    }\n",
       "\n",
       "    .dataframe tbody tr th {\n",
       "        vertical-align: top;\n",
       "    }\n",
       "\n",
       "    .dataframe thead th {\n",
       "        text-align: right;\n",
       "    }\n",
       "</style>\n",
       "<table border=\"1\" class=\"dataframe\">\n",
       "  <thead>\n",
       "    <tr style=\"text-align: right;\">\n",
       "      <th></th>\n",
       "      <th>STITCH 1</th>\n",
       "      <th>STITCH 2</th>\n",
       "      <th>Polypharmacy Side Effect</th>\n",
       "      <th>Side Effect Name</th>\n",
       "    </tr>\n",
       "  </thead>\n",
       "  <tbody>\n",
       "    <tr>\n",
       "      <th>0</th>\n",
       "      <td>CID000002173</td>\n",
       "      <td>CID000003345</td>\n",
       "      <td>C0151714</td>\n",
       "      <td>hypermagnesemia</td>\n",
       "    </tr>\n",
       "    <tr>\n",
       "      <th>1</th>\n",
       "      <td>CID000002173</td>\n",
       "      <td>CID000003345</td>\n",
       "      <td>C0035344</td>\n",
       "      <td>retinopathy of prematurity</td>\n",
       "    </tr>\n",
       "    <tr>\n",
       "      <th>2</th>\n",
       "      <td>CID000002173</td>\n",
       "      <td>CID000003345</td>\n",
       "      <td>C0004144</td>\n",
       "      <td>atelectasis</td>\n",
       "    </tr>\n",
       "    <tr>\n",
       "      <th>3</th>\n",
       "      <td>CID000002173</td>\n",
       "      <td>CID000003345</td>\n",
       "      <td>C0002063</td>\n",
       "      <td>alkalosis</td>\n",
       "    </tr>\n",
       "    <tr>\n",
       "      <th>4</th>\n",
       "      <td>CID000002173</td>\n",
       "      <td>CID000003345</td>\n",
       "      <td>C0004604</td>\n",
       "      <td>Back Ache</td>\n",
       "    </tr>\n",
       "  </tbody>\n",
       "</table>\n",
       "</div>"
      ],
      "text/plain": [
       "       STITCH 1      STITCH 2 Polypharmacy Side Effect  \\\n",
       "0  CID000002173  CID000003345                 C0151714   \n",
       "1  CID000002173  CID000003345                 C0035344   \n",
       "2  CID000002173  CID000003345                 C0004144   \n",
       "3  CID000002173  CID000003345                 C0002063   \n",
       "4  CID000002173  CID000003345                 C0004604   \n",
       "\n",
       "             Side Effect Name  \n",
       "0             hypermagnesemia  \n",
       "1  retinopathy of prematurity  \n",
       "2                 atelectasis  \n",
       "3                   alkalosis  \n",
       "4                   Back Ache  "
      ]
     },
     "execution_count": 3,
     "metadata": {},
     "output_type": "execute_result"
    }
   ],
   "source": [
    "DEC.head()"
   ]
  },
  {
   "cell_type": "code",
   "execution_count": 4,
   "metadata": {
    "scrolled": true
   },
   "outputs": [
    {
     "data": {
      "text/html": [
       "<div>\n",
       "<style scoped>\n",
       "    .dataframe tbody tr th:only-of-type {\n",
       "        vertical-align: middle;\n",
       "    }\n",
       "\n",
       "    .dataframe tbody tr th {\n",
       "        vertical-align: top;\n",
       "    }\n",
       "\n",
       "    .dataframe thead th {\n",
       "        text-align: right;\n",
       "    }\n",
       "</style>\n",
       "<table border=\"1\" class=\"dataframe\">\n",
       "  <thead>\n",
       "    <tr style=\"text-align: right;\">\n",
       "      <th></th>\n",
       "      <th>drug_1_rxnorn_id</th>\n",
       "      <th>drug_1_concept_name</th>\n",
       "      <th>drug_2_rxnorm_id</th>\n",
       "      <th>drug_2_concept_name</th>\n",
       "      <th>condition_meddra_id</th>\n",
       "      <th>condition_concept_name</th>\n",
       "    </tr>\n",
       "  </thead>\n",
       "  <tbody>\n",
       "    <tr>\n",
       "      <th>0</th>\n",
       "      <td>10355</td>\n",
       "      <td>Temazepam</td>\n",
       "      <td>136411</td>\n",
       "      <td>sildenafil</td>\n",
       "      <td>10003239</td>\n",
       "      <td>Arthralgia</td>\n",
       "    </tr>\n",
       "    <tr>\n",
       "      <th>1</th>\n",
       "      <td>1808</td>\n",
       "      <td>Bumetanide</td>\n",
       "      <td>7824</td>\n",
       "      <td>Oxytocin</td>\n",
       "      <td>10003239</td>\n",
       "      <td>Arthralgia</td>\n",
       "    </tr>\n",
       "    <tr>\n",
       "      <th>2</th>\n",
       "      <td>221147</td>\n",
       "      <td>POLYETHYLENE GLYCOL 3350</td>\n",
       "      <td>5521</td>\n",
       "      <td>Hydroxychloroquine</td>\n",
       "      <td>10003239</td>\n",
       "      <td>Arthralgia</td>\n",
       "    </tr>\n",
       "    <tr>\n",
       "      <th>3</th>\n",
       "      <td>10324</td>\n",
       "      <td>Tamoxifen</td>\n",
       "      <td>8640</td>\n",
       "      <td>Prednisone</td>\n",
       "      <td>10012735</td>\n",
       "      <td>Diarrhoea</td>\n",
       "    </tr>\n",
       "    <tr>\n",
       "      <th>4</th>\n",
       "      <td>10355</td>\n",
       "      <td>Temazepam</td>\n",
       "      <td>136411</td>\n",
       "      <td>sildenafil</td>\n",
       "      <td>10012735</td>\n",
       "      <td>Diarrhoea</td>\n",
       "    </tr>\n",
       "    <tr>\n",
       "      <th>5</th>\n",
       "      <td>1808</td>\n",
       "      <td>Bumetanide</td>\n",
       "      <td>7824</td>\n",
       "      <td>Oxytocin</td>\n",
       "      <td>10012735</td>\n",
       "      <td>Diarrhoea</td>\n",
       "    </tr>\n",
       "    <tr>\n",
       "      <th>6</th>\n",
       "      <td>161</td>\n",
       "      <td>Acetaminophen</td>\n",
       "      <td>1546438</td>\n",
       "      <td>glycopyrronium</td>\n",
       "      <td>10012735</td>\n",
       "      <td>Diarrhoea</td>\n",
       "    </tr>\n",
       "    <tr>\n",
       "      <th>7</th>\n",
       "      <td>7781</td>\n",
       "      <td>Oxazepam</td>\n",
       "      <td>9863</td>\n",
       "      <td>Sodium Chloride</td>\n",
       "      <td>10012735</td>\n",
       "      <td>Diarrhoea</td>\n",
       "    </tr>\n",
       "    <tr>\n",
       "      <th>8</th>\n",
       "      <td>221147</td>\n",
       "      <td>POLYETHYLENE GLYCOL 3350</td>\n",
       "      <td>5521</td>\n",
       "      <td>Hydroxychloroquine</td>\n",
       "      <td>10012735</td>\n",
       "      <td>Diarrhoea</td>\n",
       "    </tr>\n",
       "    <tr>\n",
       "      <th>9</th>\n",
       "      <td>10355</td>\n",
       "      <td>Temazepam</td>\n",
       "      <td>136411</td>\n",
       "      <td>sildenafil</td>\n",
       "      <td>10019211</td>\n",
       "      <td>Headache</td>\n",
       "    </tr>\n",
       "  </tbody>\n",
       "</table>\n",
       "</div>"
      ],
      "text/plain": [
       "   drug_1_rxnorn_id       drug_1_concept_name  drug_2_rxnorm_id  \\\n",
       "0             10355                 Temazepam            136411   \n",
       "1              1808                Bumetanide              7824   \n",
       "2            221147  POLYETHYLENE GLYCOL 3350              5521   \n",
       "3             10324                 Tamoxifen              8640   \n",
       "4             10355                 Temazepam            136411   \n",
       "5              1808                Bumetanide              7824   \n",
       "6               161             Acetaminophen           1546438   \n",
       "7              7781                  Oxazepam              9863   \n",
       "8            221147  POLYETHYLENE GLYCOL 3350              5521   \n",
       "9             10355                 Temazepam            136411   \n",
       "\n",
       "  drug_2_concept_name  condition_meddra_id condition_concept_name  \n",
       "0          sildenafil             10003239             Arthralgia  \n",
       "1            Oxytocin             10003239             Arthralgia  \n",
       "2  Hydroxychloroquine             10003239             Arthralgia  \n",
       "3          Prednisone             10012735              Diarrhoea  \n",
       "4          sildenafil             10012735              Diarrhoea  \n",
       "5            Oxytocin             10012735              Diarrhoea  \n",
       "6      glycopyrronium             10012735              Diarrhoea  \n",
       "7     Sodium Chloride             10012735              Diarrhoea  \n",
       "8  Hydroxychloroquine             10012735              Diarrhoea  \n",
       "9          sildenafil             10019211               Headache  "
      ]
     },
     "execution_count": 4,
     "metadata": {},
     "output_type": "execute_result"
    }
   ],
   "source": [
    "DF.head(10)"
   ]
  },
  {
   "cell_type": "markdown",
   "metadata": {},
   "source": [
    "### Transform Dictionaries Side effects\n",
    "`meddra.tsv` is a database that contains names of side effects in both wanted ids"
   ]
  },
  {
   "cell_type": "code",
   "execution_count": 5,
   "metadata": {},
   "outputs": [
    {
     "name": "stdout",
     "output_type": "stream",
     "text": [
      "Total 95912\n",
      "CUI 49561\n",
      "MedDRA 74359\n",
      "Side Effects 75604\n"
     ]
    },
    {
     "data": {
      "text/html": [
       "<div>\n",
       "<style scoped>\n",
       "    .dataframe tbody tr th:only-of-type {\n",
       "        vertical-align: middle;\n",
       "    }\n",
       "\n",
       "    .dataframe tbody tr th {\n",
       "        vertical-align: top;\n",
       "    }\n",
       "\n",
       "    .dataframe thead th {\n",
       "        text-align: right;\n",
       "    }\n",
       "</style>\n",
       "<table border=\"1\" class=\"dataframe\">\n",
       "  <thead>\n",
       "    <tr style=\"text-align: right;\">\n",
       "      <th></th>\n",
       "      <th>UMLS</th>\n",
       "      <th>kind</th>\n",
       "      <th>MedDRA</th>\n",
       "      <th>name</th>\n",
       "    </tr>\n",
       "  </thead>\n",
       "  <tbody>\n",
       "    <tr>\n",
       "      <th>0</th>\n",
       "      <td>C0000727</td>\n",
       "      <td>LT</td>\n",
       "      <td>10000647</td>\n",
       "      <td>Acute abdomen</td>\n",
       "    </tr>\n",
       "    <tr>\n",
       "      <th>1</th>\n",
       "      <td>C0000727</td>\n",
       "      <td>PT</td>\n",
       "      <td>10000647</td>\n",
       "      <td>Acute abdomen</td>\n",
       "    </tr>\n",
       "    <tr>\n",
       "      <th>2</th>\n",
       "      <td>C0000727</td>\n",
       "      <td>LT</td>\n",
       "      <td>10042784</td>\n",
       "      <td>Syndrome abdominal acute</td>\n",
       "    </tr>\n",
       "    <tr>\n",
       "      <th>3</th>\n",
       "      <td>C0000727</td>\n",
       "      <td>LT</td>\n",
       "      <td>10000096</td>\n",
       "      <td>Abdominal syndrome acute</td>\n",
       "    </tr>\n",
       "    <tr>\n",
       "      <th>4</th>\n",
       "      <td>C0000729</td>\n",
       "      <td>LT</td>\n",
       "      <td>10000057</td>\n",
       "      <td>Abdominal cramps</td>\n",
       "    </tr>\n",
       "  </tbody>\n",
       "</table>\n",
       "</div>"
      ],
      "text/plain": [
       "       UMLS kind    MedDRA                      name\n",
       "0  C0000727   LT  10000647             Acute abdomen\n",
       "1  C0000727   PT  10000647             Acute abdomen\n",
       "2  C0000727   LT  10042784  Syndrome abdominal acute\n",
       "3  C0000727   LT  10000096  Abdominal syndrome acute\n",
       "4  C0000729   LT  10000057          Abdominal cramps"
      ]
     },
     "execution_count": 5,
     "metadata": {},
     "output_type": "execute_result"
    }
   ],
   "source": [
    "map_se = pd.read_csv('../Thesis_datasets/SIDER/meddra.tsv', sep = '\\t'\\\n",
    "                     ,header=None).rename(columns={0:'UMLS',1:'kind',2:'MedDRA',3:'name'})\n",
    "cui = pd.unique(map_se['UMLS'].values)\n",
    "meddra = pd.unique(map_se['MedDRA'].values)\n",
    "ses = pd.unique(map_se['name'].values)\n",
    "print('Total',len(map_se))\n",
    "print('CUI',len(cui))\n",
    "print('MedDRA',len(meddra))\n",
    "print('Side Effects',len(ses))\n",
    "map_se.head(5)"
   ]
  },
  {
   "cell_type": "code",
   "execution_count": 6,
   "metadata": {},
   "outputs": [
    {
     "name": "stdout",
     "output_type": "stream",
     "text": [
      "49561\n",
      "74359\n"
     ]
    }
   ],
   "source": [
    "# Dictionary that translates UMLS CUIs to MedDRA IDs\n",
    "umls2meddra = defaultdict(set)\n",
    "for se in map_se.index:\n",
    "    umls2meddra[map_se.loc[se,'UMLS']] = map_se.loc[se,'MedDRA']\n",
    "# Dictionary that translates MedDRA IDs to UMLS CUIs\n",
    "meddra2umls = defaultdict(set)\n",
    "for se in map_se.index:\n",
    "    meddra2umls[map_se.loc[se,'MedDRA']] = map_se.loc[se,'UMLS']\n",
    "# Dictionary that translates UMLS CUIs to name\n",
    "names = map_se[map_se['kind'].str.match('PT',na=False)].reset_index(drop=True)\n",
    "print(len(names.index))\n",
    "UMLS2names = {}\n",
    "for se in names.index:\n",
    "    UMLS2names[names.loc[se,'UMLS']] = names.loc[se,'name']\n",
    "# Verify numbers\n",
    "print(len(umls2meddra))\n",
    "print(len(meddra2umls))\n",
    "print(len(UMLS2names))"
   ]
  },
  {
   "cell_type": "code",
   "execution_count": 7,
   "metadata": {},
   "outputs": [
    {
     "name": "stdout",
     "output_type": "stream",
     "text": [
      "20307\n",
      "19973\n"
     ]
    }
   ],
   "source": [
    "# Dictionary that translates UMLS CUIs to name\n",
    "names = map_se[map_se['kind'].str.match('PT',na=False)].reset_index(drop=True)\n",
    "print(len(names.index))\n",
    "UMLS2names = {}\n",
    "for se in names.index:\n",
    "    UMLS2names[names.loc[se,'UMLS']] = names.loc[se,'name']\n",
    "print(len(UMLS2names))"
   ]
  },
  {
   "cell_type": "markdown",
   "metadata": {},
   "source": [
    "### Replacing "
   ]
  },
  {
   "cell_type": "code",
   "execution_count": 8,
   "metadata": {},
   "outputs": [
    {
     "data": {
      "text/html": [
       "<div>\n",
       "<style scoped>\n",
       "    .dataframe tbody tr th:only-of-type {\n",
       "        vertical-align: middle;\n",
       "    }\n",
       "\n",
       "    .dataframe tbody tr th {\n",
       "        vertical-align: top;\n",
       "    }\n",
       "\n",
       "    .dataframe thead th {\n",
       "        text-align: right;\n",
       "    }\n",
       "</style>\n",
       "<table border=\"1\" class=\"dataframe\">\n",
       "  <thead>\n",
       "    <tr style=\"text-align: right;\">\n",
       "      <th></th>\n",
       "      <th>drug_1_rxnorn_id</th>\n",
       "      <th>drug_1_concept_name</th>\n",
       "      <th>drug_2_rxnorm_id</th>\n",
       "      <th>drug_2_concept_name</th>\n",
       "      <th>Condition</th>\n",
       "      <th>Condition_name</th>\n",
       "    </tr>\n",
       "  </thead>\n",
       "  <tbody>\n",
       "    <tr>\n",
       "      <th>0</th>\n",
       "      <td>10355</td>\n",
       "      <td>Temazepam</td>\n",
       "      <td>136411</td>\n",
       "      <td>sildenafil</td>\n",
       "      <td>C0003862</td>\n",
       "      <td>Arthralgia</td>\n",
       "    </tr>\n",
       "    <tr>\n",
       "      <th>1</th>\n",
       "      <td>1808</td>\n",
       "      <td>Bumetanide</td>\n",
       "      <td>7824</td>\n",
       "      <td>Oxytocin</td>\n",
       "      <td>C0003862</td>\n",
       "      <td>Arthralgia</td>\n",
       "    </tr>\n",
       "    <tr>\n",
       "      <th>2</th>\n",
       "      <td>221147</td>\n",
       "      <td>POLYETHYLENE GLYCOL 3350</td>\n",
       "      <td>5521</td>\n",
       "      <td>Hydroxychloroquine</td>\n",
       "      <td>C0003862</td>\n",
       "      <td>Arthralgia</td>\n",
       "    </tr>\n",
       "    <tr>\n",
       "      <th>3</th>\n",
       "      <td>10324</td>\n",
       "      <td>Tamoxifen</td>\n",
       "      <td>8640</td>\n",
       "      <td>Prednisone</td>\n",
       "      <td>C0011991</td>\n",
       "      <td>Diarrhoea</td>\n",
       "    </tr>\n",
       "    <tr>\n",
       "      <th>4</th>\n",
       "      <td>10355</td>\n",
       "      <td>Temazepam</td>\n",
       "      <td>136411</td>\n",
       "      <td>sildenafil</td>\n",
       "      <td>C0011991</td>\n",
       "      <td>Diarrhoea</td>\n",
       "    </tr>\n",
       "    <tr>\n",
       "      <th>5</th>\n",
       "      <td>1808</td>\n",
       "      <td>Bumetanide</td>\n",
       "      <td>7824</td>\n",
       "      <td>Oxytocin</td>\n",
       "      <td>C0011991</td>\n",
       "      <td>Diarrhoea</td>\n",
       "    </tr>\n",
       "    <tr>\n",
       "      <th>6</th>\n",
       "      <td>161</td>\n",
       "      <td>Acetaminophen</td>\n",
       "      <td>1546438</td>\n",
       "      <td>glycopyrronium</td>\n",
       "      <td>C0011991</td>\n",
       "      <td>Diarrhoea</td>\n",
       "    </tr>\n",
       "    <tr>\n",
       "      <th>7</th>\n",
       "      <td>7781</td>\n",
       "      <td>Oxazepam</td>\n",
       "      <td>9863</td>\n",
       "      <td>Sodium Chloride</td>\n",
       "      <td>C0011991</td>\n",
       "      <td>Diarrhoea</td>\n",
       "    </tr>\n",
       "    <tr>\n",
       "      <th>8</th>\n",
       "      <td>221147</td>\n",
       "      <td>POLYETHYLENE GLYCOL 3350</td>\n",
       "      <td>5521</td>\n",
       "      <td>Hydroxychloroquine</td>\n",
       "      <td>C0011991</td>\n",
       "      <td>Diarrhoea</td>\n",
       "    </tr>\n",
       "    <tr>\n",
       "      <th>9</th>\n",
       "      <td>10355</td>\n",
       "      <td>Temazepam</td>\n",
       "      <td>136411</td>\n",
       "      <td>sildenafil</td>\n",
       "      <td>C0018681</td>\n",
       "      <td>Headache</td>\n",
       "    </tr>\n",
       "  </tbody>\n",
       "</table>\n",
       "</div>"
      ],
      "text/plain": [
       "   drug_1_rxnorn_id       drug_1_concept_name  drug_2_rxnorm_id  \\\n",
       "0             10355                 Temazepam            136411   \n",
       "1              1808                Bumetanide              7824   \n",
       "2            221147  POLYETHYLENE GLYCOL 3350              5521   \n",
       "3             10324                 Tamoxifen              8640   \n",
       "4             10355                 Temazepam            136411   \n",
       "5              1808                Bumetanide              7824   \n",
       "6               161             Acetaminophen           1546438   \n",
       "7              7781                  Oxazepam              9863   \n",
       "8            221147  POLYETHYLENE GLYCOL 3350              5521   \n",
       "9             10355                 Temazepam            136411   \n",
       "\n",
       "  drug_2_concept_name Condition Condition_name  \n",
       "0          sildenafil  C0003862     Arthralgia  \n",
       "1            Oxytocin  C0003862     Arthralgia  \n",
       "2  Hydroxychloroquine  C0003862     Arthralgia  \n",
       "3          Prednisone  C0011991      Diarrhoea  \n",
       "4          sildenafil  C0011991      Diarrhoea  \n",
       "5            Oxytocin  C0011991      Diarrhoea  \n",
       "6      glycopyrronium  C0011991      Diarrhoea  \n",
       "7     Sodium Chloride  C0011991      Diarrhoea  \n",
       "8  Hydroxychloroquine  C0011991      Diarrhoea  \n",
       "9          sildenafil  C0018681       Headache  "
      ]
     },
     "execution_count": 8,
     "metadata": {},
     "output_type": "execute_result"
    }
   ],
   "source": [
    "ids = []\n",
    "for i in DF['condition_meddra_id']:\n",
    "    ids.append(meddra2umls[i])\n",
    "DF['Condition'] = ids\n",
    "DF = DF.drop(columns=['condition_meddra_id'])\n",
    "name_list = []\n",
    "for i in DF['Condition']:\n",
    "    name_list.append(UMLS2names[i])\n",
    "DF['Condition_name'] = name_list\n",
    "DF = DF.drop(columns=['condition_concept_name'])\n",
    "DF.head(10)"
   ]
  },
  {
   "cell_type": "code",
   "execution_count": null,
   "metadata": {},
   "outputs": [],
   "source": [
    "map_drug = pd.read_csv('../Thesis_datasets/SIDER/drug_names.tsv',sep = '\\t',header=None)"
   ]
  },
  {
   "cell_type": "code",
   "execution_count": null,
   "metadata": {},
   "outputs": [],
   "source": [
    "map_drug.head()"
   ]
  },
  {
   "cell_type": "code",
   "execution_count": null,
   "metadata": {},
   "outputs": [],
   "source": []
  },
  {
   "cell_type": "markdown",
   "metadata": {},
   "source": [
    "## Testing fixed unigram candidate sampler found in optimization"
   ]
  },
  {
   "cell_type": "code",
   "execution_count": null,
   "metadata": {},
   "outputs": [],
   "source": [
    "sess = tf.Session()\n",
    "a = [7,0,20,8,33,9]\n",
    "A = tf.reshape(tf.constant(a,dtype=tf.int64),[6,1])\n",
    "sampled_ids, true_expected_count, sampled_expected_count = tf.nn.fixed_unigram_candidate_sampler(\n",
    "   true_classes = A,\n",
    "   num_true = 1,\n",
    "   num_sampled = 20,\n",
    "   unique = False,\n",
    "   range_max = np.shape(a)[0],\n",
    "   unigrams = [ 10, 10, 10, 10, 50, 10 ]\n",
    ")\n",
    "sample = tf.gather( A, sampled_ids )\n",
    "print(sess.run( true_expected_count ))\n",
    "print(sess.run( sampled_ids ))\n",
    "print(sess.run( sampled_expected_count ))\n",
    "print(sess.run( sample ))"
   ]
  },
  {
   "cell_type": "code",
   "execution_count": null,
   "metadata": {},
   "outputs": [],
   "source": [
    "in_file = 'data/data_structures/DECAGON/DECAGON_real_affinities_genes_16814_drugs_276_se_7'\n",
    "with open(in_file, 'rb') as f:\n",
    "    DS = pickle.load(f)\n",
    "    for key in DS.keys():\n",
    "        globals()[key]=DS[key]\n",
    "        print(key,\"Imported successfully\")"
   ]
  },
  {
   "cell_type": "code",
   "execution_count": null,
   "metadata": {},
   "outputs": [],
   "source": [
    "adj_mats_orig[1,0][0].todense().sum()"
   ]
  },
  {
   "cell_type": "code",
   "execution_count": null,
   "metadata": {},
   "outputs": [],
   "source": [
    "val_metrics[0,:,:]"
   ]
  },
  {
   "cell_type": "code",
   "execution_count": null,
   "metadata": {
    "scrolled": true
   },
   "outputs": [],
   "source": [
    "%pylab inline"
   ]
  },
  {
   "cell_type": "code",
   "execution_count": null,
   "metadata": {},
   "outputs": [],
   "source": [
    "pd.read_csv('../Thesis_datasets/DrugBank/drugbank_all_full_database.xml/full database.xml')"
   ]
  },
  {
   "cell_type": "code",
   "execution_count": null,
   "metadata": {},
   "outputs": [],
   "source": []
  },
  {
   "cell_type": "code",
   "execution_count": null,
   "metadata": {},
   "outputs": [],
   "source": []
  },
  {
   "cell_type": "code",
   "execution_count": null,
   "metadata": {},
   "outputs": [],
   "source": []
  },
  {
   "cell_type": "code",
   "execution_count": null,
   "metadata": {},
   "outputs": [],
   "source": []
  },
  {
   "cell_type": "code",
   "execution_count": null,
   "metadata": {},
   "outputs": [],
   "source": []
  },
  {
   "cell_type": "code",
   "execution_count": null,
   "metadata": {},
   "outputs": [],
   "source": []
  }
 ],
 "metadata": {
  "kernelspec": {
   "display_name": "Python 2",
   "language": "python",
   "name": "python2"
  },
  "language_info": {
   "codemirror_mode": {
    "name": "ipython",
    "version": 2
   },
   "file_extension": ".py",
   "mimetype": "text/x-python",
   "name": "python",
   "nbconvert_exporter": "python",
   "pygments_lexer": "ipython2",
   "version": "2.7.15"
  }
 },
 "nbformat": 4,
 "nbformat_minor": 2
}
