{
 "cells": [
  {
   "cell_type": "code",
   "execution_count": 15,
   "metadata": {},
   "outputs": [],
   "source": [
    "import numpy as np\n",
    "import pandas as pd\n",
    "import scipy.sparse as sp\n",
    "import time\n",
    "import os\n",
    "import psutil\n",
    "import shelve\n",
    "from pybdm import BDM\n",
    "from pybdm.utils import decompose_dataset\n",
    "from joblib import Parallel, delayed\n",
    "from joblib import parallel_backend\n",
    "from data.algorithms import PerturbationExperiment, NodePerturbationExperiment\n",
    "import math\n",
    "import datetime\n",
    "from itertools import product"
   ]
  },
  {
   "cell_type": "code",
   "execution_count": 16,
   "metadata": {},
   "outputs": [
    {
     "name": "stdout",
     "output_type": "stream",
     "text": [
      "Populating the interactive namespace from numpy and matplotlib\n"
     ]
    },
    {
     "name": "stderr",
     "output_type": "stream",
     "text": [
      "/home/juan/anaconda3/lib/python3.7/site-packages/IPython/core/magics/pylab.py:160: UserWarning: pylab import has clobbered these variables: ['product']\n",
      "`%matplotlib` prevents importing * from pylab and numpy\n",
      "  \"\\n`%matplotlib` prevents importing * from pylab and numpy\"\n"
     ]
    }
   ],
   "source": [
    "%pylab inline"
   ]
  },
  {
   "cell_type": "markdown",
   "metadata": {},
   "source": [
    "## Number of side effects"
   ]
  },
  {
   "cell_type": "code",
   "execution_count": 43,
   "metadata": {},
   "outputs": [],
   "source": [
    "SE = pd.read_csv('data/original_data/bio-decagon-effectcategories.csv',sep=',')\n",
    "DDI = pd.read_csv('data/clean_data/new-decagon-combo.csv',sep=',')\n",
    "DSE = pd.read_csv('data/clean_data/new-decagon-mono.csv',sep=',')"
   ]
  },
  {
   "cell_type": "code",
   "execution_count": 29,
   "metadata": {},
   "outputs": [
    {
     "name": "stdout",
     "output_type": "stream",
     "text": [
      "561\n",
      "561\n"
     ]
    },
    {
     "data": {
      "text/html": [
       "<div>\n",
       "<style scoped>\n",
       "    .dataframe tbody tr th:only-of-type {\n",
       "        vertical-align: middle;\n",
       "    }\n",
       "\n",
       "    .dataframe tbody tr th {\n",
       "        vertical-align: top;\n",
       "    }\n",
       "\n",
       "    .dataframe thead th {\n",
       "        text-align: right;\n",
       "    }\n",
       "</style>\n",
       "<table border=\"1\" class=\"dataframe\">\n",
       "  <thead>\n",
       "    <tr style=\"text-align: right;\">\n",
       "      <th></th>\n",
       "      <th>Side Effect</th>\n",
       "      <th>Side Effect Name</th>\n",
       "      <th>Disease Class</th>\n",
       "    </tr>\n",
       "  </thead>\n",
       "  <tbody>\n",
       "    <tr>\n",
       "      <th>0</th>\n",
       "      <td>C0017152</td>\n",
       "      <td>gastric inflammation</td>\n",
       "      <td>gastrointestinal system disease</td>\n",
       "    </tr>\n",
       "    <tr>\n",
       "      <th>1</th>\n",
       "      <td>C0027858</td>\n",
       "      <td>neuroma</td>\n",
       "      <td>benign neoplasm</td>\n",
       "    </tr>\n",
       "    <tr>\n",
       "      <th>2</th>\n",
       "      <td>C0041466</td>\n",
       "      <td>Typhoid</td>\n",
       "      <td>bacterial infectious disease</td>\n",
       "    </tr>\n",
       "    <tr>\n",
       "      <th>3</th>\n",
       "      <td>C0032807</td>\n",
       "      <td>Post thrombotic syndrome</td>\n",
       "      <td>cardiovascular system disease</td>\n",
       "    </tr>\n",
       "    <tr>\n",
       "      <th>4</th>\n",
       "      <td>C0033860</td>\n",
       "      <td>psoriasis</td>\n",
       "      <td>integumentary system disease</td>\n",
       "    </tr>\n",
       "  </tbody>\n",
       "</table>\n",
       "</div>"
      ],
      "text/plain": [
       "  Side Effect          Side Effect Name                    Disease Class\n",
       "0    C0017152      gastric inflammation  gastrointestinal system disease\n",
       "1    C0027858                   neuroma                  benign neoplasm\n",
       "2    C0041466                   Typhoid     bacterial infectious disease\n",
       "3    C0032807  Post thrombotic syndrome    cardiovascular system disease\n",
       "4    C0033860                 psoriasis     integumentary system disease"
      ]
     },
     "execution_count": 29,
     "metadata": {},
     "output_type": "execute_result"
    }
   ],
   "source": [
    "print(len(SE['Side Effect'].values))\n",
    "print(len(pd.unique(SE['Side Effect'].values)))\n",
    "SE.head()"
   ]
  },
  {
   "cell_type": "code",
   "execution_count": 75,
   "metadata": {},
   "outputs": [
    {
     "name": "stdout",
     "output_type": "stream",
     "text": [
      "4615522\n",
      "1317\n"
     ]
    },
    {
     "data": {
      "text/html": [
       "<div>\n",
       "<style scoped>\n",
       "    .dataframe tbody tr th:only-of-type {\n",
       "        vertical-align: middle;\n",
       "    }\n",
       "\n",
       "    .dataframe tbody tr th {\n",
       "        vertical-align: top;\n",
       "    }\n",
       "\n",
       "    .dataframe thead th {\n",
       "        text-align: right;\n",
       "    }\n",
       "</style>\n",
       "<table border=\"1\" class=\"dataframe\">\n",
       "  <thead>\n",
       "    <tr style=\"text-align: right;\">\n",
       "      <th></th>\n",
       "      <th>STITCH 1</th>\n",
       "      <th>STITCH 2</th>\n",
       "      <th>Polypharmacy Side Effect</th>\n",
       "      <th>Side Effect Name</th>\n",
       "    </tr>\n",
       "  </thead>\n",
       "  <tbody>\n",
       "    <tr>\n",
       "      <th>630074</th>\n",
       "      <td>CID000003386</td>\n",
       "      <td>CID000003446</td>\n",
       "      <td>C0020649</td>\n",
       "      <td>arterial pressure NOS decreased</td>\n",
       "    </tr>\n",
       "    <tr>\n",
       "      <th>378049</th>\n",
       "      <td>CID000001983</td>\n",
       "      <td>CID000003958</td>\n",
       "      <td>C0020649</td>\n",
       "      <td>arterial pressure NOS decreased</td>\n",
       "    </tr>\n",
       "    <tr>\n",
       "      <th>638233</th>\n",
       "      <td>CID000093860</td>\n",
       "      <td>CID000148211</td>\n",
       "      <td>C0020649</td>\n",
       "      <td>arterial pressure NOS decreased</td>\n",
       "    </tr>\n",
       "    <tr>\n",
       "      <th>2529493</th>\n",
       "      <td>CID000003386</td>\n",
       "      <td>CID000004595</td>\n",
       "      <td>C0020649</td>\n",
       "      <td>arterial pressure NOS decreased</td>\n",
       "    </tr>\n",
       "    <tr>\n",
       "      <th>3590526</th>\n",
       "      <td>CID000003419</td>\n",
       "      <td>CID000003958</td>\n",
       "      <td>C0020649</td>\n",
       "      <td>arterial pressure NOS decreased</td>\n",
       "    </tr>\n",
       "  </tbody>\n",
       "</table>\n",
       "</div>"
      ],
      "text/plain": [
       "             STITCH 1      STITCH 2 Polypharmacy Side Effect  \\\n",
       "630074   CID000003386  CID000003446                 C0020649   \n",
       "378049   CID000001983  CID000003958                 C0020649   \n",
       "638233   CID000093860  CID000148211                 C0020649   \n",
       "2529493  CID000003386  CID000004595                 C0020649   \n",
       "3590526  CID000003419  CID000003958                 C0020649   \n",
       "\n",
       "                        Side Effect Name  \n",
       "630074   arterial pressure NOS decreased  \n",
       "378049   arterial pressure NOS decreased  \n",
       "638233   arterial pressure NOS decreased  \n",
       "2529493  arterial pressure NOS decreased  \n",
       "3590526  arterial pressure NOS decreased  "
      ]
     },
     "execution_count": 75,
     "metadata": {},
     "output_type": "execute_result"
    }
   ],
   "source": [
    "DDI = pd.read_csv('data/clean_data/new-decagon-combo.csv',sep=',')\n",
    "print(len(DDI['Polypharmacy Side Effect'].values))\n",
    "print(len(pd.unique(DDI['Polypharmacy Side Effect'].values)))\n",
    "DDI['freq'] = DDI.groupby('Polypharmacy Side Effect')['Polypharmacy Side Effect'].transform('count')\n",
    "DDI = DDI.sort_values(by=['freq'], ascending=False).drop(columns=['freq'])\n",
    "DDI.head()"
   ]
  },
  {
   "cell_type": "code",
   "execution_count": 72,
   "metadata": {},
   "outputs": [
    {
     "data": {
      "text/plain": [
       "964"
      ]
     },
     "execution_count": 72,
     "metadata": {},
     "output_type": "execute_result"
    }
   ],
   "source": [
    "len(pd.unique(DDI['Polypharmacy Side Effect'].values)[:964])"
   ]
  },
  {
   "cell_type": "code",
   "execution_count": 34,
   "metadata": {},
   "outputs": [
    {
     "name": "stdout",
     "output_type": "stream",
     "text": [
      "174977\n",
      "10184\n"
     ]
    },
    {
     "data": {
      "text/html": [
       "<div>\n",
       "<style scoped>\n",
       "    .dataframe tbody tr th:only-of-type {\n",
       "        vertical-align: middle;\n",
       "    }\n",
       "\n",
       "    .dataframe tbody tr th {\n",
       "        vertical-align: top;\n",
       "    }\n",
       "\n",
       "    .dataframe thead th {\n",
       "        text-align: right;\n",
       "    }\n",
       "</style>\n",
       "<table border=\"1\" class=\"dataframe\">\n",
       "  <thead>\n",
       "    <tr style=\"text-align: right;\">\n",
       "      <th></th>\n",
       "      <th>STITCH</th>\n",
       "      <th>Individual Side Effect</th>\n",
       "      <th>Side Effect Name</th>\n",
       "    </tr>\n",
       "  </thead>\n",
       "  <tbody>\n",
       "    <tr>\n",
       "      <th>0</th>\n",
       "      <td>CID003062316</td>\n",
       "      <td>C1096328</td>\n",
       "      <td>central nervous system mass</td>\n",
       "    </tr>\n",
       "    <tr>\n",
       "      <th>1</th>\n",
       "      <td>CID003062316</td>\n",
       "      <td>C0162830</td>\n",
       "      <td>Photosensitivity reaction</td>\n",
       "    </tr>\n",
       "    <tr>\n",
       "      <th>2</th>\n",
       "      <td>CID003062316</td>\n",
       "      <td>C1611725</td>\n",
       "      <td>leukaemic infiltration brain</td>\n",
       "    </tr>\n",
       "    <tr>\n",
       "      <th>3</th>\n",
       "      <td>CID003062316</td>\n",
       "      <td>C0541767</td>\n",
       "      <td>platelet adhesiveness abnormal</td>\n",
       "    </tr>\n",
       "    <tr>\n",
       "      <th>4</th>\n",
       "      <td>CID003062316</td>\n",
       "      <td>C0242973</td>\n",
       "      <td>Ventricular dysfunction</td>\n",
       "    </tr>\n",
       "  </tbody>\n",
       "</table>\n",
       "</div>"
      ],
      "text/plain": [
       "         STITCH Individual Side Effect                Side Effect Name\n",
       "0  CID003062316               C1096328     central nervous system mass\n",
       "1  CID003062316               C0162830       Photosensitivity reaction\n",
       "2  CID003062316               C1611725    leukaemic infiltration brain\n",
       "3  CID003062316               C0541767  platelet adhesiveness abnormal\n",
       "4  CID003062316               C0242973         Ventricular dysfunction"
      ]
     },
     "execution_count": 34,
     "metadata": {},
     "output_type": "execute_result"
    }
   ],
   "source": [
    "print(len(DSE['Individual Side Effect'].values))\n",
    "print(len(pd.unique(DSE['Individual Side Effect'].values)))\n",
    "DSE.head()"
   ]
  },
  {
   "cell_type": "code",
   "execution_count": null,
   "metadata": {},
   "outputs": [],
   "source": []
  },
  {
   "cell_type": "markdown",
   "metadata": {},
   "source": [
    "### experimenting with pickle"
   ]
  },
  {
   "cell_type": "code",
   "execution_count": 3,
   "metadata": {},
   "outputs": [],
   "source": [
    "import pickle\n",
    "import numpy as np\n",
    "import scipy.sparse as sp"
   ]
  },
  {
   "cell_type": "code",
   "execution_count": 5,
   "metadata": {},
   "outputs": [
    {
     "ename": "UnpicklingError",
     "evalue": "invalid load key, '\\xcf'.",
     "output_type": "error",
     "traceback": [
      "\u001b[0;31m---------------------------------------------------------------------------\u001b[0m",
      "\u001b[0;31mUnpicklingError\u001b[0m                           Traceback (most recent call last)",
      "\u001b[0;32m<ipython-input-5-d84b982b1118>\u001b[0m in \u001b[0;36m<module>\u001b[0;34m\u001b[0m\n\u001b[1;32m      1\u001b[0m \u001b[0;32mwith\u001b[0m \u001b[0mopen\u001b[0m\u001b[0;34m(\u001b[0m\u001b[0;34m'./data/data_structures/bdm_CMM'\u001b[0m\u001b[0;34m,\u001b[0m \u001b[0;34m'rb'\u001b[0m\u001b[0;34m)\u001b[0m \u001b[0;32mas\u001b[0m \u001b[0mf\u001b[0m\u001b[0;34m:\u001b[0m\u001b[0;34m\u001b[0m\u001b[0;34m\u001b[0m\u001b[0m\n\u001b[0;32m----> 2\u001b[0;31m     \u001b[0mdata_decagon\u001b[0m \u001b[0;34m=\u001b[0m \u001b[0mpickle\u001b[0m\u001b[0;34m.\u001b[0m\u001b[0mload\u001b[0m\u001b[0;34m(\u001b[0m\u001b[0mf\u001b[0m\u001b[0;34m)\u001b[0m\u001b[0;34m\u001b[0m\u001b[0;34m\u001b[0m\u001b[0m\n\u001b[0m\u001b[1;32m      3\u001b[0m     \u001b[0;32mfor\u001b[0m \u001b[0mkey\u001b[0m \u001b[0;32min\u001b[0m \u001b[0mdata_decagon\u001b[0m\u001b[0;34m.\u001b[0m\u001b[0mkeys\u001b[0m\u001b[0;34m(\u001b[0m\u001b[0;34m)\u001b[0m\u001b[0;34m:\u001b[0m\u001b[0;34m\u001b[0m\u001b[0;34m\u001b[0m\u001b[0m\n\u001b[1;32m      4\u001b[0m         \u001b[0mglobals\u001b[0m\u001b[0;34m(\u001b[0m\u001b[0;34m)\u001b[0m\u001b[0;34m[\u001b[0m\u001b[0mkey\u001b[0m\u001b[0;34m]\u001b[0m\u001b[0;34m=\u001b[0m\u001b[0mdata_decagon\u001b[0m\u001b[0;34m[\u001b[0m\u001b[0mkey\u001b[0m\u001b[0;34m]\u001b[0m\u001b[0;34m\u001b[0m\u001b[0;34m\u001b[0m\u001b[0m\n\u001b[1;32m      5\u001b[0m         \u001b[0mprint\u001b[0m\u001b[0;34m(\u001b[0m\u001b[0mkey\u001b[0m\u001b[0;34m,\u001b[0m\u001b[0;34m\"Imported successfully\"\u001b[0m\u001b[0;34m)\u001b[0m\u001b[0;34m\u001b[0m\u001b[0;34m\u001b[0m\u001b[0m\n",
      "\u001b[0;31mUnpicklingError\u001b[0m: invalid load key, '\\xcf'."
     ]
    }
   ],
   "source": [
    "with open('./data/data_structures/bdm_CMM', 'rb') as f:\n",
    "    data_decagon = pickle.load(f)\n",
    "    for key in data_decagon.keys():\n",
    "        globals()[key]=data_decagon[key]\n",
    "        print(key,\"Imported successfully\")"
   ]
  },
  {
   "cell_type": "code",
   "execution_count": 6,
   "metadata": {},
   "outputs": [],
   "source": [
    "with open('./data/data_structures/decagon.pickle', 'rb') as f:\n",
    "    vms = pickle.load(f)['vms_ddi']"
   ]
  },
  {
   "cell_type": "markdown",
   "metadata": {},
   "source": [
    "## Playing with datetime"
   ]
  },
  {
   "cell_type": "code",
   "execution_count": null,
   "metadata": {},
   "outputs": [],
   "source": [
    "now = datetime.datetime.now() # current date and time\n",
    "year = now.strftime(\"%Y\")\n",
    "month = now.strftime(\"%m\")\n",
    "day = now.strftime(\"%d\")\n",
    "date_name = year+'-'+month+'-'+day\n",
    "print(date_name)"
   ]
  },
  {
   "cell_type": "markdown",
   "metadata": {},
   "source": [
    "## Loading BDM data from CMM"
   ]
  },
  {
   "cell_type": "code",
   "execution_count": 4,
   "metadata": {},
   "outputs": [
    {
     "name": "stdout",
     "output_type": "stream",
     "text": [
      "rss Imported successfully\n",
      "vms Imported successfully\n",
      "bdm_drugs_dti Imported successfully\n",
      "bdm_ddi_list Imported successfully\n",
      "bdm_ppi Imported successfully\n",
      "total_time Imported successfully\n",
      "bdm_genes_dti Imported successfully\n"
     ]
    }
   ],
   "source": [
    "data_bdm = shelve.open(\"./data/data_structures/bdm_CMM\")\n",
    "for key in data_bdm:\n",
    "    globals()[key]=data_bdm[key]\n",
    "    print(key,\"Imported successfully\")\n",
    "data_bdm.close()"
   ]
  },
  {
   "cell_type": "code",
   "execution_count": 5,
   "metadata": {},
   "outputs": [
    {
     "name": "stdout",
     "output_type": "stream",
     "text": [
      "Total Time: 3 days, 1:13:16.250093\n",
      "Virtual Memory: 4.583919616 Gb\n",
      "RSS Memory: 2.214682624 Gb\n",
      "16 cores\n"
     ]
    }
   ],
   "source": [
    "print('Total Time:',datetime.timedelta(seconds=total_time))\n",
    "print('Virtual Memory:',vms*1e-9,'Gb')\n",
    "print('RSS Memory:',rss*1e-9,'Gb')\n",
    "print('16 cores')"
   ]
  },
  {
   "cell_type": "code",
   "execution_count": 8,
   "metadata": {},
   "outputs": [
    {
     "data": {
      "text/plain": [
       "[<matplotlib.lines.Line2D at 0x7efbf8b1af60>]"
      ]
     },
     "execution_count": 8,
     "metadata": {},
     "output_type": "execute_result"
    },
    {
     "data": {
      "image/png": "[encoded data removed]",
      "text/plain": [
       "<Figure size 432x288 with 1 Axes>"
      ]
     },
     "metadata": {
      "needs_background": "light"
     },
     "output_type": "display_data"
    }
   ],
   "source": [
    "plot(bdm_ppi)"
   ]
  },
  {
   "cell_type": "code",
   "execution_count": 13,
   "metadata": {},
   "outputs": [
    {
     "name": "stdout",
     "output_type": "stream",
     "text": [
      "3\n"
     ]
    },
    {
     "data": {
      "text/plain": [
       "[<matplotlib.lines.Line2D at 0x7efbf88ca9b0>]"
      ]
     },
     "execution_count": 13,
     "metadata": {},
     "output_type": "execute_result"
    },
    {
     "data": {
      "image/png": "[encoded data removed]",
      "text/plain": [
       "<Figure size 432x288 with 1 Axes>"
      ]
     },
     "metadata": {
      "needs_background": "light"
     },
     "output_type": "display_data"
    }
   ],
   "source": [
    "print(len(bdm_ppi)%4)\n",
    "plot(bdm_ppi[-4:])"
   ]
  },
  {
   "cell_type": "code",
   "execution_count": null,
   "metadata": {},
   "outputs": [],
   "source": [
    "print(np.shape(bdm_ddi_list))\n",
    "print(np.shape(ddi_adj_list))"
   ]
  },
  {
   "cell_type": "code",
   "execution_count": null,
   "metadata": {
    "scrolled": true
   },
   "outputs": [],
   "source": [
    "plot(bdm_ddi_list[0][1])\n",
    "#plot(bdm_ddi_list[0][0])"
   ]
  },
  {
   "cell_type": "markdown",
   "metadata": {},
   "source": [
    "## Username testing"
   ]
  },
  {
   "cell_type": "code",
   "execution_count": null,
   "metadata": {},
   "outputs": [],
   "source": [
    "from getpass import getuser\n",
    "username = getuser()\n",
    "print(username)\n",
    "jobs = 16\n",
    "filename ='ppi_bdm_'+ username + str(jobs)\n",
    "print(filename)"
   ]
  },
  {
   "cell_type": "markdown",
   "metadata": {},
   "source": [
    "### Tests Parallelization"
   ]
  },
  {
   "cell_type": "code",
   "execution_count": null,
   "metadata": {},
   "outputs": [],
   "source": [
    "N = 16226\n",
    "b = np.random.randint(0,2,(N,N))\n",
    "X = ((b + b.T)/2).astype(int)\n",
    "bdm = BDM(ndim=2)"
   ]
  },
  {
   "cell_type": "code",
   "execution_count": null,
   "metadata": {},
   "outputs": [],
   "source": [
    "perturbation = NodePerturbationExperiment(bdm, metric='bdm',bipartite_network=False)\n",
    "start = time.time()\n",
    "perturbation.set_data(X)\n",
    "perturbation.perturb(1)\n",
    "print(time.time()-start)"
   ]
  },
  {
   "cell_type": "code",
   "execution_count": null,
   "metadata": {},
   "outputs": [],
   "source": [
    "start = time.time()\n",
    "val = bdm.bdm(X)\n",
    "print(time.time()-start)\n",
    "print(val)"
   ]
  },
  {
   "cell_type": "code",
   "execution_count": null,
   "metadata": {},
   "outputs": [],
   "source": [
    "start = time.time()\n",
    "counters = Parallel(n_jobs=8)\\\n",
    "    (delayed(bdm.decompose_and_count)(d) for d in decompose_dataset(X, (4056, 4056)))\n",
    "\n",
    "val = bdm.compute_bdm(*counters)\n",
    "print(time.time()-start)\n",
    "print(val)"
   ]
  },
  {
   "cell_type": "code",
   "execution_count": null,
   "metadata": {},
   "outputs": [],
   "source": [
    "N = 1000\n",
    "b = np.random.randint(0,2,(N,N))\n",
    "X = ((b + b.T)/2).astype(int)\n",
    "bdm = BDM(ndim=2)"
   ]
  },
  {
   "cell_type": "code",
   "execution_count": null,
   "metadata": {
    "scrolled": true
   },
   "outputs": [],
   "source": [
    "perturbation = NodePerturbationExperiment(bdm, metric='bdm',bipartite_network=False,\n",
    "                                         parallel=False)\n",
    "start = time.time()\n",
    "perturbation.set_data(X)\n",
    "a = perturbation.run()\n",
    "print(time.time()-start)\n",
    "print(a[:5])"
   ]
  },
  {
   "cell_type": "code",
   "execution_count": null,
   "metadata": {
    "scrolled": true
   },
   "outputs": [],
   "source": [
    "perturbation = NodePerturbationExperiment(bdm, metric='bdm',bipartite_network=False,\n",
    "                                         parallel=True,jobs=8)\n",
    "start = time.time()\n",
    "perturbation.set_data(X)\n",
    "perturbation.run()\n",
    "print(time.time()-start)\n",
    "print(a[:5])"
   ]
  },
  {
   "cell_type": "markdown",
   "metadata": {},
   "source": [
    "# Time experiments (DO NOT DELETE!)\n",
    "In this experiment we see time of execution in series and in parallel of the `run()` function of the class NodePerturbationExperiment with different matrix sizes."
   ]
  },
  {
   "cell_type": "code",
   "execution_count": null,
   "metadata": {},
   "outputs": [],
   "source": [
    "# Data taken manually\n",
    "N = np.array([10,50,100,200,400,500,700,800,900,1000])\n",
    "S = np.array([0.030,0.114,0.813,6.7217,59.91,109.85,295.385,427.798,622.127,844.55])\n",
    "P = np.array([1.20,4.129,7.370,22.910,52.55,68.289,122.082,166.802,225.77,300.792])"
   ]
  },
  {
   "cell_type": "code",
   "execution_count": null,
   "metadata": {},
   "outputs": [],
   "source": [
    "zs,rs,_,_,_ = np.polyfit(N,S,4,full=True)\n",
    "p_ser = np.poly1d(zs)\n",
    "zp,rp,_,_,_ = np.polyfit(N,P,4,full=True)\n",
    "p_par = np.poly1d(zp)\n",
    "print(rs,rp)\n",
    "figure(figsize=[12,8])\n",
    "subplot(2,1,1)\n",
    "plot(N,S,label='Series',linewidth=3)\n",
    "plot(N,P,label='Parallel jobs=8',linewidth=3)\n",
    "plot(N,p_ser(N),'--',label='Fit series')\n",
    "plot(N,p_par(N),'--',label='fit parallel')\n",
    "legend()\n",
    "subplot(2,1,2)\n",
    "loglog(N,S,label='Series',linewidth=3)\n",
    "loglog(N,P,label='Parallel',linewidth=3)\n",
    "legend()\n",
    "show()"
   ]
  },
  {
   "cell_type": "code",
   "execution_count": null,
   "metadata": {},
   "outputs": [],
   "source": [
    "print(datetime.timedelta(seconds=p_ser(16227)))\n",
    "print(datetime.timedelta(seconds=p_par(16227)))"
   ]
  },
  {
   "cell_type": "code",
   "execution_count": null,
   "metadata": {},
   "outputs": [],
   "source": []
  }
 ],
 "metadata": {
  "kernelspec": {
   "display_name": "Python 3",
   "language": "python",
   "name": "python3"
  },
  "language_info": {
   "codemirror_mode": {
    "name": "ipython",
    "version": 3
   },
   "file_extension": ".py",
   "mimetype": "text/x-python",
   "name": "python",
   "nbconvert_exporter": "python",
   "pygments_lexer": "ipython3",
   "version": "3.7.3"
  }
 },
 "nbformat": 4,
 "nbformat_minor": 2
}
