{
 "cells": [
  {
   "cell_type": "markdown",
   "metadata": {},
   "source": [
    "# Sandbox\n",
    "Notebook to test code before real implementation"
   ]
  },
  {
   "cell_type": "code",
   "execution_count": 4,
   "metadata": {},
   "outputs": [],
   "source": [
    "################ ONLY PYTHON 2 #########################\n",
    "from __future__ import division\n",
    "from __future__ import print_function\n",
    "from operator import itemgetter\n",
    "from itertools import combinations, chain\n",
    "import argparse\n",
    "import time\n",
    "import os\n",
    "import tensorflow as tf\n",
    "import numpy as np\n",
    "import networkx as nx\n",
    "import scipy.sparse as sp\n",
    "from sklearn import metrics\n",
    "import pandas as pd\n",
    "import psutil\n",
    "import pickle\n",
    "from decagon.deep.optimizer import DecagonOptimizer\n",
    "from decagon.deep.model import DecagonModel\n",
    "from decagon.deep.minibatch import EdgeMinibatchIterator\n",
    "from decagon.utility import rank_metrics, preprocessing"
   ]
  },
  {
   "cell_type": "code",
   "execution_count": 1,
   "metadata": {},
   "outputs": [],
   "source": [
    "import numpy as np\n",
    "import pandas as pd\n",
    "import scipy.sparse as sp\n",
    "import time\n",
    "import os\n",
    "import psutil\n",
    "import pickle\n",
    "from pybdm import BDM\n",
    "from pybdm.utils import decompose_dataset\n",
    "from pybdm.partitions import PartitionIgnore\n",
    "from joblib import Parallel, delayed\n",
    "from joblib import parallel_backend\n",
    "from data.algorithms import PerturbationExperiment, NodePerturbationExperiment\n",
    "import math\n",
    "import datetime as dt\n",
    "from itertools import product"
   ]
  },
  {
   "cell_type": "code",
   "execution_count": 2,
   "metadata": {
    "scrolled": true
   },
   "outputs": [
    {
     "name": "stdout",
     "output_type": "stream",
     "text": [
      "Populating the interactive namespace from numpy and matplotlib\n"
     ]
    },
    {
     "name": "stderr",
     "output_type": "stream",
     "text": [
      "/home/juan/anaconda3/lib/python3.7/site-packages/IPython/core/magics/pylab.py:160: UserWarning: pylab import has clobbered these variables: ['product']\n",
      "`%matplotlib` prevents importing * from pylab and numpy\n",
      "  \"\\n`%matplotlib` prevents importing * from pylab and numpy\"\n"
     ]
    }
   ],
   "source": [
    "%pylab inline"
   ]
  },
  {
   "cell_type": "markdown",
   "metadata": {},
   "source": [
    "## Revision of data structures"
   ]
  },
  {
   "cell_type": "code",
   "execution_count": 3,
   "metadata": {},
   "outputs": [],
   "source": [
    "filename = 'data/data_structures/DS/DS_real_DSE_9702_PF_5_NPF_3_genes_16271_drugs_639_se_964'"
   ]
  },
  {
   "cell_type": "code",
   "execution_count": 4,
   "metadata": {},
   "outputs": [
    {
     "name": "stdout",
     "output_type": "stream",
     "text": [
      "gene2idx Imported successfully\n",
      "drug2idx Imported successfully\n",
      "se_mono_name2idx Imported successfully\n",
      "se_combo_name2idx Imported successfully\n",
      "ddi_adj_list Imported successfully\n",
      "ddi_degrees_list Imported successfully\n",
      "dti_adj Imported successfully\n",
      "ppi_adj Imported successfully\n",
      "ppi_degrees Imported successfully\n",
      "drug_feat Imported successfully\n",
      "prot_feat Imported successfully\n",
      "norm_prot_feat Imported successfully\n"
     ]
    }
   ],
   "source": [
    "with open(filename, 'rb') as f:\n",
    "    DS = pickle.load(f)\n",
    "    for key in DS.keys():\n",
    "        globals()[key]=DS[key]\n",
    "        print(key,\"Imported successfully\")"
   ]
  },
  {
   "cell_type": "code",
   "execution_count": 17,
   "metadata": {},
   "outputs": [
    {
     "name": "stdout",
     "output_type": "stream",
     "text": [
      "emesis 9\n",
      "Bleeding 58\n",
      "disorder Renal 150\n",
      "Mumps 920\n",
      "carbuncle 956\n",
      "coccydynia 957\n"
     ]
    }
   ],
   "source": [
    "ses = ['Mumps','carbuncle','coccydynia','Bleeding','disorder Renal','emesis']\n",
    "for i, j in se_combo_name2idx.items():  # for name, age in dictionary.iteritems():  (for Python 2.x)\n",
    "    if i in ses:\n",
    "        print(i,j)"
   ]
  },
  {
   "cell_type": "code",
   "execution_count": 14,
   "metadata": {},
   "outputs": [
    {
     "name": "stdout",
     "output_type": "stream",
     "text": [
      "{'arterial pressure NOS decreased': 0, 'anaemia': 1, 'Difficulty breathing': 2, 'nausea': 3, 'neumonia': 4, 'Fatigue': 5, 'diarrhea': 6, 'Pain': 7, 'asthenia': 8, 'emesis': 9, 'edema extremities': 10, 'body temperature increased': 11, 'pleural pain': 12, 'abdominal pain': 13, 'Hypoventilation': 14, 'chest pain': 15, 'dizziness': 16, 'Back Ache': 17, 'Head ache': 18, 'confusion': 19, 'High blood pressure': 20, 'dehydration': 21, 'kidney failure': 22, 'Anxiety': 23, 'hyperglycaemia': 24, 'loss of weight': 25, 'edema': 26, 'Anorexia': 27, 'Aching joints': 28, 'acute kidney failure': 29, 'neuropathy': 30, 'Extremity pain': 31, 'Cough': 32, 'Infection Urinary Tract': 33, 'constipated': 34, 'heart rate increased': 35, 'weight gain': 36, 'thrombocytopenia': 37, 'Pleural Effusion': 38, 'sepsis': 39, 'Cardiac decompensation': 40, 'heart attack': 41, 'respiratory failure': 42, 'eruption': 43, 'AFIB': 44, 'drowsiness': 45, 'insomnia': 46, 'muscle spasm': 47, 'Neutropenia': 48, 'apoplexy': 49, 'blood sodium decreased': 50, 'Feeling unwell': 51, 'cellulitis': 52, 'tremor': 53, 'loss of consciousness': 54, 'narcolepsy': 55, 'deglutition disorder': 56, 'agitated': 57, 'Bleeding': 58, 'Amnesia': 59, 'acid reflux': 60, 'elevated cholesterol': 61, 'Abnormal Gait': 62, 'Fainting': 63, 'chill': 64, 'convulsion': 65, 'erythema': 66, 'bronchitis': 67, 'arteriosclerotic heart disease': 68, 'blurred vision': 69, 'hyperhidrosis': 70, 'itch': 71, 'arterial pressure NOS increased': 72, 'infection': 73, 'abdominal pain upper': 74, 'Aspartate Aminotransferase Increase': 75, 'dyspepsia': 76, 'Paraesthesia': 77, 'allergic dermatitis': 78, 'Sinusitis': 79, 'Diabetes': 80, 'hypokalaemia': 81, 'bone marrow failure': 82, 'aching muscles': 83, 'asystole': 84, 'Hallucination': 85, 'hypoglycaemia': 86, 'Arrhythmia': 87, 'abdominal distension': 88, 'lung edema': 89, 'Embolism pulmonary': 90, 'bradycardia': 91, 'atelectasis': 92, 'still birth': 93, 'deep vein thromboses': 94, 'hypoxia': 95, 'gastrointestinal bleed': 96, 'increased white blood cell count': 97, 'chronic obstructive airway disease': 98, 'muscle weakness': 99, 'cardiac disease': 100, 'palpitation': 101, 'neuropathy peripheral': 102, 'asthma': 103, 'allergies': 104, 'gastric inflammation': 105, 'Bladder inflammation': 106, 'cholelithiasis': 107, 'cardiac enlargement': 108, 'drug toxicity NOS': 109, 'Abnormal LFTs': 110, 'bruise': 111, 'pancreatitis': 112, 'bulging': 113, 'Blood calcium decreased': 114, 'bruxism': 115, 'Incontinence': 116, 'Mod': 117, 'sinus tachycardia': 118, 'Osteoarthritis': 119, 'cervicalgia': 120, 'facial flushing': 121, 'balance disorder': 122, 'dysarthria': 123, 'angina': 124, 'Candida Infection': 125, 'lipoma': 126, 'Dyspnea exertional': 127, 'lobar pneumonia': 128, 'migraine': 129, 'arthritis': 130, 'aptyalism': 131, 'transient ischaemic attack': 132, 'phlebothrombosis': 133, 'cardiac failure': 134, 'Drug hypersensitivity': 135, 'aseptic necrosis bone': 136, 'Infection Upper Respiratory': 137, 'septic shock': 138, 'road traffic accident': 139, 'haemorrhage rectum': 140, 'coma': 141, 'blood in urine': 142, 'joint swelling': 143, 'sleep apnea': 144, 'Chronic Kidney Disease': 145, 'Adenopathy': 146, 'esophagitis': 147, 'Cardiac ischemia': 148, 'hyperlipaemia': 149, 'disorder Renal': 150, 'sleep disorder': 151, 'ascites': 152, 'Bacterial infection': 153, 'Excess potassium': 154, 'fatty liver': 155, 'dysuria': 156, 'pericardial effusion': 157, 'cardiovascular collapse': 158, 'pulmonary hypertension': 159, 'Acidosis': 160, 'Disorder Lung': 161, 'Hepatic failure': 162, 'lung infiltration': 163, 'fungal disease': 164, 'alopecia': 165, 'wheeze': 166, 'bone pain': 167, 'leucopenia': 168, 'haematochezia': 169, 'metabolic acidosis': 170, 'nervous tension': 171, 'cerebral infarct': 172, 'hernia hiatal': 173, 'conjunctivitis': 174, 'burning sensation': 175, 'adynamic ileus': 176, 'epistaxis': 177, 'osteomyelitis': 178, 'rhabdomyolysis': 179, 'drug withdrawal': 180, 'hypothyroid': 181, 'icterus': 182, 'flatulence': 183, 'Cardiomyopathy': 184, 'encephalopathy': 185, 'Drug addiction': 186, 'arthropathy': 187, 'fibromyalgia': 188, 'bladder retention': 189, 'hive': 190, 'coughing blood': 191, 'leucocytosis': 192, 'haemorrhoids': 193, 'mucositis oral': 194, 'Hypotension Orthostatic': 195, 'adenocarcinoma': 196, 'Bilirubinaemia': 197, 'cataract': 198, 'aspiration pneumonia': 199, 'herpes zoster': 200, 'gastroenteritis': 201, 'malnourished': 202, 'hepatitis': 203, 'Nephrolithiasis': 204, 'night sweat': 205, 'arteriosclerosis': 206, 'Acute Respiratory Distress Syndrome': 207, 'Intervertebral Disc Herniation': 208, 'acute brain syndrome': 209, 'tachycardia ventricular': 210, 'disease of liver': 211, 'abnormal movements': 212, 'bleb': 213, 'increased platelet count': 214, 'enlarged liver': 215, 'difficulty in walking': 216, 'candidiasis of mouth': 217, 'diverticulitis': 218, 'Bacteraemia': 219, 'osteoporosis': 220, 'Diplopia': 221, 'pyoderma': 222, 'gall bladder': 223, 'haematemesis': 224, 'abscess': 225, 'nasal congestion': 226, 'musculoskeletal pain': 227, 'spinning sensation': 228, 'cutaneous ulcer': 229, 'skin lesion': 230, 'cognitive disorder': 231, 'obesity': 232, 'hot flash': 233, 'panic attack': 234, 'head injury': 235, 'Scar': 236, 'rhinorrhea': 237, 'Extrasystoles Ventricular': 238, 'hemiparesis': 239, 'flu': 240, 'ild': 241, 'cholecystitis': 242, 'haematoma': 243, 'Infection Viral': 244, 'Clotting': 245, 'lung neoplasms': 246, 'hypochloraemia': 247, 'tinnitus': 248, 'cardiac murmur': 249, 'gastric ulcer': 250, 'Abnormal Laboratory Findings': 251, 'blindness': 252, 'enlarged spleen': 253, 'carpal tunnel': 254, 'nasopharyngitis': 255, 'eating disorder': 256, 'dry skin': 257, 'dysphonia': 258, 'acute pancreatitis': 259, 'bursitis': 260, 'colitis': 261, 'Blood Calcium Increased': 262, 'pulmonary arrest': 263, 'Ekbom Syndrome': 264, 'ecchymoses': 265, 'excessive thirst': 266, 'Supraventricular tachycardia': 267, 'black stools': 268, 'anaphylactic reaction': 269, 'Blepharospasm': 270, 'attempted suicide': 271, 'Arthritis rheumatoid': 272, 'pain in throat': 273, 'bronchial spasm': 274, 'Electrolyte disorder': 275, 'psychoses': 276, 'glaucoma': 277, 'ulcer': 278, 'mouth pain': 279, 'gingivitis': 280, 'aphasia': 281, 'rotator cuff syndrome': 282, 'sinus bradycardia': 283, 'tooth disease': 284, 'aortic regurgitation': 285, 'angiitis': 286, 'bundle branch block right': 287, 'abnormal ECG': 288, 'ear ache': 289, 'muscle disorder': 290, 'intervertebral disc disorder': 291, 'renal cyst': 292, 'mouth ulcer': 293, 'Convulsions Grand Mal': 294, 'Hypomagnesaemia': 295, 'carotid artery stenosis': 296, 'Neuralgia': 297, 'excessive sleepiness': 298, 'ventricular fibrillation': 299, 'cirrhosis': 300, 'pneumothorax': 301, 'acute bronchitis': 302, 'rib fracture': 303, 'dental caries': 304, 'decreased body temperature': 305, 'nephrosclerosis': 306, 'multiple sclerosis': 307, 'angiopathy': 308, 'Diabetic neuropathy': 309, 'deafness': 310, 'pharyngeal inflammation': 311, 'Disorder Peripheral Vascular': 312, 'bipolar disorder': 313, 'cerebral haemorrhage': 314, 'paranoia': 315, 'dental pain': 316, 'iron deficiency anaemia': 317, 'faecal incontinence': 318, 'cyst': 319, 'decubitus ulcer': 320, 'Small intestinal obstruction': 321, 'emphysema': 322, 'angioedema': 323, 'hyperalimentation': 324, 'lung fibrosis': 325, 'cardiac valvulopathy': 326, 'cerebral atrophy': 327, 'ADVERSE DRUG EFFECT': 328, 'Colon Spastic': 329, 'Lyell': 330, 'Rhinitis': 331, 'Breast cancer': 332, 'proteinuria': 333, 'benign prostatic hyperplasia': 334, 'colonic polyp': 335, 'gout': 336, 'flank pain': 337, 'major depression': 338, 'eye pain': 339, 'nightmare': 340, 'allergic rhinitis': 341, 'Tendinitis': 342, 'cerebral ischaemia': 343, 'movement disorder': 344, 'upper gastrointestinal bleeding': 345, 'hypernatraemia': 346, 'dental abscess': 347, 'Multiple Myeloma': 348, 'ischaemia': 349, 'peritonitis': 350, 'bundle branch block left': 351, 'Excoriation': 352, 'facial palsy': 353, 'herpes simplex': 354, 'Decreased hearing': 355, 'agranulocytoses': 356, 'Leukaemia': 357, 'ischias': 358, 'myoglobinuria': 359, 'Atrioventricular block first degree': 360, 'sensory disturbance': 361, 'atrial flutter': 362, 'nocturia': 363, 'Eosinophil Count Increased': 364, 'pyelonephritis': 365, 'dermatitides': 366, 'pancreatitis relapsing': 367, 'amentia': 368, 'lung neoplasm malignant': 369, 'glossodynia': 370, 'Chest infection': 371, 'Apnea': 372, 'petechia': 373, 'gastroduodenal ulcer': 374, 'bone spur': 375, 'shoulder pain': 376, 'laceration': 377, 'palsies': 378, 'disseminated lupus erythematosus': 379, 'azotaemia': 380, 'urosepsis': 381, 'hip fracture': 382, 'fistula': 383, 'hydronephrosis': 384, 'cholecystectomies': 385, 'streptococcal infection': 386, 'elevated triglycerides': 387, 'thyroid disease': 388, 'aortic stenosis': 389, 'gastroenteritis viral': 390, 'cramp': 391, 'psoriasis': 392, 'elevated erythrocyte sedimentation rate': 393, 'Light sensitivity': 394, 'eye swelling': 395, 'Bleeding gums': 396, 'granuloma': 397, 'dermatitis medicamentosa': 398, 'Spinal Compression Fracture': 399, 'Ataxia': 400, 'back injury': 401, 'Decreased Libido': 402, 'hernia': 403, 'atrial ectopic beats': 404, 'amyotrophy': 405, 'joint stiffness': 406, 'ear infection': 407, 'diabetic acidosis': 408, 'eczema': 409, 'micturition urgency': 410, 'face pain': 411, 'colitis ischemic': 412, 'peliosis': 413, 'Acne': 414, 'hyperthyroidism': 415, 'belching': 416, 'polyneuropathy': 417, 'muscle inflammation': 418, 'osteomalacia': 419, 'hyperuricaemia': 420, 'lymphoma': 421, 'intestinal perforation': 422, 'Carcinoma of Prostate': 423, 'sunburn': 424, 'pleurisy': 425, 'pain pelvic': 426, 'Atherosclerosis': 427, 'polyuria': 428, 'radiculopathy': 429, 'bleeding Vaginal': 430, 'failure to thrive': 431, 'erosive gastritis': 432, 'metabolic alkalosis': 433, 'sleep walking': 434, 'cancer': 435, 'bacterial pneumonia': 436, 'nodule': 437, 'Interstitial nephritis': 438, 'reflux esophagitis': 439, 'ankle fracture': 440, 'trigeminal neuralgia': 441, 'fib': 442, 'CMV infection': 443, 'insulin dependent diabetes mellitus': 444, 'Ovarian Cyst': 445, 'hemiplegia': 446, 'Blood disorder': 447, 'goiter': 448, 'atrioventricular block': 449, 'orthopnea': 450, 'endocrine disorder': 451, 'panic disorder': 452, 'fibroids': 453, 'Hepatitis C': 454, 'myelodysplasia': 455, 'petit mal': 456, 'hematoma subdural': 457, 'Cold extremities': 458, 'syncope vasovagal': 459, 'laryngitis': 460, 'Spinal fracture': 461, 'duodenal ulcer': 462, 'aortic aneurysm': 463, 'dysphasia': 464, 'antinuclear antibody positive': 465, 'adrenal insufficiency': 466, 'Atrioventricular block complete': 467, 'sneezing': 468, 'nasal sinus congestion': 469, 'otitis media': 470, 'odynophagia': 471, 'wound dehiscence': 472, 'muscle strain': 473, 'ADH inappropriate': 474, 'Breast Lump': 475, 'hepatic encephalopathy': 476, 'bone fracture': 477, 'subarachnoid haemorrhage': 478, 'scotoma': 479, 'Diabetic Retinopathy': 480, 'lower GI bleeding': 481, 'duodenitis': 482, 'right heart failure': 483, 'muscle paresis': 484, 'acute sinusitis': 485, 'pericarditis': 486, 'Phlebitis': 487, 'glucosuria': 488, 'epilepsy': 489, 'basal cell carcinoma': 490, 'birth defect': 491, 'alcohol consumption': 492, 'cachectic': 493, 'gingival pain': 494, 'hyperkeratosis': 495, 'Hypophosphataemia': 496, 'Near Syncope': 497, 'endocarditis': 498, 'breast pain': 499, 'femur fracture': 500, 'dry eye': 501, 'Abdominal hernia': 502, 'erythema multiforme': 503, 'psychosexual disorder': 504, 'diverticulosis': 505, 'haemorrhage intracranial': 506, 'haemolytic anaemia': 507, 'dislocation': 508, 'metabolic encephalopathy': 509, 'thrombotic microangiopathy': 510, 'gangrene': 511, 'abnormal EEG': 512, 'Breakthrough bleeding': 513, 'hepatic necrosis': 514, 'mitral valve prolapse': 515, 'embolism': 516, 'chronic sinusitis': 517, 'sick sinus syndrome': 518, 'choking': 519, 'nephrocalcinosis': 520, 'Stress incontinence': 521, 'hydrocephalus': 522, 'pneumonia staphylococcal': 523, 'aphthous stomatitis': 524, 'Acute myeloblastic leukemia': 525, 'aspergillosis': 526, 'Neuritis': 527, 'ureteral obstruction': 528, 'dermatitis exfoliative': 529, 'injury of neck': 530, 'eye infection': 531, 'polyp': 532, 'kidney pain': 533, 'carcinoid syndrome': 534, 'proctalgia': 535, 'blood pressure abnormal': 536, 'joint effusion': 537, 'Chest wall pain': 538, 'tendon injury': 539, 'esophageal ulcer': 540, 'periodontal disease': 541, 'Personality disorder': 542, 'anosmia': 543, 'aneurysm': 544, 'Easy bruisability': 545, 'Colpitis': 546, 'Bone Fracture Spontaneous': 547, 'cerebral vascular disorder': 548, 'nystagmus': 549, 'Lymphocytes decreased': 550, 'abuse': 551, 'cholecystitis chronic': 552, 'wrist fracture': 553, 'post traumatic stress disorder': 554, 'lymphedema': 555, 'meningitides': 556, 'hesitancy': 557, 'Scoliosis': 558, 'Nodule Skin': 559, 'heavy menstrual period': 560, 'mouth bleeding': 561, 'neoplasia': 562, 'pulmonary mass': 563, 'gynaecomastia': 564, 'excessive salivation': 565, 'hepatitis toxic': 566, 'retinal bleeding': 567, 'melanocytic naevus': 568, 'aplasia pure red cell': 569, 'essential hypertension': 570, 'mitral valve disease NOS': 571, 'hiccough': 572, 'malignant melanoma': 573, 'fecal occult blood': 574, 'Bleeding hemorrhoids': 575, 'bone marrow transplant': 576, 'Detached retina': 577, 'fascitis plantar': 578, 'Glucose intolerance': 579, 'fractured pelvis NOS': 580, 'Disorder Retinal': 581, 'cholecystitis acute': 582, 'nephrotic syndrome': 583, 'allergic vasculitis': 584, 'blepharoptosis': 585, 'contact dermatitis': 586, 'onychomycosis': 587, 'Mycobacterium tuberculosis infection': 588, 'left ventricular hypertrophy': 589, 'biliary tract disorder': 590, 'anal fissure': 591, 'tardive dyskinesia': 592, 'polyarthritis': 593, 'adenoma': 594, 'chronic ulcerative colitis': 595, 'humerus fracture': 596, 'Strabismus': 597, 'bronchiectasis': 598, 'hyperaesthesia': 599, 'encephalitis': 600, 'enteritis': 601, 'esophageal spasm': 602, 'floaters': 603, 'venous insufficiency': 604, 'Superficial thrombophlebitis': 605, 'carcinoma of the colon': 606, 'Raynauds phenomenon': 607, 'Nail disorder': 608, 'elevated prostate specific antigen': 609, 'acne rosacea': 610, 'thyroid neoplasia': 611, 'status epilepticus': 612, 'synovial cyst': 613, 'macula lutea degeneration': 614, 'myocarditis': 615, 'varicose vein': 616, 'furuncle': 617, 'Pharyngitis Streptococcal': 618, 'Post nasal drip': 619, 'umbilical hernia': 620, 'Thrombophlebitis': 621, 'prostatitis': 622, 'neurogenic bladder': 623, 'synovitis': 624, 'Hypercapnia': 625, 'Cholangitis': 626, 'portal hypertension': 627, 'pneumonia Klebsiella': 628, 'appendicitis': 629, 'external ear infection': 630, 'Sinus headache': 631, 'actinic keratosis': 632, 'amenorrhea': 633, 'Arthritis infective': 634, 'atrioventricular block second degree': 635, 'OPTIC NEURITIS': 636, 'myelopathy': 637, 'hyperparathyroidism': 638, 'Cardiac tamponade': 639, 'pleural fibrosis': 640, 'premature menopause': 641, 'idiopathic thrombocytopenic purpura': 642, 'costochondritis': 643, 'gastric polyps': 644, 'Parkinson': 645, 'enterocolitis': 646, 'Altered Bowel Function': 647, 'contracture': 648, 'Anemia aplastic': 649, 'carotid bruit': 650, 'adenitis': 651, 'Hoarseness': 652, 'vitamin B 12 deficiency': 653, 'brain concussion': 654, 'paraplegia': 655, 'bladder cancer': 656, 'Aphonia': 657, 'Seroma': 658, 'labyrinthitis': 659, 'Caesarean Section': 660, 'flashing lights': 661, 'sarcoidosis': 662, 'dysaesthesia': 663, 'candidiasis of vagina': 664, 'Glossitis': 665, 'periodontitis': 666, 'Scleroderma': 667, 'intestinal functional disorder': 668, 'vaginal discharge': 669, 'stridor': 670, 'haemangioma': 671, 'optic disc edema': 672, 'cheilosis': 673, 'Cor pulmonale': 674, 'Dyspnoea paroxysmal nocturnal': 675, 'hyperpigmentation': 676, 'bundle branch block': 677, 'hepatorenal syndrome': 678, 'esophageal stenosis': 679, 'Alcoholic intoxication': 680, 'autonomic instability': 681, 'meningioma': 682, 'bad breath': 683, 'inflammatory bowel disease': 684, 'abortion spontaneous': 685, 'Arthritis bacterial': 686, 'hay fever': 687, 'bone inflammation': 688, 'brain neoplasm': 689, 'Rhagades': 690, 'breast dysplasia': 691, 'Vestibular disorder': 692, 'Abnormal vision': 693, 'obstructive uropathy': 694, 'renal mass': 695, 'atrial septal defect': 696, 'kidney transplant': 697, 'ketoacidosis': 698, 'femoral neck fracture': 699, 'Deafness neurosensory': 700, 'schizophrenia': 701, 'pneumonia primary atypical': 702, 'coeliac disease': 703, 'Tenosynovitis': 704, 'pancreatic cancer': 705, 'malignant hypertension': 706, 'coronary artery bypass graft': 707, 'glomerulonephritis': 708, 'Hernia Inguinal': 709, 'Splenic infarction': 710, 'rectal polyp': 711, 'colitis pseudomembranous': 712, 'hyperphosphatemia': 713, 'Diabetic Nephropathy': 714, 'seborrhoeic keratosis': 715, 'malabsorption': 716, 'Vitreous haemorrhage': 717, 'cerebral artery embolism': 718, 'duodenal ulcer haemorrhage': 719, 'tension headache': 720, 'Gastric Cancer': 721, 'polymyalgia rheumatica': 722, 'empyema': 723, 'hepatic neoplasia': 724, 'diabetes insipidus': 725, 'EBV infection': 726, 'Ovarian cancer': 727, 'eyelid diseases': 728, 'hypoglycaemia neonatal': 729, 'Irritation Skin': 730, 'hepatitis B': 731, 'Nephrogenic diabetes insipidus': 732, 'folliculitis': 733, 'monoclonal gammopathy': 734, 'calculus ureteric': 735, 'Transfusion reaction': 736, 'conversion disorder': 737, 'appendectomy': 738, 'breast tenderness': 739, 'salivary gland inflammation': 740, 'agoraphobia': 741, 'blepharitis': 742, 'myasthenia gravis': 743, 'eye injury': 744, 'dermatitis seborrheic': 745, 'pyuria': 746, 'chronic hepatitis': 747, 'Sjogrens syndrome': 748, 'postmenopausal bleeding': 749, 'allergic alveolitis': 750, 'esophageal cancer': 751, 'perirectal abscess': 752, 'psoriatic arthritis': 753, 'Aseptic meningitis': 754, 'serum sickness': 755, 'polymyositis': 756, 'multifocal leukoencephalopathy': 757, 'respiratory alkalosis': 758, 'Cystitis Interstitial': 759, 'Postherpetic Neuralgia': 760, 'trigger finger': 761, 'keratitis sicca': 762, 'erysipelas': 763, 'Bradyarrhythmia': 764, 'schizoaffective disorder': 765, 'cryptococcosis': 766, 'epicondylitis': 767, 'food intolerance': 768, 'squamous cell carcinoma of skin': 769, 'liver abscess': 770, 'Enuresis': 771, 'incisional hernia': 772, 'irregular menstrual cycle': 773, 'Breast disorder': 774, 'tracheostomy': 775, 'portal vein thrombosis': 776, 'Breast cyst': 777, 'ingrowing nail': 778, 'Bunion': 779, 'duodenal ulcer perforation': 780, 'Anisocoria': 781, 'coated tongue': 782, 'soft tissue infection': 783, 'histoplasmosis': 784, 'Menstrual Disorder': 785, 'dysphemia': 786, 'paronychia': 787, 'adjustment disorder': 788, 'pigmentation disorder': 789, 'gouty arthritis': 790, 'breast enlargement': 791, 'neck mass': 792, 'vocal cord paralysis': 793, 'connective tissue disease': 794, 'platelet disorder': 795, 'proctitis': 796, 'motor retardation': 797, 'pancreatic pseudocyst': 798, 'hypogammaglobulinaemia': 799, 'testes pain': 800, 'uterine bleeding': 801, 'causalgia': 802, 'keratitis': 803, 'renal tubular acidosis': 804, 'cerumen impaction': 805, 'Pelvic Inflammatory Disease': 806, 'macrocytosis': 807, 'cervicitis': 808, 'apraxia': 809, 'Anal fistula': 810, 'Cutaneous mycosis': 811, 'lichen planus': 812, 'spondylosis': 813, 'congenital heart disease': 814, 'pyoderma gangrenosum': 815, 'Viral Pharyngitis': 816, 'Tracheobronchitis': 817, 'Vitamin D Deficiency': 818, 'acute psychosis': 819, 'hyperacusia': 820, 'Meningitis Viral': 821, 'breast inflammation': 822, 'intraocular inflammation': 823, 'viral pneumonia': 824, 'xerosis': 825, 'parotitis': 826, 'myelitis': 827, 'epidural abscess': 828, 'diaphragmatic hernia': 829, 'amyloidosis': 830, 'mediastinal disorder': 831, 'tracheitis': 832, 'ventricular septal defect': 833, 'Pneumocystis carinii pneumonia': 834, 'animal bite': 835, 'sacroiliitis': 836, 'cervical dysplasia': 837, 'Arachnoiditis': 838, 'corneal ulcer': 839, 'brain abscess': 840, 'choreoathetosis': 841, 'galactorrhea': 842, 'parotid gland enlargement': 843, 'optic atrophy': 844, 'epididymitis': 845, 'patent ductus arteriosis': 846, 'dermatomyositis': 847, 'tonsillitis': 848, 'Uterine polyp': 849, 'hair disease': 850, 'als': 851, 'colostomy': 852, 'Eustachian tube disorder': 853, 'intestinal ulcer': 854, 'spondylitis': 855, 'tinea pedis': 856, 'hydroureter': 857, 'encephalitis viral': 858, 'retrocollis': 859, 'autonomic neuropathy': 860, 'tympanic membrane perforation': 861, 'ear discharge': 862, 'Burns Second Degree': 863, 'toxic shock': 864, 'lung adenocarcinoma': 865, 'Retinal artery occlusion': 866, 'infectious mononucleosis': 867, 'night cramps': 868, 'colonic obstruction': 869, 'paraparesis': 870, 'defaecation urgency': 871, 'Skin Striae': 872, 'atrophy of skin': 873, 'haemarthrosis': 874, 'hypogonadism': 875, 'Gastric ulcer perforated': 876, 'neurodermatitis': 877, 'abnormal mammogram': 878, 'lung abscess': 879, 'SCLC': 880, 'testicular swelling': 881, 'Ejaculation Premature': 882, 'quadriplegia': 883, 'ganglion': 884, 'corneal abrasion': 885, 'vitreous detachment': 886, 'endometriosis': 887, 'lymphocytosis': 888, 'Tooth Impacted': 889, 'sinus arrest': 890, 'megacolon': 891, 'dysmenorrhea': 892, 'Hyperprolactinaemia': 893, 'hordeolum': 894, 'asthenopia': 895, 'abnormal cervical smear': 896, 'carcinoma of the cervix': 897, 'primary biliary cirrhosis': 898, 'distended bladder': 899, 'food poisoning': 900, 'soft tissue injuries': 901, 'temporal arteritis': 902, 'volvulus': 903, 'substance abuse': 904, 'Breast swelling': 905, 'Lyme Disease': 906, 'coronary angioplasty': 907, 'bronchiolitis': 908, 'fibrosing alveolitis': 909, 'glioblastoma multiforme': 910, 'superior vena cava syndrome': 911, 'corneal disorder': 912, 'rectal prolapse': 913, 'phimosis': 914, 'benign intracranial hypertension': 915, 'cutaneous candidiasis': 916, 'Hepatitis A': 917, 'mycosis fungoides': 918, 'folate deficiency': 919, 'Mumps': 920, 'dyspareunia': 921, 'cluster headache': 922, 'fracture nonunion': 923, 'Cerebral thrombosis': 924, 'HIV disease': 925, 'phlebitis superficial': 926, 'panniculitis': 927, 'renal colic': 928, 'night blindness': 929, 'telangiectases': 930, 'swollen scrotum': 931, 'hirsuitism': 932, 'breast discharge': 933, 'hypovitaminosis': 934, 'colon neoplasm': 935, 'cervical vertebral fracture': 936, 'exophthalmos': 937, 'hypermetropia': 938, 'nasal polyp': 939, 'myopia': 940, 'oophorectomy': 941, 'borderline personality disorder': 942, 'splenectomy': 943, 'epidural hematoma': 944, 'dyshidrosis': 945, 'pneumoconiosis': 946, 'fasciitis': 947, 'bacterial vaginitis': 948, 'eosinophilic pneumonia': 949, 'balanitis': 950, 'chicken pox': 951, 'normal pressure hydrocephalus': 952, 'MPD': 953, 'methaemoglobinaemia': 954, 'anaemia hypochromic': 955, 'carbuncle': 956, 'coccydynia': 957, 'impetigo': 958, 'atypical mycobacterial infection': 959, 'neonatal respiratory distress syndrome': 960, 'sarcoma': 961, 'avascular necrosis': 962, 'Collagen disease': 963}\n"
     ]
    }
   ],
   "source": [
    "print(se_combo_name2idx)"
   ]
  },
  {
   "cell_type": "code",
   "execution_count": 5,
   "metadata": {},
   "outputs": [
    {
     "name": "stdout",
     "output_type": "stream",
     "text": [
      "(630, 16269)\n",
      "<class 'scipy.sparse.csc.csc_matrix'>\n"
     ]
    }
   ],
   "source": [
    "print(np.shape(adj_mats_orig[0,1][0].transpose()))\n",
    "print(type(adj_mats_orig[0,1][0].transpose()))"
   ]
  },
  {
   "cell_type": "code",
   "execution_count": 6,
   "metadata": {},
   "outputs": [
    {
     "data": {
      "text/plain": [
       "True"
      ]
     },
     "execution_count": 6,
     "metadata": {},
     "output_type": "execute_result"
    }
   ],
   "source": [
    "# Checking if ppi and ppi transpose are equal\n",
    "(adj_mats_orig[0,0][1]!=adj_mats_orig[0,0][0]).nnz==0"
   ]
  },
  {
   "cell_type": "code",
   "execution_count": 7,
   "metadata": {},
   "outputs": [
    {
     "data": {
      "text/plain": [
       "True"
      ]
     },
     "execution_count": 7,
     "metadata": {},
     "output_type": "execute_result"
    }
   ],
   "source": [
    "# Checking if dti and dti transpose are equal\n",
    "(adj_mats_orig[0,1][0]!=adj_mats_orig[1,0][0].transpose()).nnz==0"
   ]
  },
  {
   "cell_type": "code",
   "execution_count": 8,
   "metadata": {},
   "outputs": [
    {
     "name": "stdout",
     "output_type": "stream",
     "text": [
      "True\n",
      "True\n",
      "True\n",
      "True\n",
      "True\n",
      "True\n"
     ]
    }
   ],
   "source": [
    "# Checking if ddi and ddi transpose are equal\n",
    "print((adj_mats_orig[1,1][0]!=adj_mats_orig[1,1][6]).nnz==0)\n",
    "print((adj_mats_orig[1,1][1]!=adj_mats_orig[1,1][7]).nnz==0)\n",
    "print((adj_mats_orig[1,1][2]!=adj_mats_orig[1,1][8]).nnz==0)\n",
    "print((adj_mats_orig[1,1][3]!=adj_mats_orig[1,1][9]).nnz==0)\n",
    "print((adj_mats_orig[1,1][4]!=adj_mats_orig[1,1][10]).nnz==0)\n",
    "print((adj_mats_orig[1,1][5]!=adj_mats_orig[1,1][11]).nnz==0)"
   ]
  },
  {
   "cell_type": "code",
   "execution_count": 18,
   "metadata": {},
   "outputs": [
    {
     "name": "stdout",
     "output_type": "stream",
     "text": [
      "(186104,)\n"
     ]
    }
   ],
   "source": [
    "print(np.shape(feat[1][1]))"
   ]
  },
  {
   "cell_type": "code",
   "execution_count": 17,
   "metadata": {},
   "outputs": [
    {
     "data": {
      "text/plain": [
       "{0: (array([[    0,     0],\n",
       "         [    0,     1],\n",
       "         [    0,     3],\n",
       "         ...,\n",
       "         [16268,     3],\n",
       "         [16268,     4],\n",
       "         [16268,     5]], dtype=int32),\n",
       "  array([-1.09692919e+03,  3.64008518e-01,  1.46930882e+03, ...,\n",
       "         -2.93100170e+01,  7.70666054e+00, -7.40744144e+00]),\n",
       "  (16269, 6)),\n",
       " 1: (array([[   0,    6],\n",
       "         [   0,    9],\n",
       "         [   0,   10],\n",
       "         ...,\n",
       "         [ 629, 9701],\n",
       "         [ 629, 9702],\n",
       "         [ 629, 9708]], dtype=int32),\n",
       "  array([ 1.        ,  1.        ,  1.        , ...,  0.07420517,\n",
       "          0.07704289, -0.03897962]),\n",
       "  (630, 9709))}"
      ]
     },
     "execution_count": 17,
     "metadata": {},
     "output_type": "execute_result"
    }
   ],
   "source": [
    "feat"
   ]
  },
  {
   "cell_type": "code",
   "execution_count": 19,
   "metadata": {},
   "outputs": [
    {
     "ename": "TypeError",
     "evalue": "'int' object is not callable",
     "output_type": "error",
     "traceback": [
      "\u001b[0;31m---------------------------------------------------------------------------\u001b[0m",
      "\u001b[0;31mTypeError\u001b[0m                                 Traceback (most recent call last)",
      "\u001b[0;32m<ipython-input-19-eb8ebb713fb9>\u001b[0m in \u001b[0;36m<module>\u001b[0;34m\u001b[0m\n\u001b[1;32m      1\u001b[0m \u001b[0ma\u001b[0m \u001b[0;34m=\u001b[0m \u001b[0;34m[\u001b[0m\u001b[0;34m]\u001b[0m\u001b[0;34m\u001b[0m\u001b[0;34m\u001b[0m\u001b[0m\n\u001b[0;32m----> 2\u001b[0;31m \u001b[0ma\u001b[0m\u001b[0;34m.\u001b[0m\u001b[0mappend\u001b[0m\u001b[0;34m(\u001b[0m\u001b[0;34m(\u001b[0m\u001b[0;36m3\u001b[0m\u001b[0;34m)\u001b[0m\u001b[0;34m(\u001b[0m\u001b[0;36m7\u001b[0m\u001b[0;34m)\u001b[0m\u001b[0;34m)\u001b[0m\u001b[0;34m\u001b[0m\u001b[0;34m\u001b[0m\u001b[0m\n\u001b[0m",
      "\u001b[0;31mTypeError\u001b[0m: 'int' object is not callable"
     ]
    }
   ],
   "source": [
    "a = []\n",
    "a.append((3)(7))"
   ]
  },
  {
   "cell_type": "code",
   "execution_count": null,
   "metadata": {},
   "outputs": [],
   "source": []
  }
 ],
 "metadata": {
  "kernelspec": {
   "display_name": "Python 3",
   "language": "python",
   "name": "python3"
  },
  "language_info": {
   "codemirror_mode": {
    "name": "ipython",
    "version": 3
   },
   "file_extension": ".py",
   "mimetype": "text/x-python",
   "name": "python",
   "nbconvert_exporter": "python",
   "pygments_lexer": "ipython3",
   "version": "3.7.4"
  }
 },
 "nbformat": 4,
 "nbformat_minor": 2
}
