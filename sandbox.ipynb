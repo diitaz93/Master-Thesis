{
 "cells": [
  {
   "cell_type": "code",
   "execution_count": null,
   "metadata": {},
   "outputs": [],
   "source": [
    "import numpy as np\n",
    "import scipy.sparse as sp\n",
    "import time\n",
    "import os\n",
    "import psutil\n",
    "import shelve\n",
    "from pybdm import BDM\n",
    "from pybdm.utils import decompose_dataset\n",
    "from joblib import Parallel, delayed\n",
    "from joblib import parallel_backend\n",
    "from data.algorithms import PerturbationExperiment, NodePerturbationExperiment\n",
    "import math\n",
    "import datetime\n",
    "from itertools import product"
   ]
  },
  {
   "cell_type": "code",
   "execution_count": null,
   "metadata": {},
   "outputs": [],
   "source": [
    "%pylab inline"
   ]
  },
  {
   "cell_type": "markdown",
   "metadata": {},
   "source": [
    "### experimenting with pickle"
   ]
  },
  {
   "cell_type": "code",
   "execution_count": 4,
   "metadata": {},
   "outputs": [],
   "source": [
    "import pickle\n",
    "import numpy as np\n",
    "import scipy.sparse as sp"
   ]
  },
  {
   "cell_type": "code",
   "execution_count": 2,
   "metadata": {},
   "outputs": [
    {
     "name": "stdout",
     "output_type": "stream",
     "text": [
      "(u'vms_ddi', 'Imported successfully')\n",
      "(u'time_ddi', 'Imported successfully')\n",
      "(u'rss_ddi', 'Imported successfully')\n"
     ]
    }
   ],
   "source": [
    "with open('./data/data_structures/decagon.pickle', 'rb') as f:\n",
    "    data_decagon = pickle.load(f)\n",
    "    for key in data_decagon.keys():\n",
    "        globals()[key]=data_decagon[key]\n",
    "        print(key,\"Imported successfully\")"
   ]
  },
  {
   "cell_type": "code",
   "execution_count": 6,
   "metadata": {},
   "outputs": [],
   "source": [
    "with open('./data/data_structures/decagon.pickle', 'rb') as f:\n",
    "    vms = pickle.load(f)['vms_ddi']"
   ]
  },
  {
   "cell_type": "markdown",
   "metadata": {},
   "source": [
    "## Playing with datetime"
   ]
  },
  {
   "cell_type": "code",
   "execution_count": null,
   "metadata": {},
   "outputs": [],
   "source": [
    "now = datetime.datetime.now() # current date and time\n",
    "year = now.strftime(\"%Y\")\n",
    "month = now.strftime(\"%m\")\n",
    "day = now.strftime(\"%d\")\n",
    "date_name = year+'-'+month+'-'+day\n",
    "print(date_name)"
   ]
  },
  {
   "cell_type": "markdown",
   "metadata": {},
   "source": [
    "## Loading BDM data from CMM"
   ]
  },
  {
   "cell_type": "code",
   "execution_count": null,
   "metadata": {},
   "outputs": [],
   "source": [
    "data_bdm = shelve.open(\"./data/data_structures/bdm\")\n",
    "for key in data_bdm:\n",
    "    globals()[key]=data_bdm[key]\n",
    "data_bdm.close()"
   ]
  },
  {
   "cell_type": "code",
   "execution_count": null,
   "metadata": {},
   "outputs": [],
   "source": [
    "print('Total Time:',datetime.timedelta(seconds=total_time))\n",
    "print('Virtual Memory:',vms*1e-9,'Gb')\n",
    "print('RSS Memory:',rss*1e-9,'Gb')\n",
    "print('16 cores')"
   ]
  },
  {
   "cell_type": "code",
   "execution_count": null,
   "metadata": {},
   "outputs": [],
   "source": [
    "data_adj = shelve.open(\"./data/data_structures/decagon\")\n",
    "ddi_adj_list=data_adj['ddi_adj_list']\n",
    "data_adj.close()"
   ]
  },
  {
   "cell_type": "code",
   "execution_count": null,
   "metadata": {},
   "outputs": [],
   "source": [
    "print(np.shape(bdm_ddi_list))\n",
    "print(np.shape(ddi_adj_list))"
   ]
  },
  {
   "cell_type": "code",
   "execution_count": null,
   "metadata": {
    "scrolled": true
   },
   "outputs": [],
   "source": [
    "plot(bdm_ddi_list[0][1])\n",
    "#plot(bdm_ddi_list[0][0])"
   ]
  },
  {
   "cell_type": "markdown",
   "metadata": {},
   "source": [
    "## Username testing"
   ]
  },
  {
   "cell_type": "code",
   "execution_count": null,
   "metadata": {},
   "outputs": [],
   "source": [
    "from getpass import getuser\n",
    "username = getuser()\n",
    "print(username)\n",
    "jobs = 16\n",
    "filename ='ppi_bdm_'+ username + str(jobs)\n",
    "print(filename)"
   ]
  },
  {
   "cell_type": "markdown",
   "metadata": {},
   "source": [
    "### Tests Parallelization"
   ]
  },
  {
   "cell_type": "code",
   "execution_count": null,
   "metadata": {},
   "outputs": [],
   "source": [
    "N = 16226\n",
    "b = np.random.randint(0,2,(N,N))\n",
    "X = ((b + b.T)/2).astype(int)\n",
    "bdm = BDM(ndim=2)"
   ]
  },
  {
   "cell_type": "code",
   "execution_count": null,
   "metadata": {},
   "outputs": [],
   "source": [
    "perturbation = NodePerturbationExperiment(bdm, metric='bdm',bipartite_network=False)\n",
    "start = time.time()\n",
    "perturbation.set_data(X)\n",
    "perturbation.perturb(1)\n",
    "print(time.time()-start)"
   ]
  },
  {
   "cell_type": "code",
   "execution_count": null,
   "metadata": {},
   "outputs": [],
   "source": [
    "start = time.time()\n",
    "val = bdm.bdm(X)\n",
    "print(time.time()-start)\n",
    "print(val)"
   ]
  },
  {
   "cell_type": "code",
   "execution_count": null,
   "metadata": {},
   "outputs": [],
   "source": [
    "start = time.time()\n",
    "counters = Parallel(n_jobs=8)\\\n",
    "    (delayed(bdm.decompose_and_count)(d) for d in decompose_dataset(X, (4056, 4056)))\n",
    "\n",
    "val = bdm.compute_bdm(*counters)\n",
    "print(time.time()-start)\n",
    "print(val)"
   ]
  },
  {
   "cell_type": "code",
   "execution_count": null,
   "metadata": {},
   "outputs": [],
   "source": [
    "N = 1000\n",
    "b = np.random.randint(0,2,(N,N))\n",
    "X = ((b + b.T)/2).astype(int)\n",
    "bdm = BDM(ndim=2)"
   ]
  },
  {
   "cell_type": "code",
   "execution_count": null,
   "metadata": {
    "scrolled": true
   },
   "outputs": [],
   "source": [
    "perturbation = NodePerturbationExperiment(bdm, metric='bdm',bipartite_network=False,\n",
    "                                         parallel=False)\n",
    "start = time.time()\n",
    "perturbation.set_data(X)\n",
    "a = perturbation.run()\n",
    "print(time.time()-start)\n",
    "print(a[:5])"
   ]
  },
  {
   "cell_type": "code",
   "execution_count": null,
   "metadata": {
    "scrolled": true
   },
   "outputs": [],
   "source": [
    "perturbation = NodePerturbationExperiment(bdm, metric='bdm',bipartite_network=False,\n",
    "                                         parallel=True,jobs=8)\n",
    "start = time.time()\n",
    "perturbation.set_data(X)\n",
    "perturbation.run()\n",
    "print(time.time()-start)\n",
    "print(a[:5])"
   ]
  },
  {
   "cell_type": "markdown",
   "metadata": {},
   "source": [
    "# Time experiments (DO NOT DELETE!)\n",
    "In this experiment we see time of execution in series and in parallel of the `run()` function of the class NodePerturbationExperiment with different matrix sizes."
   ]
  },
  {
   "cell_type": "code",
   "execution_count": null,
   "metadata": {},
   "outputs": [],
   "source": [
    "# Data taken manually\n",
    "N = np.array([10,50,100,200,400,500,700,800,900,1000])\n",
    "S = np.array([0.030,0.114,0.813,6.7217,59.91,109.85,295.385,427.798,622.127,844.55])\n",
    "P = np.array([1.20,4.129,7.370,22.910,52.55,68.289,122.082,166.802,225.77,300.792])"
   ]
  },
  {
   "cell_type": "code",
   "execution_count": null,
   "metadata": {},
   "outputs": [],
   "source": [
    "zs,rs,_,_,_ = np.polyfit(N,S,4,full=True)\n",
    "p_ser = np.poly1d(zs)\n",
    "zp,rp,_,_,_ = np.polyfit(N,P,4,full=True)\n",
    "p_par = np.poly1d(zp)\n",
    "print(rs,rp)\n",
    "figure(figsize=[12,8])\n",
    "subplot(2,1,1)\n",
    "plot(N,S,label='Series',linewidth=3)\n",
    "plot(N,P,label='Parallel jobs=8',linewidth=3)\n",
    "plot(N,p_ser(N),'--',label='Fit series')\n",
    "plot(N,p_par(N),'--',label='fit parallel')\n",
    "legend()\n",
    "subplot(2,1,2)\n",
    "loglog(N,S,label='Series',linewidth=3)\n",
    "loglog(N,P,label='Parallel',linewidth=3)\n",
    "legend()\n",
    "show()"
   ]
  },
  {
   "cell_type": "code",
   "execution_count": null,
   "metadata": {},
   "outputs": [],
   "source": [
    "print(datetime.timedelta(seconds=p_ser(16227)))\n",
    "print(datetime.timedelta(seconds=p_par(16227)))"
   ]
  },
  {
   "cell_type": "code",
   "execution_count": null,
   "metadata": {},
   "outputs": [],
   "source": []
  }
 ],
 "metadata": {
  "kernelspec": {
   "display_name": "Python 3",
   "language": "python",
   "name": "python3"
  },
  "language_info": {
   "codemirror_mode": {
    "name": "ipython",
    "version": 3
   },
   "file_extension": ".py",
   "mimetype": "text/x-python",
   "name": "python",
   "nbconvert_exporter": "python",
   "pygments_lexer": "ipython3",
   "version": "3.7.3"
  }
 },
 "nbformat": 4,
 "nbformat_minor": 2
}
