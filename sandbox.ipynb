{
 "cells": [
  {
   "cell_type": "code",
   "execution_count": 1,
   "metadata": {},
   "outputs": [],
   "source": [
    "import numpy as np\n",
    "import scipy.sparse as sp\n",
    "import time\n",
    "import os\n",
    "import psutil\n",
    "import shelve\n",
    "from pybdm import BDM\n",
    "from pybdm.utils import decompose_dataset\n",
    "from joblib import Parallel, delayed\n",
    "from node import NodePerturbationExperiment\n",
    "from algorithms import PerturbationExperiment\n",
    "\n",
    "from itertools import product"
   ]
  },
  {
   "cell_type": "code",
   "execution_count": null,
   "metadata": {},
   "outputs": [],
   "source": [
    "%pylab inline"
   ]
  },
  {
   "cell_type": "code",
   "execution_count": 7,
   "metadata": {},
   "outputs": [],
   "source": [
    "N = 1000\n",
    "b = np.random.randint(0,2,(N,N))\n",
    "X = ((b + b.T)/2).astype(int)\n",
    "bdm = BDM(ndim=2)"
   ]
  },
  {
   "cell_type": "code",
   "execution_count": 8,
   "metadata": {},
   "outputs": [
    {
     "name": "stdout",
     "output_type": "stream",
     "text": [
      "Time: 61.71534276008606\n"
     ]
    }
   ],
   "source": [
    "perturbation = PerturbationExperiment(bdm, X, bipartite_network=False)\n",
    "start = time.time()\n",
    "perturbation.node_equivalent()\n",
    "print('Time:',time.time()-start)"
   ]
  },
  {
   "cell_type": "code",
   "execution_count": null,
   "metadata": {},
   "outputs": [],
   "source": [
    "edge_exp = PerturbationExperiment(bdm,X)\n",
    "start = time.time()\n",
    "value = edge_exp.run()\n",
    "print('Time:',time.time()-start)\n",
    "print(value[:5])"
   ]
  },
  {
   "cell_type": "code",
   "execution_count": null,
   "metadata": {},
   "outputs": [],
   "source": [
    "edge_exp = PerturbationExperiment(bdm,X)\n",
    "start = time.time()\n",
    "indexes = [ range(k) for k in X.shape ]\n",
    "idx = np.array([ x for x in product(*indexes) ], dtype=int)\n",
    "l = X.size\n",
    "values = np.full((l, ), -1, dtype=int)\n",
    "results = Parallel(n_jobs=4)(delayed(edge_exp._method)(tuple(idx[i,:]),values[i])\n",
    "                             for i in range(l))\n",
    "print('Time:',time.time()-start)\n",
    "print(results[:5])"
   ]
  },
  {
   "cell_type": "code",
   "execution_count": null,
   "metadata": {},
   "outputs": [],
   "source": [
    "figure(figsize=(8,12))\n",
    "plot(value,linewidth=10, alpha=0.7,label='series')\n",
    "plot(results,label='parallel')\n",
    "legend()\n",
    "show()"
   ]
  },
  {
   "cell_type": "code",
   "execution_count": null,
   "metadata": {},
   "outputs": [],
   "source": [
    "plot(value)\n",
    "print(value[-10:])"
   ]
  },
  {
   "cell_type": "code",
   "execution_count": null,
   "metadata": {},
   "outputs": [],
   "source": [
    "mat_v = value.reshape(X.shape)"
   ]
  },
  {
   "cell_type": "code",
   "execution_count": null,
   "metadata": {},
   "outputs": [],
   "source": [
    "print(sum(mat_v[:,2]),mean(mat_v[:,2]))\n",
    "print(sum(mat_v[2,:]),mean(mat_v[2,:]))"
   ]
  },
  {
   "cell_type": "code",
   "execution_count": null,
   "metadata": {},
   "outputs": [],
   "source": [
    "avg = np.array([[sum(mat_v[:,i]),mean(mat_v[:,i]),sum(mat_v[i,:]),mean(mat_v[i,:]),\n",
    "                 (mean(mat_v[i,:])+mean(mat_v[:,i]))/2]\n",
    "        for i in range(X.shape[0])])"
   ]
  },
  {
   "cell_type": "code",
   "execution_count": null,
   "metadata": {},
   "outputs": [],
   "source": [
    "figure(figsize=(8,12))\n",
    "plot(avg[:,0],linewidth=10, alpha=0.7,label='Row sum')\n",
    "plot(avg[:,1],linewidth=10, alpha=0.7,label='Row avg')\n",
    "plot(avg[:,2],label='Col sum')\n",
    "plot(avg[:,3],label='Col avg')\n",
    "#plot(avg[:,4],label='avg')\n",
    "legend()\n",
    "show()"
   ]
  },
  {
   "cell_type": "markdown",
   "metadata": {},
   "source": [
    "## Tests parallelization node experiments"
   ]
  },
  {
   "cell_type": "code",
   "execution_count": null,
   "metadata": {},
   "outputs": [],
   "source": [
    "np.random.seed(303)\n",
    "X = np.random.randint(0,2,(500,300))\n",
    "bdm = BDM(ndim=2)"
   ]
  },
  {
   "cell_type": "code",
   "execution_count": null,
   "metadata": {},
   "outputs": [],
   "source": [
    "start = time.time()\n",
    "val = bdm.ent(X)\n",
    "print(time.time()-start)\n",
    "print(val)"
   ]
  },
  {
   "cell_type": "code",
   "execution_count": null,
   "metadata": {},
   "outputs": [],
   "source": [
    "start = time.time()\n",
    "counters = Parallel(n_jobs=8) \\\n",
    "    (delayed(bdm.decompose_and_count)(d) for d in decompose_dataset(X, (500, 500)))\n",
    "val = bdm.compute_ent(*counters)\n",
    "print(time.time()-start)\n",
    "print(val)"
   ]
  },
  {
   "cell_type": "code",
   "execution_count": null,
   "metadata": {},
   "outputs": [],
   "source": [
    "test_series = NodePerturbationExperiment(bdm,X,metric='bdm',bipartite_network=True)"
   ]
  },
  {
   "cell_type": "code",
   "execution_count": null,
   "metadata": {
    "scrolled": true
   },
   "outputs": [],
   "source": [
    "start = time.time()\n",
    "nodes = test_series.run()\n",
    "print(time.time()-start)\n",
    "print(nodes[0])"
   ]
  },
  {
   "cell_type": "code",
   "execution_count": null,
   "metadata": {},
   "outputs": [],
   "source": [
    "test_parallel = NodePerturbationExperiment(bdm,X,parallel=True, jobs=8,bipartite_network=True)"
   ]
  },
  {
   "cell_type": "code",
   "execution_count": null,
   "metadata": {
    "scrolled": true
   },
   "outputs": [],
   "source": [
    "start = time.time()\n",
    "nodes = test_parallel.run()\n",
    "print(time.time()-start)\n",
    "print(nodes[0])"
   ]
  },
  {
   "cell_type": "code",
   "execution_count": null,
   "metadata": {},
   "outputs": [],
   "source": []
  }
 ],
 "metadata": {
  "kernelspec": {
   "display_name": "Python 3",
   "language": "python",
   "name": "python3"
  },
  "language_info": {
   "codemirror_mode": {
    "name": "ipython",
    "version": 3
   },
   "file_extension": ".py",
   "mimetype": "text/x-python",
   "name": "python",
   "nbconvert_exporter": "python",
   "pygments_lexer": "ipython3",
   "version": "3.7.3"
  }
 },
 "nbformat": 4,
 "nbformat_minor": 2
}
