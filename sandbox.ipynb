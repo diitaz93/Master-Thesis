{
 "cells": [
  {
   "cell_type": "markdown",
   "metadata": {},
   "source": [
    "# Sandbox\n",
    "Notebook to test code before real implementation"
   ]
  },
  {
   "cell_type": "code",
   "execution_count": 1,
   "metadata": {},
   "outputs": [],
   "source": [
    "################ ONLY PYTHON 2 #########################\n",
    "from __future__ import division\n",
    "from __future__ import print_function\n",
    "from operator import itemgetter\n",
    "from itertools import combinations, chain, product\n",
    "import argparse\n",
    "import time\n",
    "import os\n",
    "import tensorflow as tf\n",
    "import numpy as np\n",
    "import networkx as nx\n",
    "import scipy.sparse as sp\n",
    "from sklearn import metrics\n",
    "import pandas as pd\n",
    "import psutil\n",
    "import pickle\n",
    "from decagon.deep.optimizer import DecagonOptimizer\n",
    "from decagon.deep.model import DecagonModel\n",
    "from decagon.deep.minibatch import EdgeMinibatchIterator\n",
    "from decagon.utility import rank_metrics, preprocessing"
   ]
  },
  {
   "cell_type": "code",
   "execution_count": 1,
   "metadata": {},
   "outputs": [],
   "source": [
    "import numpy as np\n",
    "import pandas as pd\n",
    "import scipy.sparse as sp\n",
    "import time\n",
    "import os\n",
    "import psutil\n",
    "import pickle\n",
    "from pybdm import BDM\n",
    "from pybdm.utils import decompose_dataset\n",
    "from pybdm.partitions import PartitionIgnore\n",
    "from joblib import Parallel, delayed\n",
    "from joblib import parallel_backend\n",
    "from data.algorithms import PerturbationExperiment, NodePerturbationExperiment\n",
    "import math\n",
    "import datetime as dt\n",
    "from itertools import product"
   ]
  },
  {
   "cell_type": "code",
   "execution_count": 2,
   "metadata": {
    "scrolled": true
   },
   "outputs": [
    {
     "name": "stdout",
     "output_type": "stream",
     "text": [
      "Populating the interactive namespace from numpy and matplotlib\n"
     ]
    },
    {
     "name": "stderr",
     "output_type": "stream",
     "text": [
      "/home/juan/anaconda3/lib/python3.7/site-packages/IPython/core/magics/pylab.py:160: UserWarning: pylab import has clobbered these variables: ['product']\n",
      "`%matplotlib` prevents importing * from pylab and numpy\n",
      "  \"\\n`%matplotlib` prevents importing * from pylab and numpy\"\n"
     ]
    }
   ],
   "source": [
    "%pylab inline"
   ]
  },
  {
   "cell_type": "code",
   "execution_count": 3,
   "metadata": {},
   "outputs": [],
   "source": [
    "DF = pd.read_csv('../Thesis_datasets/LINCS/LINCS_Gene_Experssion_signatures_CD.csv')"
   ]
  },
  {
   "cell_type": "code",
   "execution_count": 4,
   "metadata": {},
   "outputs": [
    {
     "data": {
      "text/plain": [
       "Index(['pert_id', '200814_at', '222103_at', '201453_x_at', '204131_s_at',\n",
       "       '200059_s_at', '205067_at', '213702_x_at', '214435_x_at', '201334_s_at',\n",
       "       ...\n",
       "       '204662_at', '203047_at', '203343_at', '217995_at', '218450_at',\n",
       "       '212536_at', '218529_at', '211071_s_at', '203341_at', '205379_at'],\n",
       "      dtype='object', length=979)"
      ]
     },
     "execution_count": 4,
     "metadata": {},
     "output_type": "execute_result"
    }
   ],
   "source": [
    "DF.columns"
   ]
  },
  {
   "cell_type": "code",
   "execution_count": 5,
   "metadata": {},
   "outputs": [
    {
     "data": {
      "text/plain": [
       "979"
      ]
     },
     "execution_count": 5,
     "metadata": {},
     "output_type": "execute_result"
    }
   ],
   "source": [
    "len(DF.columns)"
   ]
  },
  {
   "cell_type": "code",
   "execution_count": 6,
   "metadata": {},
   "outputs": [
    {
     "data": {
      "text/plain": [
       "20339"
      ]
     },
     "execution_count": 6,
     "metadata": {},
     "output_type": "execute_result"
    }
   ],
   "source": [
    "len(DF.index)"
   ]
  },
  {
   "cell_type": "code",
   "execution_count": 8,
   "metadata": {},
   "outputs": [
    {
     "data": {
      "text/html": [
       "<div>\n",
       "<style scoped>\n",
       "    .dataframe tbody tr th:only-of-type {\n",
       "        vertical-align: middle;\n",
       "    }\n",
       "\n",
       "    .dataframe tbody tr th {\n",
       "        vertical-align: top;\n",
       "    }\n",
       "\n",
       "    .dataframe thead th {\n",
       "        text-align: right;\n",
       "    }\n",
       "</style>\n",
       "<table border=\"1\" class=\"dataframe\">\n",
       "  <thead>\n",
       "    <tr style=\"text-align: right;\">\n",
       "      <th></th>\n",
       "      <th>pert_id</th>\n",
       "      <th>200814_at</th>\n",
       "      <th>222103_at</th>\n",
       "      <th>201453_x_at</th>\n",
       "      <th>204131_s_at</th>\n",
       "      <th>200059_s_at</th>\n",
       "      <th>205067_at</th>\n",
       "      <th>213702_x_at</th>\n",
       "      <th>214435_x_at</th>\n",
       "      <th>201334_s_at</th>\n",
       "      <th>...</th>\n",
       "      <th>204662_at</th>\n",
       "      <th>203047_at</th>\n",
       "      <th>203343_at</th>\n",
       "      <th>217995_at</th>\n",
       "      <th>218450_at</th>\n",
       "      <th>212536_at</th>\n",
       "      <th>218529_at</th>\n",
       "      <th>211071_s_at</th>\n",
       "      <th>203341_at</th>\n",
       "      <th>205379_at</th>\n",
       "    </tr>\n",
       "  </thead>\n",
       "  <tbody>\n",
       "    <tr>\n",
       "      <td>0</td>\n",
       "      <td>BRD-A00100033</td>\n",
       "      <td>0.0193</td>\n",
       "      <td>0.0260</td>\n",
       "      <td>-0.0136</td>\n",
       "      <td>0.0283</td>\n",
       "      <td>-0.0279</td>\n",
       "      <td>0.0246</td>\n",
       "      <td>-0.0713</td>\n",
       "      <td>0.0358</td>\n",
       "      <td>-0.0093</td>\n",
       "      <td>...</td>\n",
       "      <td>-0.0257</td>\n",
       "      <td>0.0215</td>\n",
       "      <td>0.0254</td>\n",
       "      <td>-0.0361</td>\n",
       "      <td>-0.0169</td>\n",
       "      <td>-0.0080</td>\n",
       "      <td>0.0073</td>\n",
       "      <td>-0.0984</td>\n",
       "      <td>-0.0145</td>\n",
       "      <td>-0.0149</td>\n",
       "    </tr>\n",
       "    <tr>\n",
       "      <td>1</td>\n",
       "      <td>BRD-A00150179</td>\n",
       "      <td>-0.0197</td>\n",
       "      <td>-0.0058</td>\n",
       "      <td>-0.0243</td>\n",
       "      <td>0.0088</td>\n",
       "      <td>-0.0129</td>\n",
       "      <td>-0.0070</td>\n",
       "      <td>0.0621</td>\n",
       "      <td>-0.0018</td>\n",
       "      <td>-0.0053</td>\n",
       "      <td>...</td>\n",
       "      <td>-0.0098</td>\n",
       "      <td>0.0089</td>\n",
       "      <td>-0.0003</td>\n",
       "      <td>0.0064</td>\n",
       "      <td>0.0114</td>\n",
       "      <td>0.0352</td>\n",
       "      <td>0.0309</td>\n",
       "      <td>-0.0212</td>\n",
       "      <td>-0.0115</td>\n",
       "      <td>-0.0257</td>\n",
       "    </tr>\n",
       "    <tr>\n",
       "      <td>2</td>\n",
       "      <td>BRD-A00267231</td>\n",
       "      <td>-0.0370</td>\n",
       "      <td>0.0010</td>\n",
       "      <td>0.0115</td>\n",
       "      <td>0.0271</td>\n",
       "      <td>0.0188</td>\n",
       "      <td>-0.0106</td>\n",
       "      <td>-0.0023</td>\n",
       "      <td>0.0031</td>\n",
       "      <td>0.0472</td>\n",
       "      <td>...</td>\n",
       "      <td>-0.0096</td>\n",
       "      <td>-0.0440</td>\n",
       "      <td>0.0119</td>\n",
       "      <td>0.0206</td>\n",
       "      <td>0.0097</td>\n",
       "      <td>-0.0215</td>\n",
       "      <td>-0.0194</td>\n",
       "      <td>0.1062</td>\n",
       "      <td>-0.0114</td>\n",
       "      <td>-0.0262</td>\n",
       "    </tr>\n",
       "    <tr>\n",
       "      <td>3</td>\n",
       "      <td>BRD-A00420644</td>\n",
       "      <td>0.0109</td>\n",
       "      <td>-0.0258</td>\n",
       "      <td>0.0221</td>\n",
       "      <td>-0.0354</td>\n",
       "      <td>0.0222</td>\n",
       "      <td>0.0198</td>\n",
       "      <td>0.0334</td>\n",
       "      <td>-0.0218</td>\n",
       "      <td>-0.0048</td>\n",
       "      <td>...</td>\n",
       "      <td>0.0228</td>\n",
       "      <td>0.0140</td>\n",
       "      <td>0.0564</td>\n",
       "      <td>0.0508</td>\n",
       "      <td>0.0083</td>\n",
       "      <td>-0.0135</td>\n",
       "      <td>0.0336</td>\n",
       "      <td>0.0184</td>\n",
       "      <td>0.0256</td>\n",
       "      <td>0.0150</td>\n",
       "    </tr>\n",
       "    <tr>\n",
       "      <td>4</td>\n",
       "      <td>BRD-A00474148</td>\n",
       "      <td>-0.0033</td>\n",
       "      <td>0.0042</td>\n",
       "      <td>-0.0131</td>\n",
       "      <td>0.0130</td>\n",
       "      <td>0.0113</td>\n",
       "      <td>0.0560</td>\n",
       "      <td>-0.0398</td>\n",
       "      <td>0.0275</td>\n",
       "      <td>-0.0223</td>\n",
       "      <td>...</td>\n",
       "      <td>0.0142</td>\n",
       "      <td>0.0075</td>\n",
       "      <td>0.0591</td>\n",
       "      <td>0.0514</td>\n",
       "      <td>0.0113</td>\n",
       "      <td>-0.1378</td>\n",
       "      <td>0.0193</td>\n",
       "      <td>0.0462</td>\n",
       "      <td>-0.0252</td>\n",
       "      <td>0.0161</td>\n",
       "    </tr>\n",
       "  </tbody>\n",
       "</table>\n",
       "<p>5 rows × 979 columns</p>\n",
       "</div>"
      ],
      "text/plain": [
       "         pert_id  200814_at  222103_at  201453_x_at  204131_s_at  200059_s_at  \\\n",
       "0  BRD-A00100033     0.0193     0.0260      -0.0136       0.0283      -0.0279   \n",
       "1  BRD-A00150179    -0.0197    -0.0058      -0.0243       0.0088      -0.0129   \n",
       "2  BRD-A00267231    -0.0370     0.0010       0.0115       0.0271       0.0188   \n",
       "3  BRD-A00420644     0.0109    -0.0258       0.0221      -0.0354       0.0222   \n",
       "4  BRD-A00474148    -0.0033     0.0042      -0.0131       0.0130       0.0113   \n",
       "\n",
       "   205067_at  213702_x_at  214435_x_at  201334_s_at  ...  204662_at  \\\n",
       "0     0.0246      -0.0713       0.0358      -0.0093  ...    -0.0257   \n",
       "1    -0.0070       0.0621      -0.0018      -0.0053  ...    -0.0098   \n",
       "2    -0.0106      -0.0023       0.0031       0.0472  ...    -0.0096   \n",
       "3     0.0198       0.0334      -0.0218      -0.0048  ...     0.0228   \n",
       "4     0.0560      -0.0398       0.0275      -0.0223  ...     0.0142   \n",
       "\n",
       "   203047_at  203343_at  217995_at  218450_at  212536_at  218529_at  \\\n",
       "0     0.0215     0.0254    -0.0361    -0.0169    -0.0080     0.0073   \n",
       "1     0.0089    -0.0003     0.0064     0.0114     0.0352     0.0309   \n",
       "2    -0.0440     0.0119     0.0206     0.0097    -0.0215    -0.0194   \n",
       "3     0.0140     0.0564     0.0508     0.0083    -0.0135     0.0336   \n",
       "4     0.0075     0.0591     0.0514     0.0113    -0.1378     0.0193   \n",
       "\n",
       "   211071_s_at  203341_at  205379_at  \n",
       "0      -0.0984    -0.0145    -0.0149  \n",
       "1      -0.0212    -0.0115    -0.0257  \n",
       "2       0.1062    -0.0114    -0.0262  \n",
       "3       0.0184     0.0256     0.0150  \n",
       "4       0.0462    -0.0252     0.0161  \n",
       "\n",
       "[5 rows x 979 columns]"
      ]
     },
     "execution_count": 8,
     "metadata": {},
     "output_type": "execute_result"
    }
   ],
   "source": [
    "DF.head(5)"
   ]
  },
  {
   "cell_type": "code",
   "execution_count": null,
   "metadata": {},
   "outputs": [],
   "source": []
  },
  {
   "cell_type": "code",
   "execution_count": null,
   "metadata": {},
   "outputs": [],
   "source": []
  }
 ],
 "metadata": {
  "kernelspec": {
   "display_name": "Python 3",
   "language": "python",
   "name": "python3"
  },
  "language_info": {
   "codemirror_mode": {
    "name": "ipython",
    "version": 3
   },
   "file_extension": ".py",
   "mimetype": "text/x-python",
   "name": "python",
   "nbconvert_exporter": "python",
   "pygments_lexer": "ipython3",
   "version": "3.7.4"
  }
 },
 "nbformat": 4,
 "nbformat_minor": 2
}
