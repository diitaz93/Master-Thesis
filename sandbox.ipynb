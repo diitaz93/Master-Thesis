{
 "cells": [
  {
   "cell_type": "markdown",
   "metadata": {},
   "source": [
    "# Sandbox\n",
    "Notebook to test code before real implementation"
   ]
  },
  {
   "cell_type": "code",
   "execution_count": 1,
   "metadata": {},
   "outputs": [],
   "source": [
    "################ ONLY PYTHON 2 #########################\n",
    "from __future__ import division\n",
    "from __future__ import print_function\n",
    "from operator import itemgetter\n",
    "from itertools import combinations, chain, product\n",
    "import argparse\n",
    "import time\n",
    "import os\n",
    "import tensorflow as tf\n",
    "import numpy as np\n",
    "import networkx as nx\n",
    "import scipy.sparse as sp\n",
    "from sklearn import metrics\n",
    "import pandas as pd\n",
    "import psutil\n",
    "import pickle\n",
    "from decagon.deep.optimizer import DecagonOptimizer\n",
    "from decagon.deep.model import DecagonModel\n",
    "from decagon.deep.minibatch import EdgeMinibatchIterator\n",
    "from decagon.utility import rank_metrics, preprocessing"
   ]
  },
  {
   "cell_type": "code",
   "execution_count": null,
   "metadata": {},
   "outputs": [],
   "source": [
    "import numpy as np\n",
    "import pandas as pd\n",
    "import scipy.sparse as sp\n",
    "import time\n",
    "import os\n",
    "import psutil\n",
    "import pickle\n",
    "from pybdm import BDM\n",
    "from pybdm.utils import decompose_dataset\n",
    "from pybdm.partitions import PartitionIgnore\n",
    "from joblib import Parallel, delayed\n",
    "from joblib import parallel_backend\n",
    "from data.algorithms import PerturbationExperiment, NodePerturbationExperiment\n",
    "import math\n",
    "import datetime as dt\n",
    "from itertools import product"
   ]
  },
  {
   "cell_type": "code",
   "execution_count": null,
   "metadata": {
    "scrolled": true
   },
   "outputs": [],
   "source": [
    "%pylab inline"
   ]
  },
  {
   "cell_type": "code",
   "execution_count": 2,
   "metadata": {},
   "outputs": [],
   "source": [
    "a = np.array([[1, 2],\n",
    "              [3, 4],\n",
    "              [5, 6],\n",
    "              [7, 8],\n",
    "              [9, 10]])\n",
    "\n",
    "b = np.array([[3, 4],\n",
    "              [5, 6]])\n"
   ]
  },
  {
   "cell_type": "code",
   "execution_count": 17,
   "metadata": {},
   "outputs": [],
   "source": [
    "X=sp.random(100,100,density=0.15).astype(bool).astype(int)\n",
    "val_test_size = 0.15"
   ]
  },
  {
   "cell_type": "code",
   "execution_count": 18,
   "metadata": {},
   "outputs": [
    {
     "data": {
      "text/plain": [
       "<100x100 sparse matrix of type '<type 'numpy.int64'>'\n",
       "\twith 1500 stored elements in COOrdinate format>"
      ]
     },
     "execution_count": 18,
     "metadata": {},
     "output_type": "execute_result"
    }
   ],
   "source": [
    "X"
   ]
  },
  {
   "cell_type": "code",
   "execution_count": 20,
   "metadata": {},
   "outputs": [],
   "source": [
    "positive, _, dims = preprocessing.sparse_to_tuple(X)\n",
    "indexes = [range(k) for k in dims]\n",
    "idx = np.array([ x for x in product(*indexes) ]).astype('int32')"
   ]
  },
  {
   "cell_type": "code",
   "execution_count": 22,
   "metadata": {},
   "outputs": [],
   "source": [
    "mask = np.invert((idx[:, None] == positive).all(-1).any(-1))\n",
    "negative = idx[mask]"
   ]
  },
  {
   "cell_type": "code",
   "execution_count": 24,
   "metadata": {},
   "outputs": [
    {
     "data": {
      "text/plain": [
       "(8500, 2)"
      ]
     },
     "execution_count": 24,
     "metadata": {},
     "output_type": "execute_result"
    }
   ],
   "source": [
    "negative.shape"
   ]
  },
  {
   "cell_type": "code",
   "execution_count": null,
   "metadata": {},
   "outputs": [],
   "source": []
  },
  {
   "cell_type": "code",
   "execution_count": 16,
   "metadata": {},
   "outputs": [
    {
     "data": {
      "text/plain": [
       "array([[[False, False],\n",
       "        [False, False]],\n",
       "\n",
       "       [[ True,  True],\n",
       "        [False, False]],\n",
       "\n",
       "       [[False, False],\n",
       "        [ True,  True]],\n",
       "\n",
       "       [[False, False],\n",
       "        [False, False]],\n",
       "\n",
       "       [[False, False],\n",
       "        [False, False]]])"
      ]
     },
     "execution_count": 16,
     "metadata": {},
     "output_type": "execute_result"
    }
   ],
   "source": [
    "(a[:, None] == b)"
   ]
  },
  {
   "cell_type": "code",
   "execution_count": 14,
   "metadata": {},
   "outputs": [],
   "source": [
    "res = (a[:, None] == b).all(-1).any(-1)"
   ]
  },
  {
   "cell_type": "code",
   "execution_count": 15,
   "metadata": {},
   "outputs": [
    {
     "data": {
      "text/plain": [
       "array([False,  True,  True, False, False])"
      ]
     },
     "execution_count": 15,
     "metadata": {},
     "output_type": "execute_result"
    }
   ],
   "source": [
    "res"
   ]
  },
  {
   "cell_type": "code",
   "execution_count": null,
   "metadata": {},
   "outputs": [],
   "source": []
  },
  {
   "cell_type": "markdown",
   "metadata": {},
   "source": [
    "## New training_results draft"
   ]
  },
  {
   "cell_type": "code",
   "execution_count": null,
   "metadata": {},
   "outputs": [],
   "source": [
    "filename = './results_training/sandboxish'\n",
    "with open(filename, 'rb') as f:\n",
    "    DS = pickle.load(f)\n",
    "    for key in DS.keys():\n",
    "        globals()[key]=DS[key]\n",
    "        print(key,\"Imported successfully\")\n",
    "print('\\n')\n",
    "print('Total Time:',datetime.timedelta(seconds=time))\n",
    "print('Virtual Memory:',vms*1e-9,'Gb')\n",
    "print('RSS Memory:',rss*1e-9,'Gb')"
   ]
  },
  {
   "cell_type": "code",
   "execution_count": null,
   "metadata": {},
   "outputs": [],
   "source": [
    "print(np.shape(val_auc),'val_auc')\n",
    "print(np.shape(val_auprc),'val_auprc')\n",
    "print(np.shape(val_acc),'val_acc')\n",
    "print(np.shape(train_acc),'train_acc')\n",
    "print(np.shape(test_scores),'test_scores')"
   ]
  },
  {
   "cell_type": "code",
   "execution_count": null,
   "metadata": {},
   "outputs": [],
   "source": [
    "fig1 = figure()\n",
    "plot(val_acc)\n",
    "fig1.show()\n",
    "fig2=figure()\n",
    "plot(val_acc.transpose())\n",
    "fig2.show()"
   ]
  },
  {
   "cell_type": "code",
   "execution_count": null,
   "metadata": {},
   "outputs": [],
   "source": []
  },
  {
   "cell_type": "code",
   "execution_count": null,
   "metadata": {},
   "outputs": [],
   "source": []
  },
  {
   "cell_type": "code",
   "execution_count": null,
   "metadata": {},
   "outputs": [],
   "source": []
  },
  {
   "cell_type": "markdown",
   "metadata": {},
   "source": [
    "## Trying to create negative test,val and train datasets"
   ]
  },
  {
   "cell_type": "code",
   "execution_count": null,
   "metadata": {},
   "outputs": [],
   "source": [
    "# Creation of random adj matrix\n",
    "X=sp.random(100,100,density=0.15).todense().astype(bool).astype(int)\n",
    "val_test_size = 0.15"
   ]
  },
  {
   "cell_type": "code",
   "execution_count": null,
   "metadata": {
    "scrolled": true
   },
   "outputs": [],
   "source": [
    "# Choosing positive and negative entries\n",
    "indexes = [range(k) for k in X.shape]\n",
    "idx = np.array([ x for x in product(*indexes) ],dtype=int)\n",
    "print(np.shape(idx))\n",
    "positive = np.array([ x for x in zip(np.nonzero(X)[0],np.nonzero(X)[1])])\n",
    "print(np.shape(positive))\n",
    "mask = np.invert((idx[:, None] == positive).all(-1).any(-1))\n",
    "negative = idx[mask]\n",
    "print(np.shape(negative))"
   ]
  },
  {
   "cell_type": "code",
   "execution_count": null,
   "metadata": {},
   "outputs": [],
   "source": [
    "# Define number of train, test and val instances\n",
    "num_test = max(20, int(np.floor(positive.shape[0] * val_test_size)))\n",
    "num_val = max(20, int(np.floor(positive.shape[0] * val_test_size)))\n",
    "num_train = positive.shape[0]-num_test-num_val\n",
    "print(num_test,num_val,num_train)"
   ]
  },
  {
   "cell_type": "code",
   "execution_count": null,
   "metadata": {},
   "outputs": [],
   "source": [
    "# Indices for each positive subset\n",
    "pos_idx = np.arange(np.shape(positive)[0])\n",
    "edges_idx = np.random.choice(pos_idx,size=num_test+num_val,replace=False)\n",
    "test_edges_idx = edges_idx[:num_test]\n",
    "val_edges_idx = edges_idx[num_test:]\n",
    "train_edges_idx = np.delete(pos_idx,edges_idx)"
   ]
  },
  {
   "cell_type": "code",
   "execution_count": null,
   "metadata": {},
   "outputs": [],
   "source": [
    "val_edges = positive[val_edges_idx]\n",
    "test_edges = positive[test_edges_idx]\n",
    "train_edges = positive[train_edges_idx]"
   ]
  },
  {
   "cell_type": "code",
   "execution_count": null,
   "metadata": {},
   "outputs": [],
   "source": [
    "# Indices for each negative subset\n",
    "neg_idx = np.arange(np.shape(negative)[0])\n",
    "print(len(neg_idx))\n",
    "edges_idx = np.random.choice(neg_idx,size=num_test+num_val+num_train,replace=False)\n",
    "test_edges_false_idx = edges_idx[:num_test]\n",
    "print(len(test_edges_false_idx))\n",
    "val_edges_false_idx = edges_idx[num_test:num_val+num_test]\n",
    "print(len(val_edges_false_idx))\n",
    "train_edges_false_idx = edges_idx[-num_train:]\n",
    "print(len(train_edges_false_idx))"
   ]
  },
  {
   "cell_type": "code",
   "execution_count": null,
   "metadata": {},
   "outputs": [],
   "source": [
    "val_false_edges = negative[val_edges_false_idx]\n",
    "test_false_edges = negative[test_edges_false_idx]\n",
    "train_false_edges = negative[train_edges_false_idx]"
   ]
  },
  {
   "cell_type": "code",
   "execution_count": null,
   "metadata": {},
   "outputs": [],
   "source": [
    "preprocessing.sparse_to_tuple(sp.random(100,100,density=0.15))"
   ]
  }
 ],
 "metadata": {
  "kernelspec": {
   "display_name": "Python 2",
   "language": "python",
   "name": "python2"
  },
  "language_info": {
   "codemirror_mode": {
    "name": "ipython",
    "version": 2
   },
   "file_extension": ".py",
   "mimetype": "text/x-python",
   "name": "python",
   "nbconvert_exporter": "python",
   "pygments_lexer": "ipython2",
   "version": "2.7.15"
  }
 },
 "nbformat": 4,
 "nbformat_minor": 2
}
